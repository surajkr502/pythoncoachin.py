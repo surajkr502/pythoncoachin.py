{
 "cells": [
  {
   "cell_type": "markdown",
   "id": "687e77e4-6b2e-4af7-99bd-4c088125abb4",
   "metadata": {},
   "source": [
    "# questions of if and elif:----"
   ]
  },
  {
   "cell_type": "code",
   "execution_count": null,
   "id": "49926bc2-30d0-42e5-9cfd-d13fcd4e9768",
   "metadata": {},
   "outputs": [],
   "source": []
  }
 ],
 "metadata": {
  "kernelspec": {
   "display_name": "Python [conda env:base] *",
   "language": "python",
   "name": "conda-base-py"
  },
  "language_info": {
   "codemirror_mode": {
    "name": "ipython",
    "version": 3
   },
   "file_extension": ".py",
   "mimetype": "text/x-python",
   "name": "python",
   "nbconvert_exporter": "python",
   "pygments_lexer": "ipython3",
   "version": "3.12.7"
  }
 },
 "nbformat": 4,
 "nbformat_minor": 5
}
