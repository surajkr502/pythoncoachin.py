{
 "cells": [
  {
   "cell_type": "code",
   "execution_count": null,
   "id": "7a7798c3-6044-4dc5-bd91-bd06f2bea6bf",
   "metadata": {},
   "outputs": [],
   "source": []
  }
 ],
 "metadata": {
  "kernelspec": {
   "display_name": "",
   "name": ""
  },
  "language_info": {
   "name": ""
  }
 },
 "nbformat": 4,
 "nbformat_minor": 5
}
