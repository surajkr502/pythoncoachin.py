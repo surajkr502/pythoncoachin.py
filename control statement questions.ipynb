{
 "cells": [
  {
   "cell_type": "code",
   "execution_count": 1,
   "id": "f36b0a7d-7a8b-4726-945d-9d4806d37120",
   "metadata": {},
   "outputs": [
    {
     "name": "stdout",
     "output_type": "stream",
     "text": [
      "Enter natural number: 20\n"
     ]
    },
    {
     "name": "stdout",
     "output_type": "stream",
     "text": [
      "1,2,3,4,5,6,7,8,9,10,11,12,13,14,15,16,17,18,19,20"
     ]
    }
   ],
   "source": [
    "# wap to print n natural no.(self)\n",
    "n=int(input(\"Enter natural number:\"))\n",
    "i=1\n",
    "while i<n:\n",
    "    print(i,end=(','))\n",
    "    i=i+1\n",
    "if i==n:\n",
    "    print(i,end=(''))\n",
    "    "
   ]
  },
  {
   "cell_type": "code",
   "execution_count": 6,
   "id": "8b232af5-625d-497a-9f5e-47abf2e611c7",
   "metadata": {},
   "outputs": [
    {
     "name": "stdout",
     "output_type": "stream",
     "text": [
      "Enter natural number 5\n"
     ]
    },
    {
     "name": "stdout",
     "output_type": "stream",
     "text": [
      "1+2+3+4+5=15\n"
     ]
    }
   ],
   "source": [
    "# wap to print sum of n natural no.(self)\n",
    "n=int(input('Enter natural number'))\n",
    "i=1\n",
    "sum=0\n",
    "while i<n:\n",
    "    print(i,end=('+'))\n",
    "    sum=sum+i\n",
    "    i=i+1\n",
    "if i==n:\n",
    "    print(i,end=('='))\n",
    "    sum=sum+i\n",
    "print(sum)"
   ]
  },
  {
   "cell_type": "code",
   "execution_count": 4,
   "id": "af770f94-de9c-482d-a5d9-939b9d33c418",
   "metadata": {},
   "outputs": [
    {
     "name": "stdout",
     "output_type": "stream",
     "text": [
      "Enter natural number 5\n"
     ]
    },
    {
     "name": "stdout",
     "output_type": "stream",
     "text": [
      "1+2+3+4+5=15\n"
     ]
    }
   ],
   "source": [
    "# wap to print sum of n natural no. (sir's mathod)\n",
    "n=int(input('Enter natural number'))\n",
    "i=1\n",
    "sum=0\n",
    "while i<=n:\n",
    "    sum=sum+i\n",
    "    if i<n:\n",
    "        print(i,end='+')\n",
    "    else:\n",
    "        print(i,end='=')\n",
    "    i=i+1\n",
    "print(sum)"
   ]
  },
  {
   "cell_type": "code",
   "execution_count": 2,
   "id": "36666f59-d085-4b16-aa44-f18a1be57a12",
   "metadata": {},
   "outputs": [
    {
     "name": "stdout",
     "output_type": "stream",
     "text": [
      "enter natural no.: 3\n"
     ]
    },
    {
     "name": "stdout",
     "output_type": "stream",
     "text": [
      "1*2*3=6\n"
     ]
    }
   ],
   "source": [
    "# wap to print multiplication of natural no.(self)\n",
    "n=int(input(\"enter natural no.:\"))\n",
    "i=1\n",
    "multi=1\n",
    "while i<=n:\n",
    "    multi=multi*i\n",
    "    if i<n:\n",
    "        print(i,end='*')\n",
    "    else: \n",
    "        print(i,end='=')\n",
    "    i=i+1\n",
    "print(multi)\n",
    "    "
   ]
  },
  {
   "cell_type": "code",
   "execution_count": 4,
   "id": "125198af-ba5f-48f8-afba-5cd2495eddb6",
   "metadata": {},
   "outputs": [
    {
     "name": "stdout",
     "output_type": "stream",
     "text": [
      "Enter natural no.: 5\n"
     ]
    },
    {
     "name": "stdout",
     "output_type": "stream",
     "text": [
      "1*2*3*4*5=120\n"
     ]
    }
   ],
   "source": [
    "# wap to print factorial of any natural no.(self)\n",
    "n=int(input(\"Enter natural no.:\"))\n",
    "i=1\n",
    "fact=1\n",
    "while i<=n:\n",
    "    fact=fact*i\n",
    "    if i<n:\n",
    "        print(i,end='*') \n",
    "    else: \n",
    "        print(i,end='=')\n",
    "    i=i+1\n",
    "print(fact)"
   ]
  },
  {
   "cell_type": "code",
   "execution_count": 5,
   "id": "af54aa56-6bce-405e-b37d-e82890284010",
   "metadata": {},
   "outputs": [
    {
     "name": "stdout",
     "output_type": "stream",
     "text": [
      "enter natural no.: 10\n"
     ]
    },
    {
     "name": "stdout",
     "output_type": "stream",
     "text": [
      "2,4,6,8,10,12,14,16,18,20,"
     ]
    }
   ],
   "source": [
    "# wap to print n even no. \n",
    "n=int(input(\"enter natural no.:\"))\n",
    "i=1\n",
    "while i<=n:\n",
    "    even=i*2\n",
    "    if i<n:\n",
    "        print(even,end=',')\n",
    "    else:\n",
    "        print(i,end='=')\n",
    "    \n",
    "    i=i+1\n",
    "    "
   ]
  },
  {
   "cell_type": "code",
   "execution_count": null,
   "id": "65d3aba3-f0c4-41b9-b179-be7f634c213a",
   "metadata": {},
   "outputs": [],
   "source": [
    "# for-loop"
   ]
  },
  {
   "cell_type": "code",
   "execution_count": 7,
   "id": "c35c4c45-ebdf-48cd-babd-b6a3d96e8617",
   "metadata": {},
   "outputs": [
    {
     "name": "stdout",
     "output_type": "stream",
     "text": [
      "enter a char: e\n"
     ]
    },
    {
     "name": "stdout",
     "output_type": "stream",
     "text": [
      "101\n"
     ]
    }
   ],
   "source": [
    "s=input(\"enter a char:\")\n",
    "x=ord(s)\n",
    "print(x)"
   ]
  },
  {
   "cell_type": "code",
   "execution_count": 10,
   "id": "5f1b0bef-9396-4294-95d4-6fa8ac88111a",
   "metadata": {},
   "outputs": [
    {
     "name": "stdout",
     "output_type": "stream",
     "text": [
      "enter a char: a\n"
     ]
    },
    {
     "name": "stdout",
     "output_type": "stream",
     "text": [
      "f\n"
     ]
    }
   ],
   "source": [
    "s=input(\"enter a char:\")\n",
    "x=ord(s)+5\n",
    "y=chr(x)\n",
    "print(y)"
   ]
  },
  {
   "cell_type": "code",
   "execution_count": 12,
   "id": "b137bc5f-8e9c-499f-88b4-cf458af90f2d",
   "metadata": {},
   "outputs": [
    {
     "name": "stdout",
     "output_type": "stream",
     "text": [
      "enter string: abc\n"
     ]
    },
    {
     "name": "stdout",
     "output_type": "stream",
     "text": [
      "b\n",
      "c\n",
      "d\n"
     ]
    }
   ],
   "source": [
    "s=input(\"enter string:\")\n",
    "for x in s:\n",
    "    print(chr(ord(x)+1))"
   ]
  },
  {
   "cell_type": "code",
   "execution_count": 16,
   "id": "0fd7b2bf-2eb0-4428-af93-8e8b02da0d53",
   "metadata": {},
   "outputs": [
    {
     "name": "stdout",
     "output_type": "stream",
     "text": [
      "enter any string: abcd\n"
     ]
    },
    {
     "name": "stdout",
     "output_type": "stream",
     "text": [
      "['a']\n",
      "a\n",
      "['a', 'b']\n",
      "ab\n",
      "['a', 'b', 'c']\n",
      "abc\n",
      "['a', 'b', 'c', 'd']\n",
      "abcd\n"
     ]
    }
   ],
   "source": [
    "s=input(\"enter any string:\")\n",
    "l=[]\n",
    "for i in s:\n",
    "    y=(chr(ord(i)))\n",
    "    print(y)\n",
    "    l.append(y)\n",
    "    print(l)\n",
    "    s=''.join(l)\n",
    "    print(s)"
   ]
  },
  {
   "cell_type": "code",
   "execution_count": 17,
   "id": "823bae04-82ec-4ba3-a773-795883a9f071",
   "metadata": {},
   "outputs": [
    {
     "name": "stdout",
     "output_type": "stream",
     "text": [
      "enter any string: abcd\n"
     ]
    },
    {
     "name": "stdout",
     "output_type": "stream",
     "text": [
      "a\n",
      "ab\n",
      "abc\n",
      "abcd\n"
     ]
    }
   ],
   "source": [
    "s=input(\"enter any string:\")\n",
    "l=[]\n",
    "for i in s:\n",
    "    y=(chr(ord(i)))\n",
    "    l.append(y)\n",
    "    s=''.join(l)\n",
    "    print(s)"
   ]
  },
  {
   "cell_type": "code",
   "execution_count": 21,
   "id": "0ade1a38-bd1d-4247-9c56-ecc00c5621a8",
   "metadata": {},
   "outputs": [
    {
     "name": "stdout",
     "output_type": "stream",
     "text": [
      "enter any string: abcd\n"
     ]
    },
    {
     "name": "stdout",
     "output_type": "stream",
     "text": [
      "b\n",
      "bc\n",
      "bcd\n",
      "bcde\n"
     ]
    }
   ],
   "source": [
    "s=input(\"enter any string:\")\n",
    "l=[]\n",
    "for i in s:\n",
    "    y=(chr(ord(i)+1))\n",
    "    l.append(y)\n",
    "    s=''.join(l)\n",
    "    print(s)"
   ]
  },
  {
   "cell_type": "code",
   "execution_count": 22,
   "id": "782ec8f4-61d6-4027-a0b9-7fedc5f240bc",
   "metadata": {},
   "outputs": [
    {
     "name": "stdout",
     "output_type": "stream",
     "text": [
      "enter any string: abcd\n"
     ]
    },
    {
     "name": "stdout",
     "output_type": "stream",
     "text": [
      "bcde\n"
     ]
    }
   ],
   "source": [
    "s=input(\"enter any string:\")\n",
    "l=[]\n",
    "for i in s:\n",
    "    y=(chr(ord(i)+1))\n",
    "    l.append(y)\n",
    "s=''.join(l)\n",
    "print(s)"
   ]
  },
  {
   "cell_type": "code",
   "execution_count": 24,
   "id": "6e2c978c-1df7-43a8-bb30-6797548d042e",
   "metadata": {},
   "outputs": [
    {
     "name": "stdout",
     "output_type": "stream",
     "text": [
      "enter any string: abcd\n"
     ]
    },
    {
     "name": "stdout",
     "output_type": "stream",
     "text": [
      "bcde\n"
     ]
    }
   ],
   "source": [
    "s=input(\"enter any string:\")\n",
    "l=[]\n",
    "for i in s:\n",
    "    y=(chr(ord(i)+1))\n",
    "    l.append(y)\n",
    "    s=''.join(l)\n",
    "print(s)"
   ]
  },
  {
   "cell_type": "code",
   "execution_count": 4,
   "id": "7bb255bc-fc23-4717-85db-363bdfc30087",
   "metadata": {},
   "outputs": [
    {
     "name": "stdout",
     "output_type": "stream",
     "text": [
      "[1, 2, 3, 4, 5, 6]\n",
      "[2, 5, 10, 17, 26, 37]\n"
     ]
    }
   ],
   "source": [
    "# square this and add. \n",
    "l=[1,2,3,4,5,6]\n",
    "l1=[]\n",
    "for i in l:\n",
    "    l1.append((i**2)+1)\n",
    "print(l)\n",
    "print(l1)"
   ]
  },
  {
   "cell_type": "code",
   "execution_count": 2,
   "id": "af6d2bb6-cead-48f6-a7ed-e8916d2df566",
   "metadata": {},
   "outputs": [
    {
     "name": "stdout",
     "output_type": "stream",
     "text": [
      "Original list: [1, 2, 3, 4, 5, 6]\n",
      "Squared list: [1, 4, 9, 16, 25, 36]\n"
     ]
    }
   ],
   "source": [
    "l = [1, 2, 3, 4, 5, 6]\n",
    "l1 = []\n",
    "\n",
    "for i in l:\n",
    "    l1.append(i**2)\n",
    "\n",
    "print(\"Original list:\", l)\n",
    "print(\"Squared list:\", l1)\n"
   ]
  },
  {
   "cell_type": "code",
   "execution_count": 9,
   "id": "f34b3db2-a873-4ab0-91c3-09a55559b77a",
   "metadata": {},
   "outputs": [
    {
     "name": "stdout",
     "output_type": "stream",
     "text": [
      "even numbers [2, 4, 6, 12, 34, 8, 90, 34, 6, 8, 4, 4]\n",
      "odd numbers [1, 3, 5, 7, 89, 65, 67, 23, 11, 5, 5, 5]\n"
     ]
    }
   ],
   "source": [
    "# even and odd no.\n",
    "l=[1,2,3,4,5,6,7,89,12,34,65,67,8,90,23,11,34,5,6,8,5,4,4,5]\n",
    "el=[]\n",
    "ol=[]\n",
    "for i in l:\n",
    "    if i%2==0:\n",
    "        el.append(i)\n",
    "    else: \n",
    "        ol.append(i)\n",
    "print(\"even numbers\",el)\n",
    "print(\"odd numbers\",ol)"
   ]
  },
  {
   "cell_type": "markdown",
   "id": "08f97565-5ee4-4149-9083-d49035260299",
   "metadata": {},
   "source": [
    "# IF-ELIF-ELSE STATEMENT EXAMPLES\n",
    "* Example 1: Write a program to check given no is positive. (Only if-statement) \n",
    "* Example 2: Write a program to check given no is positive or negative. (Only if-else statement)\n",
    "* Example 3: Write a program to check given no is positive, negative or Zero.(Only if-elif-else statement)\n",
    "* Example 4: Write a program to swap two variables without using third variable.\n",
    "* Example 5: Write a program to swap two variables using third variable.¬\n",
    "* Example 6: Write a program to swap two variables using using Addition and Subtraction. \n",
    "* Example 9:  Write a program to find squre root of given no.\n",
    "* Example 10: Write a program to find largest no among the three inputs numbers.\n",
    "* Example 11: Write a program to find area of  triangle. (1/2* hight*base)\n",
    "* Example 12: Write a program to find area of square.\n",
    "* Example 13: Write a program to find given year is leep year or not.\n",
    "* Example 14: WAP to take circle radius from user and calculate area of circle.\n",
    "* Example 15: WAP to take length and width from user and calculate area of rectangle.\n",
    "* Example 16: WAP to take side length from user and calculate area of squar.\n",
    "* Example 17: WAP to take marks value from user and show their total marks, percentage and division.\n",
    "* Example 18: WAP to check given number is even or odd.\n",
    "* Example 19: WAP to check given year is leep year or not.\n",
    "* Example 20: WAP to take account type from user and check bank account type.\n",
    "* Example 21: WAP to ATM withdrawal.\n",
    "* Example 22: WAP to take balance from user and notify Minimum Balance Penalty.\n",
    "* Example 23: WAP to take role from user and check what services they access.\n",
    "* Example 24: WAP to take loan_type from user and check loan interest rate based on loan type.\n",
    "* Example 25: WAP to take marks value from user and show their total marks, percentage and division."
   ]
  },
  {
   "cell_type": "markdown",
   "id": "2fc8bcad-4163-44a5-a785-ab62a08224dd",
   "metadata": {},
   "source": [
    "# While-Loop EXAMPLES\n",
    "* Example 1:WAP to print n natural numbers.\n",
    "* Example 2:WAP to print sum of n natural numbers.\n",
    "* Example 3:WAP to print multi of n natural numbers.\n",
    "* Example 4:WAP to print factorial of any natural number.\n",
    "* Example 5:WAP to print n even numbers.\n",
    "* Example 6:WAP to print sum of  n even numbers.\n",
    "* Example 7:WAP to print even numbers up-to n natural numbers.\n",
    "* Example 8: WAP to print sum of even numbers up-to n natural numbers.\n",
    "* Example 9:WAP to print n odd numbers.\n",
    "* Example 10:WAP to print sum of  n odd numbers.\n",
    "* Example 11:WAP to print odd numbers up-to n natural numbers.\n",
    "* Example 12: WAP to print sum of odd numbers up-to n natural numbers.\n",
    "* Example 13: Write a program to find factorial of given no."
   ]
  },
  {
   "cell_type": "code",
   "execution_count": 6,
   "id": "1bc61b4a-199c-462a-9aa0-af4447566077",
   "metadata": {},
   "outputs": [
    {
     "name": "stdout",
     "output_type": "stream",
     "text": [
      "enter first number: 2\n",
      "enter second number: 3\n"
     ]
    },
    {
     "name": "stdout",
     "output_type": "stream",
     "text": [
      "before swaping numbers is: 2 3\n",
      "after swaping number is: 3 2\n"
     ]
    }
   ],
   "source": [
    "# Write a program to swap two variables using third variable. \n",
    "n=int(input(\"enter first number:\"))\n",
    "n1=int(input(\"enter second number:\"))\n",
    "print(\"before swaping numbers is:\",n,n1)\n",
    "swap=n\n",
    "n=n1\n",
    "n1=swap\n",
    "print(\"after swaping number is:\",n,n1)\n"
   ]
  },
  {
   "cell_type": "code",
   "execution_count": 4,
   "id": "a1cef102-b82d-4d9b-b92a-f07e01c73915",
   "metadata": {},
   "outputs": [
    {
     "name": "stdin",
     "output_type": "stream",
     "text": [
      "enter first number: 4\n",
      "enter second number: 5\n"
     ]
    },
    {
     "name": "stdout",
     "output_type": "stream",
     "text": [
      "before swaping numbers is: 4 5\n",
      "after swaping number is: 5 4\n"
     ]
    }
   ],
   "source": [
    "# Example 4: Write a program to swap two variables without using third variable. \n",
    "n=int(input(\"enter first number:\"))\n",
    "n1=int(input(\"enter second number:\"))\n",
    "print(\"before swaping numbers is:\",n,n1)\n",
    "n,n1=n1,n\n",
    "print(\"after swaping number is:\",n,n1)\n"
   ]
  },
  {
   "cell_type": "code",
   "execution_count": 7,
   "id": "d45a580b-f32c-402c-9f03-db51b74d17a5",
   "metadata": {},
   "outputs": [
    {
     "name": "stdin",
     "output_type": "stream",
     "text": [
      "enter first no.: 4\n",
      "enter second no.: 5\n"
     ]
    },
    {
     "name": "stdout",
     "output_type": "stream",
     "text": [
      "before swaping no. is: n= 4 n2= 5\n",
      "after swaped no. is: n= 5 n2= 4\n"
     ]
    }
   ],
   "source": [
    "n=int(input(\"enter first no.:\"))\n",
    "n1=int(input(\"enter second no.:\"))\n",
    "print(\"before swaping no. is:\",\"n=\",n,\"n2=\",n1)\n",
    "n=n1+n\n",
    "n1=n-n1\n",
    "n=n-n1\n",
    "print(\"after swaped no. is:\",\"n=\",n,\"n2=\",n1)"
   ]
  },
  {
   "cell_type": "code",
   "execution_count": 12,
   "id": "2668aaa0-a89e-470d-b0e9-f3c31ef3da00",
   "metadata": {},
   "outputs": [
    {
     "name": "stdout",
     "output_type": "stream",
     "text": [
      "3\n",
      "12\n"
     ]
    }
   ],
   "source": [
    "n=123\n",
    "print(n%10)\n",
    "print(n//10)"
   ]
  },
  {
   "cell_type": "code",
   "execution_count": 2,
   "id": "815ee246-57da-45fb-a7d5-997a054af29b",
   "metadata": {},
   "outputs": [
    {
     "name": "stdout",
     "output_type": "stream",
     "text": [
      "enter any numbers 123456\n"
     ]
    },
    {
     "name": "stdout",
     "output_type": "stream",
     "text": [
      "Total no. of given digits: 6\n"
     ]
    }
   ],
   "source": [
    "# wap to find total no. of digit in given number.\n",
    "n=int(input(\"enter any numbers\"))\n",
    "td=0\n",
    "while n>0:\n",
    "    n=n//10\n",
    "    td=td+1\n",
    "print(\"Total no. of given digits:\",td)"
   ]
  },
  {
   "cell_type": "code",
   "execution_count": 5,
   "id": "7ca91255-edf9-4a7d-8dcf-c7e1d2da0883",
   "metadata": {},
   "outputs": [
    {
     "name": "stdout",
     "output_type": "stream",
     "text": [
      "enter a numbers 12345\n"
     ]
    },
    {
     "name": "stdout",
     "output_type": "stream",
     "text": [
      "total no. of given digits: 5\n"
     ]
    }
   ],
   "source": [
    "n=int(input(\"enter a numbers\"))\n",
    "s=str(n)\n",
    "td=len(s)\n",
    "print(\"total no. of given digits:\",td)\n"
   ]
  },
  {
   "cell_type": "code",
   "execution_count": 4,
   "id": "1b228879-7304-45d6-a576-84982380c587",
   "metadata": {},
   "outputs": [
    {
     "name": "stdout",
     "output_type": "stream",
     "text": [
      "enter any digits: 123\n"
     ]
    },
    {
     "name": "stdout",
     "output_type": "stream",
     "text": [
      "3\n"
     ]
    }
   ],
   "source": [
    "# wap to find last digit of any given no.\n",
    "n=int(input(\"enter any digits:\"))\n",
    "n1=n%10\n",
    "print(n1)\n"
   ]
  },
  {
   "cell_type": "code",
   "execution_count": 5,
   "id": "628d20d5-5e03-41c8-b0b9-0e4b262d659c",
   "metadata": {},
   "outputs": [
    {
     "name": "stdout",
     "output_type": "stream",
     "text": [
      "enter any digits: 123\n"
     ]
    },
    {
     "name": "stdout",
     "output_type": "stream",
     "text": [
      "12\n"
     ]
    }
   ],
   "source": [
    "# wap to remove last digits to any given no.\n",
    "n=int(input(\"enter any digits:\"))\n",
    "n1=n//10\n",
    "print(n1)"
   ]
  },
  {
   "cell_type": "code",
   "execution_count": 11,
   "id": "6f6c6f90-dd12-42dd-ae22-c266a1832908",
   "metadata": {},
   "outputs": [
    {
     "name": "stdout",
     "output_type": "stream",
     "text": [
      "enter any string: python\n"
     ]
    },
    {
     "name": "stdout",
     "output_type": "stream",
     "text": [
      "total no. of charators in given string= 6\n"
     ]
    }
   ],
   "source": [
    "# wap to find total no. of charators in given string.\n",
    "s=(input(\"enter any string:\"))\n",
    "td=0\n",
    "for i in s:\n",
    "    td=td+1\n",
    "print(\"total no. of charators in given string=\",td)"
   ]
  },
  {
   "cell_type": "code",
   "execution_count": 4,
   "id": "6489757a-0f5d-4476-b8ff-3aceb7dc00f6",
   "metadata": {},
   "outputs": [
    {
     "name": "stdout",
     "output_type": "stream",
     "text": [
      "enter any string: py thon\n"
     ]
    },
    {
     "name": "stdout",
     "output_type": "stream",
     "text": [
      "length of string is: 7\n"
     ]
    }
   ],
   "source": [
    "# self mathod\n",
    "s=str(input(\"enter any string:\"))\n",
    "l=0\n",
    "while s[l:l+1]:\n",
    "    l+=1\n",
    "print(\"length of string is:\",l)"
   ]
  },
  {
   "cell_type": "code",
   "execution_count": 6,
   "id": "8abc0e1d-4728-46e0-bfc3-d2a474dce665",
   "metadata": {},
   "outputs": [
    {
     "name": "stdout",
     "output_type": "stream",
     "text": [
      "enter any string: suraj kumar\n"
     ]
    },
    {
     "name": "stdout",
     "output_type": "stream",
     "text": [
      "length of string is: 11\n"
     ]
    }
   ],
   "source": [
    "# teacher's mathod\n",
    "s=input(\"enter any string:\")\n",
    "l=0\n",
    "while s[l:l+1]!='':\n",
    "    l+=1\n",
    "print(\"length of string is:\",l)"
   ]
  },
  {
   "cell_type": "code",
   "execution_count": 7,
   "id": "501720f8-6297-455f-ac81-bfebf0a37fee",
   "metadata": {},
   "outputs": [
    {
     "name": "stdout",
     "output_type": "stream",
     "text": [
      "enter any list: 1,2,3,4,5,6\n"
     ]
    },
    {
     "name": "stdout",
     "output_type": "stream",
     "text": [
      "length of string is: 6\n"
     ]
    }
   ],
   "source": [
    "l1=eval(input(\"enter any list:\"))\n",
    "l=0\n",
    "while l1[l:l+1]:\n",
    "    l+=1\n",
    "print(\"length of string is:\",l)"
   ]
  },
  {
   "cell_type": "code",
   "execution_count": 11,
   "id": "7c5bfda3-680b-48b4-802e-52945a166aaa",
   "metadata": {},
   "outputs": [
    {
     "name": "stdout",
     "output_type": "stream",
     "text": [
      "enter any tuple: 'php','python',23\n"
     ]
    },
    {
     "name": "stdout",
     "output_type": "stream",
     "text": [
      "length of string is: 3\n"
     ]
    }
   ],
   "source": [
    "t=eval(input(\"enter any tuple:\"))\n",
    "l=0\n",
    "while t[l:l+1]:\n",
    "    l+=1\n",
    "print(\"length of string is:\",l)"
   ]
  },
  {
   "cell_type": "code",
   "execution_count": 16,
   "id": "102b78f4-5d78-44e1-a267-6099d5e1992d",
   "metadata": {},
   "outputs": [
    {
     "name": "stdout",
     "output_type": "stream",
     "text": [
      "enter any list: \n"
     ]
    },
    {
     "name": "stdout",
     "output_type": "stream",
     "text": [
      "length of string is: 0\n"
     ]
    }
   ],
   "source": [
    "l1=eval(input(\"enter any list:\"))\n",
    "l=0\n",
    "while l1[l:l+1]:\n",
    "    l+=1\n",
    "print(\"length of string is:\",l)"
   ]
  },
  {
   "cell_type": "code",
   "execution_count": 14,
   "id": "ba153c24-42db-4050-877f-30616fc1c755",
   "metadata": {},
   "outputs": [
    {
     "name": "stdout",
     "output_type": "stream",
     "text": [
      "enter any list: 'eu','err','sun',34,56\n"
     ]
    },
    {
     "name": "stdout",
     "output_type": "stream",
     "text": [
      "length of string is: 5\n"
     ]
    }
   ],
   "source": [
    "l1=eval(input(\"enter any list:\"))\n",
    "l=0\n",
    "while l1[l:l+1]:\n",
    "    l+=1\n",
    "print(\"length of string is:\",l)"
   ]
  },
  {
   "cell_type": "code",
   "execution_count": 10,
   "id": "7c1fa0be-8373-498f-8d64-b4c56bb8b191",
   "metadata": {},
   "outputs": [
    {
     "name": "stdin",
     "output_type": "stream",
     "text": [
      "enter any no.: 121\n"
     ]
    },
    {
     "name": "stdout",
     "output_type": "stream",
     "text": [
      "given no. is palindrom\n",
      "28\n"
     ]
    }
   ],
   "source": [
    "# wap to check given no. is palindrom or not. \n",
    "import sys\n",
    "n=int(input(\"enter any no.:\"))\n",
    "if n==int(str(n)[::-1]):\n",
    "    print(\"given no. is palindrom\")\n",
    "else:\n",
    "    print(\"given no. is not palindrom\")\n",
    "print(sys.getsizeof(n))"
   ]
  },
  {
   "cell_type": "code",
   "execution_count": 11,
   "id": "4adeffb1-a1d6-446e-a285-fd9f795f7139",
   "metadata": {},
   "outputs": [
    {
     "name": "stdin",
     "output_type": "stream",
     "text": [
      "enter any no.: 121\n"
     ]
    },
    {
     "name": "stdout",
     "output_type": "stream",
     "text": [
      "given no. is palindrom\n",
      "28\n",
      "44\n",
      "44\n"
     ]
    }
   ],
   "source": [
    "# wap to check given no. is palindrom or not.(self mathod)\n",
    "import sys\n",
    "n=int(input(\"enter any no.:\"))\n",
    "n1=str(n)\n",
    "n2=n1[::-1]\n",
    "if n1==n2:\n",
    "    print(\"given no. is palindrom\")\n",
    "else:\n",
    "    print(\"geven no. is not palindrom\")\n",
    "print(sys.getsizeof(n))\n",
    "print(sys.getsizeof(n1))\n",
    "print(sys.getsizeof(n2))"
   ]
  },
  {
   "cell_type": "code",
   "execution_count": 2,
   "id": "756c7858",
   "metadata": {},
   "outputs": [
    {
     "name": "stdin",
     "output_type": "stream",
     "text": [
      "enter any one string: man\n"
     ]
    },
    {
     "name": "stdout",
     "output_type": "stream",
     "text": [
      "given string is not palindrom\n"
     ]
    }
   ],
   "source": [
    "n=str(input(\"enter any one string:\"))\n",
    "n1=n[::-1]\n",
    "if n==n1:\n",
    "    print(\"given string is palindrom\")\n",
    "else:\n",
    "    print(\"given string is not palindrom\")"
   ]
  },
  {
   "cell_type": "code",
   "execution_count": 17,
   "id": "4bbb80cf-8c19-479d-b07a-0e433f9ffe1c",
   "metadata": {},
   "outputs": [
    {
     "name": "stdin",
     "output_type": "stream",
     "text": [
      "enter any string and int: 121\n"
     ]
    },
    {
     "name": "stdout",
     "output_type": "stream",
     "text": [
      "given no.:121 is palindrom\n"
     ]
    }
   ],
   "source": [
    "n=eval(input(\"enter any string and int:\"))\n",
    "if type(n)==int:\n",
    "    n1=int(str(n)[::-1])\n",
    "    if n1==n:\n",
    "        print(f'given no.:{n} is palindrom')\n",
    "    else:\n",
    "        print(f'given no.:{n} is not palindrom')\n",
    "elif type(n)==str:\n",
    "    if n==n[::-1]:\n",
    "        print(f'given string:{n} is palindrom')\n",
    "    else:\n",
    "        print(f'given string:{n} is not palindrom')\n",
    "else:\n",
    "    print(\"please enter either string and no.\")"
   ]
  },
  {
   "cell_type": "code",
   "execution_count": 10,
   "id": "336dece9-433a-4072-9ee5-a2c58f0adf9f",
   "metadata": {},
   "outputs": [
    {
     "name": "stdout",
     "output_type": "stream",
     "text": [
      "10\n",
      "20\n"
     ]
    }
   ],
   "source": [
    "x,y=10,20\n",
    "print(x)\n",
    "print(y)"
   ]
  },
  {
   "cell_type": "code",
   "execution_count": 11,
   "id": "3471f5a4-4e35-4c4f-a0a4-1c92e81f45f6",
   "metadata": {},
   "outputs": [
    {
     "name": "stdout",
     "output_type": "stream",
     "text": [
      "20\n",
      "10\n"
     ]
    }
   ],
   "source": [
    "x,y=y,x\n",
    "print(x)\n",
    "print(y)"
   ]
  },
  {
   "cell_type": "code",
   "execution_count": 13,
   "id": "03353da3-d600-456f-82d7-4f577df61158",
   "metadata": {},
   "outputs": [
    {
     "name": "stdout",
     "output_type": "stream",
     "text": [
      "after swaping list is: [8, 2, 3, 4, 5, 6, 7, 1]\n"
     ]
    }
   ],
   "source": [
    "l=[1,2,3,4,5,6,7,8]\n",
    "if len(l)>=2:\n",
    "    l[0],l[-1]=l[-1],l[0]\n",
    "    print(\"after swaping list is:\",l)"
   ]
  },
  {
   "cell_type": "code",
   "execution_count": 15,
   "id": "ecb82b42-cef1-4e78-960a-b9468c462899",
   "metadata": {},
   "outputs": [
    {
     "name": "stdout",
     "output_type": "stream",
     "text": [
      "after swaping string is: nythop\n"
     ]
    }
   ],
   "source": [
    "s='python'\n",
    "if len(s)>=2:\n",
    "    l=list(s)\n",
    "    l[0],l[-1]=l[-1],l[0]\n",
    "    s1=''.join(l)\n",
    "    print(\"after swaping string is:\",s1)\n",
    "else:\n",
    "    print(\"please try again\")"
   ]
  },
  {
   "cell_type": "code",
   "execution_count": null,
   "id": "a501be35-5f78-4ee0-b337-87df574ee828",
   "metadata": {},
   "outputs": [],
   "source": [
    "n=int(input(\"enter any integer:\"))\n",
    "s=str(n)\n",
    "if len(s)>=2:\n",
    "    l=list(s)\n",
    "    l[0],l[-1]=l[-1],l[0]\n",
    "    s"
   ]
  }
 ],
 "metadata": {
  "kernelspec": {
   "display_name": "Python [conda env:base] *",
   "language": "python",
   "name": "conda-base-py"
  },
  "language_info": {
   "codemirror_mode": {
    "name": "ipython",
    "version": 3
   },
   "file_extension": ".py",
   "mimetype": "text/x-python",
   "name": "python",
   "nbconvert_exporter": "python",
   "pygments_lexer": "ipython3",
   "version": "3.12.7"
  }
 },
 "nbformat": 4,
 "nbformat_minor": 5
}
