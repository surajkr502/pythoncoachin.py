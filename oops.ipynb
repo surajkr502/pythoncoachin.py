{
 "cells": [
  {
   "cell_type": "markdown",
   "id": "3bc3d814-4ed9-40b2-92d7-b7212adfab54",
   "metadata": {},
   "source": [
    "# oops:-object oriented programing"
   ]
  },
  {
   "cell_type": "code",
   "execution_count": 1,
   "id": "72d022b3-215f-415b-8698-aed512f9a2d8",
   "metadata": {},
   "outputs": [
    {
     "name": "stdout",
     "output_type": "stream",
     "text": [
      "2299133592480\n"
     ]
    }
   ],
   "source": [
    "class A: \n",
    "    pass\n",
    "print(id(A))"
   ]
  },
  {
   "cell_type": "code",
   "execution_count": 5,
   "id": "b7229323-4735-4e5e-8d22-557562b3afd0",
   "metadata": {},
   "outputs": [
    {
     "name": "stdout",
     "output_type": "stream",
     "text": [
      "2299133592480\n"
     ]
    }
   ],
   "source": [
    "obj=A\n",
    "print(id(obj))"
   ]
  },
  {
   "cell_type": "code",
   "execution_count": 3,
   "id": "a1ac0dcf-dbc3-4cfe-a9bd-b6b032b17ec5",
   "metadata": {},
   "outputs": [
    {
     "name": "stdout",
     "output_type": "stream",
     "text": [
      "['__class__', '__delattr__', '__dict__', '__dir__', '__doc__', '__eq__', '__format__', '__ge__', '__getattribute__', '__getstate__', '__gt__', '__hash__', '__init__', '__init_subclass__', '__le__', '__lt__', '__module__', '__ne__', '__new__', '__reduce__', '__reduce_ex__', '__repr__', '__setattr__', '__sizeof__', '__str__', '__subclasshook__', '__weakref__']\n"
     ]
    }
   ],
   "source": [
    "print(dir(A))"
   ]
  },
  {
   "cell_type": "code",
   "execution_count": 8,
   "id": "27fa3f60-6212-4640-af5a-c07afeb8e8ed",
   "metadata": {},
   "outputs": [
    {
     "name": "stdout",
     "output_type": "stream",
     "text": [
      "2299133596448\n",
      "2299133596448\n",
      "2299157372544\n"
     ]
    }
   ],
   "source": [
    "class A: \n",
    "    pass\n",
    "print(id(A))\n",
    "obj=A\n",
    "print(id(obj))\n",
    "obj1=A()\n",
    "print(id(obj1))"
   ]
  },
  {
   "cell_type": "code",
   "execution_count": 9,
   "id": "c8b41753-15da-46b7-bac2-a2b297548ebd",
   "metadata": {},
   "outputs": [
    {
     "name": "stdout",
     "output_type": "stream",
     "text": [
      "2299172451296\n",
      "condtructor called\n"
     ]
    }
   ],
   "source": [
    "class A: \n",
    "    def __init__(self):\n",
    "        print(id(self))\n",
    "        print(\"condtructor called\")\n",
    "obj=A()"
   ]
  },
  {
   "cell_type": "code",
   "execution_count": 10,
   "id": "1a2707e4-1f28-4aec-bcc9-18d5b4e357c6",
   "metadata": {},
   "outputs": [
    {
     "name": "stdout",
     "output_type": "stream",
     "text": [
      "2299191268352\n",
      "condtructor called\n",
      "2299133587520\n",
      "2299191268352\n"
     ]
    }
   ],
   "source": [
    "# external constructor\n",
    "class A: \n",
    "    def __init__(self):\n",
    "        print(id(self))\n",
    "        print(\"condtructor called\")\n",
    "obj=A()\n",
    "print(id(A))\n",
    "print(id(obj))"
   ]
  },
  {
   "cell_type": "code",
   "execution_count": null,
   "id": "c41db36b-a896-4b21-b59e-6319d0863c05",
   "metadata": {},
   "outputs": [],
   "source": []
  },
  {
   "cell_type": "code",
   "execution_count": null,
   "id": "3dd349e1-265c-428f-b0a5-88c438d8e957",
   "metadata": {},
   "outputs": [],
   "source": []
  }
 ],
 "metadata": {
  "kernelspec": {
   "display_name": "Python [conda env:base] *",
   "language": "python",
   "name": "conda-base-py"
  },
  "language_info": {
   "codemirror_mode": {
    "name": "ipython",
    "version": 3
   },
   "file_extension": ".py",
   "mimetype": "text/x-python",
   "name": "python",
   "nbconvert_exporter": "python",
   "pygments_lexer": "ipython3",
   "version": "3.12.7"
  }
 },
 "nbformat": 4,
 "nbformat_minor": 5
}
