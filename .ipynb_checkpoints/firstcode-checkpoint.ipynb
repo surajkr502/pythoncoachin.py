{
 "cells": [
  {
   "cell_type": "code",
   "execution_count": 1,
   "id": "c1fcbe1d-a75e-4ec5-b768-84085d284385",
   "metadata": {},
   "outputs": [
    {
     "name": "stdout",
     "output_type": "stream",
     "text": [
      "['False', 'None', 'True', 'and', 'as', 'assert', 'async', 'await', 'break', 'class', 'continue', 'def', 'del', 'elif', 'else', 'except', 'finally', 'for', 'from', 'global', 'if', 'import', 'in', 'is', 'lambda', 'nonlocal', 'not', 'or', 'pass', 'raise', 'return', 'try', 'while', 'with', 'yield']\n",
      "35\n"
     ]
    }
   ],
   "source": [
    "import keyword\n",
    "all_keys=keyword.kwlist\n",
    "print(all_keys)\n",
    "print(len(all_keys))\n",
    "\n"
   ]
  },
  {
   "cell_type": "code",
   "execution_count": null,
   "id": "878c3dc6-5e62-4c49-995b-b8fcc5ba0144",
   "metadata": {},
   "outputs": [],
   "source": []
  },
  {
   "cell_type": "code",
   "execution_count": 7,
   "id": "72366250-647c-4bfe-bd31-f8f24baa439a",
   "metadata": {},
   "outputs": [
    {
     "name": "stdout",
     "output_type": "stream",
     "text": [
      "!\"#$%&'()*+,-./:;<=>?@[\\]^_`{|}~\n",
      "32\n"
     ]
    }
   ],
   "source": [
    "import string\n",
    "all_punctuation=string.punctuation\n",
    "print(all_punctuation)\n",
    "print(len(all_punctuation))"
   ]
  },
  {
   "cell_type": "markdown",
   "id": "04925a3d-8167-4c38-af62-9f4e455ebbe5",
   "metadata": {},
   "source": [
    "# Identifiers:-----"
   ]
  },
  {
   "cell_type": "raw",
   "id": "3c593f2d-3a3d-439e-83d0-c4696d4cf786",
   "metadata": {},
   "source": [
    "1.do not start with digits.\n",
    "2.star with a-z or A-Z or (_).\n",
    "3.do not use space.\n",
    "4.case sensitive.\n",
    "5.do not use any keyword."
   ]
  },
  {
   "cell_type": "markdown",
   "id": "a73bdb41-286e-459d-ac42-3c138b439e15",
   "metadata": {},
   "source": [
    "# 1.do not start with digits."
   ]
  },
  {
   "cell_type": "code",
   "execution_count": 8,
   "id": "9414efca-fd03-4ac0-b134-f670a6c444a4",
   "metadata": {},
   "outputs": [
    {
     "ename": "SyntaxError",
     "evalue": "invalid decimal literal (2575713885.py, line 1)",
     "output_type": "error",
     "traceback": [
      "\u001b[1;36m  Cell \u001b[1;32mIn[8], line 1\u001b[1;36m\u001b[0m\n\u001b[1;33m    2sun=10\u001b[0m\n\u001b[1;37m    ^\u001b[0m\n\u001b[1;31mSyntaxError\u001b[0m\u001b[1;31m:\u001b[0m invalid decimal literal\n"
     ]
    }
   ],
   "source": [
    "2sun=10\n",
    "print(2sun)"
   ]
  },
  {
   "cell_type": "markdown",
   "id": "21d2bcca-d9eb-42de-9e3f-ddd250f3f383",
   "metadata": {},
   "source": [
    "# 2.star with a-z or A-Z or (_)."
   ]
  },
  {
   "cell_type": "code",
   "execution_count": 9,
   "id": "2a8e9156-4f2b-406b-9749-c2cb822382a3",
   "metadata": {},
   "outputs": [
    {
     "name": "stdout",
     "output_type": "stream",
     "text": [
      "10\n"
     ]
    }
   ],
   "source": [
    "abc=10\n",
    "print(abc)"
   ]
  },
  {
   "cell_type": "markdown",
   "id": "62297537-f7ca-4595-adfe-3ec125f395c1",
   "metadata": {},
   "source": [
    "# 3.do not use space."
   ]
  },
  {
   "cell_type": "code",
   "execution_count": 10,
   "id": "a7bb75e2-497c-41fa-ae9a-815ccd0d91f3",
   "metadata": {},
   "outputs": [
    {
     "ename": "SyntaxError",
     "evalue": "invalid syntax (1204775362.py, line 1)",
     "output_type": "error",
     "traceback": [
      "\u001b[1;36m  Cell \u001b[1;32mIn[10], line 1\u001b[1;36m\u001b[0m\n\u001b[1;33m    t u=22\u001b[0m\n\u001b[1;37m      ^\u001b[0m\n\u001b[1;31mSyntaxError\u001b[0m\u001b[1;31m:\u001b[0m invalid syntax\n"
     ]
    }
   ],
   "source": [
    "t u=22\n",
    "print(t u)"
   ]
  },
  {
   "cell_type": "markdown",
   "id": "67810acb-1b53-4ee8-9b40-dfe9a7e48037",
   "metadata": {},
   "source": [
    "# 4.case sensitive"
   ]
  },
  {
   "cell_type": "code",
   "execution_count": 11,
   "id": "73b5a8db-27ed-4267-be42-707b657dbab4",
   "metadata": {},
   "outputs": [
    {
     "ename": "SyntaxError",
     "evalue": "invalid syntax (3736567433.py, line 1)",
     "output_type": "error",
     "traceback": [
      "\u001b[1;36m  Cell \u001b[1;32mIn[11], line 1\u001b[1;36m\u001b[0m\n\u001b[1;33m    $=1\u001b[0m\n\u001b[1;37m    ^\u001b[0m\n\u001b[1;31mSyntaxError\u001b[0m\u001b[1;31m:\u001b[0m invalid syntax\n"
     ]
    }
   ],
   "source": [
    "$=1\n",
    "print($)"
   ]
  },
  {
   "cell_type": "markdown",
   "id": "0e7e47dd-893a-4464-925a-c4b579142fdc",
   "metadata": {},
   "source": [
    "# 5.do not use any keyword."
   ]
  },
  {
   "cell_type": "code",
   "execution_count": 12,
   "id": "4540a49c-3ffc-49a9-ac9a-879f431126c6",
   "metadata": {},
   "outputs": [
    {
     "ename": "SyntaxError",
     "evalue": "cannot assign to False (2589417997.py, line 1)",
     "output_type": "error",
     "traceback": [
      "\u001b[1;36m  Cell \u001b[1;32mIn[12], line 1\u001b[1;36m\u001b[0m\n\u001b[1;33m    False=2\u001b[0m\n\u001b[1;37m    ^\u001b[0m\n\u001b[1;31mSyntaxError\u001b[0m\u001b[1;31m:\u001b[0m cannot assign to False\n"
     ]
    }
   ],
   "source": [
    "False=2\n",
    "print(False)"
   ]
  },
  {
   "cell_type": "markdown",
   "id": "fb028edd-d1ad-45c3-83f6-be2931eb713f",
   "metadata": {},
   "source": [
    "# Integer-----\n"
   ]
  },
  {
   "cell_type": "code",
   "execution_count": 1,
   "id": "48b9de0c-f1f2-40af-90d3-912dc9cf76f5",
   "metadata": {},
   "outputs": [
    {
     "name": "stdout",
     "output_type": "stream",
     "text": [
      "<class 'int'>\n"
     ]
    }
   ],
   "source": [
    "x=10\n",
    "print(type(x))"
   ]
  },
  {
   "cell_type": "markdown",
   "id": "881c152f-4584-4c90-9adc-8ac5fb1d88ff",
   "metadata": {},
   "source": [
    "# complex number(real no. or imaginary no.)"
   ]
  },
  {
   "cell_type": "code",
   "execution_count": 2,
   "id": "4bb3b947-20f8-46ea-99f7-483651c9fe8a",
   "metadata": {},
   "outputs": [
    {
     "name": "stdout",
     "output_type": "stream",
     "text": [
      "<class 'complex'>\n"
     ]
    }
   ],
   "source": [
    "x=5+3j\n",
    "print(type(x))"
   ]
  },
  {
   "cell_type": "markdown",
   "id": "ff7450c4-326f-427e-bc9f-322d89d69c0a",
   "metadata": {},
   "source": [
    "# string-: Collection of characters that represent in ''/\"\"/'\" '\"\"/"
   ]
  },
  {
   "cell_type": "code",
   "execution_count": 3,
   "id": "cb08e476-bae3-4625-8c3e-abedb7361ade",
   "metadata": {},
   "outputs": [
    {
     "name": "stdout",
     "output_type": "stream",
     "text": [
      "<class 'str'>\n"
     ]
    }
   ],
   "source": [
    "x='python'\n",
    "print(type(x))\n"
   ]
  },
  {
   "cell_type": "code",
   "execution_count": 5,
   "id": "216ef247-d648-4d52-abf9-c7609c786aef",
   "metadata": {},
   "outputs": [
    {
     "ename": "TypeError",
     "evalue": "type.__new__() argument 2 must be tuple, not str",
     "output_type": "error",
     "traceback": [
      "\u001b[1;31m---------------------------------------------------------------------------\u001b[0m",
      "\u001b[1;31mTypeError\u001b[0m                                 Traceback (most recent call last)",
      "Cell \u001b[1;32mIn[5], line 7\u001b[0m\n\u001b[0;32m      3\u001b[0m z\u001b[38;5;241m=\u001b[39m\u001b[38;5;124m'''\u001b[39m\u001b[38;5;124mcpp\u001b[39m\u001b[38;5;124m'''\u001b[39m\n\u001b[0;32m      4\u001b[0m \u001b[38;5;66;03m# print(type(x))\u001b[39;00m\n\u001b[0;32m      5\u001b[0m \u001b[38;5;66;03m# print(type(y))\u001b[39;00m\n\u001b[0;32m      6\u001b[0m \u001b[38;5;66;03m# print(type(z))\u001b[39;00m\n\u001b[1;32m----> 7\u001b[0m \u001b[38;5;28mprint\u001b[39m(\u001b[38;5;28mtype\u001b[39m(x,y,z))\n",
      "\u001b[1;31mTypeError\u001b[0m: type.__new__() argument 2 must be tuple, not str"
     ]
    }
   ],
   "source": [
    "x='python'\n",
    "y=\"java\"\n",
    "z='''cpp'''\n",
    "# print(type(x))\n",
    "# print(type(y))\n",
    "# print(type(z))\n",
    "print(type(x,y,z))"
   ]
  },
  {
   "cell_type": "code",
   "execution_count": 7,
   "id": "383a8172-6a3b-4dfb-8cab-82a9245305f4",
   "metadata": {},
   "outputs": [
    {
     "name": "stdout",
     "output_type": "stream",
     "text": [
      "<class 'str'>\n",
      "<class 'str'>\n",
      "<class 'str'>\n"
     ]
    }
   ],
   "source": [
    "x='python'\n",
    "y=\"java\"\n",
    "z='''cpp'''\n",
    "print(type(x))\n",
    "print(type(y))\n",
    "print(type(z))"
   ]
  },
  {
   "cell_type": "code",
   "execution_count": 8,
   "id": "e51faafc-fc92-48c2-b230-75af0e420e1f",
   "metadata": {},
   "outputs": [
    {
     "name": "stdout",
     "output_type": "stream",
     "text": [
      "this is python class\n",
      "this is java class\n",
      "this\n",
      "is \n",
      "python\n",
      "class\n"
     ]
    }
   ],
   "source": [
    "s='this is python class'\n",
    "s1=\"this is java class\"\n",
    "s2='''this\n",
    "is \n",
    "python\n",
    "class'''\n",
    "print(s)\n",
    "print(s1)\n",
    "print(s2)\n",
    "\n",
    "\n"
   ]
  },
  {
   "cell_type": "code",
   "execution_count": 5,
   "id": "f834ed15-c2a9-4985-a0a1-494a5a3a0b37",
   "metadata": {},
   "outputs": [
    {
     "ename": "SyntaxError",
     "evalue": "unterminated string literal (detected at line 1) (621198596.py, line 1)",
     "output_type": "error",
     "traceback": [
      "\u001b[1;36m  Cell \u001b[1;32mIn[5], line 1\u001b[1;36m\u001b[0m\n\u001b[1;33m    s2=\"this\u001b[0m\n\u001b[1;37m       ^\u001b[0m\n\u001b[1;31mSyntaxError\u001b[0m\u001b[1;31m:\u001b[0m unterminated string literal (detected at line 1)\n"
     ]
    }
   ],
   "source": [
    "s2=\"this \n",
    "is \n",
    "python\n",
    "class\"\n",
    "print(s2)"
   ]
  },
  {
   "cell_type": "code",
   "execution_count": 3,
   "id": "c8ee03ff-91fc-4d0b-a8ee-aa0642f63183",
   "metadata": {},
   "outputs": [
    {
     "name": "stdout",
     "output_type": "stream",
     "text": [
      "this is 'python' class\n",
      "this is \"python\" 'java' class\n"
     ]
    }
   ],
   "source": [
    "\n",
    "s1=\"this is 'python' class\"\n",
    "s2='''this is \"python\" 'java' class'''\n",
    "\n",
    "print(s1)\n",
    "print(s2)\n"
   ]
  },
  {
   "cell_type": "code",
   "execution_count": 2,
   "id": "41004827-1572-4f2d-823b-3e0b3c606b91",
   "metadata": {},
   "outputs": [
    {
     "name": "stdout",
     "output_type": "stream",
     "text": [
      "this is \"python\" class\n"
     ]
    }
   ],
   "source": [
    "s='this is \"python\" class'\n",
    "print(s)"
   ]
  },
  {
   "cell_type": "code",
   "execution_count": 1,
   "id": "6c963695-e518-410e-ab07-432096869a0c",
   "metadata": {},
   "outputs": [
    {
     "name": "stdout",
     "output_type": "stream",
     "text": [
      "this is 'python' class\n",
      "this is \"python\" 'java' class\n"
     ]
    }
   ],
   "source": [
    "s1=\"this is 'python' class\"\n",
    "s2='''this is \"python\" 'java' class'''\n",
    "print(s1)\n",
    "print(s2)"
   ]
  },
  {
   "cell_type": "code",
   "execution_count": null,
   "id": "d061c9b0-e613-400e-9615-1804c33403df",
   "metadata": {},
   "outputs": [],
   "source": [
    "s1=\"this is 'python' class\"\n",
    "s2='''this is \"python\" 'java' class'''\n",
    "print(s1)\n",
    "print(s2)"
   ]
  },
  {
   "cell_type": "markdown",
   "id": "0532e8cb-f3a0-4d4c-865b-a8d6667c5ebe",
   "metadata": {},
   "source": [
    "# list------------"
   ]
  },
  {
   "cell_type": "code",
   "execution_count": 1,
   "id": "92eaa493-ee7b-4063-90fa-94fc905bc043",
   "metadata": {},
   "outputs": [
    {
     "name": "stdout",
     "output_type": "stream",
     "text": [
      "[1, 2, 3, 4, 5]\n",
      "<class 'list'>\n"
     ]
    }
   ],
   "source": [
    "l=[1,2,3,4,5]\n",
    "print(l)\n",
    "print(type(l))"
   ]
  },
  {
   "cell_type": "code",
   "execution_count": 2,
   "id": "02e86401-f968-4a38-94ce-67c992427baa",
   "metadata": {},
   "outputs": [
    {
     "name": "stdout",
     "output_type": "stream",
     "text": [
      "[1, 'cpp', 'java', 'python', 2, 9, 8]\n",
      "7\n",
      "<class 'list'>\n"
     ]
    }
   ],
   "source": [
    "l=[1,'cpp','java','python',2,9,8]\n",
    "print(l)\n",
    "print(len(l))\n",
    "print(type(l))"
   ]
  },
  {
   "cell_type": "markdown",
   "id": "17779da5-610a-4776-b022-f46fff6e6023",
   "metadata": {},
   "source": [
    "# Tuple-------"
   ]
  },
  {
   "cell_type": "code",
   "execution_count": 3,
   "id": "9d295065-7255-4231-9769-a3d37e82839e",
   "metadata": {},
   "outputs": [
    {
     "name": "stdout",
     "output_type": "stream",
     "text": [
      "(1, 2, 3, 4, 55, 6)\n",
      "6\n",
      "<class 'tuple'>\n"
     ]
    }
   ],
   "source": [
    "t=(1,2,3,4,55,6,)\n",
    "print(t)\n",
    "print(len(t))\n",
    "print(type(t))"
   ]
  },
  {
   "cell_type": "code",
   "execution_count": 4,
   "id": "e87e0da2-a827-4924-a948-7969871f4d12",
   "metadata": {},
   "outputs": [
    {
     "name": "stdout",
     "output_type": "stream",
     "text": [
      "(1, 'java', 'python', 4, 4)\n",
      "5\n",
      "<class 'tuple'>\n"
     ]
    }
   ],
   "source": [
    "t=(1,'java','python',4,4)\n",
    "print(t)\n",
    "print(len(t))\n",
    "print(type(t))"
   ]
  },
  {
   "cell_type": "raw",
   "id": "c98cf583-8342-4c09-93f3-d4664b19c4b8",
   "metadata": {},
   "source": [
    "1.list is collection of element(homogeneous and hetrogeneous)represent by []\n",
    "2. Tople is collection of element(homogeneous and hetrogeneous)represent by ()"
   ]
  },
  {
   "cell_type": "markdown",
   "id": "53ae0c1c-40b6-49d5-bde2-6b2dcb59f319",
   "metadata": {},
   "source": [
    "# dictionary-------collection of key and value pairs.\n",
    "# representin {} with comma(,)"
   ]
  },
  {
   "cell_type": "code",
   "execution_count": 5,
   "id": "57435933-b8c8-47d3-b79f-beab57ff54ce",
   "metadata": {},
   "outputs": [
    {
     "name": "stdout",
     "output_type": "stream",
     "text": [
      "{'name': 'suraj', 'age': 22, 'quali': 'b.tech'}\n",
      "3\n",
      "<class 'dict'>\n"
     ]
    }
   ],
   "source": [
    "d={'name':'suraj','age':22,'quali':'b.tech'}\n",
    "print(d)\n",
    "print(len(d))\n",
    "print(type(d))"
   ]
  },
  {
   "cell_type": "markdown",
   "id": "7a6fc42b-ebf2-4879-87e8-f32b9ae4e588",
   "metadata": {},
   "source": [
    "# Set------"
   ]
  },
  {
   "cell_type": "code",
   "execution_count": 6,
   "id": "12c11a87-34ca-4ecc-8b87-66a437a6a605",
   "metadata": {},
   "outputs": [
    {
     "name": "stdout",
     "output_type": "stream",
     "text": [
      "{2, 3, 4, 'sun', 5, 'java'}\n",
      "6\n",
      "<class 'set'>\n"
     ]
    }
   ],
   "source": [
    "s={2,4,'sun',5,2,'java','sun',3,5}\n",
    "print(s)\n",
    "print(len(s))\n",
    "print(type(s))"
   ]
  },
  {
   "cell_type": "code",
   "execution_count": null,
   "id": "c9941618-c0c1-42a6-9c78-05533950df33",
   "metadata": {},
   "outputs": [],
   "source": []
  }
 ],
 "metadata": {
  "kernelspec": {
   "display_name": "Python [conda env:base] *",
   "language": "python",
   "name": "conda-base-py"
  },
  "language_info": {
   "codemirror_mode": {
    "name": "ipython",
    "version": 3
   },
   "file_extension": ".py",
   "mimetype": "text/x-python",
   "name": "python",
   "nbconvert_exporter": "python",
   "pygments_lexer": "ipython3",
   "version": "3.12.7"
  }
 },
 "nbformat": 4,
 "nbformat_minor": 5
}
