{
 "cells": [
  {
   "cell_type": "code",
   "execution_count": 1,
   "id": "c1fcbe1d-a75e-4ec5-b768-84085d284385",
   "metadata": {},
   "outputs": [
    {
     "name": "stdout",
     "output_type": "stream",
     "text": [
      "['False', 'None', 'True', 'and', 'as', 'assert', 'async', 'await', 'break', 'class', 'continue', 'def', 'del', 'elif', 'else', 'except', 'finally', 'for', 'from', 'global', 'if', 'import', 'in', 'is', 'lambda', 'nonlocal', 'not', 'or', 'pass', 'raise', 'return', 'try', 'while', 'with', 'yield']\n",
      "35\n"
     ]
    }
   ],
   "source": [
    "import keyword\n",
    "all_keys=keyword.kwlist\n",
    "print(all_keys)\n",
    "print(len(all_keys))\n",
    "\n"
   ]
  },
  {
   "cell_type": "code",
   "execution_count": null,
   "id": "878c3dc6-5e62-4c49-995b-b8fcc5ba0144",
   "metadata": {},
   "outputs": [],
   "source": []
  },
  {
   "cell_type": "code",
   "execution_count": 7,
   "id": "72366250-647c-4bfe-bd31-f8f24baa439a",
   "metadata": {},
   "outputs": [
    {
     "name": "stdout",
     "output_type": "stream",
     "text": [
      "!\"#$%&'()*+,-./:;<=>?@[\\]^_`{|}~\n",
      "32\n"
     ]
    }
   ],
   "source": [
    "import string\n",
    "all_punctuation=string.punctuation\n",
    "print(all_punctuation)\n",
    "print(len(all_punctuation))"
   ]
  },
  {
   "cell_type": "markdown",
   "id": "04925a3d-8167-4c38-af62-9f4e455ebbe5",
   "metadata": {},
   "source": [
    "# Identifiers:-----"
   ]
  },
  {
   "cell_type": "raw",
   "id": "3c593f2d-3a3d-439e-83d0-c4696d4cf786",
   "metadata": {},
   "source": [
    "1.do not start with digits.\n",
    "2.star with a-z or A-Z or (_).\n",
    "3.do not use space.\n",
    "4.case sensitive.\n",
    "5.do not use any keyword."
   ]
  },
  {
   "cell_type": "markdown",
   "id": "a73bdb41-286e-459d-ac42-3c138b439e15",
   "metadata": {},
   "source": [
    "# 1.do not start with digits."
   ]
  },
  {
   "cell_type": "code",
   "execution_count": 8,
   "id": "9414efca-fd03-4ac0-b134-f670a6c444a4",
   "metadata": {},
   "outputs": [
    {
     "ename": "SyntaxError",
     "evalue": "invalid decimal literal (2575713885.py, line 1)",
     "output_type": "error",
     "traceback": [
      "\u001b[1;36m  Cell \u001b[1;32mIn[8], line 1\u001b[1;36m\u001b[0m\n\u001b[1;33m    2sun=10\u001b[0m\n\u001b[1;37m    ^\u001b[0m\n\u001b[1;31mSyntaxError\u001b[0m\u001b[1;31m:\u001b[0m invalid decimal literal\n"
     ]
    }
   ],
   "source": [
    "2sun=10\n",
    "print(2sun)"
   ]
  },
  {
   "cell_type": "markdown",
   "id": "21d2bcca-d9eb-42de-9e3f-ddd250f3f383",
   "metadata": {},
   "source": [
    "# 2.star with a-z or A-Z or (_)."
   ]
  },
  {
   "cell_type": "code",
   "execution_count": 9,
   "id": "2a8e9156-4f2b-406b-9749-c2cb822382a3",
   "metadata": {},
   "outputs": [
    {
     "name": "stdout",
     "output_type": "stream",
     "text": [
      "10\n"
     ]
    }
   ],
   "source": [
    "abc=10\n",
    "print(abc)"
   ]
  },
  {
   "cell_type": "markdown",
   "id": "62297537-f7ca-4595-adfe-3ec125f395c1",
   "metadata": {},
   "source": [
    "# 3.do not use space."
   ]
  },
  {
   "cell_type": "code",
   "execution_count": 10,
   "id": "a7bb75e2-497c-41fa-ae9a-815ccd0d91f3",
   "metadata": {},
   "outputs": [
    {
     "ename": "SyntaxError",
     "evalue": "invalid syntax (1204775362.py, line 1)",
     "output_type": "error",
     "traceback": [
      "\u001b[1;36m  Cell \u001b[1;32mIn[10], line 1\u001b[1;36m\u001b[0m\n\u001b[1;33m    t u=22\u001b[0m\n\u001b[1;37m      ^\u001b[0m\n\u001b[1;31mSyntaxError\u001b[0m\u001b[1;31m:\u001b[0m invalid syntax\n"
     ]
    }
   ],
   "source": [
    "t u=22\n",
    "print(t u)"
   ]
  },
  {
   "cell_type": "markdown",
   "id": "67810acb-1b53-4ee8-9b40-dfe9a7e48037",
   "metadata": {},
   "source": [
    "# 4.case sensitive"
   ]
  },
  {
   "cell_type": "code",
   "execution_count": 11,
   "id": "73b5a8db-27ed-4267-be42-707b657dbab4",
   "metadata": {},
   "outputs": [
    {
     "ename": "SyntaxError",
     "evalue": "invalid syntax (3736567433.py, line 1)",
     "output_type": "error",
     "traceback": [
      "\u001b[1;36m  Cell \u001b[1;32mIn[11], line 1\u001b[1;36m\u001b[0m\n\u001b[1;33m    $=1\u001b[0m\n\u001b[1;37m    ^\u001b[0m\n\u001b[1;31mSyntaxError\u001b[0m\u001b[1;31m:\u001b[0m invalid syntax\n"
     ]
    }
   ],
   "source": [
    "$=1\n",
    "print($)"
   ]
  },
  {
   "cell_type": "markdown",
   "id": "0e7e47dd-893a-4464-925a-c4b579142fdc",
   "metadata": {},
   "source": [
    "# 5.do not use any keyword."
   ]
  },
  {
   "cell_type": "code",
   "execution_count": 12,
   "id": "4540a49c-3ffc-49a9-ac9a-879f431126c6",
   "metadata": {},
   "outputs": [
    {
     "ename": "SyntaxError",
     "evalue": "cannot assign to False (2589417997.py, line 1)",
     "output_type": "error",
     "traceback": [
      "\u001b[1;36m  Cell \u001b[1;32mIn[12], line 1\u001b[1;36m\u001b[0m\n\u001b[1;33m    False=2\u001b[0m\n\u001b[1;37m    ^\u001b[0m\n\u001b[1;31mSyntaxError\u001b[0m\u001b[1;31m:\u001b[0m cannot assign to False\n"
     ]
    }
   ],
   "source": [
    "False=2\n",
    "print(False)"
   ]
  },
  {
   "cell_type": "code",
   "execution_count": null,
   "id": "ebc64411-46e0-4ea5-9209-b99aed20ff5b",
   "metadata": {},
   "outputs": [],
   "source": []
  }
 ],
 "metadata": {
  "kernelspec": {
   "display_name": "Python [conda env:base] *",
   "language": "python",
   "name": "conda-base-py"
  },
  "language_info": {
   "codemirror_mode": {
    "name": "ipython",
    "version": 3
   },
   "file_extension": ".py",
   "mimetype": "text/x-python",
   "name": "python",
   "nbconvert_exporter": "python",
   "pygments_lexer": "ipython3",
   "version": "3.12.7"
  }
 },
 "nbformat": 4,
 "nbformat_minor": 5
}
