{
 "cells": [
  {
   "cell_type": "code",
   "execution_count": 1,
   "id": "f36b0a7d-7a8b-4726-945d-9d4806d37120",
   "metadata": {},
   "outputs": [
    {
     "name": "stdin",
     "output_type": "stream",
     "text": [
      "Enter natural number: 20\n"
     ]
    },
    {
     "name": "stdout",
     "output_type": "stream",
     "text": [
      "1,2,3,4,5,6,7,8,9,10,11,12,13,14,15,16,17,18,19,20"
     ]
    }
   ],
   "source": [
    "# wap to print n natural no.(self)\n",
    "n=int(input(\"Enter natural number:\"))\n",
    "i=1\n",
    "while i<n:\n",
    "    print(i,end=(','))\n",
    "    i=i+1\n",
    "if i==n:\n",
    "    print(i,end=(''))\n",
    "    "
   ]
  },
  {
   "cell_type": "code",
   "execution_count": 6,
   "id": "8b232af5-625d-497a-9f5e-47abf2e611c7",
   "metadata": {},
   "outputs": [
    {
     "name": "stdin",
     "output_type": "stream",
     "text": [
      "Enter natural number 5\n"
     ]
    },
    {
     "name": "stdout",
     "output_type": "stream",
     "text": [
      "1+2+3+4+5=15\n"
     ]
    }
   ],
   "source": [
    "# wap to print sum of n natural no.(self)\n",
    "n=int(input('Enter natural number'))\n",
    "i=1\n",
    "sum=0\n",
    "while i<n:\n",
    "    print(i,end=('+'))\n",
    "    sum=sum+i\n",
    "    i=i+1\n",
    "if i==n:\n",
    "    print(i,end=('='))\n",
    "    sum=sum+i\n",
    "print(sum)"
   ]
  },
  {
   "cell_type": "code",
   "execution_count": 4,
   "id": "af770f94-de9c-482d-a5d9-939b9d33c418",
   "metadata": {},
   "outputs": [
    {
     "name": "stdin",
     "output_type": "stream",
     "text": [
      "Enter natural number 5\n"
     ]
    },
    {
     "name": "stdout",
     "output_type": "stream",
     "text": [
      "1+2+3+4+5=15\n"
     ]
    }
   ],
   "source": [
    "# wap to print sum of n natural no. (sir's mathod)\n",
    "n=int(input('Enter natural number'))\n",
    "i=1\n",
    "sum=0\n",
    "while i<=n:\n",
    "    sum=sum+i\n",
    "    if i<n:\n",
    "        print(i,end='+')\n",
    "    else:\n",
    "        print(i,end='=')\n",
    "    i=i+1\n",
    "print(sum)"
   ]
  },
  {
   "cell_type": "code",
   "execution_count": 2,
   "id": "36666f59-d085-4b16-aa44-f18a1be57a12",
   "metadata": {},
   "outputs": [
    {
     "name": "stdin",
     "output_type": "stream",
     "text": [
      "enter natural no.: 3\n"
     ]
    },
    {
     "name": "stdout",
     "output_type": "stream",
     "text": [
      "1*2*3=6\n"
     ]
    }
   ],
   "source": [
    "# wap to print multiplication of natural no.(self)\n",
    "n=int(input(\"enter natural no.:\"))\n",
    "i=1\n",
    "multi=1\n",
    "while i<=n:\n",
    "    multi=multi*i\n",
    "    if i<n:\n",
    "        print(i,end='*')\n",
    "    else: \n",
    "        print(i,end='=')\n",
    "    i=i+1\n",
    "print(multi)\n",
    "    "
   ]
  },
  {
   "cell_type": "code",
   "execution_count": 4,
   "id": "125198af-ba5f-48f8-afba-5cd2495eddb6",
   "metadata": {},
   "outputs": [
    {
     "name": "stdin",
     "output_type": "stream",
     "text": [
      "Enter natural no.: 5\n"
     ]
    },
    {
     "name": "stdout",
     "output_type": "stream",
     "text": [
      "1*2*3*4*5=120\n"
     ]
    }
   ],
   "source": [
    "# wap to print factorial of any natural no.(self)\n",
    "n=int(input(\"Enter natural no.:\"))\n",
    "i=1\n",
    "fact=1\n",
    "while i<=n:\n",
    "    fact=fact*i\n",
    "    if i<n:\n",
    "        print(i,end='*') \n",
    "    else: \n",
    "        print(i,end='=')\n",
    "    i=i+1\n",
    "print(fact)"
   ]
  },
  {
   "cell_type": "code",
   "execution_count": 5,
   "id": "af54aa56-6bce-405e-b37d-e82890284010",
   "metadata": {},
   "outputs": [
    {
     "name": "stdin",
     "output_type": "stream",
     "text": [
      "enter natural no.: 10\n"
     ]
    },
    {
     "name": "stdout",
     "output_type": "stream",
     "text": [
      "2,4,6,8,10,12,14,16,18,20,"
     ]
    }
   ],
   "source": [
    "# wap to print n even no. \n",
    "n=int(input(\"enter natural no.:\"))\n",
    "i=1\n",
    "while i<=n:\n",
    "    even=i*2\n",
    "    if i<n:\n",
    "        print(even,end=',')\n",
    "    else:\n",
    "        print(i,end='=')\n",
    "    \n",
    "    i=i+1\n",
    "    "
   ]
  },
  {
   "cell_type": "code",
   "execution_count": null,
   "id": "65d3aba3-f0c4-41b9-b179-be7f634c213a",
   "metadata": {},
   "outputs": [],
   "source": [
    "# for-loop"
   ]
  },
  {
   "cell_type": "code",
   "execution_count": 7,
   "id": "c35c4c45-ebdf-48cd-babd-b6a3d96e8617",
   "metadata": {},
   "outputs": [
    {
     "name": "stdin",
     "output_type": "stream",
     "text": [
      "enter a char: e\n"
     ]
    },
    {
     "name": "stdout",
     "output_type": "stream",
     "text": [
      "101\n"
     ]
    }
   ],
   "source": [
    "s=input(\"enter a char:\")\n",
    "x=ord(s)\n",
    "print(x)"
   ]
  },
  {
   "cell_type": "code",
   "execution_count": 10,
   "id": "5f1b0bef-9396-4294-95d4-6fa8ac88111a",
   "metadata": {},
   "outputs": [
    {
     "name": "stdin",
     "output_type": "stream",
     "text": [
      "enter a char: a\n"
     ]
    },
    {
     "name": "stdout",
     "output_type": "stream",
     "text": [
      "f\n"
     ]
    }
   ],
   "source": [
    "s=input(\"enter a char:\")\n",
    "x=ord(s)+5\n",
    "y=chr(x)\n",
    "print(y)"
   ]
  },
  {
   "cell_type": "code",
   "execution_count": 12,
   "id": "b137bc5f-8e9c-499f-88b4-cf458af90f2d",
   "metadata": {},
   "outputs": [
    {
     "name": "stdin",
     "output_type": "stream",
     "text": [
      "enter string: abc\n"
     ]
    },
    {
     "name": "stdout",
     "output_type": "stream",
     "text": [
      "b\n",
      "c\n",
      "d\n"
     ]
    }
   ],
   "source": [
    "s=input(\"enter string:\")\n",
    "for x in s:\n",
    "    print(chr(ord(x)+1))"
   ]
  },
  {
   "cell_type": "code",
   "execution_count": 16,
   "id": "0fd7b2bf-2eb0-4428-af93-8e8b02da0d53",
   "metadata": {},
   "outputs": [
    {
     "name": "stdin",
     "output_type": "stream",
     "text": [
      "enter any string: abcd\n"
     ]
    },
    {
     "name": "stdout",
     "output_type": "stream",
     "text": [
      "['a']\n",
      "a\n",
      "['a', 'b']\n",
      "ab\n",
      "['a', 'b', 'c']\n",
      "abc\n",
      "['a', 'b', 'c', 'd']\n",
      "abcd\n"
     ]
    }
   ],
   "source": [
    "s=input(\"enter any string:\")\n",
    "l=[]\n",
    "for i in s:\n",
    "    y=(chr(ord(i)))\n",
    "    print(y)\n",
    "    l.append(y)\n",
    "    print(l)\n",
    "    s=''.join(l)\n",
    "    print(s)"
   ]
  },
  {
   "cell_type": "code",
   "execution_count": 17,
   "id": "823bae04-82ec-4ba3-a773-795883a9f071",
   "metadata": {},
   "outputs": [
    {
     "name": "stdin",
     "output_type": "stream",
     "text": [
      "enter any string: abcd\n"
     ]
    },
    {
     "name": "stdout",
     "output_type": "stream",
     "text": [
      "a\n",
      "ab\n",
      "abc\n",
      "abcd\n"
     ]
    }
   ],
   "source": [
    "s=input(\"enter any string:\")\n",
    "l=[]\n",
    "for i in s:\n",
    "    y=(chr(ord(i)))\n",
    "    l.append(y)\n",
    "    s=''.join(l)\n",
    "    print(s)"
   ]
  },
  {
   "cell_type": "code",
   "execution_count": 21,
   "id": "0ade1a38-bd1d-4247-9c56-ecc00c5621a8",
   "metadata": {},
   "outputs": [
    {
     "name": "stdin",
     "output_type": "stream",
     "text": [
      "enter any string: abcd\n"
     ]
    },
    {
     "name": "stdout",
     "output_type": "stream",
     "text": [
      "b\n",
      "bc\n",
      "bcd\n",
      "bcde\n"
     ]
    }
   ],
   "source": [
    "s=input(\"enter any string:\")\n",
    "l=[]\n",
    "for i in s:\n",
    "    y=(chr(ord(i)+1))\n",
    "    l.append(y)\n",
    "    s=''.join(l)\n",
    "    print(s)"
   ]
  },
  {
   "cell_type": "code",
   "execution_count": 22,
   "id": "782ec8f4-61d6-4027-a0b9-7fedc5f240bc",
   "metadata": {},
   "outputs": [
    {
     "name": "stdin",
     "output_type": "stream",
     "text": [
      "enter any string: abcd\n"
     ]
    },
    {
     "name": "stdout",
     "output_type": "stream",
     "text": [
      "bcde\n"
     ]
    }
   ],
   "source": [
    "s=input(\"enter any string:\")\n",
    "l=[]\n",
    "for i in s:\n",
    "    y=(chr(ord(i)+1))\n",
    "    l.append(y)\n",
    "s=''.join(l)\n",
    "print(s)"
   ]
  },
  {
   "cell_type": "code",
   "execution_count": 24,
   "id": "6e2c978c-1df7-43a8-bb30-6797548d042e",
   "metadata": {},
   "outputs": [
    {
     "name": "stdin",
     "output_type": "stream",
     "text": [
      "enter any string: abcd\n"
     ]
    },
    {
     "name": "stdout",
     "output_type": "stream",
     "text": [
      "bcde\n"
     ]
    }
   ],
   "source": [
    "s=input(\"enter any string:\")\n",
    "l=[]\n",
    "for i in s:\n",
    "    y=(chr(ord(i)+1))\n",
    "    l.append(y)\n",
    "    s=''.join(l)\n",
    "print(s)"
   ]
  },
  {
   "cell_type": "code",
   "execution_count": 28,
   "id": "7bb255bc-fc23-4717-85db-363bdfc30087",
   "metadata": {},
   "outputs": [
    {
     "ename": "TypeError",
     "evalue": "unsupported operand type(s) for ** or pow(): 'str' and 'list'",
     "output_type": "error",
     "traceback": [
      "\u001b[1;31m---------------------------------------------------------------------------\u001b[0m",
      "\u001b[1;31mTypeError\u001b[0m                                 Traceback (most recent call last)",
      "Cell \u001b[1;32mIn[28], line 5\u001b[0m\n\u001b[0;32m      3\u001b[0m l1\u001b[38;5;241m=\u001b[39m[]\n\u001b[0;32m      4\u001b[0m \u001b[38;5;28;01mfor\u001b[39;00m i \u001b[38;5;129;01min\u001b[39;00m s:\n\u001b[1;32m----> 5\u001b[0m     l\u001b[38;5;241m.\u001b[39mappend(i\u001b[38;5;241m*\u001b[39m\u001b[38;5;241m*\u001b[39ml)\n\u001b[0;32m      6\u001b[0m \u001b[38;5;28mprint\u001b[39m(l)\n",
      "\u001b[1;31mTypeError\u001b[0m: unsupported operand type(s) for ** or pow(): 'str' and 'list'"
     ]
    }
   ],
   "source": [
    "# square this and add. \n",
    "l=[1,2,3,4,5,6]\n",
    "l1=[]\n",
    "for i in s:\n",
    "    l.append(i**2)\n",
    "print(l)"
   ]
  },
  {
   "cell_type": "code",
   "execution_count": null,
   "id": "d87c5415-c43b-45ba-b28f-95a1e1da0814",
   "metadata": {},
   "outputs": [],
   "source": []
  }
 ],
 "metadata": {
  "kernelspec": {
   "display_name": "Python [conda env:base] *",
   "language": "python",
   "name": "conda-base-py"
  },
  "language_info": {
   "codemirror_mode": {
    "name": "ipython",
    "version": 3
   },
   "file_extension": ".py",
   "mimetype": "text/x-python",
   "name": "python",
   "nbconvert_exporter": "python",
   "pygments_lexer": "ipython3",
   "version": "3.12.7"
  }
 },
 "nbformat": 4,
 "nbformat_minor": 5
}
