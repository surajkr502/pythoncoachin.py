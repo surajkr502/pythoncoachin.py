{
 "cells": [
  {
   "cell_type": "markdown",
   "id": "43ff9031-e5aa-4aaf-a3dc-d54252e7c6d7",
   "metadata": {},
   "source": [
    "# function"
   ]
  },
  {
   "cell_type": "code",
   "execution_count": 1,
   "id": "47dfd457-b8b4-4f62-9723-fb972d4f7c81",
   "metadata": {},
   "outputs": [
    {
     "name": "stdout",
     "output_type": "stream",
     "text": [
      "welcome to my world!\n",
      "welcome\n",
      "welcome to my world!\n"
     ]
    }
   ],
   "source": [
    "def fun_name():\n",
    "    print(\"welcome to my world!\")\n",
    "fun_name()\n",
    "print(\"welcome\")\n",
    "fun_name()"
   ]
  },
  {
   "cell_type": "code",
   "execution_count": 4,
   "id": "c7632b84-2566-438f-86a7-a7a27be9a8d5",
   "metadata": {},
   "outputs": [
    {
     "name": "stdout",
     "output_type": "stream",
     "text": [
      "welcome to my world!\n",
      "None\n",
      "None\n"
     ]
    },
    {
     "ename": "TypeError",
     "evalue": "unsupported operand type(s) for *: 'NoneType' and 'int'",
     "output_type": "error",
     "traceback": [
      "\u001b[1;31m---------------------------------------------------------------------------\u001b[0m",
      "\u001b[1;31mTypeError\u001b[0m                                 Traceback (most recent call last)",
      "Cell \u001b[1;32mIn[4], line 7\u001b[0m\n\u001b[0;32m      5\u001b[0m \u001b[38;5;28mprint\u001b[39m(x)\n\u001b[0;32m      6\u001b[0m \u001b[38;5;28mprint\u001b[39m(x)\n\u001b[1;32m----> 7\u001b[0m \u001b[38;5;28mprint\u001b[39m(x\u001b[38;5;241m*\u001b[39m\u001b[38;5;241m2\u001b[39m)\n",
      "\u001b[1;31mTypeError\u001b[0m: unsupported operand type(s) for *: 'NoneType' and 'int'"
     ]
    }
   ],
   "source": [
    "def fun_name():\n",
    "    print(\"welcome to my world!\")\n",
    "# print(fun_name)\n",
    "x=fun_name()\n",
    "print(x)\n",
    "print(x)\n",
    "print(x*2)"
   ]
  },
  {
   "cell_type": "code",
   "execution_count": 6,
   "id": "caa72a60-8bfa-4a75-9463-44a84a6c0e30",
   "metadata": {},
   "outputs": [
    {
     "name": "stdout",
     "output_type": "stream",
     "text": [
      "welcome to my world!\n",
      "welcome to my world!\n",
      "welcome to my world!welcome to my world!\n"
     ]
    }
   ],
   "source": [
    "def fun_name():\n",
    "    # print(\"welcome to my world!\")\n",
    "    return\"welcome to my world!\"\n",
    "# print(fun_name)\n",
    "x=fun_name()\n",
    "print(x)\n",
    "print(x)\n",
    "print(x*2)"
   ]
  },
  {
   "cell_type": "code",
   "execution_count": 7,
   "id": "aaadfc7c-eaf1-4fd7-b725-e2bb830c738b",
   "metadata": {},
   "outputs": [
    {
     "name": "stdin",
     "output_type": "stream",
     "text": [
      "enter 1st value: 3\n",
      "enter 2nd value: 3\n"
     ]
    },
    {
     "name": "stdout",
     "output_type": "stream",
     "text": [
      "6\n"
     ]
    }
   ],
   "source": [
    "#examle:-positional argument\n",
    "def add(x,y):#this is parameter \n",
    "    z=x+y\n",
    "    return z\n",
    "a=int(input(\"enter 1st value:\"))\n",
    "b=int(input(\"enter 2nd value:\"))\n",
    "addition=add(a,b)#this is argument\n",
    "print(addition)"
   ]
  },
  {
   "cell_type": "markdown",
   "id": "c0b65cc2-e779-4856-8c7c-64c9cc0c270b",
   "metadata": {},
   "source": [
    "# relation b/w"
   ]
  },
  {
   "cell_type": "code",
   "execution_count": 8,
   "id": "81f46629-74d6-46a2-a4e1-01dc792df794",
   "metadata": {},
   "outputs": [
    {
     "name": "stdin",
     "output_type": "stream",
     "text": [
      "enter 1st value: 3\n",
      "enter 2nd value: 3\n"
     ]
    },
    {
     "ename": "TypeError",
     "evalue": "add() missing 2 required positional arguments: 'x' and 'y'",
     "output_type": "error",
     "traceback": [
      "\u001b[1;31m---------------------------------------------------------------------------\u001b[0m",
      "\u001b[1;31mTypeError\u001b[0m                                 Traceback (most recent call last)",
      "Cell \u001b[1;32mIn[8], line 7\u001b[0m\n\u001b[0;32m      5\u001b[0m a\u001b[38;5;241m=\u001b[39m\u001b[38;5;28mint\u001b[39m(\u001b[38;5;28minput\u001b[39m(\u001b[38;5;124m\"\u001b[39m\u001b[38;5;124menter 1st value:\u001b[39m\u001b[38;5;124m\"\u001b[39m))\n\u001b[0;32m      6\u001b[0m b\u001b[38;5;241m=\u001b[39m\u001b[38;5;28mint\u001b[39m(\u001b[38;5;28minput\u001b[39m(\u001b[38;5;124m\"\u001b[39m\u001b[38;5;124menter 2nd value:\u001b[39m\u001b[38;5;124m\"\u001b[39m))\n\u001b[1;32m----> 7\u001b[0m addition\u001b[38;5;241m=\u001b[39madd()\n\u001b[0;32m      8\u001b[0m \u001b[38;5;28mprint\u001b[39m(addition)\n",
      "\u001b[1;31mTypeError\u001b[0m: add() missing 2 required positional arguments: 'x' and 'y'"
     ]
    }
   ],
   "source": [
    "#examle:-default argument\n",
    "def add(x,y):\n",
    "    z=x+y\n",
    "    return z\n",
    "a=int(input(\"enter 1st value:\"))\n",
    "b=int(input(\"enter 2nd value:\"))\n",
    "addition=add()\n",
    "print(addition)"
   ]
  },
  {
   "cell_type": "code",
   "execution_count": 9,
   "id": "6e13904a-1d41-4f33-b3e5-841cdd5c7ca2",
   "metadata": {},
   "outputs": [
    {
     "name": "stdin",
     "output_type": "stream",
     "text": [
      "enter 1st value: 3\n",
      "enter 2nd value: 3\n"
     ]
    },
    {
     "name": "stdout",
     "output_type": "stream",
     "text": [
      "0\n"
     ]
    }
   ],
   "source": [
    "#examle:-default argument\n",
    "def add(x=0,y=0):\n",
    "    z=x+y\n",
    "    return z\n",
    "a=int(input(\"enter 1st value:\"))\n",
    "b=int(input(\"enter 2nd value:\"))\n",
    "addition=add()\n",
    "print(addition)"
   ]
  },
  {
   "cell_type": "code",
   "execution_count": 11,
   "id": "ccf4921c-89bf-4652-89f5-96ea42e3269d",
   "metadata": {},
   "outputs": [
    {
     "name": "stdin",
     "output_type": "stream",
     "text": [
      "enter 1st value: 3\n",
      "enter 2nd value: 3\n"
     ]
    },
    {
     "name": "stdout",
     "output_type": "stream",
     "text": [
      "0\n",
      "6\n"
     ]
    }
   ],
   "source": [
    "#examle:-default argument\n",
    "def add(x,y):\n",
    "    z=x+y\n",
    "    return z\n",
    "a=int(input(\"enter 1st value:\"))\n",
    "b=int(input(\"enter 2nd value:\"))\n",
    "# addition=add(a)\n",
    "print(addition)\n",
    "addition=add(a,b)\n",
    "print(addition)\n"
   ]
  },
  {
   "cell_type": "code",
   "execution_count": 12,
   "id": "95bb8116-00f1-4cbb-9c06-42c4920e02b1",
   "metadata": {},
   "outputs": [
    {
     "name": "stdin",
     "output_type": "stream",
     "text": [
      "enter 1st value: 3\n",
      "enter 2nd value: 3\n"
     ]
    },
    {
     "name": "stdout",
     "output_type": "stream",
     "text": [
      "6\n"
     ]
    }
   ],
   "source": [
    "#examle:-key_word argument\n",
    "def add(x,y):\n",
    "    z=x+y\n",
    "    return z\n",
    "a=int(input(\"enter 1st value:\"))\n",
    "b=int(input(\"enter 2nd value:\"))\n",
    "addition=add(y=a,x=b)\n",
    "print(addition)\n"
   ]
  },
  {
   "cell_type": "code",
   "execution_count": 14,
   "id": "19c91faa-b1e0-4250-bf4a-2f87d3bbba60",
   "metadata": {},
   "outputs": [
    {
     "name": "stdin",
     "output_type": "stream",
     "text": [
      "enter integer 3\n"
     ]
    },
    {
     "name": "stdout",
     "output_type": "stream",
     "text": [
      "odd\n"
     ]
    }
   ],
   "source": [
    "def even(n):\n",
    "    if n%2==0: \n",
    "        print(\"even\")\n",
    "    else:\n",
    "        print(\"odd\")\n",
    "n=int(input(\"enter integer\"))\n",
    "even(n)"
   ]
  },
  {
   "cell_type": "code",
   "execution_count": null,
   "id": "0899d86f-4737-4425-a1a5-3fd15e3207fb",
   "metadata": {},
   "outputs": [],
   "source": []
  }
 ],
 "metadata": {
  "kernelspec": {
   "display_name": "Python [conda env:base] *",
   "language": "python",
   "name": "conda-base-py"
  },
  "language_info": {
   "codemirror_mode": {
    "name": "ipython",
    "version": 3
   },
   "file_extension": ".py",
   "mimetype": "text/x-python",
   "name": "python",
   "nbconvert_exporter": "python",
   "pygments_lexer": "ipython3",
   "version": "3.12.7"
  }
 },
 "nbformat": 4,
 "nbformat_minor": 5
}
