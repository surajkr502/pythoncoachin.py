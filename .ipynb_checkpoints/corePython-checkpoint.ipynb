{
 "cells": [
  {
   "cell_type": "markdown",
   "id": "faaef44b-c8f3-40f8-a3c1-f019e68284e9",
   "metadata": {},
   "source": [
    "# Data types-------------"
   ]
  },
  {
   "cell_type": "raw",
   "id": "1f19c866-8ddd-4d72-8879-7c49c7ee52ea",
   "metadata": {},
   "source": [
    "1. Numeric Types\n",
    "These types store numerical values.\n",
    "2. Sequence Types\n",
    "These types represent an ordered collection of items. Each item is identified by its index (starting from 0).\n",
    "3. Set Types\n",
    "These types represent an unordered collection of unique items. They are primarily used to perform mathematical set operations like union, intersection, difference, etc.\n",
    "4. Mapping Type\n",
    "5. Boolean Type\n",
    "6. None Type\n",
    "7. Binary Types (Bytes and Byte Arrays)\n",
    "These are used to work with binary data.\n"
   ]
  },
  {
   "cell_type": "markdown",
   "id": "334467c1-4223-4610-92e9-00d875e2fbb2",
   "metadata": {},
   "source": [
    "# 2.Sequence types---------------------"
   ]
  },
  {
   "cell_type": "raw",
   "id": "14d514a3-0477-45d6-89ce-d3d85e8b045d",
   "metadata": {},
   "source": [
    "#str (Strings):An immutable sequence of Unicode characters. Used to represent text.\n",
    "Enclosed in single (' '), double (\" \"), or triple (''' ''' or \"\"\" \"\"\") quotes.\n",
    "Examples: \"Hello, World!\", 'Python', '''Multi-line string'''\n",
    "\n",
    "#list (Lists):A mutable, ordered sequence of items. Items can be of different data types.\n",
    "Enclosed in square brackets [].\n",
    "Examples: [1, 2, 3], ['apple', 'banana', 'cherry'], [1, 'hello', 3.14]\n",
    "\n",
    "#tuple (Tuples):An immutable, ordered sequence of items. Items can be of different data types.\n",
    "Enclosed in parentheses ().\n",
    "Often used for fixed collections of items, especially for function returns.\n",
    "Examples: (1, 2, 3), ('red', 'green', 'blue'), (1, 'a', True)"
   ]
  },
  {
   "cell_type": "markdown",
   "id": "bb78a971-b0a7-4337-889c-24380e15bcb2",
   "metadata": {},
   "source": [
    "# a. string:------------------------------"
   ]
  },
  {
   "cell_type": "code",
   "execution_count": 2,
   "id": "ffc76678-1b68-4ab8-a65b-2c76284c01b6",
   "metadata": {},
   "outputs": [
    {
     "name": "stdout",
     "output_type": "stream",
     "text": [
      "y\n",
      "h\n",
      "<class 'str'>\n",
      "6\n",
      "python\n",
      "2206730452208\n"
     ]
    }
   ],
   "source": [
    "s='python'\n",
    "print(max(s))\n",
    "print(min(s))\n",
    "print(type(s))\n",
    "print(len(s))\n",
    "print((s))\n",
    "print(id(s))"
   ]
  },
  {
   "cell_type": "code",
   "execution_count": 3,
   "id": "13bb7712-b539-4029-98f8-bed87b0b6b66",
   "metadata": {},
   "outputs": [
    {
     "name": "stdout",
     "output_type": "stream",
     "text": [
      "8\n"
     ]
    }
   ],
   "source": [
    "s=\"Welcome hello hello welcome\"\n",
    "print(s.find(\"hello\"))"
   ]
  },
  {
   "cell_type": "code",
   "execution_count": 8,
   "id": "2188061c-383d-44d2-8813-3c82313963a6",
   "metadata": {},
   "outputs": [
    {
     "name": "stdout",
     "output_type": "stream",
     "text": [
      "14\n"
     ]
    }
   ],
   "source": [
    "print(s.find(\"hello\",10,20))"
   ]
  },
  {
   "cell_type": "code",
   "execution_count": 5,
   "id": "e41cff0c-953c-4345-aab6-6450cce591d3",
   "metadata": {},
   "outputs": [
    {
     "name": "stdout",
     "output_type": "stream",
     "text": [
      "0\n"
     ]
    }
   ],
   "source": [
    "print(s.index(\"Welcome\"))"
   ]
  },
  {
   "cell_type": "code",
   "execution_count": 6,
   "id": "59fa7c10-e058-49ca-b1a7-897f36fba178",
   "metadata": {},
   "outputs": [
    {
     "name": "stdout",
     "output_type": "stream",
     "text": [
      "2\n"
     ]
    }
   ],
   "source": [
    "print(s.count(\"hello\"))"
   ]
  },
  {
   "cell_type": "code",
   "execution_count": 4,
   "id": "e593b352-0dbb-4229-9020-ef0f1a0162a9",
   "metadata": {},
   "outputs": [
    {
     "name": "stdout",
     "output_type": "stream",
     "text": [
      "I LOVE PYTHON\n"
     ]
    }
   ],
   "source": [
    "s=\"I love python\"\n",
    "print(s.upper())"
   ]
  },
  {
   "cell_type": "code",
   "execution_count": 5,
   "id": "997d6fcc-6c11-4bce-8701-8b49877a12ea",
   "metadata": {},
   "outputs": [
    {
     "name": "stdout",
     "output_type": "stream",
     "text": [
      "i love python\n"
     ]
    }
   ],
   "source": [
    "print(s.lower())"
   ]
  },
  {
   "cell_type": "code",
   "execution_count": 3,
   "id": "b017881f-eba7-43d9-83ed-feeeefeea98a",
   "metadata": {},
   "outputs": [
    {
     "name": "stdout",
     "output_type": "stream",
     "text": [
      "False\n"
     ]
    }
   ],
   "source": [
    "s=\"I love python\"\n",
    "print(s.isalnum())"
   ]
  },
  {
   "cell_type": "code",
   "execution_count": 4,
   "id": "b6f2444b-58ef-4d5a-95f2-70290cd4b2aa",
   "metadata": {},
   "outputs": [
    {
     "name": "stdout",
     "output_type": "stream",
     "text": [
      "True\n"
     ]
    }
   ],
   "source": [
    "s=\"Ilovepython\"\n",
    "print(s.isalnum())"
   ]
  },
  {
   "cell_type": "code",
   "execution_count": 7,
   "id": "c3d77464-a623-4852-9ba7-fc7255483082",
   "metadata": {},
   "outputs": [
    {
     "name": "stdout",
     "output_type": "stream",
     "text": [
      "False\n"
     ]
    }
   ],
   "source": [
    "s=\"123Ilovepython\"\n",
    "print(s.isnumeric())"
   ]
  },
  {
   "cell_type": "code",
   "execution_count": 9,
   "id": "d7383176-1378-4f0f-a8b9-2c44f8ccc432",
   "metadata": {},
   "outputs": [
    {
     "name": "stdout",
     "output_type": "stream",
     "text": [
      "False\n"
     ]
    }
   ],
   "source": [
    "s=\"Welcome hello hello welcome\"\n",
    "print(s.startswith(\"hello\"))"
   ]
  },
  {
   "cell_type": "code",
   "execution_count": 11,
   "id": "90ad2a94-071b-45ce-a1ba-d1c204838eda",
   "metadata": {},
   "outputs": [
    {
     "name": "stdout",
     "output_type": "stream",
     "text": [
      "True\n"
     ]
    }
   ],
   "source": [
    "s=\"Welcome hello hello welcome\"\n",
    "print(s.startswith(\"W\"))"
   ]
  },
  {
   "cell_type": "code",
   "execution_count": 12,
   "id": "0eff17b0-08e7-4e9c-b386-47589291111a",
   "metadata": {},
   "outputs": [
    {
     "name": "stdout",
     "output_type": "stream",
     "text": [
      "True\n"
     ]
    }
   ],
   "source": [
    "s=\"Welcome hello hello welcome\"\n",
    "print(s.endswith(\"welcome\"))"
   ]
  },
  {
   "cell_type": "code",
   "execution_count": 14,
   "id": "5a19b9be-c0ab-40f4-b452-c15b221235e6",
   "metadata": {},
   "outputs": [
    {
     "name": "stdout",
     "output_type": "stream",
     "text": [
      "False\n"
     ]
    }
   ],
   "source": [
    "s=\"Welcome hello hello welcome\"\n",
    "print(s.isspace())"
   ]
  },
  {
   "cell_type": "raw",
   "id": "15c07d5f-c644-469e-a084-a575e47672d4",
   "metadata": {},
   "source": [
    "i.ord():-char to ascii.----------"
   ]
  },
  {
   "cell_type": "code",
   "execution_count": 1,
   "id": "dc25762d-c90a-4e5c-b083-a4e494ee3ce6",
   "metadata": {},
   "outputs": [
    {
     "name": "stdout",
     "output_type": "stream",
     "text": [
      "32\n"
     ]
    }
   ],
   "source": [
    "print(ord(' '))"
   ]
  },
  {
   "cell_type": "code",
   "execution_count": 2,
   "id": "3dc7afff-772a-44eb-a0da-80e0370bd1b7",
   "metadata": {},
   "outputs": [
    {
     "name": "stdout",
     "output_type": "stream",
     "text": [
      "53\n"
     ]
    }
   ],
   "source": [
    "print(ord('5'))"
   ]
  },
  {
   "cell_type": "code",
   "execution_count": 3,
   "id": "681cdb9e-eeb9-49db-ae04-63ea10856556",
   "metadata": {},
   "outputs": [
    {
     "name": "stdout",
     "output_type": "stream",
     "text": [
      "97\n"
     ]
    }
   ],
   "source": [
    "print(ord('a'))"
   ]
  },
  {
   "cell_type": "code",
   "execution_count": 4,
   "id": "14f748ea-554f-41ac-b474-084e951a845e",
   "metadata": {
    "scrolled": true
   },
   "outputs": [
    {
     "name": "stdout",
     "output_type": "stream",
     "text": [
      "65\n"
     ]
    }
   ],
   "source": [
    "print(ord('A'))"
   ]
  },
  {
   "cell_type": "code",
   "execution_count": 5,
   "id": "2658e5c9-9a6d-4ada-ab8c-6cfc77732168",
   "metadata": {},
   "outputs": [
    {
     "name": "stdout",
     "output_type": "stream",
     "text": [
      "ASCII value of 'A': 65\n"
     ]
    }
   ],
   "source": [
    "x=ord('A')\n",
    "print(\"ASCII value of 'A':\",x)"
   ]
  },
  {
   "cell_type": "raw",
   "id": "46d362f7-b5d6-4176-b77a-3e23de4960c5",
   "metadata": {},
   "source": [
    "ii.char():-ascii to char.----------"
   ]
  },
  {
   "cell_type": "code",
   "execution_count": 16,
   "id": "65d4ff75-75c5-4808-b5ad-332b723a151c",
   "metadata": {},
   "outputs": [],
   "source": [
    "# x\n",
    "# print(\"Char of =65\n",
    "# y=char('65')65:\",y)"
   ]
  },
  {
   "cell_type": "markdown",
   "id": "ce5e14e2-85f7-44bb-8ba6-e798b38ffa6f",
   "metadata": {},
   "source": [
    "# join()-----------------"
   ]
  },
  {
   "cell_type": "code",
   "execution_count": 9,
   "id": "b7c7edbf-a32f-4ce4-8cd3-ac76d2c1d86e",
   "metadata": {},
   "outputs": [
    {
     "name": "stdout",
     "output_type": "stream",
     "text": [
      "p y t h o n\n"
     ]
    }
   ],
   "source": [
    "s='python'\n",
    "x=' '.join(s)\n",
    "print(x)"
   ]
  },
  {
   "cell_type": "code",
   "execution_count": 11,
   "id": "a4e5368b-62e7-4007-8cb2-dfddd9cc47f2",
   "metadata": {},
   "outputs": [
    {
     "name": "stdout",
     "output_type": "stream",
     "text": [
      "p*y*t*h*o*n\n"
     ]
    }
   ],
   "source": [
    "s='python'\n",
    "x='*'.join(s)\n",
    "print(x)"
   ]
  },
  {
   "cell_type": "code",
   "execution_count": 21,
   "id": "ee541bca-5ec2-42b4-9008-72a42ee393f6",
   "metadata": {},
   "outputs": [
    {
     "ename": "TypeError",
     "evalue": "sequence item 5: expected str instance, int found",
     "output_type": "error",
     "traceback": [
      "\u001b[1;31m---------------------------------------------------------------------------\u001b[0m",
      "\u001b[1;31mTypeError\u001b[0m                                 Traceback (most recent call last)",
      "Cell \u001b[1;32mIn[21], line 2\u001b[0m\n\u001b[0;32m      1\u001b[0m l\u001b[38;5;241m=\u001b[39m[\u001b[38;5;124m'\u001b[39m\u001b[38;5;124mjava\u001b[39m\u001b[38;5;124m'\u001b[39m,\u001b[38;5;124m'\u001b[39m\u001b[38;5;124mpython\u001b[39m\u001b[38;5;124m'\u001b[39m,\u001b[38;5;124m'\u001b[39m\u001b[38;5;124mcpp\u001b[39m\u001b[38;5;124m'\u001b[39m,\u001b[38;5;124m'\u001b[39m\u001b[38;5;124m10\u001b[39m\u001b[38;5;124m'\u001b[39m,\u001b[38;5;124m'\u001b[39m\u001b[38;5;124m30\u001b[39m\u001b[38;5;124m'\u001b[39m,\u001b[38;5;241m50\u001b[39m]\n\u001b[1;32m----> 2\u001b[0m x\u001b[38;5;241m=\u001b[39m\u001b[38;5;124m'\u001b[39m\u001b[38;5;124m*\u001b[39m\u001b[38;5;124m'\u001b[39m\u001b[38;5;241m.\u001b[39mjoin(l)\n\u001b[0;32m      3\u001b[0m \u001b[38;5;28mprint\u001b[39m(x)\n",
      "\u001b[1;31mTypeError\u001b[0m: sequence item 5: expected str instance, int found"
     ]
    }
   ],
   "source": [
    "l=['java','python','cpp','10','30',50]\n",
    "x='*'.join(l)\n",
    "print(x)"
   ]
  },
  {
   "cell_type": "code",
   "execution_count": 22,
   "id": "9a4fdce4-257e-4925-b228-fa79d79bf6e9",
   "metadata": {},
   "outputs": [
    {
     "name": "stdout",
     "output_type": "stream",
     "text": [
      "java*python*cpp*10*30*50\n"
     ]
    }
   ],
   "source": [
    "l=['java','python','cpp','10','30','50']\n",
    "x='*'.join(l)\n",
    "print(x)"
   ]
  },
  {
   "cell_type": "markdown",
   "id": "7d088e2f-6d69-440b-88a1-887f29062e6b",
   "metadata": {},
   "source": [
    "# split()-----------"
   ]
  },
  {
   "cell_type": "code",
   "execution_count": 24,
   "id": "3a37fb08-fa40-4020-ab71-70dab4685fe9",
   "metadata": {},
   "outputs": [
    {
     "name": "stdout",
     "output_type": "stream",
     "text": [
      "['I', 'love', 'python', 'language']\n"
     ]
    }
   ],
   "source": [
    "s=\"I love python language\"\n",
    "x=s.split()\n",
    "print(x)"
   ]
  },
  {
   "cell_type": "code",
   "execution_count": 25,
   "id": "98e1c8d3-2601-4dfe-9efb-ae13a6242256",
   "metadata": {},
   "outputs": [
    {
     "name": "stdout",
     "output_type": "stream",
     "text": [
      "['I l', 've pyth', 'n language']\n"
     ]
    }
   ],
   "source": [
    "s=\"I love python language\"\n",
    "x=s.split('o')\n",
    "print(x)"
   ]
  },
  {
   "cell_type": "code",
   "execution_count": 26,
   "id": "a1b3ab5f-7e15-47eb-89a7-42dd6f24480f",
   "metadata": {},
   "outputs": [
    {
     "name": "stdout",
     "output_type": "stream",
     "text": [
      "['I l', 've python language']\n"
     ]
    }
   ],
   "source": [
    "s=\"I love python language\"\n",
    "x=s.split('o',1)\n",
    "print(x)"
   ]
  },
  {
   "cell_type": "code",
   "execution_count": 27,
   "id": "8a099b31-358f-4069-b06b-d7e21eb64cbd",
   "metadata": {},
   "outputs": [
    {
     "name": "stdout",
     "output_type": "stream",
     "text": [
      "['I l', 've pyth', 'n language']\n",
      "['I love python l', 'ngu', 'ge']\n",
      "['I l', 've pyth', 'n language'] ['I love python l', 'ngu', 'ge']\n"
     ]
    }
   ],
   "source": [
    "s=\"I love python language\"\n",
    "x=s.split('o')\n",
    "y=s.split('a')\n",
    "print(x)\n",
    "print(y)\n",
    "print(x,y)"
   ]
  },
  {
   "cell_type": "markdown",
   "id": "4bc00ff3-6bd4-4446-8b67-8c3168f58003",
   "metadata": {},
   "source": [
    "# Mathematical operation in string----------(+,*)----------- "
   ]
  },
  {
   "cell_type": "code",
   "execution_count": 28,
   "id": "33067409-dd9f-48ca-a620-be67c069a3f6",
   "metadata": {},
   "outputs": [
    {
     "name": "stdout",
     "output_type": "stream",
     "text": [
      "pythonjava\n"
     ]
    }
   ],
   "source": [
    "s1='python'\n",
    "s2='java'\n",
    "x=s1+s2\n",
    "print(x)"
   ]
  },
  {
   "cell_type": "code",
   "execution_count": 29,
   "id": "cb962194-3380-40c7-8ebc-28c534b94f43",
   "metadata": {},
   "outputs": [
    {
     "name": "stdout",
     "output_type": "stream",
     "text": [
      "pythonpython\n"
     ]
    }
   ],
   "source": [
    "s1='python'\n",
    "x=2\n",
    "z=s1*x\n",
    "print(z)"
   ]
  },
  {
   "cell_type": "code",
   "execution_count": 31,
   "id": "e8138e64-6636-4242-be2b-3b2c72683a88",
   "metadata": {},
   "outputs": [
    {
     "name": "stdout",
     "output_type": "stream",
     "text": [
      "False\n"
     ]
    },
    {
     "name": "stderr",
     "output_type": "stream",
     "text": [
      "<>:2: SyntaxWarning: \"is\" with 'str' literal. Did you mean \"==\"?\n",
      "<>:2: SyntaxWarning: \"is\" with 'str' literal. Did you mean \"==\"?\n",
      "C:\\Users\\sawsu\\AppData\\Local\\Temp\\ipykernel_12476\\3788520020.py:2: SyntaxWarning: \"is\" with 'str' literal. Did you mean \"==\"?\n",
      "  print('P'is s1)\n"
     ]
    }
   ],
   "source": [
    "s1='python'\n",
    "print('P'is s1)\n"
   ]
  },
  {
   "cell_type": "code",
   "execution_count": 32,
   "id": "b1fb2a82-4783-4f25-86cd-0cf0a33e125e",
   "metadata": {},
   "outputs": [
    {
     "name": "stdout",
     "output_type": "stream",
     "text": [
      "False\n"
     ]
    }
   ],
   "source": [
    "s1='python'\n",
    "s2='java'\n",
    "print(s1 is s2)"
   ]
  },
  {
   "cell_type": "code",
   "execution_count": 33,
   "id": "c0f39509-10be-402d-bf86-dd4d1bc45959",
   "metadata": {},
   "outputs": [
    {
     "name": "stdout",
     "output_type": "stream",
     "text": [
      "True\n"
     ]
    }
   ],
   "source": [
    "s1='python'\n",
    "s2='java'\n",
    "print(s1 is not s2)"
   ]
  },
  {
   "cell_type": "markdown",
   "id": "963085fe-892e-4e95-92a8-2a8c893d17f3",
   "metadata": {},
   "source": [
    "# b.List:-Colection of elements-----------------------------"
   ]
  },
  {
   "cell_type": "code",
   "execution_count": 34,
   "id": "dab12363-fa40-4727-a741-470a38d11948",
   "metadata": {},
   "outputs": [
    {
     "name": "stdout",
     "output_type": "stream",
     "text": [
      "1906329582464 1906329581184\n"
     ]
    }
   ],
   "source": [
    "l1=[10,20,30]\n",
    "l2=[10,20,30]\n",
    "print(id(l1),id(l2))"
   ]
  },
  {
   "cell_type": "markdown",
   "id": "48ea3c92-1e5d-4090-ac07-f0041e896a98",
   "metadata": {},
   "source": [
    "# Both are different so, mutable----\n"
   ]
  },
  {
   "cell_type": "code",
   "execution_count": null,
   "id": "bcd21d61-1c94-4c70-9bf3-c2c63c1e3008",
   "metadata": {},
   "outputs": [],
   "source": []
  }
 ],
 "metadata": {
  "kernelspec": {
   "display_name": "Python [conda env:base] *",
   "language": "python",
   "name": "conda-base-py"
  },
  "language_info": {
   "codemirror_mode": {
    "name": "ipython",
    "version": 3
   },
   "file_extension": ".py",
   "mimetype": "text/x-python",
   "name": "python",
   "nbconvert_exporter": "python",
   "pygments_lexer": "ipython3",
   "version": "3.12.7"
  }
 },
 "nbformat": 4,
 "nbformat_minor": 5
}
