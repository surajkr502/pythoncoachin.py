{
 "cells": [
  {
   "cell_type": "code",
   "execution_count": 2,
   "id": "ffc76678-1b68-4ab8-a65b-2c76284c01b6",
   "metadata": {},
   "outputs": [
    {
     "name": "stdout",
     "output_type": "stream",
     "text": [
      "y\n",
      "h\n",
      "<class 'str'>\n",
      "6\n",
      "python\n",
      "2206730452208\n"
     ]
    }
   ],
   "source": [
    "s='python'\n",
    "print(max(s))\n",
    "print(min(s))\n",
    "print(type(s))\n",
    "print(len(s))\n",
    "print((s))\n",
    "print(id(s))"
   ]
  },
  {
   "cell_type": "code",
   "execution_count": 4,
   "id": "e593b352-0dbb-4229-9020-ef0f1a0162a9",
   "metadata": {},
   "outputs": [
    {
     "name": "stdout",
     "output_type": "stream",
     "text": [
      "I LOVE PYTHON\n"
     ]
    }
   ],
   "source": [
    "s=\"I love python\"\n",
    "print(s.upper())"
   ]
  },
  {
   "cell_type": "code",
   "execution_count": 5,
   "id": "997d6fcc-6c11-4bce-8701-8b49877a12ea",
   "metadata": {},
   "outputs": [
    {
     "name": "stdout",
     "output_type": "stream",
     "text": [
      "i love python\n"
     ]
    }
   ],
   "source": [
    "print(s.lower())"
   ]
  },
  {
   "cell_type": "code",
   "execution_count": 3,
   "id": "b017881f-eba7-43d9-83ed-feeeefeea98a",
   "metadata": {},
   "outputs": [
    {
     "name": "stdout",
     "output_type": "stream",
     "text": [
      "False\n"
     ]
    }
   ],
   "source": [
    "s=\"I love python\"\n",
    "print(s.isalnum())"
   ]
  },
  {
   "cell_type": "code",
   "execution_count": 4,
   "id": "b6f2444b-58ef-4d5a-95f2-70290cd4b2aa",
   "metadata": {},
   "outputs": [
    {
     "name": "stdout",
     "output_type": "stream",
     "text": [
      "True\n"
     ]
    }
   ],
   "source": [
    "s=\"Ilovepython\"\n",
    "print(s.isalnum())"
   ]
  },
  {
   "cell_type": "code",
   "execution_count": 7,
   "id": "c3d77464-a623-4852-9ba7-fc7255483082",
   "metadata": {},
   "outputs": [
    {
     "name": "stdout",
     "output_type": "stream",
     "text": [
      "False\n"
     ]
    }
   ],
   "source": [
    "s=\"123Ilovepython\"\n",
    "print(s.isnumeric())"
   ]
  },
  {
   "cell_type": "code",
   "execution_count": null,
   "id": "d7383176-1378-4f0f-a8b9-2c44f8ccc432",
   "metadata": {},
   "outputs": [],
   "source": []
  }
 ],
 "metadata": {
  "kernelspec": {
   "display_name": "Python [conda env:base] *",
   "language": "python",
   "name": "conda-base-py"
  },
  "language_info": {
   "codemirror_mode": {
    "name": "ipython",
    "version": 3
   },
   "file_extension": ".py",
   "mimetype": "text/x-python",
   "name": "python",
   "nbconvert_exporter": "python",
   "pygments_lexer": "ipython3",
   "version": "3.12.7"
  }
 },
 "nbformat": 4,
 "nbformat_minor": 5
}
