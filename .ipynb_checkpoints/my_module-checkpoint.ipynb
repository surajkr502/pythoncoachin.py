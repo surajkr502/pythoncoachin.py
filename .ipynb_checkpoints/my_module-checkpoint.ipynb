{
 "cells": [
  {
   "cell_type": "code",
   "execution_count": 1,
   "id": "8bea85e2-46f4-465e-9e9f-aa9dd6c5b39c",
   "metadata": {},
   "outputs": [],
   "source": [
    "def greet(name): \n",
    "    return f'Hello{neme}!'\n",
    "pi_value=3.14\n"
   ]
  },
  {
   "cell_type": "code",
   "execution_count": 3,
   "id": "ebbf2002-9583-455e-acb4-72fbe8bf380d",
   "metadata": {},
   "outputs": [
    {
     "ename": "AttributeError",
     "evalue": "module 'my_module' has no attribute 'greet'",
     "output_type": "error",
     "traceback": [
      "\u001b[31m---------------------------------------------------------------------------\u001b[39m",
      "\u001b[31mAttributeError\u001b[39m                            Traceback (most recent call last)",
      "\u001b[36mCell\u001b[39m\u001b[36m \u001b[39m\u001b[32mIn[3]\u001b[39m\u001b[32m, line 2\u001b[39m\n\u001b[32m      1\u001b[39m \u001b[38;5;28;01mimport\u001b[39;00m\u001b[38;5;250m \u001b[39m\u001b[34;01mmy_module\u001b[39;00m \n\u001b[32m----> \u001b[39m\u001b[32m2\u001b[39m \u001b[38;5;28mprint\u001b[39m(\u001b[43mmy_module\u001b[49m\u001b[43m.\u001b[49m\u001b[43mgreet\u001b[49m(suraj))\n",
      "\u001b[31mAttributeError\u001b[39m: module 'my_module' has no attribute 'greet'"
     ]
    }
   ],
   "source": [
    "import my_module \n",
    "print(my_module.greet(suraj))"
   ]
  },
  {
   "cell_type": "code",
   "execution_count": 4,
   "id": "d420b6b1-7756-49bf-8c23-9ae935f86d83",
   "metadata": {},
   "outputs": [
    {
     "name": "stdout",
     "output_type": "stream",
     "text": [
      "3.14\n"
     ]
    }
   ],
   "source": [
    "import my_module\n",
    "print(pi_value)"
   ]
  }
 ],
 "metadata": {
  "kernelspec": {
   "display_name": "Python 3 (ipykernel)",
   "language": "python",
   "name": "python3"
  },
  "language_info": {
   "codemirror_mode": {
    "name": "ipython",
    "version": 3
   },
   "file_extension": ".py",
   "mimetype": "text/x-python",
   "name": "python",
   "nbconvert_exporter": "python",
   "pygments_lexer": "ipython3",
   "version": "3.13.5"
  }
 },
 "nbformat": 4,
 "nbformat_minor": 5
}
