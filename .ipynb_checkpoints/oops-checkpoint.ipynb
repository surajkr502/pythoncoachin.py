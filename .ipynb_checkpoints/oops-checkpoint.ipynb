{
 "cells": [
  {
   "cell_type": "markdown",
   "id": "3bc3d814-4ed9-40b2-92d7-b7212adfab54",
   "metadata": {},
   "source": [
    "# oops:-object oriented programing"
   ]
  },
  {
   "cell_type": "code",
   "execution_count": 1,
   "id": "72d022b3-215f-415b-8698-aed512f9a2d8",
   "metadata": {},
   "outputs": [
    {
     "name": "stdout",
     "output_type": "stream",
     "text": [
      "2299133592480\n"
     ]
    }
   ],
   "source": [
    "class A: \n",
    "    pass\n",
    "print(id(A))"
   ]
  },
  {
   "cell_type": "code",
   "execution_count": 5,
   "id": "b7229323-4735-4e5e-8d22-557562b3afd0",
   "metadata": {},
   "outputs": [
    {
     "name": "stdout",
     "output_type": "stream",
     "text": [
      "2299133592480\n"
     ]
    }
   ],
   "source": [
    "obj=A\n",
    "print(id(obj))"
   ]
  },
  {
   "cell_type": "markdown",
   "id": "febca0f9",
   "metadata": {},
   "source": [
    "<!-- constructor -->"
   ]
  },
  {
   "cell_type": "code",
   "execution_count": 3,
   "id": "a1ac0dcf-dbc3-4cfe-a9bd-b6b032b17ec5",
   "metadata": {},
   "outputs": [
    {
     "name": "stdout",
     "output_type": "stream",
     "text": [
      "['__class__', '__delattr__', '__dict__', '__dir__', '__doc__', '__eq__', '__format__', '__ge__', '__getattribute__', '__getstate__', '__gt__', '__hash__', '__init__', '__init_subclass__', '__le__', '__lt__', '__module__', '__ne__', '__new__', '__reduce__', '__reduce_ex__', '__repr__', '__setattr__', '__sizeof__', '__str__', '__subclasshook__', '__weakref__']\n"
     ]
    }
   ],
   "source": [
    "print(dir(A))"
   ]
  },
  {
   "cell_type": "code",
   "execution_count": 8,
   "id": "27fa3f60-6212-4640-af5a-c07afeb8e8ed",
   "metadata": {},
   "outputs": [
    {
     "name": "stdout",
     "output_type": "stream",
     "text": [
      "2299133596448\n",
      "2299133596448\n",
      "2299157372544\n"
     ]
    }
   ],
   "source": [
    "class A: \n",
    "    pass\n",
    "print(id(A))\n",
    "obj=A\n",
    "print(id(obj))\n",
    "obj1=A()\n",
    "print(id(obj1))"
   ]
  },
  {
   "cell_type": "code",
   "execution_count": 9,
   "id": "c8b41753-15da-46b7-bac2-a2b297548ebd",
   "metadata": {},
   "outputs": [
    {
     "name": "stdout",
     "output_type": "stream",
     "text": [
      "2299172451296\n",
      "condtructor called\n"
     ]
    }
   ],
   "source": [
    "# constructor\n",
    "class A: \n",
    "    def __init__(self):\n",
    "        print(id(self))\n",
    "        print(\"condtructor called\")\n",
    "obj=A()"
   ]
  },
  {
   "cell_type": "code",
   "execution_count": 10,
   "id": "1a2707e4-1f28-4aec-bcc9-18d5b4e357c6",
   "metadata": {},
   "outputs": [
    {
     "name": "stdout",
     "output_type": "stream",
     "text": [
      "2299191268352\n",
      "condtructor called\n",
      "2299133587520\n",
      "2299191268352\n"
     ]
    }
   ],
   "source": [
    "# external constructor\n",
    "class A: \n",
    "    def __init__(self):\n",
    "        print(id(self))\n",
    "        print(\"condtructor called\")\n",
    "obj=A()\n",
    "print(id(A))\n",
    "print(id(obj))"
   ]
  },
  {
   "cell_type": "code",
   "execution_count": 2,
   "id": "c41db36b-a896-4b21-b59e-6319d0863c05",
   "metadata": {},
   "outputs": [
    {
     "name": "stdout",
     "output_type": "stream",
     "text": [
      "constructor called\n",
      "constructor called\n"
     ]
    }
   ],
   "source": [
    "class A: \n",
    "    def __init__(self): \n",
    "        print(\"constructor called\")\n",
    "obj=A()\n",
    "obj. __init__()"
   ]
  },
  {
   "cell_type": "code",
   "execution_count": 5,
   "id": "3dd349e1-265c-428f-b0a5-88c438d8e957",
   "metadata": {},
   "outputs": [
    {
     "name": "stdout",
     "output_type": "stream",
     "text": [
      "constructor3 called\n"
     ]
    }
   ],
   "source": [
    "# overloading\n",
    "class A: \n",
    "    def __init__(self): \n",
    "        print(\"constructor called\")\n",
    "    def __init__(self): \n",
    "        print(\"constructor2 called\")\n",
    "    def __init__(self): \n",
    "        print(\"constructor3 called\")\n",
    "obj=A()"
   ]
  },
  {
   "cell_type": "code",
   "execution_count": 9,
   "id": "da33168e-5275-4371-b387-136cf0f4966b",
   "metadata": {},
   "outputs": [
    {
     "name": "stdout",
     "output_type": "stream",
     "text": [
      "suraj,21,ranchi\n"
     ]
    }
   ],
   "source": [
    "class student: \n",
    "    def __init__(self,name,age,city): \n",
    "        self.n=name\n",
    "        self.a=age\n",
    "        self.c=city\n",
    "obj=student('suraj',21,'ranchi')\n",
    "print(obj.n,obj.a,obj.c,sep=',')\n",
    "# print(obj.n)\n",
    "# print(obj.a)\n",
    "# print(obj.c)"
   ]
  },
  {
   "cell_type": "code",
   "execution_count": 12,
   "id": "64c3f9c1-22ea-421c-937c-664fd5b0853a",
   "metadata": {},
   "outputs": [
    {
     "name": "stdout",
     "output_type": "stream",
     "text": [
      "2116880277984 2116850332640\n",
      "2116876961280 2116876961280\n",
      "2116880312400 2116880312400\n",
      "2116880312400\n"
     ]
    }
   ],
   "source": [
    "class student:\n",
    "    school='DAV'\n",
    "    principal='none'\n",
    "    def __init__(self,name,age,city): \n",
    "        self.n=name\n",
    "        self.a=age\n",
    "        self.c=city\n",
    "obj1=student('suraj',21,'ranchi')\n",
    "obj2=student('suraj',21,'ranchi')\n",
    "\n",
    "print(id(obj1),id(obj2))\n",
    "print(id(obj1.n),id(obj2.n))\n",
    "print(id(obj1.school),id(obj2.school))\n",
    "print(id(student.school))#recomendent this code"
   ]
  },
  {
   "cell_type": "code",
   "execution_count": 15,
   "id": "c792fc1a-bd05-4a00-bc32-9d1a9cda7485",
   "metadata": {},
   "outputs": [
    {
     "name": "stdout",
     "output_type": "stream",
     "text": [
      "<__main__.student object at 0x000001ECDFB46930> <__main__.student object at 0x000001ECE09E73E0>\n",
      "suraj suraj\n",
      "DAV DAV\n",
      "DAV\n",
      "xyz\n"
     ]
    }
   ],
   "source": [
    " class student:\n",
    "    school='DAV'\n",
    "    principal='xyz'\n",
    "    def __init__(self,name,age,city): \n",
    "        self.n=name\n",
    "        self.a=age\n",
    "        self.c=city\n",
    "obj1=student('suraj',21,'ranchi')\n",
    "obj2=student('suraj',21,'ranchi')\n",
    "\n",
    "print(obj1,obj2)\n",
    "print(obj1.n,obj2.n)\n",
    "print(obj1.school,obj2.school)\n",
    "print(student.school)#recomendent this code\n",
    "print(student.principal)"
   ]
  },
  {
   "cell_type": "markdown",
   "id": "7912e356-a73f-49ed-a8e4-65c007cb8afe",
   "metadata": {},
   "source": [
    "# instance variable"
   ]
  },
  {
   "cell_type": "code",
   "execution_count": 2,
   "id": "c3097f6d-7151-4fe6-bd5e-5b91a4351f04",
   "metadata": {},
   "outputs": [
    {
     "name": "stdout",
     "output_type": "stream",
     "text": [
      "suraj 22 bhopal\n",
      "suraj 22 bhopal\n"
     ]
    }
   ],
   "source": [
    "#instance variable\n",
    "\n",
    "class student: \n",
    "    def __init__(self,name):\n",
    "        self.n=name    #declaration of instance variable\n",
    "    def addnew(self,age): \n",
    "        self.a=age     #declaration of instance variable\n",
    "    def show(self): \n",
    "        print(self.n,self.a,self.city) #calling\n",
    "obj=student('suraj')\n",
    "obj.addnew(22)\n",
    "obj.city='bhopal'    #declaration\n",
    "obj.show()\n",
    "print(obj.n,obj.a,obj.city) ##calling\n"
   ]
  },
  {
   "cell_type": "code",
   "execution_count": 3,
   "id": "263861d1-8505-4b7c-996d-97a386f55fd9",
   "metadata": {},
   "outputs": [
    {
     "ename": "AttributeError",
     "evalue": "'student' object has no attribute 'principal'",
     "output_type": "error",
     "traceback": [
      "\u001b[1;31m---------------------------------------------------------------------------\u001b[0m",
      "\u001b[1;31mAttributeError\u001b[0m                            Traceback (most recent call last)",
      "Cell \u001b[1;32mIn[3], line 12\u001b[0m\n\u001b[0;32m     10\u001b[0m student\u001b[38;5;241m.\u001b[39mcity\u001b[38;5;241m=\u001b[39m\u001b[38;5;124m'\u001b[39m\u001b[38;5;124mbhopal\u001b[39m\u001b[38;5;124m'\u001b[39m\n\u001b[0;32m     11\u001b[0m obj\u001b[38;5;241m=\u001b[39mstudent(\u001b[38;5;124m'\u001b[39m\u001b[38;5;124msuraj\u001b[39m\u001b[38;5;124m'\u001b[39m)\n\u001b[1;32m---> 12\u001b[0m \u001b[38;5;28mprint\u001b[39m(obj\u001b[38;5;241m.\u001b[39mn,obj\u001b[38;5;241m.\u001b[39mschool,obj\u001b[38;5;241m.\u001b[39mcity,obj\u001b[38;5;241m.\u001b[39mgread,obj\u001b[38;5;241m.\u001b[39mprincipal)\n\u001b[0;32m     13\u001b[0m obj\u001b[38;5;241m.\u001b[39mshow\n",
      "\u001b[1;31mAttributeError\u001b[0m: 'student' object has no attribute 'principal'"
     ]
    }
   ],
   "source": [
    "class student: \n",
    "    school='xyz'\n",
    "    def __init__(self,name): \n",
    "        self.n=name\n",
    "        student.gread='10th'   #declaration \n",
    "    def addnew(self):\n",
    "        student.principal='python' \n",
    "    def show(self): \n",
    "        print(student.principal,student.gread,student.school,student.city)\n",
    "student.city='bhopal'\n",
    "obj=student('suraj')\n",
    "print(obj.n,obj.school,obj.city,obj.gread,obj.principal)\n",
    "obj.show"
   ]
  },
  {
   "cell_type": "code",
   "execution_count": 6,
   "id": "0541beba-78ae-440e-974f-dc9335e3c927",
   "metadata": {},
   "outputs": [
    {
     "name": "stdout",
     "output_type": "stream",
     "text": [
      "suraj xyz bhopal 10th python\n",
      "python 10th xyz bhopal\n"
     ]
    }
   ],
   "source": [
    "class student: \n",
    "    school='xyz'\n",
    "    def __init__(self,name): \n",
    "        self.n=name\n",
    "        student.gread='10th'   #declaration \n",
    "    def addnew(self):\n",
    "        student.principal='python' \n",
    "    def show(self): \n",
    "        print(student.principal,student.gread,student.school,student.city)\n",
    "student.city='bhopal'\n",
    "obj=student('suraj')                          ##declaration \n",
    "obj.addnew()\n",
    "print(obj.n,obj.school,obj.city,obj.gread,obj.principal)\n",
    "obj.show()"
   ]
  },
  {
   "cell_type": "code",
   "execution_count": 1,
   "id": "c61f1e09-c5ab-4d17-a9d2-11dd901d0a4c",
   "metadata": {},
   "outputs": [
    {
     "name": "stdout",
     "output_type": "stream",
     "text": [
      "10\n"
     ]
    }
   ],
   "source": [
    "# local variable\n",
    "x=10\n",
    "def first():\n",
    "    print(x)\n",
    "first()"
   ]
  },
  {
   "cell_type": "code",
   "execution_count": 2,
   "id": "201394af-f850-433c-b994-386d6ddd0c16",
   "metadata": {},
   "outputs": [
    {
     "name": "stdout",
     "output_type": "stream",
     "text": [
      "\n"
     ]
    },
    {
     "ename": "NameError",
     "evalue": "name 'y' is not defined",
     "output_type": "error",
     "traceback": [
      "\u001b[1;31m---------------------------------------------------------------------------\u001b[0m",
      "\u001b[1;31mNameError\u001b[0m                                 Traceback (most recent call last)",
      "Cell \u001b[1;32mIn[2], line 5\u001b[0m\n\u001b[0;32m      3\u001b[0m     \u001b[38;5;28mprint\u001b[39m(y)\n\u001b[0;32m      4\u001b[0m \u001b[38;5;28mprint\u001b[39m()\n\u001b[1;32m----> 5\u001b[0m \u001b[38;5;28mprint\u001b[39m(y)\n",
      "\u001b[1;31mNameError\u001b[0m: name 'y' is not defined"
     ]
    }
   ],
   "source": [
    "# local variable\n",
    "def first(): \n",
    "    y=10\n",
    "    print(y)\n",
    "print()\n",
    "print(y)"
   ]
  },
  {
   "cell_type": "code",
   "execution_count": 2,
   "id": "390877b2-6459-447f-b6d5-496339dbee69",
   "metadata": {},
   "outputs": [
    {
     "name": "stdout",
     "output_type": "stream",
     "text": [
      "10\n",
      "10\n"
     ]
    }
   ],
   "source": [
    "# global variable\n",
    "def first(): \n",
    "    global y\n",
    "    y=10\n",
    "    print(y)\n",
    "first()\n",
    "print(y)"
   ]
  },
  {
   "cell_type": "code",
   "execution_count": 3,
   "id": "ba87ac53-6c1e-4cba-a4db-d36953dd128d",
   "metadata": {},
   "outputs": [
    {
     "ename": "NameError",
     "evalue": "name 'x' is not defined",
     "output_type": "error",
     "traceback": [
      "\u001b[1;31m---------------------------------------------------------------------------\u001b[0m",
      "\u001b[1;31mNameError\u001b[0m                                 Traceback (most recent call last)",
      "Cell \u001b[1;32mIn[3], line 8\u001b[0m\n\u001b[0;32m      6\u001b[0m         \u001b[38;5;28mprint\u001b[39m(x) \n\u001b[0;32m      7\u001b[0m obj\u001b[38;5;241m=\u001b[39mstudent()\n\u001b[1;32m----> 8\u001b[0m obj\u001b[38;5;241m.\u001b[39mnew()\n",
      "Cell \u001b[1;32mIn[3], line 6\u001b[0m, in \u001b[0;36mstudent.new\u001b[1;34m(self)\u001b[0m\n\u001b[0;32m      5\u001b[0m \u001b[38;5;28;01mdef\u001b[39;00m \u001b[38;5;21mnew\u001b[39m(\u001b[38;5;28mself\u001b[39m): \n\u001b[1;32m----> 6\u001b[0m     \u001b[38;5;28mprint\u001b[39m(x)\n",
      "\u001b[1;31mNameError\u001b[0m: name 'x' is not defined"
     ]
    }
   ],
   "source": [
    "class student: \n",
    "    school='xyz'\n",
    "    def __init__(self,name):\n",
    "        self.n=name      #instance variavle\n",
    "        x=10             #local variable\n",
    "    def new(self): \n",
    "        print(x) \n",
    "obj=student()\n",
    "obj.new()"
   ]
  },
  {
   "cell_type": "markdown",
   "id": "08025c24-cda5-4274-a3d7-488b2f32130a",
   "metadata": {},
   "source": [
    "# class method"
   ]
  },
  {
   "cell_type": "code",
   "execution_count": 9,
   "id": "e0be4be2-81da-46e0-b532-b1c25f13e219",
   "metadata": {},
   "outputs": [
    {
     "name": "stdout",
     "output_type": "stream",
     "text": [
      "10th\n",
      "11th\n"
     ]
    }
   ],
   "source": [
    "\n",
    "class student: \n",
    "    school='xyz'\n",
    "    gread='10th'\n",
    "    def __init__(self,name): \n",
    "        self.n=name\n",
    "    @classmethod\n",
    "    def update(cls,x):\n",
    "        cls.gread=x\n",
    "obj=student('suraj')\n",
    "print(obj.gread)\n",
    "obj.update('11th')\n",
    "print(obj.gread)"
   ]
  },
  {
   "cell_type": "code",
   "execution_count": 11,
   "id": "ccdf2de6-c29e-46c1-8f83-79709258ed0e",
   "metadata": {},
   "outputs": [
    {
     "name": "stdout",
     "output_type": "stream",
     "text": [
      "10th\n"
     ]
    },
    {
     "ename": "AttributeError",
     "evalue": "'student' object has no attribute 'principal'",
     "output_type": "error",
     "traceback": [
      "\u001b[1;31m---------------------------------------------------------------------------\u001b[0m",
      "\u001b[1;31mAttributeError\u001b[0m                            Traceback (most recent call last)",
      "Cell \u001b[1;32mIn[11], line 12\u001b[0m\n\u001b[0;32m     10\u001b[0m obj\u001b[38;5;241m=\u001b[39mstudent(\u001b[38;5;124m'\u001b[39m\u001b[38;5;124msuraj\u001b[39m\u001b[38;5;124m'\u001b[39m)\n\u001b[0;32m     11\u001b[0m \u001b[38;5;28mprint\u001b[39m(obj\u001b[38;5;241m.\u001b[39mgread)\n\u001b[1;32m---> 12\u001b[0m \u001b[38;5;28mprint\u001b[39m(obj\u001b[38;5;241m.\u001b[39mprincipal)\n\u001b[0;32m     13\u001b[0m obj\u001b[38;5;241m.\u001b[39mupdate(\u001b[38;5;124m'\u001b[39m\u001b[38;5;124m11th\u001b[39m\u001b[38;5;124m'\u001b[39m,\u001b[38;5;124m'\u001b[39m\u001b[38;5;124mpython\u001b[39m\u001b[38;5;124m'\u001b[39m)\n\u001b[0;32m     14\u001b[0m \u001b[38;5;28mprint\u001b[39m(obj\u001b[38;5;241m.\u001b[39mgread)\n",
      "\u001b[1;31mAttributeError\u001b[0m: 'student' object has no attribute 'principal'"
     ]
    }
   ],
   "source": [
    "class student: \n",
    "    school='xyz'\n",
    "    gread='10th'\n",
    "    def __init__(self,name): \n",
    "        self.n=name\n",
    "    @classmethod\n",
    "    def update(cls,x,y):\n",
    "        cls.principal=y\n",
    "        cls.gread=x\n",
    "obj=student('suraj')\n",
    "print(obj.gread)\n",
    "print(obj.principal)\n",
    "obj.update('11th','python')\n",
    "print(obj.gread)"
   ]
  },
  {
   "cell_type": "code",
   "execution_count": 10,
   "id": "9cbe2310-c5f5-491a-ad69-87fd4a5c2188",
   "metadata": {},
   "outputs": [
    {
     "name": "stdout",
     "output_type": "stream",
     "text": [
      "10th\n",
      "11th\n",
      "python\n"
     ]
    }
   ],
   "source": [
    "class student: \n",
    "    school='xyz'\n",
    "    gread='10th'\n",
    "    def __init__(self,name): \n",
    "        self.n=name\n",
    "    @classmethod\n",
    "    def update(cls,x,y):\n",
    "        cls.principal=y\n",
    "        cls.gread=x\n",
    "obj=student('suraj')\n",
    "print(obj.gread)\n",
    "obj.update('11th','python')\n",
    "print(obj.gread)\n",
    "print(obj.principal)"
   ]
  },
  {
   "cell_type": "markdown",
   "id": "fc12ceb9-ea2a-4a86-b03d-d2d583e5ade2",
   "metadata": {},
   "source": [
    "# static method"
   ]
  },
  {
   "cell_type": "code",
   "execution_count": 12,
   "id": "d3af0084-1008-49ac-b0e5-dc66c1b7dfea",
   "metadata": {},
   "outputs": [
    {
     "ename": "TypeError",
     "evalue": "student.hello() takes 0 positional arguments but 1 was given",
     "output_type": "error",
     "traceback": [
      "\u001b[1;31m---------------------------------------------------------------------------\u001b[0m",
      "\u001b[1;31mTypeError\u001b[0m                                 Traceback (most recent call last)",
      "Cell \u001b[1;32mIn[12], line 7\u001b[0m\n\u001b[0;32m      5\u001b[0m         \u001b[38;5;28mprint\u001b[39m(\u001b[38;5;124m\"\u001b[39m\u001b[38;5;124mhello\u001b[39m\u001b[38;5;124m\"\u001b[39m)\n\u001b[0;32m      6\u001b[0m obj\u001b[38;5;241m=\u001b[39mstudent(\u001b[38;5;124m\"\u001b[39m\u001b[38;5;124msuraj\u001b[39m\u001b[38;5;124m\"\u001b[39m)\n\u001b[1;32m----> 7\u001b[0m obj\u001b[38;5;241m.\u001b[39mhello()\n",
      "\u001b[1;31mTypeError\u001b[0m: student.hello() takes 0 positional arguments but 1 was given"
     ]
    }
   ],
   "source": [
    "class student: \n",
    "    def __init__(self,name):\n",
    "        self.n=name\n",
    "    def hello():\n",
    "        print(\"hello\")\n",
    "obj=student(\"suraj\")\n",
    "obj.hello()"
   ]
  },
  {
   "cell_type": "code",
   "execution_count": 13,
   "id": "71edbb88-bce6-4131-9ee2-46dc70127cf3",
   "metadata": {},
   "outputs": [
    {
     "name": "stdout",
     "output_type": "stream",
     "text": [
      "hello\n"
     ]
    }
   ],
   "source": [
    "class student: \n",
    "    def __init__(self,name):\n",
    "        self.n=name\n",
    "    @staticmethod\n",
    "    def hello():\n",
    "        print(\"hello\")\n",
    "obj=student(\"suraj\")\n",
    "obj.hello()"
   ]
  },
  {
   "cell_type": "markdown",
   "id": "56f2c014-3044-452c-8c78-293aeb472201",
   "metadata": {},
   "source": [
    "# propeties of oops"
   ]
  },
  {
   "cell_type": "markdown",
   "id": "fdb175cc-3bfb-4d8b-9bf0-6bf8851e3704",
   "metadata": {},
   "source": [
    "# abstractmethod"
   ]
  },
  {
   "cell_type": "code",
   "execution_count": 3,
   "id": "f612d935-1684-4d05-952f-c75dcbedd058",
   "metadata": {},
   "outputs": [
    {
     "ename": "TypeError",
     "evalue": "Can't instantiate abstract class junior without an implementation for abstract method 'division'",
     "output_type": "error",
     "traceback": [
      "\u001b[1;31m---------------------------------------------------------------------------\u001b[0m",
      "\u001b[1;31mTypeError\u001b[0m                                 Traceback (most recent call last)",
      "Cell \u001b[1;32mIn[3], line 15\u001b[0m\n\u001b[0;32m     13\u001b[0m     \u001b[38;5;28;01mdef\u001b[39;00m \u001b[38;5;21mdiv\u001b[39m(\u001b[38;5;28mself\u001b[39m,x,y): \n\u001b[0;32m     14\u001b[0m         \u001b[38;5;28mprint\u001b[39m(x\u001b[38;5;241m/\u001b[39my)\n\u001b[1;32m---> 15\u001b[0m obj\u001b[38;5;241m=\u001b[39mjunior()\n",
      "\u001b[1;31mTypeError\u001b[0m: Can't instantiate abstract class junior without an implementation for abstract method 'division'"
     ]
    }
   ],
   "source": [
    "from abc import ABC , abstractmethod\n",
    "class senior(ABC): \n",
    "    def add (self,x,y): \n",
    "        print(x+y)\n",
    "    def sub(self,x,y):\n",
    "        print(x-y)\n",
    "    def multi(self,x,y):\n",
    "        print(x*y)\n",
    "    @abstractmethod\n",
    "    def division(self): \n",
    "        pass\n",
    "class junior(senior):\n",
    "    def div(self,x,y): \n",
    "        print(x/y)\n",
    "obj=junior()"
   ]
  },
  {
   "cell_type": "code",
   "execution_count": 4,
   "id": "24b4baf3-5d7a-429e-b420-f7a361623bc5",
   "metadata": {},
   "outputs": [
    {
     "name": "stdout",
     "output_type": "stream",
     "text": [
      "5\n"
     ]
    }
   ],
   "source": [
    "from abc import ABC , abstractmethod\n",
    "class senior(ABC): \n",
    "    def add (self,x,y): \n",
    "        print(x+y)\n",
    "    def sub(self,x,y):\n",
    "        print(x-y)\n",
    "    def multi(self,x,y):\n",
    "        print(x*y)\n",
    "    @abstractmethod\n",
    "    def division(self): \n",
    "        pass\n",
    "class junior(senior):\n",
    "    def division(self,x,y): \n",
    "        print(x/y)\n",
    "obj=junior()\n",
    "obj.sub(10,5)"
   ]
  },
  {
   "cell_type": "code",
   "execution_count": 9,
   "id": "9b424665-920b-4b38-bf6c-218636724b12",
   "metadata": {},
   "outputs": [
    {
     "ename": "TypeError",
     "evalue": "Can't instantiate abstract class mobile without an implementation for abstract method 'registraction'",
     "output_type": "error",
     "traceback": [
      "\u001b[1;31m---------------------------------------------------------------------------\u001b[0m",
      "\u001b[1;31mTypeError\u001b[0m                                 Traceback (most recent call last)",
      "Cell \u001b[1;32mIn[9], line 19\u001b[0m\n\u001b[0;32m     17\u001b[0m obj1\u001b[38;5;241m=\u001b[39mlaptop()\n\u001b[0;32m     18\u001b[0m obj1\u001b[38;5;241m.\u001b[39mlogin() \n\u001b[1;32m---> 19\u001b[0m obj2\u001b[38;5;241m=\u001b[39mmobile()\n\u001b[0;32m     20\u001b[0m obj2\u001b[38;5;241m.\u001b[39mlogin()\n",
      "\u001b[1;31mTypeError\u001b[0m: Can't instantiate abstract class mobile without an implementation for abstract method 'registraction'"
     ]
    }
   ],
   "source": [
    "from abc import ABC , abstractmethod\n",
    "class flipcart(ABC):     #abstract class\n",
    "    def login(self): \n",
    "        pass\n",
    "        # print(\"welcome to the deshboard\")\n",
    "    @abstractmethod                    ##abstract method\n",
    "    def registraction(self):\n",
    "        pass\n",
    "class laptop(flipcart): \n",
    "    def registraction(self,name,password): \n",
    "        self.name=name                  #concerent method\n",
    "        self.pass1=password\n",
    "class mobile(flipcart): \n",
    "    def register(self,name,password):\n",
    "        self.name=name\n",
    "        self.pass1=password\n",
    "obj1=laptop()\n",
    "obj1.login() \n",
    "obj2=mobile()\n",
    "obj2.login() "
   ]
  },
  {
   "cell_type": "code",
   "execution_count": 7,
   "id": "e2ff5d04-cd62-4c07-a724-df45dc2975bf",
   "metadata": {},
   "outputs": [
    {
     "name": "stdout",
     "output_type": "stream",
     "text": [
      "welcome to the deshboard\n"
     ]
    }
   ],
   "source": [
    "from abc import ABC , abstractmethod\n",
    "class flipcart(ABC): \n",
    "    def login(self): \n",
    "        # pass\n",
    "        print(\"welcome to the deshboard\")\n",
    "    @abstractmethod\n",
    "    def registraction(self):\n",
    "        pass\n",
    "class laptop(flipcart): \n",
    "    def registraction(self,name,password): \n",
    "        self.name=name\n",
    "        self.pass1=password\n",
    "class mobile(flipcart): \n",
    "    def register(self,name,password):\n",
    "        self.name=name\n",
    "        self.pass1=password\n",
    "obj1=laptop()\n",
    "obj1.login() \n",
    "# obj2=mobile()\n",
    "# obj2.login() "
   ]
  },
  {
   "cell_type": "code",
   "execution_count": null,
   "id": "9c363064-6a73-43be-aab3-5eb16d18fde8",
   "metadata": {},
   "outputs": [],
   "source": []
  }
 ],
 "metadata": {
  "kernelspec": {
   "display_name": "Python [conda env:base] *",
   "language": "python",
   "name": "conda-base-py"
  },
  "language_info": {
   "codemirror_mode": {
    "name": "ipython",
    "version": 3
   },
   "file_extension": ".py",
   "mimetype": "text/x-python",
   "name": "python",
   "nbconvert_exporter": "python",
   "pygments_lexer": "ipython3",
   "version": "3.12.7"
  }
 },
 "nbformat": 4,
 "nbformat_minor": 5
}
