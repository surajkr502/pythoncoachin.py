{
 "cells": [
  {
   "cell_type": "code",
   "execution_count": 1,
   "id": "c1fcbe1d-a75e-4ec5-b768-84085d284385",
   "metadata": {},
   "outputs": [
    {
     "name": "stdout",
     "output_type": "stream",
     "text": [
      "['False', 'None', 'True', 'and', 'as', 'assert', 'async', 'await', 'break', 'class', 'continue', 'def', 'del', 'elif', 'else', 'except', 'finally', 'for', 'from', 'global', 'if', 'import', 'in', 'is', 'lambda', 'nonlocal', 'not', 'or', 'pass', 'raise', 'return', 'try', 'while', 'with', 'yield']\n",
      "35\n"
     ]
    }
   ],
   "source": [
    "import keyword\n",
    "all_keys=keyword.kwlist\n",
    "print(all_keys)\n",
    "print(len(all_keys))\n",
    "\n"
   ]
  },
  {
   "cell_type": "code",
   "execution_count": 1,
   "id": "2d4ba07a-3c6c-4a9b-b037-b86aeeb2d741",
   "metadata": {},
   "outputs": [
    {
     "name": "stdout",
     "output_type": "stream",
     "text": [
      "3.13.5 | packaged by Anaconda, Inc. | (main, Jun 12 2025, 16:37:03) [MSC v.1929 64 bit (AMD64)]\n",
      "sys.version_info(major=3, minor=13, micro=5, releaselevel='final', serial=0)\n"
     ]
    }
   ],
   "source": [
    "import sys\n",
    "\n",
    "print(sys.version)        # Full version info\n",
    "print(sys.version_info)   # Tuple form (major, minor, micro, releaselevel, serial)\n"
   ]
  },
  {
   "cell_type": "code",
   "execution_count": 2,
   "id": "6ba5964f-6b4c-4fd6-a713-d4c9e20bcccb",
   "metadata": {},
   "outputs": [
    {
     "name": "stdout",
     "output_type": "stream",
     "text": [
      "3.13.5 | packaged by Anaconda, Inc. | (main, Jun 12 2025, 16:37:03) [MSC v.1929 64 bit (AMD64)]\n",
      "win32\n",
      "C:\\ProgramData\\anaconda3\\python.exe\n",
      "['C:\\\\Users\\\\sawsu\\\\AppData\\\\Roaming\\\\Python\\\\Python313\\\\site-packages\\\\ipykernel_launcher.py', '-f', 'C:\\\\Users\\\\sawsu\\\\AppData\\\\Roaming\\\\jupyter\\\\runtime\\\\kernel-3e9928ff-3e8d-47e3-95e8-3be19d275f73.json']\n"
     ]
    }
   ],
   "source": [
    "import sys\n",
    "\n",
    "print(sys.version)        # Shows current Python version\n",
    "print(sys.platform)       # Shows the operating system (e.g., 'win32', 'linux')\n",
    "print(sys.executable)     # Path to the Python interpreter\n",
    "print(sys.argv)           # List of command-line arguments\n"
   ]
  },
  {
   "cell_type": "code",
   "execution_count": 7,
   "id": "72366250-647c-4bfe-bd31-f8f24baa439a",
   "metadata": {},
   "outputs": [
    {
     "name": "stdout",
     "output_type": "stream",
     "text": [
      "!\"#$%&'()*+,-./:;<=>?@[\\]^_`{|}~\n",
      "32\n"
     ]
    }
   ],
   "source": [
    "import string\n",
    "all_punctuation=string.punctuation\n",
    "print(all_punctuation)\n",
    "print(len(all_punctuation))"
   ]
  },
  {
   "cell_type": "markdown",
   "id": "04925a3d-8167-4c38-af62-9f4e455ebbe5",
   "metadata": {},
   "source": [
    "# Identifiers:-----"
   ]
  },
  {
   "cell_type": "code",
   "execution_count": 3,
   "id": "ef270a2e-0994-4448-bc4e-a4801f247f75",
   "metadata": {},
   "outputs": [
    {
     "ename": "SyntaxError",
     "evalue": "multiple exception types must be parenthesized (1496183356.py, line 4)",
     "output_type": "error",
     "traceback": [
      "  \u001b[36mCell\u001b[39m\u001b[36m \u001b[39m\u001b[32mIn[3]\u001b[39m\u001b[32m, line 4\u001b[39m\n\u001b[31m    \u001b[39m\u001b[31mexcept ZeroDivisionError, e:\u001b[39m\n           ^\n\u001b[31mSyntaxError\u001b[39m\u001b[31m:\u001b[39m multiple exception types must be parenthesized\n"
     ]
    }
   ],
   "source": [
    "# # Python 2\n",
    "try:\n",
    "    x = 1 / 0\n",
    "except ZeroDivisionError, e:\n",
    "    print \"Error:\", e\n",
    "\n",
    "# Python 3\n",
    "# try:\n",
    "#     x = 1 / 0\n",
    "# except ZeroDivisionError as e:\n",
    "#     print(\"Error:\", e)\n"
   ]
  },
  {
   "cell_type": "raw",
   "id": "3c593f2d-3a3d-439e-83d0-c4696d4cf786",
   "metadata": {},
   "source": [
    "1.do not start with digits.\n",
    "2.star with a-z or A-Z or (_).\n",
    "3.do not use space.\n",
    "4.case sensitive.\n",
    "5.do not use any keyword."
   ]
  },
  {
   "cell_type": "markdown",
   "id": "a73bdb41-286e-459d-ac42-3c138b439e15",
   "metadata": {},
   "source": [
    "# 1.do not start with digits."
   ]
  },
  {
   "cell_type": "code",
   "execution_count": 8,
   "id": "9414efca-fd03-4ac0-b134-f670a6c444a4",
   "metadata": {},
   "outputs": [
    {
     "ename": "SyntaxError",
     "evalue": "invalid decimal literal (2575713885.py, line 1)",
     "output_type": "error",
     "traceback": [
      "\u001b[1;36m  Cell \u001b[1;32mIn[8], line 1\u001b[1;36m\u001b[0m\n\u001b[1;33m    2sun=10\u001b[0m\n\u001b[1;37m    ^\u001b[0m\n\u001b[1;31mSyntaxError\u001b[0m\u001b[1;31m:\u001b[0m invalid decimal literal\n"
     ]
    }
   ],
   "source": [
    "2sun=10\n",
    "print(2sun)"
   ]
  },
  {
   "cell_type": "markdown",
   "id": "21d2bcca-d9eb-42de-9e3f-ddd250f3f383",
   "metadata": {},
   "source": [
    "# 2.star with a-z or A-Z or (_)."
   ]
  },
  {
   "cell_type": "code",
   "execution_count": 9,
   "id": "2a8e9156-4f2b-406b-9749-c2cb822382a3",
   "metadata": {},
   "outputs": [
    {
     "name": "stdout",
     "output_type": "stream",
     "text": [
      "10\n"
     ]
    }
   ],
   "source": [
    "abc=10\n",
    "print(abc)"
   ]
  },
  {
   "cell_type": "markdown",
   "id": "62297537-f7ca-4595-adfe-3ec125f395c1",
   "metadata": {},
   "source": [
    "# 3.do not use space."
   ]
  },
  {
   "cell_type": "code",
   "execution_count": 10,
   "id": "a7bb75e2-497c-41fa-ae9a-815ccd0d91f3",
   "metadata": {},
   "outputs": [
    {
     "ename": "SyntaxError",
     "evalue": "invalid syntax (1204775362.py, line 1)",
     "output_type": "error",
     "traceback": [
      "\u001b[1;36m  Cell \u001b[1;32mIn[10], line 1\u001b[1;36m\u001b[0m\n\u001b[1;33m    t u=22\u001b[0m\n\u001b[1;37m      ^\u001b[0m\n\u001b[1;31mSyntaxError\u001b[0m\u001b[1;31m:\u001b[0m invalid syntax\n"
     ]
    }
   ],
   "source": [
    "t u=22\n",
    "print(t u)"
   ]
  },
  {
   "cell_type": "markdown",
   "id": "67810acb-1b53-4ee8-9b40-dfe9a7e48037",
   "metadata": {},
   "source": [
    "# 4.case sensitive"
   ]
  },
  {
   "cell_type": "code",
   "execution_count": 11,
   "id": "73b5a8db-27ed-4267-be42-707b657dbab4",
   "metadata": {},
   "outputs": [
    {
     "ename": "SyntaxError",
     "evalue": "invalid syntax (3736567433.py, line 1)",
     "output_type": "error",
     "traceback": [
      "\u001b[1;36m  Cell \u001b[1;32mIn[11], line 1\u001b[1;36m\u001b[0m\n\u001b[1;33m    $=1\u001b[0m\n\u001b[1;37m    ^\u001b[0m\n\u001b[1;31mSyntaxError\u001b[0m\u001b[1;31m:\u001b[0m invalid syntax\n"
     ]
    }
   ],
   "source": [
    "$=1\n",
    "print($)"
   ]
  },
  {
   "cell_type": "markdown",
   "id": "0e7e47dd-893a-4464-925a-c4b579142fdc",
   "metadata": {},
   "source": [
    "# 5.do not use any keyword."
   ]
  },
  {
   "cell_type": "code",
   "execution_count": 12,
   "id": "4540a49c-3ffc-49a9-ac9a-879f431126c6",
   "metadata": {},
   "outputs": [
    {
     "ename": "SyntaxError",
     "evalue": "cannot assign to False (2589417997.py, line 1)",
     "output_type": "error",
     "traceback": [
      "\u001b[1;36m  Cell \u001b[1;32mIn[12], line 1\u001b[1;36m\u001b[0m\n\u001b[1;33m    False=2\u001b[0m\n\u001b[1;37m    ^\u001b[0m\n\u001b[1;31mSyntaxError\u001b[0m\u001b[1;31m:\u001b[0m cannot assign to False\n"
     ]
    }
   ],
   "source": [
    "False=2\n",
    "print(False)"
   ]
  },
  {
   "cell_type": "markdown",
   "id": "fb028edd-d1ad-45c3-83f6-be2931eb713f",
   "metadata": {},
   "source": [
    "# Integer-----\n"
   ]
  },
  {
   "cell_type": "code",
   "execution_count": 1,
   "id": "48b9de0c-f1f2-40af-90d3-912dc9cf76f5",
   "metadata": {},
   "outputs": [
    {
     "name": "stdout",
     "output_type": "stream",
     "text": [
      "<class 'int'>\n"
     ]
    }
   ],
   "source": [
    "x=10\n",
    "print(type(x))"
   ]
  },
  {
   "cell_type": "markdown",
   "id": "881c152f-4584-4c90-9adc-8ac5fb1d88ff",
   "metadata": {},
   "source": [
    "# complex number(real no. or imaginary no.)"
   ]
  },
  {
   "cell_type": "code",
   "execution_count": 2,
   "id": "4bb3b947-20f8-46ea-99f7-483651c9fe8a",
   "metadata": {},
   "outputs": [
    {
     "name": "stdout",
     "output_type": "stream",
     "text": [
      "<class 'complex'>\n"
     ]
    }
   ],
   "source": [
    "x=5+3j\n",
    "print(type(x))"
   ]
  },
  {
   "cell_type": "markdown",
   "id": "ff7450c4-326f-427e-bc9f-322d89d69c0a",
   "metadata": {},
   "source": [
    "### string-:A string in Python is text data stored as a sequence of Unicode characters."
   ]
  },
  {
   "cell_type": "code",
   "execution_count": 23,
   "id": "78ac1c16-6159-43ad-b359-9312078c4229",
   "metadata": {},
   "outputs": [
    {
     "name": "stdout",
     "output_type": "stream",
     "text": [
      "hello\n"
     ]
    }
   ],
   "source": [
    "word=\"Hello\"\n",
    "word = \"h\" + word[1:]\n",
    "print(word)"
   ]
  },
  {
   "cell_type": "code",
   "execution_count": 3,
   "id": "13eaf5ec-137d-4dce-8e34-063f1917ebe2",
   "metadata": {},
   "outputs": [
    {
     "name": "stdout",
     "output_type": "stream",
     "text": [
      "2 50\n",
      "7 55\n",
      "@ 64\n",
      "( 40\n",
      ") 41\n",
      ", 44\n",
      "* 42\n"
     ]
    }
   ],
   "source": [
    "s=\"27@(),*\"\n",
    "for ch in s:\n",
    "    print(ch,ord(ch))"
   ]
  },
  {
   "cell_type": "code",
   "execution_count": 3,
   "id": "cb08e476-bae3-4625-8c3e-abedb7361ade",
   "metadata": {},
   "outputs": [
    {
     "name": "stdout",
     "output_type": "stream",
     "text": [
      "<class 'str'>\n"
     ]
    }
   ],
   "source": [
    "x='python'\n",
    "print(type(x))\n"
   ]
  },
  {
   "cell_type": "code",
   "execution_count": 7,
   "id": "216ef247-d648-4d52-abf9-c7609c786aef",
   "metadata": {},
   "outputs": [
    {
     "ename": "TypeError",
     "evalue": "type.__new__() argument 2 must be tuple, not str",
     "output_type": "error",
     "traceback": [
      "\u001b[31m---------------------------------------------------------------------------\u001b[39m",
      "\u001b[31mTypeError\u001b[39m                                 Traceback (most recent call last)",
      "\u001b[36mCell\u001b[39m\u001b[36m \u001b[39m\u001b[32mIn[7]\u001b[39m\u001b[32m, line 7\u001b[39m\n\u001b[32m      3\u001b[39m z=\u001b[33m'''\u001b[39m\u001b[33mcpp\u001b[39m\u001b[33m'''\u001b[39m\n\u001b[32m      4\u001b[39m \u001b[38;5;66;03m# print(type(x))\u001b[39;00m\n\u001b[32m      5\u001b[39m \u001b[38;5;66;03m# print(type(y))\u001b[39;00m\n\u001b[32m      6\u001b[39m \u001b[38;5;66;03m# print(type(z))\u001b[39;00m\n\u001b[32m----> \u001b[39m\u001b[32m7\u001b[39m \u001b[38;5;28mprint\u001b[39m(\u001b[38;5;28;43mtype\u001b[39;49m\u001b[43m(\u001b[49m\u001b[43mx\u001b[49m\u001b[43m,\u001b[49m\u001b[43my\u001b[49m\u001b[43m,\u001b[49m\u001b[43mz\u001b[49m\u001b[43m)\u001b[49m)\n",
      "\u001b[31mTypeError\u001b[39m: type.__new__() argument 2 must be tuple, not str"
     ]
    }
   ],
   "source": [
    "x='python'\n",
    "y=\"java\"\n",
    "z='''cpp'''\n",
    "# print(type(x))\n",
    "# print(type(y))\n",
    "# print(type(z))\n",
    "print(type(x,y,z))"
   ]
  },
  {
   "cell_type": "code",
   "execution_count": 1,
   "id": "f6630c79-457a-4116-82d1-5d16841c1029",
   "metadata": {},
   "outputs": [
    {
     "name": "stdout",
     "output_type": "stream",
     "text": [
      "king\n"
     ]
    }
   ],
   "source": [
    "x='''king'''\n",
    "print(x)"
   ]
  },
  {
   "cell_type": "code",
   "execution_count": 5,
   "id": "2d4f62e1-32fb-4c25-9bf8-dfb886545fe8",
   "metadata": {},
   "outputs": [
    {
     "name": "stdout",
     "output_type": "stream",
     "text": [
      "<class 'tuple'>\n"
     ]
    }
   ],
   "source": [
    "x='python' #Used to create a string.\n",
    "y=\"java\"   #Same as single quotes, no difference in functionality.\n",
    "z='cpp'\n",
    "# print(type(x))\n",
    "# print(type(y))\n",
    "# print(type(z))\n",
    "print(type((x,y,z)))"
   ]
  },
  {
   "cell_type": "code",
   "execution_count": 7,
   "id": "383a8172-6a3b-4dfb-8cab-82a9245305f4",
   "metadata": {},
   "outputs": [
    {
     "name": "stdout",
     "output_type": "stream",
     "text": [
      "<class 'str'>\n",
      "<class 'str'>\n",
      "<class 'str'>\n"
     ]
    }
   ],
   "source": [
    "x='python'\n",
    "y=\"java\"\n",
    "z='''cpp'''\n",
    "print(type(x))\n",
    "print(type(y))\n",
    "print(type(z))"
   ]
  },
  {
   "cell_type": "code",
   "execution_count": 8,
   "id": "e51faafc-fc92-48c2-b230-75af0e420e1f",
   "metadata": {},
   "outputs": [
    {
     "name": "stdout",
     "output_type": "stream",
     "text": [
      "this is python class\n",
      "this is java class\n",
      "this\n",
      "is \n",
      "python\n",
      "class\n"
     ]
    }
   ],
   "source": [
    "s='this is python class'\n",
    "s1=\"this is java class\"\n",
    "#Allow multi-line strings.\n",
    "#Often used for docstrings (documentation of functions/classes).\n",
    "#Can contain both ' and \" without escaping.\n",
    "s2='''this\n",
    "is                         \n",
    "python\n",
    "class'''\n",
    "print(s)\n",
    "print(s1)\n",
    "print(s2)\n",
    "\n",
    "\n"
   ]
  },
  {
   "cell_type": "code",
   "execution_count": 5,
   "id": "f834ed15-c2a9-4985-a0a1-494a5a3a0b37",
   "metadata": {},
   "outputs": [
    {
     "ename": "SyntaxError",
     "evalue": "unterminated string literal (detected at line 1) (621198596.py, line 1)",
     "output_type": "error",
     "traceback": [
      "\u001b[1;36m  Cell \u001b[1;32mIn[5], line 1\u001b[1;36m\u001b[0m\n\u001b[1;33m    s2=\"this\u001b[0m\n\u001b[1;37m       ^\u001b[0m\n\u001b[1;31mSyntaxError\u001b[0m\u001b[1;31m:\u001b[0m unterminated string literal (detected at line 1)\n"
     ]
    }
   ],
   "source": [
    "s2=\"this \n",
    "is \n",
    "python\n",
    "class\"\n",
    "print(s2)"
   ]
  },
  {
   "cell_type": "code",
   "execution_count": 3,
   "id": "c8ee03ff-91fc-4d0b-a8ee-aa0642f63183",
   "metadata": {},
   "outputs": [
    {
     "name": "stdout",
     "output_type": "stream",
     "text": [
      "this is 'python' class\n",
      "this is \"python\" 'java' class\n"
     ]
    }
   ],
   "source": [
    "\n",
    "s1=\"this is 'python' class\"\n",
    "s2='''this is \"python\" 'java' class'''\n",
    "\n",
    "print(s1)\n",
    "print(s2)\n"
   ]
  },
  {
   "cell_type": "code",
   "execution_count": 2,
   "id": "41004827-1572-4f2d-823b-3e0b3c606b91",
   "metadata": {},
   "outputs": [
    {
     "name": "stdout",
     "output_type": "stream",
     "text": [
      "this is \"python\" class\n"
     ]
    }
   ],
   "source": [
    "s='this is \"python\" class'\n",
    "print(s)"
   ]
  },
  {
   "cell_type": "code",
   "execution_count": 1,
   "id": "6c963695-e518-410e-ab07-432096869a0c",
   "metadata": {},
   "outputs": [
    {
     "name": "stdout",
     "output_type": "stream",
     "text": [
      "this is 'python' class\n",
      "this is \"python\" 'java' class\n"
     ]
    }
   ],
   "source": [
    "s1=\"this is 'python' class\"\n",
    "s2='''this is \"python\" 'java' class'''\n",
    "print(s1)\n",
    "print(s2)"
   ]
  },
  {
   "cell_type": "code",
   "execution_count": 1,
   "id": "d061c9b0-e613-400e-9615-1804c33403df",
   "metadata": {},
   "outputs": [
    {
     "name": "stdout",
     "output_type": "stream",
     "text": [
      "this is 'python' class\n",
      "this is \"python\" 'java' class\n"
     ]
    }
   ],
   "source": [
    "s1=\"this is 'python' class\"\n",
    "s2='''this is \"python\" 'java' class'''\n",
    "print(s1)\n",
    "print(s2)"
   ]
  },
  {
   "cell_type": "markdown",
   "id": "0bff785a-96d0-4a8f-ad75-9ad2cac77d60",
   "metadata": {},
   "source": []
  },
  {
   "cell_type": "markdown",
   "id": "04d7a089-fac1-4ccc-a527-f257d404381e",
   "metadata": {},
   "source": []
  },
  {
   "cell_type": "markdown",
   "id": "0532e8cb-f3a0-4d4c-865b-a8d6667c5ebe",
   "metadata": {},
   "source": [
    "### list:-A list in Python is a dynamic, ordered, and mutable collection of items, defined with square brackets [].\n",
    "* a list is a collection of items (elements) that can hold multiple values in a single variable.\n",
    "* It is one of the most commonly used data structures.\n",
    "#### Key Features of Lists\n",
    "* Ordered → Elements have a defined order (they keep the order you insert them).\n",
    "* Mutable → You can change, add, or remove items after the list is created.\n",
    "* Heterogeneous → A list can store different data types (strings, numbers, even other lists).\n",
    "* Indexed → Each element has an index starting from 0."
   ]
  },
  {
   "cell_type": "code",
   "execution_count": 1,
   "id": "92eaa493-ee7b-4063-90fa-94fc905bc043",
   "metadata": {},
   "outputs": [
    {
     "name": "stdout",
     "output_type": "stream",
     "text": [
      "[1, 2, 3, 4, 5]\n",
      "<class 'list'>\n"
     ]
    }
   ],
   "source": [
    "l=[1,2,3,4,5]\n",
    "print(l)\n",
    "print(type(l))"
   ]
  },
  {
   "cell_type": "code",
   "execution_count": 2,
   "id": "02e86401-f968-4a38-94ce-67c992427baa",
   "metadata": {},
   "outputs": [
    {
     "name": "stdout",
     "output_type": "stream",
     "text": [
      "[1, 'cpp', 'java', 'python', 2, 9, 8]\n",
      "7\n",
      "<class 'list'>\n"
     ]
    }
   ],
   "source": [
    "l=[1,'cpp','java','python',2,9,8]\n",
    "print(l)\n",
    "print(len(l))\n",
    "print(type(l))"
   ]
  },
  {
   "cell_type": "markdown",
   "id": "17779da5-610a-4776-b022-f46fff6e6023",
   "metadata": {},
   "source": [
    "### Tuple:-A tuple in Python is an immutable, ordered collection of items, defined with parentheses ().\n",
    "#### Key Features of Tuples\n",
    "* Ordered → Items keep their order.\n",
    "* Immutable → Cannot be modified after creation.\n",
    "* Allow duplicates → Can contain repeated values.\n",
    "* Heterogeneous → Can store different data types (int, string, float, etc.).\n",
    "* Defined with parentheses ()."
   ]
  },
  {
   "cell_type": "code",
   "execution_count": 3,
   "id": "9d295065-7255-4231-9769-a3d37e82839e",
   "metadata": {},
   "outputs": [
    {
     "name": "stdout",
     "output_type": "stream",
     "text": [
      "(1, 2, 3, 4, 55, 6)\n",
      "6\n",
      "<class 'tuple'>\n"
     ]
    }
   ],
   "source": [
    "t=(1,2,3,4,55,6,)\n",
    "print(t)\n",
    "print(len(t))\n",
    "print(type(t))"
   ]
  },
  {
   "cell_type": "code",
   "execution_count": null,
   "id": "fd8c885a-ee52-414e-a88f-e9cafd7dcd41",
   "metadata": {},
   "outputs": [],
   "source": []
  },
  {
   "cell_type": "code",
   "execution_count": 4,
   "id": "e87e0da2-a827-4924-a948-7969871f4d12",
   "metadata": {},
   "outputs": [
    {
     "name": "stdout",
     "output_type": "stream",
     "text": [
      "(1, 'java', 'python', 4, 4)\n",
      "5\n",
      "<class 'tuple'>\n"
     ]
    }
   ],
   "source": [
    "t=(1,'java','python',4,4)\n",
    "print(t)\n",
    "print(len(t))\n",
    "print(type(t))"
   ]
  },
  {
   "cell_type": "raw",
   "id": "c98cf583-8342-4c09-93f3-d4664b19c4b8",
   "metadata": {},
   "source": [
    "1.list is collection of element(homogeneous and hetrogeneous)represent by []\n",
    "2. Tuple is collection of element(homogeneous and hetrogeneous)represent by ()"
   ]
  },
  {
   "cell_type": "markdown",
   "id": "53ae0c1c-40b6-49d5-bde2-6b2dcb59f319",
   "metadata": {},
   "source": [
    "### dictionary:-A dictionary in Python is like a real-world dictionary: you search with a key and get its value.\n",
    "#### Key Features of Dictionary\n",
    "* Unordered (before Python 3.7), but in Python 3.7+ it preserves insertion order.\n",
    "* Key–Value Pairs → Each key maps to a value.\n",
    "* Keys must be unique & immutable (strings, numbers, tuples).\n",
    "* Values can be anything (strings, numbers, lists, other dictionaries).\n",
    "* Defined using curly braces {}.\n",
    "#### representin {} with comma(,)"
   ]
  },
  {
   "cell_type": "markdown",
   "id": "676316ab-036b-445f-b546-176a826577d2",
   "metadata": {},
   "source": [
    "### ✅ Quick Summary\n",
    "* List → Ordered collection of items → []\n",
    "* Tuple → Immutable collection of items → ()\n",
    "* Dictionary → Key–Value pairs → {}"
   ]
  },
  {
   "cell_type": "markdown",
   "id": "49f2fcf3-d918-4c0e-8bdb-9b2546acb25c",
   "metadata": {},
   "source": [
    "#### ✅ In summary:\n",
    "* Python < 3.7 → Dictionaries were unordered (no guarantee of order).\n",
    "* Python ≥ 3.7 → Dictionaries preserve insertion order (guaranteed)."
   ]
  },
  {
   "cell_type": "code",
   "execution_count": 5,
   "id": "57435933-b8c8-47d3-b79f-beab57ff54ce",
   "metadata": {},
   "outputs": [
    {
     "name": "stdout",
     "output_type": "stream",
     "text": [
      "{'name': 'suraj', 'age': 22, 'quali': 'b.tech'}\n",
      "3\n",
      "<class 'dict'>\n"
     ]
    }
   ],
   "source": [
    "d={'name':'suraj','age':22,'quali':'b.tech'}\n",
    "print(d)\n",
    "print(len(d))\n",
    "print(type(d))"
   ]
  },
  {
   "cell_type": "markdown",
   "id": "7a6fc42b-ebf2-4879-87e8-f32b9ae4e588",
   "metadata": {},
   "source": [
    "### Set:-In Python, a set is a built-in data type that represents an unordered collection of unique elements.\n",
    "#### Key Features of Sets:\n",
    "* Unordered → Elements don’t have a fixed position (no indexing like lists).\n",
    "* Unique elements → A set automatically removes duplicates.\n",
    "* Mutable → You can add or remove elements after creating it.\n",
    "* Unindexed → You can’t access elements by index like in lists or tuples.\n",
    "* Supports set operations → union, intersection, difference, etc. (like in mathematics)."
   ]
  },
  {
   "cell_type": "code",
   "execution_count": 6,
   "id": "12c11a87-34ca-4ecc-8b87-66a437a6a605",
   "metadata": {},
   "outputs": [
    {
     "name": "stdout",
     "output_type": "stream",
     "text": [
      "{2, 3, 4, 'sun', 5, 'java'}\n",
      "6\n",
      "<class 'set'>\n"
     ]
    }
   ],
   "source": [
    "s={2,4,'sun',5,2,'java','sun',3,5}\n",
    "print(s)\n",
    "print(len(s))\n",
    "print(type(s))"
   ]
  },
  {
   "cell_type": "markdown",
   "id": "81b2ca73-1f93-4066-b9a4-23589e768630",
   "metadata": {},
   "source": [
    "### Frozenset:-🔹 frozenset is immutable → Once created, you cannot add, remove, or change its elements.\n",
    "* Think of it like a read-only set.\n",
    "* Immutable – You cannot use .add(), .remove(), .update() etc.\n",
    "* Even though you cannot modify it, you can still perform operations like union, intersection, etc.\n",
    "* Hashable – Since frozensets are immutable, they can be used as keys in dictionaries or as elements in other sets (normal sets cannot do this).\n"
   ]
  },
  {
   "cell_type": "markdown",
   "id": "9103ce73-0e5b-4826-bf2f-efafdb3235bf",
   "metadata": {},
   "source": [
    "* set → mutable, can be changed.\n",
    "* frozenset → immutable, cannot be changed but can be used in places where normal sets can’t (like dictionary keys)."
   ]
  },
  {
   "cell_type": "code",
   "execution_count": 1,
   "id": "467d0a00-304d-42cd-92dc-90064e8a0571",
   "metadata": {},
   "outputs": [
    {
     "name": "stdout",
     "output_type": "stream",
     "text": [
      "frozenset({2, 3, 4, 8, 10})\n",
      "<class 'frozenset'>\n",
      "5\n",
      "frozenset({10, 20, 4, 6})\n",
      "<class 'frozenset'>\n",
      "4\n",
      "frozenset({'j', 'a', 'v'})\n",
      "<class 'frozenset'>\n",
      "3\n"
     ]
    }
   ],
   "source": [
    "l=[3,4,10,8,2,8]\n",
    "t=(6,20,4,6,10)\n",
    "s='java'\n",
    "fs1=frozenset(l)\n",
    "fs2=frozenset(t)\n",
    "fs3=frozenset(s)\n",
    "print(fs1)\n",
    "print(type(fs1))\n",
    "print(len(fs1))\n",
    "print(fs2)\n",
    "print(type(fs2))\n",
    "print(len(fs2))\n",
    "print(fs3)\n",
    "print(type(fs3))\n",
    "print(len(fs3))"
   ]
  },
  {
   "cell_type": "markdown",
   "id": "37e569d9-b26b-4120-905b-a95c12b84408",
   "metadata": {},
   "source": [
    "### Boolean:-Boolean (bool) is a built-in data type in Python.\n",
    "* It represents truth values (True or False).\n",
    "* Used in conditions, loops, and logic operations."
   ]
  },
  {
   "cell_type": "code",
   "execution_count": 2,
   "id": "946fed24-8e2a-4df8-9cd9-422dbbd07fd5",
   "metadata": {},
   "outputs": [
    {
     "name": "stdout",
     "output_type": "stream",
     "text": [
      "True\n",
      "<class 'bool'>\n"
     ]
    },
    {
     "ename": "TypeError",
     "evalue": "object of type 'bool' has no len()",
     "output_type": "error",
     "traceback": [
      "\u001b[1;31m---------------------------------------------------------------------------\u001b[0m",
      "\u001b[1;31mTypeError\u001b[0m                                 Traceback (most recent call last)",
      "Cell \u001b[1;32mIn[2], line 4\u001b[0m\n\u001b[0;32m      2\u001b[0m \u001b[38;5;28mprint\u001b[39m(x)\n\u001b[0;32m      3\u001b[0m \u001b[38;5;28mprint\u001b[39m(\u001b[38;5;28mtype\u001b[39m(x))\n\u001b[1;32m----> 4\u001b[0m \u001b[38;5;28mprint\u001b[39m(\u001b[38;5;28mlen\u001b[39m(x))\n",
      "\u001b[1;31mTypeError\u001b[0m: object of type 'bool' has no len()"
     ]
    }
   ],
   "source": [
    "x=True\n",
    "print(x)\n",
    "print(type(x))\n",
    "print(len(x))"
   ]
  },
  {
   "cell_type": "code",
   "execution_count": 3,
   "id": "f1a57627-466c-4b03-b930-6ca88cd5dc13",
   "metadata": {},
   "outputs": [
    {
     "name": "stdout",
     "output_type": "stream",
     "text": [
      "True\n",
      "<class 'str'>\n"
     ]
    }
   ],
   "source": [
    "x='True'\n",
    "print(x)\n",
    "print(type(x))"
   ]
  },
  {
   "cell_type": "code",
   "execution_count": 4,
   "id": "f0fb571b-70f0-4198-89a0-fc5e50a94309",
   "metadata": {
    "scrolled": true
   },
   "outputs": [
    {
     "name": "stdout",
     "output_type": "stream",
     "text": [
      "False\n",
      "<class 'bool'>\n"
     ]
    }
   ],
   "source": [
    "x=False\n",
    "print(x)\n",
    "print(type(x))"
   ]
  },
  {
   "cell_type": "markdown",
   "id": "ad7f1a93-f114-40cd-9e56-9790e8f52460",
   "metadata": {},
   "source": [
    "### Literals:-In Python, a literal is a fixed value that you write directly in your code, without using variables or calculations.It represents constant data.\n",
    "#### Types of Literals in Python\n",
    "* 🔹 1. Numeric Literals\n",
    "* 🔹 2. String Literals\n",
    "* 🔹 3. Boolean Literals\n",
    "* 🔹 4. Special Literal(None)\n",
    "* 5. Literal Collections\n",
    "* Python allows literals for collections:\n",
    "* List Literal → [1, 2, 3]\n",
    "* Tuple Literal → (10, 20, 30)\n",
    "* Dictionary Literal → {\"name\": \"Alex\", \"age\": 25}\n",
    "* Set Literal → {1, 2, 3}"
   ]
  },
  {
   "cell_type": "raw",
   "id": "3893417d-2ab1-4994-9933-784454f05bc8",
   "metadata": {},
   "source": [
    "1. literals: (constant value)"
   ]
  },
  {
   "cell_type": "code",
   "execution_count": 2,
   "id": "cf7d6622-f99e-4273-9a1f-399d93289ab5",
   "metadata": {},
   "outputs": [
    {
     "data": {
      "text/plain": [
       "{1, 2, 3}"
      ]
     },
     "execution_count": 2,
     "metadata": {},
     "output_type": "execute_result"
    }
   ],
   "source": [
    "# Jupyter / Interactive mode → automatically displays the last expression’s result.\n",
    "# Python scripts → you must use print() to display output.\n",
    "'hi'*3\n",
    "{1,2,3}"
   ]
  },
  {
   "cell_type": "code",
   "execution_count": null,
   "id": "74937dac-8464-4139-b359-b1488df7d0c5",
   "metadata": {},
   "outputs": [],
   "source": []
  },
  {
   "cell_type": "markdown",
   "id": "d6359398-deb2-4e7b-b213-b3d703c31b67",
   "metadata": {},
   "source": [
    "# Operators:-\n",
    "# 1.Arithmetics(+,-,*,/,%(modules),//(floor),**(exponantial or power))"
   ]
  },
  {
   "cell_type": "code",
   "execution_count": 6,
   "id": "819bf4d1-acf8-461b-b764-7f8cc515d6b2",
   "metadata": {},
   "outputs": [
    {
     "name": "stdout",
     "output_type": "stream",
     "text": [
      "30\n",
      "<class 'int'>\n",
      "-10\n",
      "<class 'int'>\n",
      "200\n",
      "<class 'int'>\n",
      "0.5\n",
      "<class 'float'>\n",
      "10\n",
      "<class 'int'>\n",
      "0\n",
      "100000000000000000000\n",
      "<class 'int'>\n"
     ]
    }
   ],
   "source": [
    "x=10\n",
    "y=20\n",
    "z=x+y\n",
    "print(z)\n",
    "print(type(z))\n",
    "z=x-y\n",
    "print(z)\n",
    "print(type(z))\n",
    "z=x*y\n",
    "print(z)\n",
    "print(type(z))\n",
    "z=x/y\n",
    "print(z)\n",
    "print(type(z))\n",
    "z=x%y\n",
    "print(z)\n",
    "print(type(z))\n",
    "z=x//y\n",
    "print(z)\n",
    "z=x**y\n",
    "print(z)\n",
    "print(type(z))"
   ]
  },
  {
   "cell_type": "code",
   "execution_count": 2,
   "id": "4a4ca39c-91bd-42f7-9953-3dcd994344e0",
   "metadata": {},
   "outputs": [
    {
     "name": "stdout",
     "output_type": "stream",
     "text": [
      "frozenset({9, 2, 6})\n"
     ]
    }
   ],
   "source": [
    "l=[2,6,2,6,9]\n",
    "frozenset(l)\n",
    "print(frozenset(l))"
   ]
  },
  {
   "cell_type": "code",
   "execution_count": 3,
   "id": "65b70241-c6a4-4f8b-bdc1-c4c5abdb5343",
   "metadata": {},
   "outputs": [
    {
     "data": {
      "text/plain": [
       "frozenset({2, 6, 9})"
      ]
     },
     "execution_count": 3,
     "metadata": {},
     "output_type": "execute_result"
    }
   ],
   "source": [
    "l=[2,6,2,6,9]\n",
    "frozenset(l)"
   ]
  },
  {
   "cell_type": "code",
   "execution_count": 4,
   "id": "3ebebb00-2374-4f4b-b2fb-7e008a876f92",
   "metadata": {},
   "outputs": [
    {
     "name": "stdout",
     "output_type": "stream",
     "text": [
      "[2, 6, 2, 6, 9]\n"
     ]
    }
   ],
   "source": [
    "l=[2,6,2,6,9]\n",
    "frozenset(l)\n",
    "print(l)"
   ]
  },
  {
   "cell_type": "markdown",
   "id": "a6826b07-af31-437f-acdb-974a33b09355",
   "metadata": {},
   "source": [
    "# Assignment--------(=,+=,*=,/=,//=,%=,**=)"
   ]
  },
  {
   "cell_type": "code",
   "execution_count": 2,
   "id": "d36416d0-776a-4f3f-a965-e1d2b272b444",
   "metadata": {},
   "outputs": [
    {
     "name": "stdout",
     "output_type": "stream",
     "text": [
      "15\n"
     ]
    }
   ],
   "source": [
    "x=10\n",
    "#x+=5\n",
    "x=x+5\n",
    "print(x)"
   ]
  },
  {
   "cell_type": "code",
   "execution_count": 3,
   "id": "8175f7c9-3aee-441e-935f-512d177a3406",
   "metadata": {},
   "outputs": [
    {
     "name": "stdout",
     "output_type": "stream",
     "text": [
      "25\n"
     ]
    }
   ],
   "source": [
    "x+=5\n",
    "x=x+5\n",
    "print(x)"
   ]
  },
  {
   "cell_type": "markdown",
   "id": "75664ec2-cd64-48e3-aec0-506ba97a7d25",
   "metadata": {},
   "source": [
    "# comparision operators-----(return boolean value)"
   ]
  },
  {
   "cell_type": "raw",
   "id": "18d50c9d-cc24-4a08-b46c-df2546460280",
   "metadata": {},
   "source": [
    "1. ==,<,>,<=,>=,!="
   ]
  },
  {
   "cell_type": "code",
   "execution_count": 4,
   "id": "5988680f-4ebf-41d8-9a62-cd61f22162ff",
   "metadata": {},
   "outputs": [
    {
     "name": "stdout",
     "output_type": "stream",
     "text": [
      "False\n"
     ]
    }
   ],
   "source": [
    "x=10\n",
    "y=20\n",
    "print(x==y)"
   ]
  },
  {
   "cell_type": "code",
   "execution_count": 5,
   "id": "18d07290-1534-48d1-a49d-cbf4d8b04796",
   "metadata": {},
   "outputs": [
    {
     "name": "stdout",
     "output_type": "stream",
     "text": [
      "True\n"
     ]
    }
   ],
   "source": [
    "x=10\n",
    "y=20\n",
    "print(x!=y)"
   ]
  },
  {
   "cell_type": "code",
   "execution_count": 6,
   "id": "811b2057-339d-47ec-8a2e-22ae0e374cc4",
   "metadata": {},
   "outputs": [
    {
     "name": "stdout",
     "output_type": "stream",
     "text": [
      "False\n"
     ]
    }
   ],
   "source": [
    "x=10\n",
    "y=20\n",
    "print(x>y)"
   ]
  },
  {
   "cell_type": "code",
   "execution_count": 7,
   "id": "36833821-7d4d-4307-af76-58e6912b3806",
   "metadata": {},
   "outputs": [
    {
     "name": "stdout",
     "output_type": "stream",
     "text": [
      "True\n"
     ]
    }
   ],
   "source": [
    "x=10\n",
    "y=20\n",
    "print(x<y)"
   ]
  },
  {
   "cell_type": "code",
   "execution_count": 8,
   "id": "72f7b0b2-e79b-4bd3-a87e-3d7508793318",
   "metadata": {},
   "outputs": [
    {
     "name": "stdout",
     "output_type": "stream",
     "text": [
      "True\n"
     ]
    }
   ],
   "source": [
    "x=20\n",
    "y=20\n",
    "print(x<=y)"
   ]
  },
  {
   "cell_type": "code",
   "execution_count": 9,
   "id": "7464fe47-051b-4de7-b54a-22b715105958",
   "metadata": {},
   "outputs": [
    {
     "name": "stdout",
     "output_type": "stream",
     "text": [
      "False\n"
     ]
    }
   ],
   "source": [
    "x=10\n",
    "y=20\n",
    "print(x>=y)"
   ]
  },
  {
   "cell_type": "code",
   "execution_count": 10,
   "id": "3fb5e446-39be-42f0-a8f3-dd0fa63c5420",
   "metadata": {},
   "outputs": [
    {
     "name": "stdout",
     "output_type": "stream",
     "text": [
      "True\n"
     ]
    }
   ],
   "source": [
    "x=10\n",
    "y=20\n",
    "print(x!=y)"
   ]
  },
  {
   "cell_type": "markdown",
   "id": "a60969c5-59df-42ec-a707-ea041f5eb19a",
   "metadata": {},
   "source": [
    "# Logical operator"
   ]
  },
  {
   "cell_type": "raw",
   "id": "9b16f6f2-0f86-4f8d-bbc7-f53961cd2951",
   "metadata": {},
   "source": [
    "1. and,or, not"
   ]
  },
  {
   "cell_type": "code",
   "execution_count": 11,
   "id": "7e3d3957-9d5c-40c4-adbe-6e74ec5a2ab5",
   "metadata": {},
   "outputs": [
    {
     "name": "stdout",
     "output_type": "stream",
     "text": [
      "True\n"
     ]
    }
   ],
   "source": [
    "x=10\n",
    "y=20\n",
    "z=30\n",
    "print(x<=y and y<=z and x<=z)"
   ]
  },
  {
   "cell_type": "code",
   "execution_count": 12,
   "id": "2800d324-4004-481a-93de-c96db0203d58",
   "metadata": {},
   "outputs": [
    {
     "name": "stdout",
     "output_type": "stream",
     "text": [
      "False\n"
     ]
    }
   ],
   "source": [
    "print(x<=y and y<=z and x>=z)"
   ]
  },
  {
   "cell_type": "code",
   "execution_count": 13,
   "id": "3e1092cb-0a82-4fd5-9dd4-34d9f8a235fc",
   "metadata": {},
   "outputs": [
    {
     "name": "stdout",
     "output_type": "stream",
     "text": [
      "True\n"
     ]
    }
   ],
   "source": [
    "print(x<=y or y<=z or x>=z)"
   ]
  },
  {
   "cell_type": "code",
   "execution_count": 14,
   "id": "bd2602a5-9506-47f2-b5b5-8bcfbbfd7763",
   "metadata": {},
   "outputs": [
    {
     "name": "stdout",
     "output_type": "stream",
     "text": [
      "False\n"
     ]
    }
   ],
   "source": [
    "print(x>=y or y>=z or x>=z)"
   ]
  },
  {
   "cell_type": "raw",
   "id": "c47ff113-de34-4d04-b15d-f361859d0338",
   "metadata": {},
   "source": [
    "1. (not), turn the Result opposite "
   ]
  },
  {
   "cell_type": "code",
   "execution_count": 15,
   "id": "fc9f6775-cc09-4ab2-83c6-fccbab7bc181",
   "metadata": {},
   "outputs": [
    {
     "name": "stdout",
     "output_type": "stream",
     "text": [
      "False\n"
     ]
    }
   ],
   "source": [
    "print(not(x<y))"
   ]
  },
  {
   "cell_type": "code",
   "execution_count": 1,
   "id": "f2fa236c-4015-4cec-ae42-5b0a3111c5ec",
   "metadata": {},
   "outputs": [
    {
     "name": "stdout",
     "output_type": "stream",
     "text": [
      "0\n"
     ]
    }
   ],
   "source": [
    "x=5\n",
    "y=10\n",
    "print(x&y)"
   ]
  },
  {
   "cell_type": "code",
   "execution_count": 2,
   "id": "a1d82631-4e1d-43fb-b1ef-a2b40cb521a3",
   "metadata": {},
   "outputs": [
    {
     "name": "stdout",
     "output_type": "stream",
     "text": [
      "0\n"
     ]
    }
   ],
   "source": [
    "x=10\n",
    "y=20\n",
    "print(x&y)"
   ]
  },
  {
   "cell_type": "code",
   "execution_count": 3,
   "id": "f78aed1c-aae9-4586-900e-aa49ce92b5b4",
   "metadata": {},
   "outputs": [
    {
     "name": "stdout",
     "output_type": "stream",
     "text": [
      "15\n"
     ]
    }
   ],
   "source": [
    "x=5\n",
    "y=10\n",
    "print(x|y)"
   ]
  },
  {
   "cell_type": "code",
   "execution_count": 4,
   "id": "88d606f4-7fe1-4679-a62e-7648e8d3dd4d",
   "metadata": {},
   "outputs": [
    {
     "name": "stdout",
     "output_type": "stream",
     "text": [
      "5120\n"
     ]
    }
   ],
   "source": [
    "print(x<<y)"
   ]
  },
  {
   "cell_type": "code",
   "execution_count": 5,
   "id": "d0378209-3fe6-4908-a1ec-0e937702cefc",
   "metadata": {},
   "outputs": [
    {
     "name": "stdout",
     "output_type": "stream",
     "text": [
      "20\n"
     ]
    }
   ],
   "source": [
    "print(x<<2)"
   ]
  },
  {
   "cell_type": "code",
   "execution_count": 1,
   "id": "ec147f7b-2e6f-4863-a4a3-fff2177803ab",
   "metadata": {},
   "outputs": [
    {
     "name": "stdout",
     "output_type": "stream",
     "text": [
      "10\n"
     ]
    }
   ],
   "source": [
    "x=0b1010\n",
    "print(x)"
   ]
  },
  {
   "cell_type": "code",
   "execution_count": 3,
   "id": "532fe931-659f-4c7b-873b-bf111b95eac5",
   "metadata": {},
   "outputs": [
    {
     "name": "stdout",
     "output_type": "stream",
     "text": [
      "0b1010\n"
     ]
    }
   ],
   "source": [
    "y=10\n",
    "print(bin(y))"
   ]
  },
  {
   "cell_type": "code",
   "execution_count": 4,
   "id": "14379966-a7e8-48e3-bb7c-2f3be85ce10d",
   "metadata": {},
   "outputs": [
    {
     "name": "stdout",
     "output_type": "stream",
     "text": [
      "0b1011110000100101010111101001101110111\n"
     ]
    }
   ],
   "source": [
    "x=101010101111\n",
    "print(bin(x))"
   ]
  },
  {
   "cell_type": "code",
   "execution_count": 5,
   "id": "18f2817d-1418-4593-b1a4-3aa0290c17bc",
   "metadata": {},
   "outputs": [
    {
     "name": "stdout",
     "output_type": "stream",
     "text": [
      "257\n"
     ]
    }
   ],
   "source": [
    "x=0x101\n",
    "print(x)"
   ]
  },
  {
   "cell_type": "markdown",
   "id": "756460c3-7e8a-4804-a60e-0c34ca9690e6",
   "metadata": {},
   "source": [
    "# Indexing------"
   ]
  },
  {
   "cell_type": "code",
   "execution_count": 5,
   "id": "d64d44e6-483d-43f2-8c9a-0b077eaabc16",
   "metadata": {},
   "outputs": [
    {
     "name": "stdout",
     "output_type": "stream",
     "text": [
      "0\n"
     ]
    }
   ],
   "source": [
    "s='python'\n",
    "print(s.index('p'))\n"
   ]
  },
  {
   "cell_type": "code",
   "execution_count": 7,
   "id": "5bf38477-3197-43c5-909a-36d834c587a9",
   "metadata": {},
   "outputs": [
    {
     "name": "stdout",
     "output_type": "stream",
     "text": [
      "4\n"
     ]
    }
   ],
   "source": [
    "print(s.index('o'))"
   ]
  },
  {
   "cell_type": "code",
   "execution_count": 11,
   "id": "b6b5082f-a66f-4a92-9881-f53c6042cec5",
   "metadata": {},
   "outputs": [
    {
     "name": "stdout",
     "output_type": "stream",
     "text": [
      "5\n"
     ]
    }
   ],
   "source": [
    "l=[10,20,30,40,50,'java']\n",
    "print(l.index('java'))"
   ]
  },
  {
   "cell_type": "code",
   "execution_count": 12,
   "id": "873d1c32-bbb8-4863-8ace-e49a57366afe",
   "metadata": {},
   "outputs": [
    {
     "ename": "ValueError",
     "evalue": "'python' is not in list",
     "output_type": "error",
     "traceback": [
      "\u001b[1;31m---------------------------------------------------------------------------\u001b[0m",
      "\u001b[1;31mValueError\u001b[0m                                Traceback (most recent call last)",
      "Cell \u001b[1;32mIn[12], line 1\u001b[0m\n\u001b[1;32m----> 1\u001b[0m \u001b[38;5;28mprint\u001b[39m(l\u001b[38;5;241m.\u001b[39mindex(\u001b[38;5;124m'\u001b[39m\u001b[38;5;124mpython\u001b[39m\u001b[38;5;124m'\u001b[39m))\n",
      "\u001b[1;31mValueError\u001b[0m: 'python' is not in list"
     ]
    }
   ],
   "source": [
    "print(l.index('python'))"
   ]
  },
  {
   "cell_type": "code",
   "execution_count": 13,
   "id": "bcb29226-a361-4864-8689-3b833426b4e6",
   "metadata": {},
   "outputs": [
    {
     "ename": "ValueError",
     "evalue": "'ja' is not in list",
     "output_type": "error",
     "traceback": [
      "\u001b[1;31m---------------------------------------------------------------------------\u001b[0m",
      "\u001b[1;31mValueError\u001b[0m                                Traceback (most recent call last)",
      "Cell \u001b[1;32mIn[13], line 1\u001b[0m\n\u001b[1;32m----> 1\u001b[0m \u001b[38;5;28mprint\u001b[39m(l\u001b[38;5;241m.\u001b[39mindex(\u001b[38;5;124m'\u001b[39m\u001b[38;5;124mja\u001b[39m\u001b[38;5;124m'\u001b[39m))\n",
      "\u001b[1;31mValueError\u001b[0m: 'ja' is not in list"
     ]
    }
   ],
   "source": [
    "print(l.index('ja'))"
   ]
  },
  {
   "cell_type": "code",
   "execution_count": 14,
   "id": "6a19c16d-02f7-4b02-b3a8-236b2c69a4e7",
   "metadata": {},
   "outputs": [
    {
     "name": "stdout",
     "output_type": "stream",
     "text": [
      "5\n"
     ]
    }
   ],
   "source": [
    "t=[10,20,30,40,50,'python']\n",
    "print(t.index('python'))\n"
   ]
  },
  {
   "cell_type": "code",
   "execution_count": 16,
   "id": "08ecaa10-b2c0-4c58-b3c8-9a9aebb15715",
   "metadata": {},
   "outputs": [
    {
     "ename": "ValueError",
     "evalue": "'30' is not in list",
     "output_type": "error",
     "traceback": [
      "\u001b[1;31m---------------------------------------------------------------------------\u001b[0m",
      "\u001b[1;31mValueError\u001b[0m                                Traceback (most recent call last)",
      "Cell \u001b[1;32mIn[16], line 2\u001b[0m\n\u001b[0;32m      1\u001b[0m l\u001b[38;5;241m=\u001b[39m[\u001b[38;5;241m10\u001b[39m,\u001b[38;5;241m20\u001b[39m,\u001b[38;5;241m30\u001b[39m,\u001b[38;5;241m40\u001b[39m,\u001b[38;5;241m50\u001b[39m,\u001b[38;5;241m60\u001b[39m,\u001b[38;5;124m'\u001b[39m\u001b[38;5;124mcpp\u001b[39m\u001b[38;5;124m'\u001b[39m]\n\u001b[1;32m----> 2\u001b[0m \u001b[38;5;28mprint\u001b[39m(l\u001b[38;5;241m.\u001b[39mindex(\u001b[38;5;124m'\u001b[39m\u001b[38;5;124m30\u001b[39m\u001b[38;5;124m'\u001b[39m))\n",
      "\u001b[1;31mValueError\u001b[0m: '30' is not in list"
     ]
    }
   ],
   "source": [
    "l=[10,20,30,40,50,60,'cpp']\n",
    "print(l.index('30'))"
   ]
  },
  {
   "cell_type": "code",
   "execution_count": 17,
   "id": "d1c5f0ba-6412-4718-9f28-1b02d2844a16",
   "metadata": {},
   "outputs": [
    {
     "name": "stdout",
     "output_type": "stream",
     "text": [
      "5\n"
     ]
    }
   ],
   "source": [
    "print(l.index(60))"
   ]
  },
  {
   "cell_type": "code",
   "execution_count": 19,
   "id": "1254e065-d76c-4dd3-80da-70991d7ab2c0",
   "metadata": {},
   "outputs": [
    {
     "name": "stdout",
     "output_type": "stream",
     "text": [
      "3\n"
     ]
    }
   ],
   "source": [
    "s='I LOVE PYTHON'\n",
    "print(s.index('O'))"
   ]
  },
  {
   "cell_type": "code",
   "execution_count": 21,
   "id": "7bae4881-a6f6-4f9b-9733-2c4701381949",
   "metadata": {},
   "outputs": [
    {
     "ename": "ValueError",
     "evalue": "substring not found",
     "output_type": "error",
     "traceback": [
      "\u001b[1;31m---------------------------------------------------------------------------\u001b[0m",
      "\u001b[1;31mValueError\u001b[0m                                Traceback (most recent call last)",
      "Cell \u001b[1;32mIn[21], line 1\u001b[0m\n\u001b[1;32m----> 1\u001b[0m \u001b[38;5;28mprint\u001b[39m(s\u001b[38;5;241m.\u001b[39mindex(\u001b[38;5;124m'\u001b[39m\u001b[38;5;124mO\u001b[39m\u001b[38;5;124m'\u001b[39m,\u001b[38;5;241m4\u001b[39m,\u001b[38;5;241m11\u001b[39m))\n",
      "\u001b[1;31mValueError\u001b[0m: substring not found"
     ]
    }
   ],
   "source": [
    "print(s.index('O',4,11))"
   ]
  },
  {
   "cell_type": "code",
   "execution_count": 22,
   "id": "4a26ac81-3f1c-4070-ad55-d9832c2e1df3",
   "metadata": {},
   "outputs": [
    {
     "name": "stdout",
     "output_type": "stream",
     "text": [
      "11\n"
     ]
    }
   ],
   "source": [
    "print(s.index('O',4,12))"
   ]
  },
  {
   "cell_type": "code",
   "execution_count": 23,
   "id": "6cca23ca-d2c3-40aa-9d9a-b22657f6e6b2",
   "metadata": {},
   "outputs": [
    {
     "name": "stdout",
     "output_type": "stream",
     "text": [
      "11\n"
     ]
    }
   ],
   "source": [
    "print(s.index('O',4,13))"
   ]
  },
  {
   "cell_type": "code",
   "execution_count": 24,
   "id": "72f006e4-83f2-47a9-a5a5-6b0878f883c3",
   "metadata": {},
   "outputs": [
    {
     "name": "stdout",
     "output_type": "stream",
     "text": [
      "I\n"
     ]
    }
   ],
   "source": [
    "s=='python'\n",
    "print(s[0])"
   ]
  },
  {
   "cell_type": "code",
   "execution_count": 25,
   "id": "c67d0b37-3d42-448f-9806-f798e2118224",
   "metadata": {},
   "outputs": [
    {
     "name": "stdout",
     "output_type": "stream",
     "text": [
      "p\n"
     ]
    }
   ],
   "source": [
    "s='python'\n",
    "print(s[0])"
   ]
  },
  {
   "cell_type": "code",
   "execution_count": 26,
   "id": "1cebd74c-a539-4e69-9717-b02ed19e58a1",
   "metadata": {},
   "outputs": [
    {
     "name": "stdout",
     "output_type": "stream",
     "text": [
      "n\n"
     ]
    }
   ],
   "source": [
    "s='python'\n",
    "print(s[-1])"
   ]
  },
  {
   "cell_type": "code",
   "execution_count": 28,
   "id": "460917f3-9c96-449c-ac93-0577a00314ed",
   "metadata": {},
   "outputs": [
    {
     "ename": "IndexError",
     "evalue": "string index out of range",
     "output_type": "error",
     "traceback": [
      "\u001b[1;31m---------------------------------------------------------------------------\u001b[0m",
      "\u001b[1;31mIndexError\u001b[0m                                Traceback (most recent call last)",
      "Cell \u001b[1;32mIn[28], line 2\u001b[0m\n\u001b[0;32m      1\u001b[0m s\u001b[38;5;241m=\u001b[39m\u001b[38;5;124m'\u001b[39m\u001b[38;5;124mpython\u001b[39m\u001b[38;5;124m'\u001b[39m\n\u001b[1;32m----> 2\u001b[0m \u001b[38;5;28mprint\u001b[39m(s[\u001b[38;5;241m11\u001b[39m])\n",
      "\u001b[1;31mIndexError\u001b[0m: string index out of range"
     ]
    }
   ],
   "source": [
    "s='python'\n",
    "print(s[11])"
   ]
  },
  {
   "cell_type": "code",
   "execution_count": 16,
   "id": "6077b63a-144b-4311-a75c-114e7805d7b5",
   "metadata": {},
   "outputs": [
    {
     "ename": "TypeError",
     "evalue": "'int' object is not callable",
     "output_type": "error",
     "traceback": [
      "\u001b[31m---------------------------------------------------------------------------\u001b[39m",
      "\u001b[31mTypeError\u001b[39m                                 Traceback (most recent call last)",
      "\u001b[36mCell\u001b[39m\u001b[36m \u001b[39m\u001b[32mIn[16]\u001b[39m\u001b[32m, line 2\u001b[39m\n\u001b[32m      1\u001b[39m \u001b[38;5;28mprint\u001b[39m =\u001b[32m10\u001b[39m\n\u001b[32m----> \u001b[39m\u001b[32m2\u001b[39m \u001b[38;5;28;43mprint\u001b[39;49m\u001b[43m(\u001b[49m\u001b[33;43m\"\u001b[39;49m\u001b[33;43mhello\u001b[39;49m\u001b[33;43m\"\u001b[39;49m\u001b[43m)\u001b[49m\n",
      "\u001b[31mTypeError\u001b[39m: 'int' object is not callable"
     ]
    }
   ],
   "source": [
    "print =10\n",
    "print(\"hello\")"
   ]
  },
  {
   "cell_type": "code",
   "execution_count": 17,
   "id": "50031157-81b2-4e3b-ad33-953d6240b7f4",
   "metadata": {},
   "outputs": [
    {
     "data": {
      "text/plain": [
       "10"
      ]
     },
     "execution_count": 17,
     "metadata": {},
     "output_type": "execute_result"
    }
   ],
   "source": [
    "print"
   ]
  },
  {
   "cell_type": "code",
   "execution_count": 13,
   "id": "bbd867be-3875-4661-9688-c1111e435e22",
   "metadata": {},
   "outputs": [
    {
     "name": "stdout",
     "output_type": "stream",
     "text": [
      "hello\n"
     ]
    }
   ],
   "source": [
    "del print      # removes your redefinition\n",
    "print(\"hello\") # works again\n"
   ]
  },
  {
   "cell_type": "code",
   "execution_count": 19,
   "id": "4e0d83c7-e38a-401a-9021-61da807cd419",
   "metadata": {},
   "outputs": [
    {
     "name": "stdout",
     "output_type": "stream",
     "text": [
      "hello\n"
     ]
    }
   ],
   "source": [
    "import builtins\n",
    "print = builtins.print\n",
    "print(\"hello\")\n"
   ]
  },
  {
   "cell_type": "code",
   "execution_count": null,
   "id": "f0fb9dfb-52ac-4b1b-8838-c345debcf317",
   "metadata": {},
   "outputs": [],
   "source": []
  },
  {
   "cell_type": "code",
   "execution_count": 20,
   "id": "81467fcc-137f-4f58-a3d7-8ba460a79d44",
   "metadata": {},
   "outputs": [
    {
     "name": "stdout",
     "output_type": "stream",
     "text": [
      "hello\n"
     ]
    }
   ],
   "source": [
    "print(\"hello\")"
   ]
  }
 ],
 "metadata": {
  "kernelspec": {
   "display_name": "Python 3 (ipykernel)",
   "language": "python",
   "name": "python3"
  },
  "language_info": {
   "codemirror_mode": {
    "name": "ipython",
    "version": 3
   },
   "file_extension": ".py",
   "mimetype": "text/x-python",
   "name": "python",
   "nbconvert_exporter": "python",
   "pygments_lexer": "ipython3",
   "version": "3.13.5"
  }
 },
 "nbformat": 4,
 "nbformat_minor": 5
}
