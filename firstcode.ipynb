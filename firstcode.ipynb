{
 "cells": [
  {
   "cell_type": "code",
   "execution_count": 1,
   "id": "c1fcbe1d-a75e-4ec5-b768-84085d284385",
   "metadata": {},
   "outputs": [
    {
     "name": "stdout",
     "output_type": "stream",
     "text": [
      "['False', 'None', 'True', 'and', 'as', 'assert', 'async', 'await', 'break', 'class', 'continue', 'def', 'del', 'elif', 'else', 'except', 'finally', 'for', 'from', 'global', 'if', 'import', 'in', 'is', 'lambda', 'nonlocal', 'not', 'or', 'pass', 'raise', 'return', 'try', 'while', 'with', 'yield']\n",
      "35\n"
     ]
    }
   ],
   "source": [
    "import keyword\n",
    "all_keys=keyword.kwlist\n",
    "print(all_keys)\n",
    "print(len(all_keys))\n",
    "\n"
   ]
  },
  {
   "cell_type": "code",
   "execution_count": null,
   "id": "878c3dc6-5e62-4c49-995b-b8fcc5ba0144",
   "metadata": {},
   "outputs": [],
   "source": []
  },
  {
   "cell_type": "code",
   "execution_count": 7,
   "id": "72366250-647c-4bfe-bd31-f8f24baa439a",
   "metadata": {},
   "outputs": [
    {
     "name": "stdout",
     "output_type": "stream",
     "text": [
      "!\"#$%&'()*+,-./:;<=>?@[\\]^_`{|}~\n",
      "32\n"
     ]
    }
   ],
   "source": [
    "import string\n",
    "all_punctuation=string.punctuation\n",
    "print(all_punctuation)\n",
    "print(len(all_punctuation))"
   ]
  },
  {
   "cell_type": "markdown",
   "id": "04925a3d-8167-4c38-af62-9f4e455ebbe5",
   "metadata": {},
   "source": [
    "# Identifiers:-----"
   ]
  },
  {
   "cell_type": "raw",
   "id": "3c593f2d-3a3d-439e-83d0-c4696d4cf786",
   "metadata": {},
   "source": [
    "1.do not start with digits.\n",
    "2.star with a-z or A-Z or (_).\n",
    "3.do not use space.\n",
    "4.case sensitive.\n",
    "5.do not use any keyword."
   ]
  },
  {
   "cell_type": "markdown",
   "id": "a73bdb41-286e-459d-ac42-3c138b439e15",
   "metadata": {},
   "source": [
    "# 1.do not start with digits."
   ]
  },
  {
   "cell_type": "code",
   "execution_count": 8,
   "id": "9414efca-fd03-4ac0-b134-f670a6c444a4",
   "metadata": {},
   "outputs": [
    {
     "ename": "SyntaxError",
     "evalue": "invalid decimal literal (2575713885.py, line 1)",
     "output_type": "error",
     "traceback": [
      "\u001b[1;36m  Cell \u001b[1;32mIn[8], line 1\u001b[1;36m\u001b[0m\n\u001b[1;33m    2sun=10\u001b[0m\n\u001b[1;37m    ^\u001b[0m\n\u001b[1;31mSyntaxError\u001b[0m\u001b[1;31m:\u001b[0m invalid decimal literal\n"
     ]
    }
   ],
   "source": [
    "2sun=10\n",
    "print(2sun)"
   ]
  },
  {
   "cell_type": "markdown",
   "id": "21d2bcca-d9eb-42de-9e3f-ddd250f3f383",
   "metadata": {},
   "source": [
    "# 2.star with a-z or A-Z or (_)."
   ]
  },
  {
   "cell_type": "code",
   "execution_count": 9,
   "id": "2a8e9156-4f2b-406b-9749-c2cb822382a3",
   "metadata": {},
   "outputs": [
    {
     "name": "stdout",
     "output_type": "stream",
     "text": [
      "10\n"
     ]
    }
   ],
   "source": [
    "abc=10\n",
    "print(abc)"
   ]
  },
  {
   "cell_type": "markdown",
   "id": "62297537-f7ca-4595-adfe-3ec125f395c1",
   "metadata": {},
   "source": [
    "# 3.do not use space."
   ]
  },
  {
   "cell_type": "code",
   "execution_count": 10,
   "id": "a7bb75e2-497c-41fa-ae9a-815ccd0d91f3",
   "metadata": {},
   "outputs": [
    {
     "ename": "SyntaxError",
     "evalue": "invalid syntax (1204775362.py, line 1)",
     "output_type": "error",
     "traceback": [
      "\u001b[1;36m  Cell \u001b[1;32mIn[10], line 1\u001b[1;36m\u001b[0m\n\u001b[1;33m    t u=22\u001b[0m\n\u001b[1;37m      ^\u001b[0m\n\u001b[1;31mSyntaxError\u001b[0m\u001b[1;31m:\u001b[0m invalid syntax\n"
     ]
    }
   ],
   "source": [
    "t u=22\n",
    "print(t u)"
   ]
  },
  {
   "cell_type": "markdown",
   "id": "67810acb-1b53-4ee8-9b40-dfe9a7e48037",
   "metadata": {},
   "source": [
    "# 4.case sensitive"
   ]
  },
  {
   "cell_type": "code",
   "execution_count": 11,
   "id": "73b5a8db-27ed-4267-be42-707b657dbab4",
   "metadata": {},
   "outputs": [
    {
     "ename": "SyntaxError",
     "evalue": "invalid syntax (3736567433.py, line 1)",
     "output_type": "error",
     "traceback": [
      "\u001b[1;36m  Cell \u001b[1;32mIn[11], line 1\u001b[1;36m\u001b[0m\n\u001b[1;33m    $=1\u001b[0m\n\u001b[1;37m    ^\u001b[0m\n\u001b[1;31mSyntaxError\u001b[0m\u001b[1;31m:\u001b[0m invalid syntax\n"
     ]
    }
   ],
   "source": [
    "$=1\n",
    "print($)"
   ]
  },
  {
   "cell_type": "markdown",
   "id": "0e7e47dd-893a-4464-925a-c4b579142fdc",
   "metadata": {},
   "source": [
    "# 5.do not use any keyword."
   ]
  },
  {
   "cell_type": "code",
   "execution_count": 12,
   "id": "4540a49c-3ffc-49a9-ac9a-879f431126c6",
   "metadata": {},
   "outputs": [
    {
     "ename": "SyntaxError",
     "evalue": "cannot assign to False (2589417997.py, line 1)",
     "output_type": "error",
     "traceback": [
      "\u001b[1;36m  Cell \u001b[1;32mIn[12], line 1\u001b[1;36m\u001b[0m\n\u001b[1;33m    False=2\u001b[0m\n\u001b[1;37m    ^\u001b[0m\n\u001b[1;31mSyntaxError\u001b[0m\u001b[1;31m:\u001b[0m cannot assign to False\n"
     ]
    }
   ],
   "source": [
    "False=2\n",
    "print(False)"
   ]
  },
  {
   "cell_type": "markdown",
   "id": "fb028edd-d1ad-45c3-83f6-be2931eb713f",
   "metadata": {},
   "source": [
    "# Integer-----\n"
   ]
  },
  {
   "cell_type": "code",
   "execution_count": 1,
   "id": "48b9de0c-f1f2-40af-90d3-912dc9cf76f5",
   "metadata": {},
   "outputs": [
    {
     "name": "stdout",
     "output_type": "stream",
     "text": [
      "<class 'int'>\n"
     ]
    }
   ],
   "source": [
    "x=10\n",
    "print(type(x))"
   ]
  },
  {
   "cell_type": "markdown",
   "id": "881c152f-4584-4c90-9adc-8ac5fb1d88ff",
   "metadata": {},
   "source": [
    "# complex number(real no. or imaginary no.)"
   ]
  },
  {
   "cell_type": "code",
   "execution_count": 2,
   "id": "4bb3b947-20f8-46ea-99f7-483651c9fe8a",
   "metadata": {},
   "outputs": [
    {
     "name": "stdout",
     "output_type": "stream",
     "text": [
      "<class 'complex'>\n"
     ]
    }
   ],
   "source": [
    "x=5+3j\n",
    "print(type(x))"
   ]
  },
  {
   "cell_type": "markdown",
   "id": "ff7450c4-326f-427e-bc9f-322d89d69c0a",
   "metadata": {},
   "source": [
    "# string-: Collection of characters that represent in ''/\"\"/'\" '\"\"/"
   ]
  },
  {
   "cell_type": "code",
   "execution_count": 3,
   "id": "cb08e476-bae3-4625-8c3e-abedb7361ade",
   "metadata": {},
   "outputs": [
    {
     "name": "stdout",
     "output_type": "stream",
     "text": [
      "<class 'str'>\n"
     ]
    }
   ],
   "source": [
    "x='python'\n",
    "print(type(x))\n"
   ]
  },
  {
   "cell_type": "code",
   "execution_count": 5,
   "id": "216ef247-d648-4d52-abf9-c7609c786aef",
   "metadata": {},
   "outputs": [
    {
     "ename": "TypeError",
     "evalue": "type.__new__() argument 2 must be tuple, not str",
     "output_type": "error",
     "traceback": [
      "\u001b[1;31m---------------------------------------------------------------------------\u001b[0m",
      "\u001b[1;31mTypeError\u001b[0m                                 Traceback (most recent call last)",
      "Cell \u001b[1;32mIn[5], line 7\u001b[0m\n\u001b[0;32m      3\u001b[0m z\u001b[38;5;241m=\u001b[39m\u001b[38;5;124m'''\u001b[39m\u001b[38;5;124mcpp\u001b[39m\u001b[38;5;124m'''\u001b[39m\n\u001b[0;32m      4\u001b[0m \u001b[38;5;66;03m# print(type(x))\u001b[39;00m\n\u001b[0;32m      5\u001b[0m \u001b[38;5;66;03m# print(type(y))\u001b[39;00m\n\u001b[0;32m      6\u001b[0m \u001b[38;5;66;03m# print(type(z))\u001b[39;00m\n\u001b[1;32m----> 7\u001b[0m \u001b[38;5;28mprint\u001b[39m(\u001b[38;5;28mtype\u001b[39m(x,y,z))\n",
      "\u001b[1;31mTypeError\u001b[0m: type.__new__() argument 2 must be tuple, not str"
     ]
    }
   ],
   "source": [
    "x='python'\n",
    "y=\"java\"\n",
    "z='''cpp'''\n",
    "# print(type(x))\n",
    "# print(type(y))\n",
    "# print(type(z))\n",
    "print(type(x,y,z))"
   ]
  },
  {
   "cell_type": "code",
   "execution_count": 7,
   "id": "383a8172-6a3b-4dfb-8cab-82a9245305f4",
   "metadata": {},
   "outputs": [
    {
     "name": "stdout",
     "output_type": "stream",
     "text": [
      "<class 'str'>\n",
      "<class 'str'>\n",
      "<class 'str'>\n"
     ]
    }
   ],
   "source": [
    "x='python'\n",
    "y=\"java\"\n",
    "z='''cpp'''\n",
    "print(type(x))\n",
    "print(type(y))\n",
    "print(type(z))"
   ]
  },
  {
   "cell_type": "code",
   "execution_count": 8,
   "id": "e51faafc-fc92-48c2-b230-75af0e420e1f",
   "metadata": {},
   "outputs": [
    {
     "name": "stdout",
     "output_type": "stream",
     "text": [
      "this is python class\n",
      "this is java class\n",
      "this\n",
      "is \n",
      "python\n",
      "class\n"
     ]
    }
   ],
   "source": [
    "s='this is python class'\n",
    "s1=\"this is java class\"\n",
    "s2='''this\n",
    "is \n",
    "python\n",
    "class'''\n",
    "print(s)\n",
    "print(s1)\n",
    "print(s2)\n",
    "\n",
    "\n"
   ]
  },
  {
   "cell_type": "code",
   "execution_count": 5,
   "id": "f834ed15-c2a9-4985-a0a1-494a5a3a0b37",
   "metadata": {},
   "outputs": [
    {
     "ename": "SyntaxError",
     "evalue": "unterminated string literal (detected at line 1) (621198596.py, line 1)",
     "output_type": "error",
     "traceback": [
      "\u001b[1;36m  Cell \u001b[1;32mIn[5], line 1\u001b[1;36m\u001b[0m\n\u001b[1;33m    s2=\"this\u001b[0m\n\u001b[1;37m       ^\u001b[0m\n\u001b[1;31mSyntaxError\u001b[0m\u001b[1;31m:\u001b[0m unterminated string literal (detected at line 1)\n"
     ]
    }
   ],
   "source": [
    "s2=\"this \n",
    "is \n",
    "python\n",
    "class\"\n",
    "print(s2)"
   ]
  },
  {
   "cell_type": "code",
   "execution_count": 3,
   "id": "c8ee03ff-91fc-4d0b-a8ee-aa0642f63183",
   "metadata": {},
   "outputs": [
    {
     "name": "stdout",
     "output_type": "stream",
     "text": [
      "this is 'python' class\n",
      "this is \"python\" 'java' class\n"
     ]
    }
   ],
   "source": [
    "\n",
    "s1=\"this is 'python' class\"\n",
    "s2='''this is \"python\" 'java' class'''\n",
    "\n",
    "print(s1)\n",
    "print(s2)\n"
   ]
  },
  {
   "cell_type": "code",
   "execution_count": 2,
   "id": "41004827-1572-4f2d-823b-3e0b3c606b91",
   "metadata": {},
   "outputs": [
    {
     "name": "stdout",
     "output_type": "stream",
     "text": [
      "this is \"python\" class\n"
     ]
    }
   ],
   "source": [
    "s='this is \"python\" class'\n",
    "print(s)"
   ]
  },
  {
   "cell_type": "code",
   "execution_count": 1,
   "id": "6c963695-e518-410e-ab07-432096869a0c",
   "metadata": {},
   "outputs": [
    {
     "name": "stdout",
     "output_type": "stream",
     "text": [
      "this is 'python' class\n",
      "this is \"python\" 'java' class\n"
     ]
    }
   ],
   "source": [
    "s1=\"this is 'python' class\"\n",
    "s2='''this is \"python\" 'java' class'''\n",
    "print(s1)\n",
    "print(s2)"
   ]
  },
  {
   "cell_type": "code",
   "execution_count": null,
   "id": "d061c9b0-e613-400e-9615-1804c33403df",
   "metadata": {},
   "outputs": [],
   "source": [
    "s1=\"this is 'python' class\"\n",
    "s2='''this is \"python\" 'java' class'''\n",
    "print(s1)\n",
    "print(s2)"
   ]
  },
  {
   "cell_type": "markdown",
   "id": "0532e8cb-f3a0-4d4c-865b-a8d6667c5ebe",
   "metadata": {},
   "source": [
    "# list------------"
   ]
  },
  {
   "cell_type": "code",
   "execution_count": 1,
   "id": "92eaa493-ee7b-4063-90fa-94fc905bc043",
   "metadata": {},
   "outputs": [
    {
     "name": "stdout",
     "output_type": "stream",
     "text": [
      "[1, 2, 3, 4, 5]\n",
      "<class 'list'>\n"
     ]
    }
   ],
   "source": [
    "l=[1,2,3,4,5]\n",
    "print(l)\n",
    "print(type(l))"
   ]
  },
  {
   "cell_type": "code",
   "execution_count": 2,
   "id": "02e86401-f968-4a38-94ce-67c992427baa",
   "metadata": {},
   "outputs": [
    {
     "name": "stdout",
     "output_type": "stream",
     "text": [
      "[1, 'cpp', 'java', 'python', 2, 9, 8]\n",
      "7\n",
      "<class 'list'>\n"
     ]
    }
   ],
   "source": [
    "l=[1,'cpp','java','python',2,9,8]\n",
    "print(l)\n",
    "print(len(l))\n",
    "print(type(l))"
   ]
  },
  {
   "cell_type": "markdown",
   "id": "17779da5-610a-4776-b022-f46fff6e6023",
   "metadata": {},
   "source": [
    "# Tuple-------"
   ]
  },
  {
   "cell_type": "code",
   "execution_count": 3,
   "id": "9d295065-7255-4231-9769-a3d37e82839e",
   "metadata": {},
   "outputs": [
    {
     "name": "stdout",
     "output_type": "stream",
     "text": [
      "(1, 2, 3, 4, 55, 6)\n",
      "6\n",
      "<class 'tuple'>\n"
     ]
    }
   ],
   "source": [
    "t=(1,2,3,4,55,6,)\n",
    "print(t)\n",
    "print(len(t))\n",
    "print(type(t))"
   ]
  },
  {
   "cell_type": "code",
   "execution_count": 4,
   "id": "e87e0da2-a827-4924-a948-7969871f4d12",
   "metadata": {},
   "outputs": [
    {
     "name": "stdout",
     "output_type": "stream",
     "text": [
      "(1, 'java', 'python', 4, 4)\n",
      "5\n",
      "<class 'tuple'>\n"
     ]
    }
   ],
   "source": [
    "t=(1,'java','python',4,4)\n",
    "print(t)\n",
    "print(len(t))\n",
    "print(type(t))"
   ]
  },
  {
   "cell_type": "raw",
   "id": "c98cf583-8342-4c09-93f3-d4664b19c4b8",
   "metadata": {},
   "source": [
    "1.list is collection of element(homogeneous and hetrogeneous)represent by []\n",
    "2. Tople is collection of element(homogeneous and hetrogeneous)represent by ()"
   ]
  },
  {
   "cell_type": "markdown",
   "id": "53ae0c1c-40b6-49d5-bde2-6b2dcb59f319",
   "metadata": {},
   "source": [
    "# dictionary-------collection of key and value pairs.\n",
    "# representin {} with comma(,)"
   ]
  },
  {
   "cell_type": "code",
   "execution_count": 5,
   "id": "57435933-b8c8-47d3-b79f-beab57ff54ce",
   "metadata": {},
   "outputs": [
    {
     "name": "stdout",
     "output_type": "stream",
     "text": [
      "{'name': 'suraj', 'age': 22, 'quali': 'b.tech'}\n",
      "3\n",
      "<class 'dict'>\n"
     ]
    }
   ],
   "source": [
    "d={'name':'suraj','age':22,'quali':'b.tech'}\n",
    "print(d)\n",
    "print(len(d))\n",
    "print(type(d))"
   ]
  },
  {
   "cell_type": "markdown",
   "id": "7a6fc42b-ebf2-4879-87e8-f32b9ae4e588",
   "metadata": {},
   "source": [
    "# Set------"
   ]
  },
  {
   "cell_type": "code",
   "execution_count": 6,
   "id": "12c11a87-34ca-4ecc-8b87-66a437a6a605",
   "metadata": {},
   "outputs": [
    {
     "name": "stdout",
     "output_type": "stream",
     "text": [
      "{2, 3, 4, 'sun', 5, 'java'}\n",
      "6\n",
      "<class 'set'>\n"
     ]
    }
   ],
   "source": [
    "s={2,4,'sun',5,2,'java','sun',3,5}\n",
    "print(s)\n",
    "print(len(s))\n",
    "print(type(s))"
   ]
  },
  {
   "cell_type": "markdown",
   "id": "81b2ca73-1f93-4066-b9a4-23589e768630",
   "metadata": {},
   "source": [
    "# Frozenset-------\n"
   ]
  },
  {
   "cell_type": "code",
   "execution_count": 1,
   "id": "467d0a00-304d-42cd-92dc-90064e8a0571",
   "metadata": {},
   "outputs": [
    {
     "name": "stdout",
     "output_type": "stream",
     "text": [
      "frozenset({2, 3, 4, 8, 10})\n",
      "<class 'frozenset'>\n",
      "5\n",
      "frozenset({10, 20, 4, 6})\n",
      "<class 'frozenset'>\n",
      "4\n",
      "frozenset({'j', 'a', 'v'})\n",
      "<class 'frozenset'>\n",
      "3\n"
     ]
    }
   ],
   "source": [
    "l=[3,4,10,8,2,8]\n",
    "t=(6,20,4,6,10)\n",
    "s='java'\n",
    "fs1=frozenset(l)\n",
    "fs2=frozenset(t)\n",
    "fs3=frozenset(s)\n",
    "print(fs1)\n",
    "print(type(fs1))\n",
    "print(len(fs1))\n",
    "print(fs2)\n",
    "print(type(fs2))\n",
    "print(len(fs2))\n",
    "print(fs3)\n",
    "print(type(fs3))\n",
    "print(len(fs3))"
   ]
  },
  {
   "cell_type": "markdown",
   "id": "37e569d9-b26b-4120-905b-a95c12b84408",
   "metadata": {},
   "source": [
    "# Boolean---------"
   ]
  },
  {
   "cell_type": "code",
   "execution_count": 2,
   "id": "946fed24-8e2a-4df8-9cd9-422dbbd07fd5",
   "metadata": {},
   "outputs": [
    {
     "name": "stdout",
     "output_type": "stream",
     "text": [
      "True\n",
      "<class 'bool'>\n"
     ]
    },
    {
     "ename": "TypeError",
     "evalue": "object of type 'bool' has no len()",
     "output_type": "error",
     "traceback": [
      "\u001b[1;31m---------------------------------------------------------------------------\u001b[0m",
      "\u001b[1;31mTypeError\u001b[0m                                 Traceback (most recent call last)",
      "Cell \u001b[1;32mIn[2], line 4\u001b[0m\n\u001b[0;32m      2\u001b[0m \u001b[38;5;28mprint\u001b[39m(x)\n\u001b[0;32m      3\u001b[0m \u001b[38;5;28mprint\u001b[39m(\u001b[38;5;28mtype\u001b[39m(x))\n\u001b[1;32m----> 4\u001b[0m \u001b[38;5;28mprint\u001b[39m(\u001b[38;5;28mlen\u001b[39m(x))\n",
      "\u001b[1;31mTypeError\u001b[0m: object of type 'bool' has no len()"
     ]
    }
   ],
   "source": [
    "x=True\n",
    "print(x)\n",
    "print(type(x))\n",
    "print(len(x))"
   ]
  },
  {
   "cell_type": "code",
   "execution_count": 3,
   "id": "f1a57627-466c-4b03-b930-6ca88cd5dc13",
   "metadata": {},
   "outputs": [
    {
     "name": "stdout",
     "output_type": "stream",
     "text": [
      "True\n",
      "<class 'str'>\n"
     ]
    }
   ],
   "source": [
    "x='True'\n",
    "print(x)\n",
    "print(type(x))"
   ]
  },
  {
   "cell_type": "code",
   "execution_count": 4,
   "id": "f0fb571b-70f0-4198-89a0-fc5e50a94309",
   "metadata": {
    "scrolled": true
   },
   "outputs": [
    {
     "name": "stdout",
     "output_type": "stream",
     "text": [
      "False\n",
      "<class 'bool'>\n"
     ]
    }
   ],
   "source": [
    "x=False\n",
    "print(x)\n",
    "print(type(x))"
   ]
  },
  {
   "cell_type": "markdown",
   "id": "ad7f1a93-f114-40cd-9e56-9790e8f52460",
   "metadata": {},
   "source": [
    "# Literals-----------"
   ]
  },
  {
   "cell_type": "raw",
   "id": "3893417d-2ab1-4994-9933-784454f05bc8",
   "metadata": {},
   "source": [
    "1. literals: (constant value)"
   ]
  },
  {
   "cell_type": "markdown",
   "id": "d6359398-deb2-4e7b-b213-b3d703c31b67",
   "metadata": {},
   "source": [
    "# Operators------------\n",
    "# 1.Arithmetics(+,-,*,/,%(modules),//(floor),**(exponantial or power))"
   ]
  },
  {
   "cell_type": "code",
   "execution_count": 6,
   "id": "819bf4d1-acf8-461b-b764-7f8cc515d6b2",
   "metadata": {},
   "outputs": [
    {
     "name": "stdout",
     "output_type": "stream",
     "text": [
      "30\n",
      "<class 'int'>\n",
      "-10\n",
      "<class 'int'>\n",
      "200\n",
      "<class 'int'>\n",
      "0.5\n",
      "<class 'float'>\n",
      "10\n",
      "<class 'int'>\n",
      "0\n",
      "100000000000000000000\n",
      "<class 'int'>\n"
     ]
    }
   ],
   "source": [
    "x=10\n",
    "y=20\n",
    "z=x+y\n",
    "print(z)\n",
    "print(type(z))\n",
    "z=x-y\n",
    "print(z)\n",
    "print(type(z))\n",
    "z=x*y\n",
    "print(z)\n",
    "print(type(z))\n",
    "z=x/y\n",
    "print(z)\n",
    "print(type(z))\n",
    "z=x%y\n",
    "print(z)\n",
    "print(type(z))\n",
    "z=x//y\n",
    "print(z)\n",
    "z=x**y\n",
    "print(z)\n",
    "print(type(z))"
   ]
  },
  {
   "cell_type": "code",
   "execution_count": 2,
   "id": "4a4ca39c-91bd-42f7-9953-3dcd994344e0",
   "metadata": {},
   "outputs": [
    {
     "name": "stdout",
     "output_type": "stream",
     "text": [
      "frozenset({9, 2, 6})\n"
     ]
    }
   ],
   "source": [
    "l=[2,6,2,6,9]\n",
    "frozenset(l)\n",
    "print(frozenset(l))"
   ]
  },
  {
   "cell_type": "code",
   "execution_count": 3,
   "id": "65b70241-c6a4-4f8b-bdc1-c4c5abdb5343",
   "metadata": {},
   "outputs": [
    {
     "data": {
      "text/plain": [
       "frozenset({2, 6, 9})"
      ]
     },
     "execution_count": 3,
     "metadata": {},
     "output_type": "execute_result"
    }
   ],
   "source": [
    "l=[2,6,2,6,9]\n",
    "frozenset(l)"
   ]
  },
  {
   "cell_type": "code",
   "execution_count": 4,
   "id": "3ebebb00-2374-4f4b-b2fb-7e008a876f92",
   "metadata": {},
   "outputs": [
    {
     "name": "stdout",
     "output_type": "stream",
     "text": [
      "[2, 6, 2, 6, 9]\n"
     ]
    }
   ],
   "source": [
    "l=[2,6,2,6,9]\n",
    "frozenset(l)\n",
    "print(l)"
   ]
  },
  {
   "cell_type": "markdown",
   "id": "a6826b07-af31-437f-acdb-974a33b09355",
   "metadata": {},
   "source": [
    "# Assignment--------(=,+=,*=,/=,//=,%=,**=)"
   ]
  },
  {
   "cell_type": "code",
   "execution_count": 2,
   "id": "d36416d0-776a-4f3f-a965-e1d2b272b444",
   "metadata": {},
   "outputs": [
    {
     "name": "stdout",
     "output_type": "stream",
     "text": [
      "15\n"
     ]
    }
   ],
   "source": [
    "x=10\n",
    "#x+=5\n",
    "x=x+5\n",
    "print(x)"
   ]
  },
  {
   "cell_type": "code",
   "execution_count": 3,
   "id": "8175f7c9-3aee-441e-935f-512d177a3406",
   "metadata": {},
   "outputs": [
    {
     "name": "stdout",
     "output_type": "stream",
     "text": [
      "25\n"
     ]
    }
   ],
   "source": [
    "x+=5\n",
    "x=x+5\n",
    "print(x)"
   ]
  },
  {
   "cell_type": "markdown",
   "id": "75664ec2-cd64-48e3-aec0-506ba97a7d25",
   "metadata": {},
   "source": [
    "# comparision operators-----(return boolean value)"
   ]
  },
  {
   "cell_type": "raw",
   "id": "18d50c9d-cc24-4a08-b46c-df2546460280",
   "metadata": {},
   "source": [
    "1. ==,<,>,<=,>=,!="
   ]
  },
  {
   "cell_type": "code",
   "execution_count": 4,
   "id": "5988680f-4ebf-41d8-9a62-cd61f22162ff",
   "metadata": {},
   "outputs": [
    {
     "name": "stdout",
     "output_type": "stream",
     "text": [
      "False\n"
     ]
    }
   ],
   "source": [
    "x=10\n",
    "y=20\n",
    "print(x==y)"
   ]
  },
  {
   "cell_type": "code",
   "execution_count": 5,
   "id": "18d07290-1534-48d1-a49d-cbf4d8b04796",
   "metadata": {},
   "outputs": [
    {
     "name": "stdout",
     "output_type": "stream",
     "text": [
      "True\n"
     ]
    }
   ],
   "source": [
    "x=10\n",
    "y=20\n",
    "print(x!=y)"
   ]
  },
  {
   "cell_type": "code",
   "execution_count": 6,
   "id": "811b2057-339d-47ec-8a2e-22ae0e374cc4",
   "metadata": {},
   "outputs": [
    {
     "name": "stdout",
     "output_type": "stream",
     "text": [
      "False\n"
     ]
    }
   ],
   "source": [
    "x=10\n",
    "y=20\n",
    "print(x>y)"
   ]
  },
  {
   "cell_type": "code",
   "execution_count": 7,
   "id": "36833821-7d4d-4307-af76-58e6912b3806",
   "metadata": {},
   "outputs": [
    {
     "name": "stdout",
     "output_type": "stream",
     "text": [
      "True\n"
     ]
    }
   ],
   "source": [
    "x=10\n",
    "y=20\n",
    "print(x<y)"
   ]
  },
  {
   "cell_type": "code",
   "execution_count": 8,
   "id": "72f7b0b2-e79b-4bd3-a87e-3d7508793318",
   "metadata": {},
   "outputs": [
    {
     "name": "stdout",
     "output_type": "stream",
     "text": [
      "True\n"
     ]
    }
   ],
   "source": [
    "x=20\n",
    "y=20\n",
    "print(x<=y)"
   ]
  },
  {
   "cell_type": "code",
   "execution_count": 9,
   "id": "7464fe47-051b-4de7-b54a-22b715105958",
   "metadata": {},
   "outputs": [
    {
     "name": "stdout",
     "output_type": "stream",
     "text": [
      "False\n"
     ]
    }
   ],
   "source": [
    "x=10\n",
    "y=20\n",
    "print(x>=y)"
   ]
  },
  {
   "cell_type": "code",
   "execution_count": 10,
   "id": "3fb5e446-39be-42f0-a8f3-dd0fa63c5420",
   "metadata": {},
   "outputs": [
    {
     "name": "stdout",
     "output_type": "stream",
     "text": [
      "True\n"
     ]
    }
   ],
   "source": [
    "x=10\n",
    "y=20\n",
    "print(x!=y)"
   ]
  },
  {
   "cell_type": "markdown",
   "id": "a60969c5-59df-42ec-a707-ea041f5eb19a",
   "metadata": {},
   "source": [
    "# Logical operator"
   ]
  },
  {
   "cell_type": "raw",
   "id": "9b16f6f2-0f86-4f8d-bbc7-f53961cd2951",
   "metadata": {},
   "source": [
    "1. and,or, not"
   ]
  },
  {
   "cell_type": "code",
   "execution_count": 11,
   "id": "7e3d3957-9d5c-40c4-adbe-6e74ec5a2ab5",
   "metadata": {},
   "outputs": [
    {
     "name": "stdout",
     "output_type": "stream",
     "text": [
      "True\n"
     ]
    }
   ],
   "source": [
    "x=10\n",
    "y=20\n",
    "z=30\n",
    "print(x<=y and y<=z and x<=z)"
   ]
  },
  {
   "cell_type": "code",
   "execution_count": 12,
   "id": "2800d324-4004-481a-93de-c96db0203d58",
   "metadata": {},
   "outputs": [
    {
     "name": "stdout",
     "output_type": "stream",
     "text": [
      "False\n"
     ]
    }
   ],
   "source": [
    "print(x<=y and y<=z and x>=z)"
   ]
  },
  {
   "cell_type": "code",
   "execution_count": 13,
   "id": "3e1092cb-0a82-4fd5-9dd4-34d9f8a235fc",
   "metadata": {},
   "outputs": [
    {
     "name": "stdout",
     "output_type": "stream",
     "text": [
      "True\n"
     ]
    }
   ],
   "source": [
    "print(x<=y or y<=z or x>=z)"
   ]
  },
  {
   "cell_type": "code",
   "execution_count": 14,
   "id": "bd2602a5-9506-47f2-b5b5-8bcfbbfd7763",
   "metadata": {},
   "outputs": [
    {
     "name": "stdout",
     "output_type": "stream",
     "text": [
      "False\n"
     ]
    }
   ],
   "source": [
    "print(x>=y or y>=z or x>=z)"
   ]
  },
  {
   "cell_type": "raw",
   "id": "c47ff113-de34-4d04-b15d-f361859d0338",
   "metadata": {},
   "source": [
    "1. (not), turn the Result opposite "
   ]
  },
  {
   "cell_type": "code",
   "execution_count": 15,
   "id": "fc9f6775-cc09-4ab2-83c6-fccbab7bc181",
   "metadata": {},
   "outputs": [
    {
     "name": "stdout",
     "output_type": "stream",
     "text": [
      "False\n"
     ]
    }
   ],
   "source": [
    "print(not(x<y))"
   ]
  },
  {
   "cell_type": "code",
   "execution_count": null,
   "id": "f2fa236c-4015-4cec-ae42-5b0a3111c5ec",
   "metadata": {},
   "outputs": [],
   "source": []
  }
 ],
 "metadata": {
  "kernelspec": {
   "display_name": "Python [conda env:base] *",
   "language": "python",
   "name": "conda-base-py"
  },
  "language_info": {
   "codemirror_mode": {
    "name": "ipython",
    "version": 3
   },
   "file_extension": ".py",
   "mimetype": "text/x-python",
   "name": "python",
   "nbconvert_exporter": "python",
   "pygments_lexer": "ipython3",
   "version": "3.12.7"
  }
 },
 "nbformat": 4,
 "nbformat_minor": 5
}
