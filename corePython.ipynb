{
 "cells": [
  {
   "cell_type": "markdown",
   "id": "faaef44b-c8f3-40f8-a3c1-f019e68284e9",
   "metadata": {},
   "source": [
    "# Data types-------------"
   ]
  },
  {
   "cell_type": "raw",
   "id": "1f19c866-8ddd-4d72-8879-7c49c7ee52ea",
   "metadata": {},
   "source": [
    "1. Numeric Types\n",
    "These types store numerical values.\n",
    "2. Sequence Types\n",
    "These types represent an ordered collection of items. Each item is identified by its index (starting from 0).\n",
    "3. Set Types\n",
    "These types represent an unordered collection of unique items. They are primarily used to perform mathematical set operations like union, intersection, difference, etc.\n",
    "4. Mapping Type\n",
    "5. Boolean Type\n",
    "6. None Type\n",
    "7. Binary Types (Bytes and Byte Arrays)\n",
    "These are used to work with binary data.\n"
   ]
  },
  {
   "cell_type": "markdown",
   "id": "334467c1-4223-4610-92e9-00d875e2fbb2",
   "metadata": {},
   "source": [
    "# 2.Sequence types---------------------"
   ]
  },
  {
   "cell_type": "raw",
   "id": "14d514a3-0477-45d6-89ce-d3d85e8b045d",
   "metadata": {},
   "source": [
    "#str (Strings):An immutable sequence of Unicode characters. Used to represent text.\n",
    "Enclosed in single (' '), double (\" \"), or triple (''' ''' or \"\"\" \"\"\") quotes.\n",
    "Examples: \"Hello, World!\", 'Python', '''Multi-line string'''\n",
    "\n",
    "#list (Lists):A mutable, ordered sequence of items. Items can be of different data types.\n",
    "Enclosed in square brackets [].\n",
    "Examples: [1, 2, 3], ['apple', 'banana', 'cherry'], [1, 'hello', 3.14]\n",
    "\n",
    "#tuple (Tuples):An immutable, ordered sequence of items. Items can be of different data types.\n",
    "Enclosed in parentheses ().\n",
    "Often used for fixed collections of items, especially for function returns.\n",
    "Examples: (1, 2, 3), ('red', 'green', 'blue'), (1, 'a', True)"
   ]
  },
  {
   "cell_type": "markdown",
   "id": "bb78a971-b0a7-4337-889c-24380e15bcb2",
   "metadata": {},
   "source": [
    "# a. string:------------------------------"
   ]
  },
  {
   "cell_type": "raw",
   "id": "f5ecb7df-ec30-4b90-a575-5370332570aa",
   "metadata": {},
   "source": [
    "📌 Bonus: Common String Methods (Not built-in, but very useful)\n",
    "Method\tDescription\tExample\n",
    ".upper()\tConverts to uppercase\t\n",
    ".lower()\tConverts to lowercase\t\n",
    ".strip()\tRemoves surrounding spaces\n",
    ".split()\tSplits string into list\t\n",
    ".join()\t    Joins list into string\t\n",
    ".replace()\tReplaces substrings\n",
    ".find() \tFinds index of substring"
   ]
  },
  {
   "cell_type": "raw",
   "id": "e0ed55ea-3640-4255-954b-f4ac750ab5cc",
   "metadata": {},
   "source": [
    "✅ Python Built-in Functions for Strings\n",
    "Function\tDescription\tExample\n",
    "len()\tReturns the number of characters in a string\t\n",
    "str()\tConverts a value to a string\t\n",
    "ord()\tReturns ASCII/unicode of a character\t\n",
    "chr()\tReturns character from ASCII/unicode number\t\n",
    "format()\tFormats strings with variables\t\n",
    "repr()\tReturns string with escape characters\t       repr(\"Hi\\n\") → \"'Hi\\\\n'\"\n",
    "input()\tTakes string input from user\t               input(\"Name: \")\n",
    "print()\tPrints string output\t                       print(\"Hello\")\n",
    "type()\tReturns type of string\t\n",
    "eval()\tEvaluates string as Python expression (⚠️ careful)\teval(\"3 + 4\") → 7\n",
    "ascii()\tReturns readable representation of non-ASCII text\tascii(\"ñ\") → \"'\\\\xf1'\""
   ]
  },
  {
   "cell_type": "code",
   "execution_count": 2,
   "id": "ffc76678-1b68-4ab8-a65b-2c76284c01b6",
   "metadata": {},
   "outputs": [
    {
     "name": "stdout",
     "output_type": "stream",
     "text": [
      "y\n",
      "h\n",
      "<class 'str'>\n",
      "6\n",
      "python\n",
      "2206730452208\n"
     ]
    }
   ],
   "source": [
    "s='python'\n",
    "print(max(s))\n",
    "print(min(s))\n",
    "print(type(s))\n",
    "print(len(s))\n",
    "print((s))\n",
    "print(id(s))"
   ]
  },
  {
   "cell_type": "code",
   "execution_count": 3,
   "id": "13bb7712-b539-4029-98f8-bed87b0b6b66",
   "metadata": {},
   "outputs": [
    {
     "name": "stdout",
     "output_type": "stream",
     "text": [
      "8\n"
     ]
    }
   ],
   "source": [
    "s=\"Welcome hello hello welcome\"\n",
    "print(s.find(\"hello\"))"
   ]
  },
  {
   "cell_type": "code",
   "execution_count": 8,
   "id": "2188061c-383d-44d2-8813-3c82313963a6",
   "metadata": {},
   "outputs": [
    {
     "name": "stdout",
     "output_type": "stream",
     "text": [
      "14\n"
     ]
    }
   ],
   "source": [
    "print(s.find(\"hello\",10,20))"
   ]
  },
  {
   "cell_type": "code",
   "execution_count": 5,
   "id": "e41cff0c-953c-4345-aab6-6450cce591d3",
   "metadata": {},
   "outputs": [
    {
     "name": "stdout",
     "output_type": "stream",
     "text": [
      "0\n"
     ]
    }
   ],
   "source": [
    "print(s.index(\"Welcome\"))"
   ]
  },
  {
   "cell_type": "code",
   "execution_count": 6,
   "id": "59fa7c10-e058-49ca-b1a7-897f36fba178",
   "metadata": {},
   "outputs": [
    {
     "name": "stdout",
     "output_type": "stream",
     "text": [
      "2\n"
     ]
    }
   ],
   "source": [
    "print(s.count(\"hello\"))"
   ]
  },
  {
   "cell_type": "code",
   "execution_count": 4,
   "id": "e593b352-0dbb-4229-9020-ef0f1a0162a9",
   "metadata": {},
   "outputs": [
    {
     "name": "stdout",
     "output_type": "stream",
     "text": [
      "I LOVE PYTHON\n"
     ]
    }
   ],
   "source": [
    "s=\"I love python\"\n",
    "print(s.upper())"
   ]
  },
  {
   "cell_type": "code",
   "execution_count": 5,
   "id": "997d6fcc-6c11-4bce-8701-8b49877a12ea",
   "metadata": {},
   "outputs": [
    {
     "name": "stdout",
     "output_type": "stream",
     "text": [
      "i love python\n"
     ]
    }
   ],
   "source": [
    "print(s.lower())"
   ]
  },
  {
   "cell_type": "code",
   "execution_count": 3,
   "id": "b017881f-eba7-43d9-83ed-feeeefeea98a",
   "metadata": {},
   "outputs": [
    {
     "name": "stdout",
     "output_type": "stream",
     "text": [
      "False\n"
     ]
    }
   ],
   "source": [
    "s=\"I love python\"\n",
    "print(s.isalnum())"
   ]
  },
  {
   "cell_type": "code",
   "execution_count": 4,
   "id": "b6f2444b-58ef-4d5a-95f2-70290cd4b2aa",
   "metadata": {},
   "outputs": [
    {
     "name": "stdout",
     "output_type": "stream",
     "text": [
      "True\n"
     ]
    }
   ],
   "source": [
    "s=\"Ilovepython\"\n",
    "print(s.isalnum())"
   ]
  },
  {
   "cell_type": "code",
   "execution_count": 7,
   "id": "c3d77464-a623-4852-9ba7-fc7255483082",
   "metadata": {},
   "outputs": [
    {
     "name": "stdout",
     "output_type": "stream",
     "text": [
      "False\n"
     ]
    }
   ],
   "source": [
    "s=\"123Ilovepython\"\n",
    "print(s.isnumeric())"
   ]
  },
  {
   "cell_type": "code",
   "execution_count": 9,
   "id": "d7383176-1378-4f0f-a8b9-2c44f8ccc432",
   "metadata": {},
   "outputs": [
    {
     "name": "stdout",
     "output_type": "stream",
     "text": [
      "False\n"
     ]
    }
   ],
   "source": [
    "s=\"Welcome hello hello welcome\"\n",
    "print(s.startswith(\"hello\"))"
   ]
  },
  {
   "cell_type": "code",
   "execution_count": 11,
   "id": "90ad2a94-071b-45ce-a1ba-d1c204838eda",
   "metadata": {},
   "outputs": [
    {
     "name": "stdout",
     "output_type": "stream",
     "text": [
      "True\n"
     ]
    }
   ],
   "source": [
    "s=\"Welcome hello hello welcome\"\n",
    "print(s.startswith(\"W\"))"
   ]
  },
  {
   "cell_type": "code",
   "execution_count": 12,
   "id": "0eff17b0-08e7-4e9c-b386-47589291111a",
   "metadata": {},
   "outputs": [
    {
     "name": "stdout",
     "output_type": "stream",
     "text": [
      "True\n"
     ]
    }
   ],
   "source": [
    "s=\"Welcome hello hello welcome\"\n",
    "print(s.endswith(\"welcome\"))"
   ]
  },
  {
   "cell_type": "code",
   "execution_count": 14,
   "id": "5a19b9be-c0ab-40f4-b452-c15b221235e6",
   "metadata": {},
   "outputs": [
    {
     "name": "stdout",
     "output_type": "stream",
     "text": [
      "False\n"
     ]
    }
   ],
   "source": [
    "s=\"Welcome hello hello welcome\"\n",
    "print(s.isspace())"
   ]
  },
  {
   "cell_type": "raw",
   "id": "15c07d5f-c644-469e-a084-a575e47672d4",
   "metadata": {},
   "source": [
    "i.ord():-char to ascii.----------"
   ]
  },
  {
   "cell_type": "code",
   "execution_count": 1,
   "id": "dc25762d-c90a-4e5c-b083-a4e494ee3ce6",
   "metadata": {},
   "outputs": [
    {
     "name": "stdout",
     "output_type": "stream",
     "text": [
      "32\n"
     ]
    }
   ],
   "source": [
    "print(ord(' '))"
   ]
  },
  {
   "cell_type": "code",
   "execution_count": 2,
   "id": "3dc7afff-772a-44eb-a0da-80e0370bd1b7",
   "metadata": {},
   "outputs": [
    {
     "name": "stdout",
     "output_type": "stream",
     "text": [
      "53\n"
     ]
    }
   ],
   "source": [
    "print(ord('5'))"
   ]
  },
  {
   "cell_type": "code",
   "execution_count": 3,
   "id": "681cdb9e-eeb9-49db-ae04-63ea10856556",
   "metadata": {},
   "outputs": [
    {
     "name": "stdout",
     "output_type": "stream",
     "text": [
      "97\n"
     ]
    }
   ],
   "source": [
    "print(ord('a'))"
   ]
  },
  {
   "cell_type": "code",
   "execution_count": 4,
   "id": "14f748ea-554f-41ac-b474-084e951a845e",
   "metadata": {},
   "outputs": [
    {
     "name": "stdout",
     "output_type": "stream",
     "text": [
      "65\n"
     ]
    }
   ],
   "source": [
    "print(ord('A'))"
   ]
  },
  {
   "cell_type": "code",
   "execution_count": 5,
   "id": "2658e5c9-9a6d-4ada-ab8c-6cfc77732168",
   "metadata": {},
   "outputs": [
    {
     "name": "stdout",
     "output_type": "stream",
     "text": [
      "ASCII value of 'A': 65\n"
     ]
    }
   ],
   "source": [
    "x=ord('A')\n",
    "print(\"ASCII value of 'A':\",x)"
   ]
  },
  {
   "cell_type": "raw",
   "id": "46d362f7-b5d6-4176-b77a-3e23de4960c5",
   "metadata": {},
   "source": [
    "ii.char():-ascii to char.----------"
   ]
  },
  {
   "cell_type": "code",
   "execution_count": 16,
   "id": "65d4ff75-75c5-4808-b5ad-332b723a151c",
   "metadata": {},
   "outputs": [],
   "source": [
    "# x\n",
    "# print(\"Char of =65\n",
    "# y=char('65')65:\",y)"
   ]
  },
  {
   "cell_type": "markdown",
   "id": "ce5e14e2-85f7-44bb-8ba6-e798b38ffa6f",
   "metadata": {},
   "source": [
    "# join()-----------------\n",
    "* The join() method is used to join (combine) a list of strings into a single string, using a separator.\n",
    "* separator.join(iterable)\n",
    "* separator: A string that will appear between each item.\n",
    "* iterable: Typically a list or tuple of strings.\n",
    "* iterable must be strings. If they are not, you'll get a TypeError.\n",
    "* join() is your go-to method in Python when you need to combine a collection of strings into one string using a specific delimiter.\n",
    "\n"
   ]
  },
  {
   "cell_type": "markdown",
   "id": "223baeb4-c552-418e-85ea-81e15c05b2ed",
   "metadata": {},
   "source": [
    "Join list of words with space-----------"
   ]
  },
  {
   "cell_type": "code",
   "execution_count": 5,
   "id": "ca21216d-8893-449b-9799-c799458f90ab",
   "metadata": {},
   "outputs": [
    {
     "name": "stdout",
     "output_type": "stream",
     "text": [
      "python java cpp php\n"
     ]
    }
   ],
   "source": [
    "l=['python','java','cpp','php']\n",
    "x=' '.join(l)\n",
    "print(x)"
   ]
  },
  {
   "cell_type": "code",
   "execution_count": 6,
   "id": "b7c7edbf-a32f-4ce4-8cd3-ac76d2c1d86e",
   "metadata": {},
   "outputs": [
    {
     "name": "stdout",
     "output_type": "stream",
     "text": [
      "p,y,t,h,o,n\n"
     ]
    }
   ],
   "source": [
    "# join with comma----------------\n",
    "s='python'\n",
    "x=','.join(s)\n",
    "print(x)"
   ]
  },
  {
   "cell_type": "code",
   "execution_count": 11,
   "id": "a4e5368b-62e7-4007-8cb2-dfddd9cc47f2",
   "metadata": {},
   "outputs": [
    {
     "name": "stdout",
     "output_type": "stream",
     "text": [
      "p*y*t*h*o*n\n"
     ]
    }
   ],
   "source": [
    "s='python'\n",
    "x='*'.join(s)\n",
    "print(x)"
   ]
  },
  {
   "cell_type": "code",
   "execution_count": 21,
   "id": "ee541bca-5ec2-42b4-9008-72a42ee393f6",
   "metadata": {},
   "outputs": [
    {
     "ename": "TypeError",
     "evalue": "sequence item 5: expected str instance, int found",
     "output_type": "error",
     "traceback": [
      "\u001b[1;31m---------------------------------------------------------------------------\u001b[0m",
      "\u001b[1;31mTypeError\u001b[0m                                 Traceback (most recent call last)",
      "Cell \u001b[1;32mIn[21], line 2\u001b[0m\n\u001b[0;32m      1\u001b[0m l\u001b[38;5;241m=\u001b[39m[\u001b[38;5;124m'\u001b[39m\u001b[38;5;124mjava\u001b[39m\u001b[38;5;124m'\u001b[39m,\u001b[38;5;124m'\u001b[39m\u001b[38;5;124mpython\u001b[39m\u001b[38;5;124m'\u001b[39m,\u001b[38;5;124m'\u001b[39m\u001b[38;5;124mcpp\u001b[39m\u001b[38;5;124m'\u001b[39m,\u001b[38;5;124m'\u001b[39m\u001b[38;5;124m10\u001b[39m\u001b[38;5;124m'\u001b[39m,\u001b[38;5;124m'\u001b[39m\u001b[38;5;124m30\u001b[39m\u001b[38;5;124m'\u001b[39m,\u001b[38;5;241m50\u001b[39m]\n\u001b[1;32m----> 2\u001b[0m x\u001b[38;5;241m=\u001b[39m\u001b[38;5;124m'\u001b[39m\u001b[38;5;124m*\u001b[39m\u001b[38;5;124m'\u001b[39m\u001b[38;5;241m.\u001b[39mjoin(l)\n\u001b[0;32m      3\u001b[0m \u001b[38;5;28mprint\u001b[39m(x)\n",
      "\u001b[1;31mTypeError\u001b[0m: sequence item 5: expected str instance, int found"
     ]
    }
   ],
   "source": [
    "l=['java','python','cpp','10','30',50]\n",
    "x='*'.join(l)\n",
    "print(x)"
   ]
  },
  {
   "cell_type": "code",
   "execution_count": 9,
   "id": "9a4fdce4-257e-4925-b228-fa79d79bf6e9",
   "metadata": {},
   "outputs": [
    {
     "name": "stdout",
     "output_type": "stream",
     "text": [
      "javapythoncpp103050\n"
     ]
    }
   ],
   "source": [
    "# join without operator-------------------\n",
    "l=['java','python','cpp','10','30','50']\n",
    "x=''.join(l)\n",
    "print(x)"
   ]
  },
  {
   "cell_type": "code",
   "execution_count": 16,
   "id": "b6f7ecf3-fa2e-4f56-bcfc-876f55f837aa",
   "metadata": {},
   "outputs": [
    {
     "name": "stdout",
     "output_type": "stream",
     "text": [
      "[1, 2, 3, 4, 5, 6, 7]\n"
     ]
    }
   ],
   "source": [
    "l=[1,2,3,4,5,6,7]\n",
    "print(str(l))"
   ]
  },
  {
   "cell_type": "code",
   "execution_count": 18,
   "id": "6ee6453f-7ed3-4a58-9542-a68ae8cad6b9",
   "metadata": {},
   "outputs": [
    {
     "name": "stdout",
     "output_type": "stream",
     "text": [
      "[-1-,- -2-,- -3-,- -4-,- -5-,- -6-]\n"
     ]
    }
   ],
   "source": [
    "print('-'.join(str(l)))"
   ]
  },
  {
   "cell_type": "code",
   "execution_count": 24,
   "id": "cdfe5203-52e2-47d0-a11c-9dc0b654b6de",
   "metadata": {},
   "outputs": [
    {
     "name": "stdout",
     "output_type": "stream",
     "text": [
      "1-2-3-4-5-6\n"
     ]
    }
   ],
   "source": [
    "# All item in the list must be string if not, we will get error-----\n",
    "l=[1,2,3,4,5,6]\n",
    "print('-'.join(str(digits)for digits in l))\n"
   ]
  },
  {
   "cell_type": "markdown",
   "id": "27520c84-385d-4154-be14-44befe76b2b1",
   "metadata": {},
   "source": [
    "# <code>print('-'.join(str(digits) <span style=\"color:red; font-weight:bold;\">for digits in l</span>))</code>"
   ]
  },
  {
   "cell_type": "code",
   "execution_count": 27,
   "id": "c99d455c-a08a-4373-a50a-e66ce6b33291",
   "metadata": {},
   "outputs": [
    {
     "name": "stdout",
     "output_type": "stream",
     "text": [
      "1-2-3-4-5-6\n"
     ]
    }
   ],
   "source": [
    "# Another way using map()\n",
    "print(\"-\".join(map(str, l)))"
   ]
  },
  {
   "cell_type": "markdown",
   "id": "7d088e2f-6d69-440b-88a1-887f29062e6b",
   "metadata": {},
   "source": [
    "# split()-----------\n",
    "* The split() method is used to break a string into a list of substrings, based on a separator (default is whitespace).\n",
    "* string.split(separator, maxsplit)\n",
    "* separator (optional) – The delimiter to split by (default: any whitespace).\n",
    "* maxsplit (optional) – Maximum number of splits to do.\n",
    "* 📌 Things to Remember:\n",
    "* The result of split() is always a list of strings.\n",
    "* If the separator is not found, it returns a list with the original string.\n",
    "* If you split an empty string, you'll get ['']."
   ]
  },
  {
   "cell_type": "code",
   "execution_count": 24,
   "id": "3a37fb08-fa40-4020-ab71-70dab4685fe9",
   "metadata": {},
   "outputs": [
    {
     "name": "stdout",
     "output_type": "stream",
     "text": [
      "['I', 'love', 'python', 'language']\n"
     ]
    }
   ],
   "source": [
    "s=\"I love python language\"\n",
    "x=s.split()\n",
    "print(x)"
   ]
  },
  {
   "cell_type": "code",
   "execution_count": 34,
   "id": "63b130e1-a33e-4e28-8793-20a206b35612",
   "metadata": {},
   "outputs": [
    {
     "name": "stdout",
     "output_type": "stream",
     "text": [
      "['I', 'love', 'python', 'language']\n"
     ]
    }
   ],
   "source": [
    "s=\"I love python language\"\n",
    "x=s.split(' ')\n",
    "print(x)"
   ]
  },
  {
   "cell_type": "code",
   "execution_count": 38,
   "id": "6b8c45d0-067e-45c2-ad17-67734b75a6e6",
   "metadata": {},
   "outputs": [
    {
     "name": "stdout",
     "output_type": "stream",
     "text": [
      "['one', 'two', 'three fout five']\n"
     ]
    }
   ],
   "source": [
    "# maxsplit-----\n",
    "s='one two three fout five'\n",
    "x=s.split(\" \",2)\n",
    "print(x)"
   ]
  },
  {
   "cell_type": "code",
   "execution_count": 44,
   "id": "3c33af8d-2db3-4e43-bb55-578505f6dfb3",
   "metadata": {},
   "outputs": [
    {
     "name": "stdout",
     "output_type": "stream",
     "text": [
      "['one', 'two', 'three', 'fout', 'five']\n"
     ]
    }
   ],
   "source": [
    "s='one\\ntwo\\nthree\\nfout\\nfive'\n",
    "x=s.split(\"\\n\")\n",
    "print(x)"
   ]
  },
  {
   "cell_type": "code",
   "execution_count": 25,
   "id": "98e1c8d3-2601-4dfe-9efb-ae13a6242256",
   "metadata": {},
   "outputs": [
    {
     "name": "stdout",
     "output_type": "stream",
     "text": [
      "['I l', 've pyth', 'n language']\n"
     ]
    }
   ],
   "source": [
    "s=\"I love python language\"\n",
    "x=s.split('o')\n",
    "print(x)"
   ]
  },
  {
   "cell_type": "code",
   "execution_count": 26,
   "id": "a1b3ab5f-7e15-47eb-89a7-42dd6f24480f",
   "metadata": {},
   "outputs": [
    {
     "name": "stdout",
     "output_type": "stream",
     "text": [
      "['I l', 've python language']\n"
     ]
    }
   ],
   "source": [
    "s=\"I love python language\"\n",
    "x=s.split('o',1)\n",
    "print(x)"
   ]
  },
  {
   "cell_type": "code",
   "execution_count": 27,
   "id": "8a099b31-358f-4069-b06b-d7e21eb64cbd",
   "metadata": {},
   "outputs": [
    {
     "name": "stdout",
     "output_type": "stream",
     "text": [
      "['I l', 've pyth', 'n language']\n",
      "['I love python l', 'ngu', 'ge']\n",
      "['I l', 've pyth', 'n language'] ['I love python l', 'ngu', 'ge']\n"
     ]
    }
   ],
   "source": [
    "s=\"I love python language\"\n",
    "x=s.split('o')\n",
    "y=s.split('a')\n",
    "print(x)\n",
    "print(y)\n",
    "print(x,y)"
   ]
  },
  {
   "cell_type": "code",
   "execution_count": null,
   "id": "aeb57f3b-7978-41f2-a8cd-0445afee7a06",
   "metadata": {},
   "outputs": [],
   "source": []
  },
  {
   "cell_type": "code",
   "execution_count": 5,
   "id": "19e5c482-578e-46c0-b9fa-efdeb54f141d",
   "metadata": {},
   "outputs": [
    {
     "name": "stdout",
     "output_type": "stream",
     "text": [
      "[]\n"
     ]
    }
   ],
   "source": [
    "# If you split an empty string, you'll get [''].\n",
    "s=\"\"\n",
    "x=s.split()\n",
    "print(x)\n",
    "# When using split() with no arguments, it splits by any whitespace and removes empty parts → so you get an empty list []."
   ]
  },
  {
   "cell_type": "code",
   "execution_count": 7,
   "id": "bdd103e7-23be-496c-9a9e-e2723201ce8e",
   "metadata": {},
   "outputs": [
    {
     "name": "stdout",
     "output_type": "stream",
     "text": [
      "['']\n"
     ]
    }
   ],
   "source": [
    "s=\"\"\n",
    "x=s.split(',')\n",
    "print(x)\n",
    "# When we use a specific separator (like \",\"), Python assumes there is one item (even if empty) → so we get ['']."
   ]
  },
  {
   "cell_type": "code",
   "execution_count": 10,
   "id": "570e0171-abc3-45fa-976a-797ae66b3a76",
   "metadata": {},
   "outputs": [
    {
     "name": "stdout",
     "output_type": "stream",
     "text": [
      "python cpp java\n"
     ]
    }
   ],
   "source": [
    "# 🔁 Opposite of split():\n",
    "# Use \"separator\".join(list) to combine a list back into a string.\n",
    "s=['python','cpp','java']\n",
    "x=\" \".join(s)\n",
    "print(x)"
   ]
  },
  {
   "cell_type": "code",
   "execution_count": 14,
   "id": "e4f0d6ea-ce12-4e92-886b-a5b3caea6e71",
   "metadata": {},
   "outputs": [
    {
     "name": "stdout",
     "output_type": "stream",
     "text": [
      "['I', 'love', 'python', 'language']\n"
     ]
    }
   ],
   "source": [
    "s=\"I love python language\"\n",
    "x=s.split(None,-1)\n",
    "print(x)"
   ]
  },
  {
   "cell_type": "code",
   "execution_count": 26,
   "id": "c7913717-4e9e-4b20-a741-2f17c628abf1",
   "metadata": {},
   "outputs": [
    {
     "name": "stdout",
     "output_type": "stream",
     "text": [
      "['I l', 've pyth', 'n language']\n"
     ]
    }
   ],
   "source": [
    "s=\"I love python language\"\n",
    "x=s.split('o',-1)\n",
    "print(x)"
   ]
  },
  {
   "cell_type": "markdown",
   "id": "e20cee91-4ac4-4bb3-a14c-43723b591f7f",
   "metadata": {},
   "source": [
    "# Key Use Cases for split():\n",
    "* Parsing data: Breaking down lines from a file or user input into individual fields (e.g., CSV data).\n",
    "* Tokenization: Separating a sentence into words.\n",
    "* URL/Path manipulation: Breaking down URLs or file paths into components.\n",
    "* Data extraction: Isolating specific pieces of information from a structured string."
   ]
  },
  {
   "cell_type": "markdown",
   "id": "4bc00ff3-6bd4-4446-8b67-8c3168f58003",
   "metadata": {},
   "source": [
    "# Mathematical operation in string----------(+,*)----------- \n",
    "* In Python, you cannot directly perform mathematical operations like addition or multiplication on strings as you would with numbers, but:\n",
    "* Some operations are overloaded (have a special meaning) when used with strings.\n",
    "* Only certain operations are allowed.\n",
    "* 1. String Addition (+) → Concatenation\n",
    "  2. String Multiplication (*) → Repetition\n",
    "* ❌ Not Allowed: Subtraction, Division, etc."
   ]
  },
  {
   "cell_type": "code",
   "execution_count": 28,
   "id": "33067409-dd9f-48ca-a620-be67c069a3f6",
   "metadata": {},
   "outputs": [
    {
     "name": "stdout",
     "output_type": "stream",
     "text": [
      "pythonjava\n"
     ]
    }
   ],
   "source": [
    "# String Addition (+)\n",
    "s1='python'\n",
    "s2='java'\n",
    "x=s1+s2\n",
    "print(x)"
   ]
  },
  {
   "cell_type": "code",
   "execution_count": 29,
   "id": "cb962194-3380-40c7-8ebc-28c534b94f43",
   "metadata": {},
   "outputs": [
    {
     "name": "stdout",
     "output_type": "stream",
     "text": [
      "pythonpython\n"
     ]
    }
   ],
   "source": [
    "# String Multiplication (*)\n",
    "s1='python'\n",
    "x=2\n",
    "z=s1*x\n",
    "print(z)"
   ]
  },
  {
   "cell_type": "code",
   "execution_count": null,
   "id": "e8138e64-6636-4242-be2b-3b2c72683a88",
   "metadata": {},
   "outputs": [],
   "source": [
    "\n"
   ]
  },
  {
   "cell_type": "code",
   "execution_count": 32,
   "id": "b1fb2a82-4783-4f25-86cd-0cf0a33e125e",
   "metadata": {},
   "outputs": [
    {
     "name": "stdout",
     "output_type": "stream",
     "text": [
      "False\n"
     ]
    }
   ],
   "source": [
    "s1='python'\n",
    "s2='java'\n",
    "print(s1 is s2)"
   ]
  },
  {
   "cell_type": "code",
   "execution_count": 33,
   "id": "c0f39509-10be-402d-bf86-dd4d1bc45959",
   "metadata": {},
   "outputs": [
    {
     "name": "stdout",
     "output_type": "stream",
     "text": [
      "True\n"
     ]
    }
   ],
   "source": [
    "s1='python'\n",
    "s2='java'\n",
    "print(s1 is not s2)"
   ]
  },
  {
   "cell_type": "code",
   "execution_count": 27,
   "id": "83b9adc4-9f91-43e5-b394-5057849f7c0c",
   "metadata": {},
   "outputs": [
    {
     "name": "stdout",
     "output_type": "stream",
     "text": [
      "Apples:5\n"
     ]
    }
   ],
   "source": [
    "# Combine with Numbers (after conversion)\n",
    "num=5\n",
    "text='Apples:'+str(num)\n",
    "print(text)"
   ]
  },
  {
   "cell_type": "code",
   "execution_count": 29,
   "id": "e29130a5-ecac-4bae-9ae9-13c4ae7d5c99",
   "metadata": {},
   "outputs": [
    {
     "name": "stdout",
     "output_type": "stream",
     "text": [
      "65\n",
      "B\n"
     ]
    }
   ],
   "source": [
    "# Using ord() and chr() for ASCII math\n",
    "print(ord('A'))\n",
    "print(chr(65+1))\n"
   ]
  },
  {
   "cell_type": "code",
   "execution_count": null,
   "id": "9df62759-99c4-4fd8-b363-c9352cc31231",
   "metadata": {},
   "outputs": [],
   "source": []
  },
  {
   "cell_type": "markdown",
   "id": "963085fe-892e-4e95-92a8-2a8c893d17f3",
   "metadata": {},
   "source": [
    "# b.List:-Colection of elements-----------------------------"
   ]
  },
  {
   "cell_type": "code",
   "execution_count": 34,
   "id": "dab12363-fa40-4727-a741-470a38d11948",
   "metadata": {},
   "outputs": [
    {
     "name": "stdout",
     "output_type": "stream",
     "text": [
      "1906329582464 1906329581184\n"
     ]
    }
   ],
   "source": [
    "l1=[10,20,30]\n",
    "l2=[10,20,30]\n",
    "print(id(l1),id(l2))"
   ]
  },
  {
   "cell_type": "raw",
   "id": "ab14e6cd-e694-47a0-9013-d8fe6136b9d7",
   "metadata": {},
   "source": [
    "# Both are different so, mutable----\n"
   ]
  },
  {
   "cell_type": "markdown",
   "id": "8291f6ed-34e5-4fad-92a9-ce93114dca13",
   "metadata": {},
   "source": [
    "# Python in built fn for list----------"
   ]
  },
  {
   "cell_type": "code",
   "execution_count": 2,
   "id": "bcd21d61-1c94-4c70-9bf3-c2c63c1e3008",
   "metadata": {},
   "outputs": [
    {
     "ename": "TypeError",
     "evalue": "'>' not supported between instances of 'str' and 'int'",
     "output_type": "error",
     "traceback": [
      "\u001b[1;31m---------------------------------------------------------------------------\u001b[0m",
      "\u001b[1;31mTypeError\u001b[0m                                 Traceback (most recent call last)",
      "Cell \u001b[1;32mIn[2], line 2\u001b[0m\n\u001b[0;32m      1\u001b[0m l\u001b[38;5;241m=\u001b[39m[\u001b[38;5;241m2\u001b[39m,\u001b[38;5;241m5\u001b[39m,\u001b[38;5;124m'\u001b[39m\u001b[38;5;124mjava\u001b[39m\u001b[38;5;124m'\u001b[39m,\u001b[38;5;124m'\u001b[39m\u001b[38;5;124mphp\u001b[39m\u001b[38;5;124m'\u001b[39m]\n\u001b[1;32m----> 2\u001b[0m \u001b[38;5;28mprint\u001b[39m(\u001b[38;5;28mmax\u001b[39m(l))\n",
      "\u001b[1;31mTypeError\u001b[0m: '>' not supported between instances of 'str' and 'int'"
     ]
    }
   ],
   "source": [
    "l=[2,5,'java','php']\n",
    "print(max(l))"
   ]
  },
  {
   "cell_type": "code",
   "execution_count": 3,
   "id": "d05e5d7c-56d7-430d-abbd-88c9b2d21b01",
   "metadata": {},
   "outputs": [
    {
     "ename": "TypeError",
     "evalue": "'<' not supported between instances of 'str' and 'int'",
     "output_type": "error",
     "traceback": [
      "\u001b[1;31m---------------------------------------------------------------------------\u001b[0m",
      "\u001b[1;31mTypeError\u001b[0m                                 Traceback (most recent call last)",
      "Cell \u001b[1;32mIn[3], line 1\u001b[0m\n\u001b[1;32m----> 1\u001b[0m \u001b[38;5;28mprint\u001b[39m(\u001b[38;5;28mmin\u001b[39m(l))\n",
      "\u001b[1;31mTypeError\u001b[0m: '<' not supported between instances of 'str' and 'int'"
     ]
    }
   ],
   "source": [
    "print(min(l))"
   ]
  },
  {
   "cell_type": "code",
   "execution_count": 4,
   "id": "a7527973-1fe5-4749-8e3d-a9325aa8d6c8",
   "metadata": {},
   "outputs": [
    {
     "ename": "TypeError",
     "evalue": "unsupported operand type(s) for +: 'int' and 'str'",
     "output_type": "error",
     "traceback": [
      "\u001b[1;31m---------------------------------------------------------------------------\u001b[0m",
      "\u001b[1;31mTypeError\u001b[0m                                 Traceback (most recent call last)",
      "Cell \u001b[1;32mIn[4], line 1\u001b[0m\n\u001b[1;32m----> 1\u001b[0m \u001b[38;5;28mprint\u001b[39m(\u001b[38;5;28msum\u001b[39m(l))\n",
      "\u001b[1;31mTypeError\u001b[0m: unsupported operand type(s) for +: 'int' and 'str'"
     ]
    }
   ],
   "source": [
    "print(sum(l))"
   ]
  },
  {
   "cell_type": "code",
   "execution_count": 5,
   "id": "1314e89b-978c-4883-bf0f-f620eb08f448",
   "metadata": {},
   "outputs": [
    {
     "name": "stdout",
     "output_type": "stream",
     "text": [
      "4\n"
     ]
    }
   ],
   "source": [
    "print(len(l))"
   ]
  },
  {
   "cell_type": "code",
   "execution_count": 6,
   "id": "de614e0a-39f8-4141-b1d9-80c81097c557",
   "metadata": {},
   "outputs": [
    {
     "name": "stdout",
     "output_type": "stream",
     "text": [
      "<class 'list'>\n"
     ]
    }
   ],
   "source": [
    "print(type(l))"
   ]
  },
  {
   "cell_type": "code",
   "execution_count": 7,
   "id": "ceeda172-466b-4d71-a1a9-6567f9f853e7",
   "metadata": {},
   "outputs": [
    {
     "name": "stdout",
     "output_type": "stream",
     "text": [
      "1902010769152\n"
     ]
    }
   ],
   "source": [
    "print(id(l))"
   ]
  },
  {
   "cell_type": "code",
   "execution_count": 8,
   "id": "c85589cd-2430-46e7-b36d-d3a28d5505fc",
   "metadata": {},
   "outputs": [
    {
     "name": "stdout",
     "output_type": "stream",
     "text": [
      "40\n"
     ]
    }
   ],
   "source": [
    "l=[20,40,33,12,30]\n",
    "print(max(l))"
   ]
  },
  {
   "cell_type": "code",
   "execution_count": 9,
   "id": "22315f3d-2e4e-4e2a-ba3e-570ef9587fd3",
   "metadata": {},
   "outputs": [
    {
     "name": "stdout",
     "output_type": "stream",
     "text": [
      "12\n"
     ]
    }
   ],
   "source": [
    "print(min(l))"
   ]
  },
  {
   "cell_type": "code",
   "execution_count": 10,
   "id": "0708d94b-e88c-4c90-9b3f-129ed310223f",
   "metadata": {},
   "outputs": [
    {
     "name": "stdout",
     "output_type": "stream",
     "text": [
      "135\n"
     ]
    }
   ],
   "source": [
    "print(sum(l))"
   ]
  },
  {
   "cell_type": "code",
   "execution_count": 11,
   "id": "2f570140-6f9c-4d0b-a2cd-f88f4608f715",
   "metadata": {},
   "outputs": [
    {
     "name": "stdout",
     "output_type": "stream",
     "text": [
      "python\n"
     ]
    }
   ],
   "source": [
    "l=['java','python','php','cpp']\n",
    "print(max(l))"
   ]
  },
  {
   "cell_type": "code",
   "execution_count": 12,
   "id": "d44404a7-144a-433a-911a-0c0b2a3d41fa",
   "metadata": {},
   "outputs": [
    {
     "name": "stdout",
     "output_type": "stream",
     "text": [
      "cpp\n"
     ]
    }
   ],
   "source": [
    "print(min(l))"
   ]
  },
  {
   "cell_type": "code",
   "execution_count": 13,
   "id": "d35495ee-d606-4611-9793-73b68da675fb",
   "metadata": {},
   "outputs": [
    {
     "ename": "TypeError",
     "evalue": "unsupported operand type(s) for +: 'int' and 'str'",
     "output_type": "error",
     "traceback": [
      "\u001b[1;31m---------------------------------------------------------------------------\u001b[0m",
      "\u001b[1;31mTypeError\u001b[0m                                 Traceback (most recent call last)",
      "Cell \u001b[1;32mIn[13], line 1\u001b[0m\n\u001b[1;32m----> 1\u001b[0m \u001b[38;5;28mprint\u001b[39m(\u001b[38;5;28msum\u001b[39m(l))\n",
      "\u001b[1;31mTypeError\u001b[0m: unsupported operand type(s) for +: 'int' and 'str'"
     ]
    }
   ],
   "source": [
    "print(sum(l))"
   ]
  },
  {
   "cell_type": "markdown",
   "id": "5e71707b-df46-4b53-8cd3-1903f8bb454a",
   "metadata": {},
   "source": [
    "# List in built method-----------------"
   ]
  },
  {
   "cell_type": "code",
   "execution_count": null,
   "id": "2da14067-9622-41bb-a907-71805835fac0",
   "metadata": {},
   "outputs": [],
   "source": [
    "l=['10','20','30','40','java','cpp']\n",
    "(l.append())\n",
    "(l.clear())\n",
    "(l.copy())\n",
    "print(l.count())\n",
    "(l.extend())\n",
    "(l.index())\n",
    "(l.insert())\n",
    "(l.pop())\n",
    "(l.remove())\n",
    "(l.reverse())\n",
    "(l.sort())"
   ]
  },
  {
   "cell_type": "code",
   "execution_count": 14,
   "id": "3378f708-da6f-4888-aa9b-28867b5ca156",
   "metadata": {},
   "outputs": [
    {
     "name": "stdout",
     "output_type": "stream",
     "text": [
      "['java', 'python', 'php', 'cpp', 100]\n"
     ]
    }
   ],
   "source": [
    "l.append(100)\n",
    "print(l)"
   ]
  },
  {
   "cell_type": "code",
   "execution_count": 15,
   "id": "d338fa87-9474-4c28-b9fa-348385746fe4",
   "metadata": {},
   "outputs": [
    {
     "name": "stdout",
     "output_type": "stream",
     "text": [
      "['java', 'python', 'php', 'cpp', 100, [1, 2, 3, 4, 'python']]\n"
     ]
    }
   ],
   "source": [
    "l.append([1,2,3,4,'python'])\n",
    "print(l)"
   ]
  },
  {
   "cell_type": "code",
   "execution_count": 16,
   "id": "09bb17ba-55bb-4ac6-a892-a7f6c017fb9e",
   "metadata": {},
   "outputs": [
    {
     "name": "stdout",
     "output_type": "stream",
     "text": [
      "[]\n"
     ]
    }
   ],
   "source": [
    "l.clear()\n",
    "print(l)"
   ]
  },
  {
   "cell_type": "code",
   "execution_count": 22,
   "id": "04fb5fbc-8f2e-4176-913d-364297019eaf",
   "metadata": {},
   "outputs": [
    {
     "name": "stdout",
     "output_type": "stream",
     "text": [
      "['10', '20', '30', '40', 'java', 'cpp']\n",
      "1902011426816 1902011426048\n"
     ]
    }
   ],
   "source": [
    "l=['10','20','30','40','java','cpp']\n",
    "l1=l.copy()\n",
    "print(l1)\n",
    "print(id(l),id(l1))"
   ]
  },
  {
   "cell_type": "raw",
   "id": "c0312a62-4c6b-406f-b2aa-3a4c989a8357",
   "metadata": {},
   "source": [
    "differen address----"
   ]
  },
  {
   "cell_type": "code",
   "execution_count": 25,
   "id": "9b1671c1-4d56-4f9c-b022-7f8c01f1a617",
   "metadata": {},
   "outputs": [
    {
     "name": "stdout",
     "output_type": "stream",
     "text": [
      "3\n"
     ]
    }
   ],
   "source": [
    "l=[1,2,3,44,2,5,2]\n",
    "print(l.count(2))"
   ]
  },
  {
   "cell_type": "raw",
   "id": "3a731084-b8c4-422c-97ea-8380bbc84ee7",
   "metadata": {},
   "source": [
    "count ko dirrect print(l.count()) kar sakte hai kyu ki structure me koi change nhi ho rha hai esiliye direct hit kar rhe hai."
   ]
  },
  {
   "cell_type": "code",
   "execution_count": 29,
   "id": "d4294d5f-58d1-415c-a1bc-86ef495591f1",
   "metadata": {},
   "outputs": [
    {
     "ename": "TypeError",
     "evalue": "list.extend() takes exactly one argument (6 given)",
     "output_type": "error",
     "traceback": [
      "\u001b[1;31m---------------------------------------------------------------------------\u001b[0m",
      "\u001b[1;31mTypeError\u001b[0m                                 Traceback (most recent call last)",
      "Cell \u001b[1;32mIn[29], line 2\u001b[0m\n\u001b[0;32m      1\u001b[0m l\u001b[38;5;241m=\u001b[39m[\u001b[38;5;241m10\u001b[39m,\u001b[38;5;241m20\u001b[39m,\u001b[38;5;124m'\u001b[39m\u001b[38;5;124mpython\u001b[39m\u001b[38;5;124m'\u001b[39m,\u001b[38;5;124m'\u001b[39m\u001b[38;5;124mjava\u001b[39m\u001b[38;5;124m'\u001b[39m]\n\u001b[1;32m----> 2\u001b[0m l\u001b[38;5;241m.\u001b[39mextend(\u001b[38;5;241m1\u001b[39m,\u001b[38;5;241m2\u001b[39m,\u001b[38;5;241m3\u001b[39m,\u001b[38;5;241m4\u001b[39m,\u001b[38;5;241m5\u001b[39m,\u001b[38;5;241m6\u001b[39m)\n\u001b[0;32m      3\u001b[0m \u001b[38;5;28mprint\u001b[39m(l)\n",
      "\u001b[1;31mTypeError\u001b[0m: list.extend() takes exactly one argument (6 given)"
     ]
    }
   ],
   "source": [
    "l=[10,20,'python','java']\n",
    "l.extend(1,2,3,4,5,6)\n",
    "print(l)"
   ]
  },
  {
   "cell_type": "code",
   "execution_count": 30,
   "id": "52edb970-1603-4709-81a4-f524601fc3fd",
   "metadata": {},
   "outputs": [
    {
     "name": "stdout",
     "output_type": "stream",
     "text": [
      "[10, 20, 'python', 'java', 1, 2, 3, 4, 5, 6]\n"
     ]
    }
   ],
   "source": [
    "l.extend([1,2,3,4,5,6])\n",
    "print(l)"
   ]
  },
  {
   "cell_type": "code",
   "execution_count": 32,
   "id": "91703538-3339-4ea7-9c2b-298090450db0",
   "metadata": {},
   "outputs": [
    {
     "name": "stdout",
     "output_type": "stream",
     "text": [
      "[10, 20, 'python', 'java', 1, 2, 3, 4, 5, 6, 1, 2, 3, 4, 5, 6]\n"
     ]
    }
   ],
   "source": [
    "l.extend((1,2,3,4,5,6))\n",
    "print(l)"
   ]
  },
  {
   "cell_type": "code",
   "execution_count": 33,
   "id": "c362d779-422e-45ba-8745-7b0993e0c8e9",
   "metadata": {},
   "outputs": [
    {
     "name": "stdout",
     "output_type": "stream",
     "text": [
      "[10, 20, 'python', 'java', 1, 2, 3, 4, 5, 6, 1, 2, 3, 4, 5, 6, 'j', 'a', 'v', 'a']\n"
     ]
    }
   ],
   "source": [
    "l.extend('java')\n",
    "print(l)"
   ]
  },
  {
   "cell_type": "code",
   "execution_count": 48,
   "id": "e5e33f4f-c36f-4685-b51d-cca3ccf15080",
   "metadata": {},
   "outputs": [
    {
     "ename": "ValueError",
     "evalue": "10 is not in list",
     "output_type": "error",
     "traceback": [
      "\u001b[1;31m---------------------------------------------------------------------------\u001b[0m",
      "\u001b[1;31mValueError\u001b[0m                                Traceback (most recent call last)",
      "Cell \u001b[1;32mIn[48], line 2\u001b[0m\n\u001b[0;32m      1\u001b[0m l\u001b[38;5;241m=\u001b[39m[\u001b[38;5;241m2\u001b[39m,\u001b[38;5;241m3\u001b[39m,\u001b[38;5;241m4\u001b[39m,\u001b[38;5;124m'\u001b[39m\u001b[38;5;124mpython\u001b[39m\u001b[38;5;124m'\u001b[39m,\u001b[38;5;124m'\u001b[39m\u001b[38;5;124mjava\u001b[39m\u001b[38;5;124m'\u001b[39m,\u001b[38;5;124m'\u001b[39m\u001b[38;5;124mphp\u001b[39m\u001b[38;5;124m'\u001b[39m,\u001b[38;5;124m'\u001b[39m\u001b[38;5;124m10\u001b[39m\u001b[38;5;124m'\u001b[39m]\n\u001b[1;32m----> 2\u001b[0m \u001b[38;5;28mprint\u001b[39m(l\u001b[38;5;241m.\u001b[39mindex(\u001b[38;5;241m10\u001b[39m))\n",
      "\u001b[1;31mValueError\u001b[0m: 10 is not in list"
     ]
    }
   ],
   "source": [
    "l=[2,3,4,'python','java','php','10']\n",
    "print(l.index(10))"
   ]
  },
  {
   "cell_type": "code",
   "execution_count": 50,
   "id": "4d20c3bc-d815-450d-b38f-121a211320b5",
   "metadata": {},
   "outputs": [
    {
     "name": "stdout",
     "output_type": "stream",
     "text": [
      "None\n"
     ]
    }
   ],
   "source": [
    "l=[2,3,4,'python','java','php','10']\n",
    "x=l.insert(0,10)\n",
    "print(x)\n"
   ]
  },
  {
   "cell_type": "code",
   "execution_count": 51,
   "id": "7260775c-8f06-4980-aafc-5a413c82fdb9",
   "metadata": {},
   "outputs": [
    {
     "name": "stdout",
     "output_type": "stream",
     "text": [
      "[10, 2, 3, 4, 'python', 'java', 'php', '10']\n"
     ]
    }
   ],
   "source": [
    "l=[2,3,4,'python','java','php','10']\n",
    "l.insert(0,10)\n",
    "print(l)\n"
   ]
  },
  {
   "cell_type": "code",
   "execution_count": 52,
   "id": "c37a70d4-222a-4ef6-a443-298b395a18c8",
   "metadata": {},
   "outputs": [
    {
     "name": "stdout",
     "output_type": "stream",
     "text": [
      "[10, 2, 3, 4, 'python', 'java', 'php']\n"
     ]
    }
   ],
   "source": [
    "l.pop()\n",
    "print(l)"
   ]
  },
  {
   "cell_type": "code",
   "execution_count": 53,
   "id": "4167c0f5-ee50-481b-8b90-381ca7aebf2c",
   "metadata": {},
   "outputs": [
    {
     "data": {
      "text/plain": [
       "10"
      ]
     },
     "execution_count": 53,
     "metadata": {},
     "output_type": "execute_result"
    }
   ],
   "source": [
    "l.pop(0)"
   ]
  },
  {
   "cell_type": "code",
   "execution_count": 54,
   "id": "0c956a1e-2985-4aa4-91bb-131c8314257a",
   "metadata": {},
   "outputs": [
    {
     "name": "stdout",
     "output_type": "stream",
     "text": [
      "[3, 4, 'python', 'java', 'php']\n"
     ]
    }
   ],
   "source": [
    "l.pop(0)\n",
    "print(l)"
   ]
  },
  {
   "cell_type": "code",
   "execution_count": 55,
   "id": "c68e6f29-e8dd-4ade-bb97-9f144f459094",
   "metadata": {},
   "outputs": [
    {
     "ename": "TypeError",
     "evalue": "list.remove() takes exactly one argument (0 given)",
     "output_type": "error",
     "traceback": [
      "\u001b[1;31m---------------------------------------------------------------------------\u001b[0m",
      "\u001b[1;31mTypeError\u001b[0m                                 Traceback (most recent call last)",
      "Cell \u001b[1;32mIn[55], line 1\u001b[0m\n\u001b[1;32m----> 1\u001b[0m l\u001b[38;5;241m.\u001b[39mremove()\n\u001b[0;32m      2\u001b[0m \u001b[38;5;28mprint\u001b[39m(l)\n",
      "\u001b[1;31mTypeError\u001b[0m: list.remove() takes exactly one argument (0 given)"
     ]
    }
   ],
   "source": [
    "l.remove()\n",
    "print(l)"
   ]
  },
  {
   "cell_type": "code",
   "execution_count": 57,
   "id": "99147102-7478-439d-b77e-13b83969e575",
   "metadata": {},
   "outputs": [
    {
     "name": "stdout",
     "output_type": "stream",
     "text": [
      "[3, 4, 'java', 'php']\n"
     ]
    }
   ],
   "source": [
    "l.remove('python')\n",
    "print(l)"
   ]
  },
  {
   "cell_type": "code",
   "execution_count": 58,
   "id": "a934a782-aa54-4c0e-941f-1bd4d7447c86",
   "metadata": {},
   "outputs": [
    {
     "name": "stdout",
     "output_type": "stream",
     "text": [
      "['php', 'java', 4, 3]\n"
     ]
    }
   ],
   "source": [
    "l.reverse()\n",
    "print(l)"
   ]
  },
  {
   "cell_type": "code",
   "execution_count": 59,
   "id": "43a5ec4c-646b-4953-b6da-f2d97b2043c6",
   "metadata": {},
   "outputs": [
    {
     "ename": "TypeError",
     "evalue": "'<' not supported between instances of 'str' and 'int'",
     "output_type": "error",
     "traceback": [
      "\u001b[1;31m---------------------------------------------------------------------------\u001b[0m",
      "\u001b[1;31mTypeError\u001b[0m                                 Traceback (most recent call last)",
      "Cell \u001b[1;32mIn[59], line 2\u001b[0m\n\u001b[0;32m      1\u001b[0m l\u001b[38;5;241m=\u001b[39m[\u001b[38;5;241m2\u001b[39m,\u001b[38;5;241m3\u001b[39m,\u001b[38;5;241m4\u001b[39m,\u001b[38;5;124m'\u001b[39m\u001b[38;5;124mpython\u001b[39m\u001b[38;5;124m'\u001b[39m,\u001b[38;5;124m'\u001b[39m\u001b[38;5;124mjava\u001b[39m\u001b[38;5;124m'\u001b[39m,\u001b[38;5;124m'\u001b[39m\u001b[38;5;124mphp\u001b[39m\u001b[38;5;124m'\u001b[39m,\u001b[38;5;124m'\u001b[39m\u001b[38;5;124m10\u001b[39m\u001b[38;5;124m'\u001b[39m]\n\u001b[1;32m----> 2\u001b[0m l\u001b[38;5;241m.\u001b[39msort()\n\u001b[0;32m      3\u001b[0m \u001b[38;5;28mprint\u001b[39m(l)\n",
      "\u001b[1;31mTypeError\u001b[0m: '<' not supported between instances of 'str' and 'int'"
     ]
    }
   ],
   "source": [
    "l=[2,3,4,'python','java','php','10']\n",
    "l.sort()\n",
    "print(l)"
   ]
  },
  {
   "cell_type": "code",
   "execution_count": null,
   "id": "9b7b3298-3967-4033-afb7-188eae4124e9",
   "metadata": {},
   "outputs": [
    {
     "name": "stdout",
     "output_type": "stream",
     "text": [
      "['10', '2', '3', '4', 'java', 'php', 'python']\n"
     ]
    }
   ],
   "source": [
    "l=['2','3','4','java','php','10']\n",
    "l.sort()\n",
    "print(l)"
   ]
  },
  {
   "cell_type": "code",
   "execution_count": null,
   "id": "7a85083c-c962-4b03-87b5-74c2b4b6108c",
   "metadata": {},
   "outputs": [],
   "source": []
  }
 ],
 "metadata": {
  "kernelspec": {
   "display_name": "Python [conda env:base] *",
   "language": "python",
   "name": "conda-base-py"
  },
  "language_info": {
   "codemirror_mode": {
    "name": "ipython",
    "version": 3
   },
   "file_extension": ".py",
   "mimetype": "text/x-python",
   "name": "python",
   "nbconvert_exporter": "python",
   "pygments_lexer": "ipython3",
   "version": "3.12.7"
  }
 },
 "nbformat": 4,
 "nbformat_minor": 5
}
