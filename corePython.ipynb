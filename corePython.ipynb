{
 "cells": [
  {
   "cell_type": "markdown",
   "id": "faaef44b-c8f3-40f8-a3c1-f019e68284e9",
   "metadata": {},
   "source": [
    "# Data types-------------"
   ]
  },
  {
   "cell_type": "raw",
   "id": "1f19c866-8ddd-4d72-8879-7c49c7ee52ea",
   "metadata": {},
   "source": [
    "1. Numeric Types\n",
    "These types store numerical values.\n",
    "2. Sequence Types\n",
    "These types represent an ordered collection of items. Each item is identified by its index (starting from 0).\n",
    "3. Set Types\n",
    "These types represent an unordered collection of unique items. They are primarily used to perform mathematical set operations like union, intersection, difference, etc.\n",
    "4. Mapping Type(dictionary)\n",
    "5. Boolean Type\n",
    "6. None Type\n",
    "7. Binary Types (Bytes and Byte Arrays)\n",
    "These are used to work with binary data.\n"
   ]
  },
  {
   "cell_type": "markdown",
   "id": "334467c1-4223-4610-92e9-00d875e2fbb2",
   "metadata": {},
   "source": [
    "# 2.Sequence types---------------------\n",
    "* a.str (Strings):An immutable sequence of Unicode characters. Used to represent text.\n",
    "Enclosed in single (' '), double (\" \"), or triple (''' ''' or \"\"\" \"\"\") quotes.\n",
    "Examples: \"Hello, World!\", 'Python', '''Multi-line string'''\n",
    "\n",
    "* b.list (Lists):A mutable, ordered sequence of items. Items can be of different data types.\n",
    "Enclosed in square brackets [].\n",
    "Examples: [1, 2, 3], ['apple', 'banana', 'cherry'], [1, 'hello', 3.14]\n",
    "\n",
    "* c.tuple (Tuples):An immutable, ordered sequence of items. Items can be of different data types.\n",
    "Enclosed in parentheses ().\n",
    "Often used for fixed collections of items, especially for function returns.\n",
    "Examples: (1, 2, 3), ('red', 'green', 'blue'), (1, 'a', True)"
   ]
  },
  {
   "cell_type": "markdown",
   "id": "bb78a971-b0a7-4337-889c-24380e15bcb2",
   "metadata": {},
   "source": [
    "# a. string:------------------------------"
   ]
  },
  {
   "cell_type": "raw",
   "id": "f5ecb7df-ec30-4b90-a575-5370332570aa",
   "metadata": {},
   "source": [
    "📌 Bonus: Common String Methods (Not built-in, but very useful)\n",
    "Method\tDescription\tExample\n",
    ".upper()\tConverts to uppercase\t\n",
    ".lower()\tConverts to lowercase\t\n",
    ".strip()\tRemoves surrounding spaces\n",
    ".split()\tSplits string into list\t\n",
    ".join()\t    Joins list into string\t\n",
    ".replace()\tReplaces substrings\n",
    ".find() \tFinds index of substring"
   ]
  },
  {
   "cell_type": "raw",
   "id": "e0ed55ea-3640-4255-954b-f4ac750ab5cc",
   "metadata": {},
   "source": [
    "✅ Python Built-in Functions for Strings\n",
    "Function\tDescription\tExample\n",
    "len()\tReturns the number of characters in a string\t\n",
    "str()\tConverts a value to a string\t\n",
    "ord()\tReturns ASCII/unicode of a character\t\n",
    "chr()\tReturns character from ASCII/unicode number\t\n",
    "format()\tFormats strings with variables\t\n",
    "repr()\tReturns string with escape characters\t       repr(\"Hi\\n\") → \"'Hi\\\\n'\"\n",
    "input()\tTakes string input from user\t               input(\"Name: \")\n",
    "print()\tPrints string output\t                       print(\"Hello\")\n",
    "type()\tReturns type of string\t\n",
    "eval()\tEvaluates string as Python expression (⚠️ careful)\teval(\"3 + 4\") → 7\n",
    "ascii()\tReturns readable representation of non-ASCII text\tascii(\"ñ\") → \"'\\\\xf1'\""
   ]
  },
  {
   "cell_type": "code",
   "execution_count": 2,
   "id": "ffc76678-1b68-4ab8-a65b-2c76284c01b6",
   "metadata": {},
   "outputs": [
    {
     "name": "stdout",
     "output_type": "stream",
     "text": [
      "y\n",
      "h\n",
      "<class 'str'>\n",
      "6\n",
      "python\n",
      "2206730452208\n"
     ]
    }
   ],
   "source": [
    "s='python'\n",
    "print(max(s))\n",
    "print(min(s))\n",
    "print(type(s))\n",
    "print(len(s))\n",
    "print((s))\n",
    "print(id(s))"
   ]
  },
  {
   "cell_type": "code",
   "execution_count": 3,
   "id": "13bb7712-b539-4029-98f8-bed87b0b6b66",
   "metadata": {},
   "outputs": [
    {
     "name": "stdout",
     "output_type": "stream",
     "text": [
      "8\n"
     ]
    }
   ],
   "source": [
    "s=\"Welcome hello hello welcome\"\n",
    "print(s.find(\"hello\"))"
   ]
  },
  {
   "cell_type": "code",
   "execution_count": 8,
   "id": "2188061c-383d-44d2-8813-3c82313963a6",
   "metadata": {},
   "outputs": [
    {
     "name": "stdout",
     "output_type": "stream",
     "text": [
      "14\n"
     ]
    }
   ],
   "source": [
    "print(s.find(\"hello\",10,20))"
   ]
  },
  {
   "cell_type": "code",
   "execution_count": 5,
   "id": "e41cff0c-953c-4345-aab6-6450cce591d3",
   "metadata": {},
   "outputs": [
    {
     "name": "stdout",
     "output_type": "stream",
     "text": [
      "0\n"
     ]
    }
   ],
   "source": [
    "print(s.index(\"Welcome\"))"
   ]
  },
  {
   "cell_type": "code",
   "execution_count": 6,
   "id": "59fa7c10-e058-49ca-b1a7-897f36fba178",
   "metadata": {},
   "outputs": [
    {
     "name": "stdout",
     "output_type": "stream",
     "text": [
      "2\n"
     ]
    }
   ],
   "source": [
    "print(s.count(\"hello\"))"
   ]
  },
  {
   "cell_type": "code",
   "execution_count": 4,
   "id": "e593b352-0dbb-4229-9020-ef0f1a0162a9",
   "metadata": {},
   "outputs": [
    {
     "name": "stdout",
     "output_type": "stream",
     "text": [
      "I LOVE PYTHON\n"
     ]
    }
   ],
   "source": [
    "s=\"I love python\"\n",
    "print(s.upper())"
   ]
  },
  {
   "cell_type": "code",
   "execution_count": 5,
   "id": "997d6fcc-6c11-4bce-8701-8b49877a12ea",
   "metadata": {},
   "outputs": [
    {
     "name": "stdout",
     "output_type": "stream",
     "text": [
      "i love python\n"
     ]
    }
   ],
   "source": [
    "print(s.lower())"
   ]
  },
  {
   "cell_type": "code",
   "execution_count": 3,
   "id": "b017881f-eba7-43d9-83ed-feeeefeea98a",
   "metadata": {},
   "outputs": [
    {
     "name": "stdout",
     "output_type": "stream",
     "text": [
      "False\n"
     ]
    }
   ],
   "source": [
    "s=\"I love python\"\n",
    "print(s.isalnum())"
   ]
  },
  {
   "cell_type": "code",
   "execution_count": 4,
   "id": "b6f2444b-58ef-4d5a-95f2-70290cd4b2aa",
   "metadata": {},
   "outputs": [
    {
     "name": "stdout",
     "output_type": "stream",
     "text": [
      "True\n"
     ]
    }
   ],
   "source": [
    "s=\"Ilovepython\"\n",
    "print(s.isalnum())"
   ]
  },
  {
   "cell_type": "code",
   "execution_count": 7,
   "id": "c3d77464-a623-4852-9ba7-fc7255483082",
   "metadata": {},
   "outputs": [
    {
     "name": "stdout",
     "output_type": "stream",
     "text": [
      "False\n"
     ]
    }
   ],
   "source": [
    "s=\"123Ilovepython\"\n",
    "print(s.isnumeric())"
   ]
  },
  {
   "cell_type": "code",
   "execution_count": 9,
   "id": "d7383176-1378-4f0f-a8b9-2c44f8ccc432",
   "metadata": {},
   "outputs": [
    {
     "name": "stdout",
     "output_type": "stream",
     "text": [
      "False\n"
     ]
    }
   ],
   "source": [
    "s=\"Welcome hello hello welcome\"\n",
    "print(s.startswith(\"hello\"))"
   ]
  },
  {
   "cell_type": "code",
   "execution_count": 11,
   "id": "90ad2a94-071b-45ce-a1ba-d1c204838eda",
   "metadata": {},
   "outputs": [
    {
     "name": "stdout",
     "output_type": "stream",
     "text": [
      "True\n"
     ]
    }
   ],
   "source": [
    "s=\"Welcome hello hello welcome\"\n",
    "print(s.startswith(\"W\"))"
   ]
  },
  {
   "cell_type": "code",
   "execution_count": 12,
   "id": "0eff17b0-08e7-4e9c-b386-47589291111a",
   "metadata": {},
   "outputs": [
    {
     "name": "stdout",
     "output_type": "stream",
     "text": [
      "True\n"
     ]
    }
   ],
   "source": [
    "s=\"Welcome hello hello welcome\"\n",
    "print(s.endswith(\"welcome\"))"
   ]
  },
  {
   "cell_type": "code",
   "execution_count": 14,
   "id": "5a19b9be-c0ab-40f4-b452-c15b221235e6",
   "metadata": {},
   "outputs": [
    {
     "name": "stdout",
     "output_type": "stream",
     "text": [
      "False\n"
     ]
    }
   ],
   "source": [
    "s=\"Welcome hello hello welcome\"\n",
    "print(s.isspace())"
   ]
  },
  {
   "cell_type": "raw",
   "id": "15c07d5f-c644-469e-a084-a575e47672d4",
   "metadata": {},
   "source": [
    "i.ord():-char to ascii.----------"
   ]
  },
  {
   "cell_type": "code",
   "execution_count": 1,
   "id": "dc25762d-c90a-4e5c-b083-a4e494ee3ce6",
   "metadata": {},
   "outputs": [
    {
     "name": "stdout",
     "output_type": "stream",
     "text": [
      "32\n"
     ]
    }
   ],
   "source": [
    "print(ord(' '))"
   ]
  },
  {
   "cell_type": "code",
   "execution_count": 2,
   "id": "3dc7afff-772a-44eb-a0da-80e0370bd1b7",
   "metadata": {},
   "outputs": [
    {
     "name": "stdout",
     "output_type": "stream",
     "text": [
      "53\n"
     ]
    }
   ],
   "source": [
    "print(ord('5'))"
   ]
  },
  {
   "cell_type": "code",
   "execution_count": 3,
   "id": "681cdb9e-eeb9-49db-ae04-63ea10856556",
   "metadata": {},
   "outputs": [
    {
     "name": "stdout",
     "output_type": "stream",
     "text": [
      "97\n"
     ]
    }
   ],
   "source": [
    "print(ord('a'))"
   ]
  },
  {
   "cell_type": "code",
   "execution_count": 4,
   "id": "14f748ea-554f-41ac-b474-084e951a845e",
   "metadata": {},
   "outputs": [
    {
     "name": "stdout",
     "output_type": "stream",
     "text": [
      "65\n"
     ]
    }
   ],
   "source": [
    "print(ord('A'))"
   ]
  },
  {
   "cell_type": "code",
   "execution_count": 5,
   "id": "2658e5c9-9a6d-4ada-ab8c-6cfc77732168",
   "metadata": {},
   "outputs": [
    {
     "name": "stdout",
     "output_type": "stream",
     "text": [
      "ASCII value of 'A': 65\n"
     ]
    }
   ],
   "source": [
    "x=ord('A')\n",
    "print(\"ASCII value of 'A':\",x)"
   ]
  },
  {
   "cell_type": "raw",
   "id": "46d362f7-b5d6-4176-b77a-3e23de4960c5",
   "metadata": {},
   "source": [
    "ii.char():-ascii to char.----------"
   ]
  },
  {
   "cell_type": "code",
   "execution_count": 16,
   "id": "65d4ff75-75c5-4808-b5ad-332b723a151c",
   "metadata": {},
   "outputs": [],
   "source": [
    "# x\n",
    "# print(\"Char of =65\n",
    "# y=char('65')65:\",y)"
   ]
  },
  {
   "cell_type": "markdown",
   "id": "ce5e14e2-85f7-44bb-8ba6-e798b38ffa6f",
   "metadata": {},
   "source": [
    "# join()-----------------\n",
    "* The join() method is used to join (combine) a list of strings into a single string, using a separator.\n",
    "* separator.join(iterable)\n",
    "* separator: A string that will appear between each item.\n",
    "* iterable: Typically a list or tuple of strings.\n",
    "* iterable must be strings. If they are not, you'll get a TypeError.\n",
    "* join() is your go-to method in Python when you need to combine a collection of strings into one string using a specific delimiter.\n",
    "\n"
   ]
  },
  {
   "cell_type": "markdown",
   "id": "223baeb4-c552-418e-85ea-81e15c05b2ed",
   "metadata": {},
   "source": [
    "Join list of words with space-----------"
   ]
  },
  {
   "cell_type": "code",
   "execution_count": 5,
   "id": "ca21216d-8893-449b-9799-c799458f90ab",
   "metadata": {},
   "outputs": [
    {
     "name": "stdout",
     "output_type": "stream",
     "text": [
      "python java cpp php\n"
     ]
    }
   ],
   "source": [
    "l=['python','java','cpp','php']\n",
    "x=' '.join(l)\n",
    "print(x)"
   ]
  },
  {
   "cell_type": "code",
   "execution_count": 6,
   "id": "b7c7edbf-a32f-4ce4-8cd3-ac76d2c1d86e",
   "metadata": {},
   "outputs": [
    {
     "name": "stdout",
     "output_type": "stream",
     "text": [
      "p,y,t,h,o,n\n"
     ]
    }
   ],
   "source": [
    "# join with comma----------------\n",
    "s='python'\n",
    "x=','.join(s)\n",
    "print(x)"
   ]
  },
  {
   "cell_type": "code",
   "execution_count": 11,
   "id": "a4e5368b-62e7-4007-8cb2-dfddd9cc47f2",
   "metadata": {},
   "outputs": [
    {
     "name": "stdout",
     "output_type": "stream",
     "text": [
      "p*y*t*h*o*n\n"
     ]
    }
   ],
   "source": [
    "s='python'\n",
    "x='*'.join(s)\n",
    "print(x)"
   ]
  },
  {
   "cell_type": "code",
   "execution_count": 21,
   "id": "ee541bca-5ec2-42b4-9008-72a42ee393f6",
   "metadata": {},
   "outputs": [
    {
     "ename": "TypeError",
     "evalue": "sequence item 5: expected str instance, int found",
     "output_type": "error",
     "traceback": [
      "\u001b[1;31m---------------------------------------------------------------------------\u001b[0m",
      "\u001b[1;31mTypeError\u001b[0m                                 Traceback (most recent call last)",
      "Cell \u001b[1;32mIn[21], line 2\u001b[0m\n\u001b[0;32m      1\u001b[0m l\u001b[38;5;241m=\u001b[39m[\u001b[38;5;124m'\u001b[39m\u001b[38;5;124mjava\u001b[39m\u001b[38;5;124m'\u001b[39m,\u001b[38;5;124m'\u001b[39m\u001b[38;5;124mpython\u001b[39m\u001b[38;5;124m'\u001b[39m,\u001b[38;5;124m'\u001b[39m\u001b[38;5;124mcpp\u001b[39m\u001b[38;5;124m'\u001b[39m,\u001b[38;5;124m'\u001b[39m\u001b[38;5;124m10\u001b[39m\u001b[38;5;124m'\u001b[39m,\u001b[38;5;124m'\u001b[39m\u001b[38;5;124m30\u001b[39m\u001b[38;5;124m'\u001b[39m,\u001b[38;5;241m50\u001b[39m]\n\u001b[1;32m----> 2\u001b[0m x\u001b[38;5;241m=\u001b[39m\u001b[38;5;124m'\u001b[39m\u001b[38;5;124m*\u001b[39m\u001b[38;5;124m'\u001b[39m\u001b[38;5;241m.\u001b[39mjoin(l)\n\u001b[0;32m      3\u001b[0m \u001b[38;5;28mprint\u001b[39m(x)\n",
      "\u001b[1;31mTypeError\u001b[0m: sequence item 5: expected str instance, int found"
     ]
    }
   ],
   "source": [
    "l=['java','python','cpp','10','30',50]\n",
    "x='*'.join(l)\n",
    "print(x)"
   ]
  },
  {
   "cell_type": "code",
   "execution_count": 9,
   "id": "9a4fdce4-257e-4925-b228-fa79d79bf6e9",
   "metadata": {},
   "outputs": [
    {
     "name": "stdout",
     "output_type": "stream",
     "text": [
      "javapythoncpp103050\n"
     ]
    }
   ],
   "source": [
    "# join without operator-------------------\n",
    "l=['java','python','cpp','10','30','50']\n",
    "x=''.join(l)\n",
    "print(x)"
   ]
  },
  {
   "cell_type": "code",
   "execution_count": 16,
   "id": "b6f7ecf3-fa2e-4f56-bcfc-876f55f837aa",
   "metadata": {},
   "outputs": [
    {
     "name": "stdout",
     "output_type": "stream",
     "text": [
      "[1, 2, 3, 4, 5, 6, 7]\n"
     ]
    }
   ],
   "source": [
    "l=[1,2,3,4,5,6,7]\n",
    "print(str(l))"
   ]
  },
  {
   "cell_type": "code",
   "execution_count": 18,
   "id": "6ee6453f-7ed3-4a58-9542-a68ae8cad6b9",
   "metadata": {},
   "outputs": [
    {
     "name": "stdout",
     "output_type": "stream",
     "text": [
      "[-1-,- -2-,- -3-,- -4-,- -5-,- -6-]\n"
     ]
    }
   ],
   "source": [
    "print('-'.join(str(l)))"
   ]
  },
  {
   "cell_type": "code",
   "execution_count": 24,
   "id": "cdfe5203-52e2-47d0-a11c-9dc0b654b6de",
   "metadata": {},
   "outputs": [
    {
     "name": "stdout",
     "output_type": "stream",
     "text": [
      "1-2-3-4-5-6\n"
     ]
    }
   ],
   "source": [
    "# All item in the list must be string if not, we will get error-----\n",
    "l=[1,2,3,4,5,6]\n",
    "print('-'.join(str(digits)for digits in l))\n"
   ]
  },
  {
   "cell_type": "markdown",
   "id": "27520c84-385d-4154-be14-44befe76b2b1",
   "metadata": {},
   "source": [
    "# <code>print('-'.join(str(digits) <span style=\"color:red; font-weight:bold;\">for digits in l</span>))</code>"
   ]
  },
  {
   "cell_type": "code",
   "execution_count": 27,
   "id": "c99d455c-a08a-4373-a50a-e66ce6b33291",
   "metadata": {},
   "outputs": [
    {
     "name": "stdout",
     "output_type": "stream",
     "text": [
      "1-2-3-4-5-6\n"
     ]
    }
   ],
   "source": [
    "# Another way using map()\n",
    "print(\"-\".join(map(str, l)))"
   ]
  },
  {
   "cell_type": "markdown",
   "id": "7d088e2f-6d69-440b-88a1-887f29062e6b",
   "metadata": {},
   "source": [
    "# split()-----------\n",
    "* The split() method is used to break a string into a list of substrings, based on a separator (default is whitespace).\n",
    "* string.split(separator, maxsplit)\n",
    "* separator (optional) – The delimiter to split by (default: any whitespace).\n",
    "* maxsplit (optional) – Maximum number of splits to do.\n",
    "* 📌 Things to Remember:\n",
    "* The result of split() is always a list of strings.\n",
    "* If the separator is not found, it returns a list with the original string.\n",
    "* If you split an empty string, you'll get ['']."
   ]
  },
  {
   "cell_type": "code",
   "execution_count": 24,
   "id": "3a37fb08-fa40-4020-ab71-70dab4685fe9",
   "metadata": {},
   "outputs": [
    {
     "name": "stdout",
     "output_type": "stream",
     "text": [
      "['I', 'love', 'python', 'language']\n"
     ]
    }
   ],
   "source": [
    "s=\"I love python language\"\n",
    "x=s.split()\n",
    "print(x)"
   ]
  },
  {
   "cell_type": "code",
   "execution_count": 34,
   "id": "63b130e1-a33e-4e28-8793-20a206b35612",
   "metadata": {},
   "outputs": [
    {
     "name": "stdout",
     "output_type": "stream",
     "text": [
      "['I', 'love', 'python', 'language']\n"
     ]
    }
   ],
   "source": [
    "s=\"I love python language\"\n",
    "x=s.split(' ')\n",
    "print(x)"
   ]
  },
  {
   "cell_type": "code",
   "execution_count": 38,
   "id": "6b8c45d0-067e-45c2-ad17-67734b75a6e6",
   "metadata": {},
   "outputs": [
    {
     "name": "stdout",
     "output_type": "stream",
     "text": [
      "['one', 'two', 'three fout five']\n"
     ]
    }
   ],
   "source": [
    "# maxsplit-----\n",
    "s='one two three fout five'\n",
    "x=s.split(\" \",2)\n",
    "print(x)"
   ]
  },
  {
   "cell_type": "code",
   "execution_count": 44,
   "id": "3c33af8d-2db3-4e43-bb55-578505f6dfb3",
   "metadata": {},
   "outputs": [
    {
     "name": "stdout",
     "output_type": "stream",
     "text": [
      "['one', 'two', 'three', 'fout', 'five']\n"
     ]
    }
   ],
   "source": [
    "s='one\\ntwo\\nthree\\nfout\\nfive'\n",
    "x=s.split(\"\\n\")\n",
    "print(x)"
   ]
  },
  {
   "cell_type": "code",
   "execution_count": 25,
   "id": "98e1c8d3-2601-4dfe-9efb-ae13a6242256",
   "metadata": {},
   "outputs": [
    {
     "name": "stdout",
     "output_type": "stream",
     "text": [
      "['I l', 've pyth', 'n language']\n"
     ]
    }
   ],
   "source": [
    "s=\"I love python language\"\n",
    "x=s.split('o')\n",
    "print(x)"
   ]
  },
  {
   "cell_type": "code",
   "execution_count": 26,
   "id": "a1b3ab5f-7e15-47eb-89a7-42dd6f24480f",
   "metadata": {},
   "outputs": [
    {
     "name": "stdout",
     "output_type": "stream",
     "text": [
      "['I l', 've python language']\n"
     ]
    }
   ],
   "source": [
    "s=\"I love python language\"\n",
    "x=s.split('o',1)\n",
    "print(x)"
   ]
  },
  {
   "cell_type": "code",
   "execution_count": 27,
   "id": "8a099b31-358f-4069-b06b-d7e21eb64cbd",
   "metadata": {},
   "outputs": [
    {
     "name": "stdout",
     "output_type": "stream",
     "text": [
      "['I l', 've pyth', 'n language']\n",
      "['I love python l', 'ngu', 'ge']\n",
      "['I l', 've pyth', 'n language'] ['I love python l', 'ngu', 'ge']\n"
     ]
    }
   ],
   "source": [
    "s=\"I love python language\"\n",
    "x=s.split('o')\n",
    "y=s.split('a')\n",
    "print(x)\n",
    "print(y)\n",
    "print(x,y)"
   ]
  },
  {
   "cell_type": "code",
   "execution_count": null,
   "id": "aeb57f3b-7978-41f2-a8cd-0445afee7a06",
   "metadata": {},
   "outputs": [],
   "source": []
  },
  {
   "cell_type": "code",
   "execution_count": 5,
   "id": "19e5c482-578e-46c0-b9fa-efdeb54f141d",
   "metadata": {},
   "outputs": [
    {
     "name": "stdout",
     "output_type": "stream",
     "text": [
      "[]\n"
     ]
    }
   ],
   "source": [
    "# If you split an empty string, you'll get [''].\n",
    "s=\"\"\n",
    "x=s.split()\n",
    "print(x)\n",
    "# When using split() with no arguments, it splits by any whitespace and removes empty parts → so you get an empty list []."
   ]
  },
  {
   "cell_type": "code",
   "execution_count": 7,
   "id": "bdd103e7-23be-496c-9a9e-e2723201ce8e",
   "metadata": {},
   "outputs": [
    {
     "name": "stdout",
     "output_type": "stream",
     "text": [
      "['']\n"
     ]
    }
   ],
   "source": [
    "s=\"\"\n",
    "x=s.split(',')\n",
    "print(x)\n",
    "# When we use a specific separator (like \",\"), Python assumes there is one item (even if empty) → so we get ['']."
   ]
  },
  {
   "cell_type": "code",
   "execution_count": 10,
   "id": "570e0171-abc3-45fa-976a-797ae66b3a76",
   "metadata": {},
   "outputs": [
    {
     "name": "stdout",
     "output_type": "stream",
     "text": [
      "python cpp java\n"
     ]
    }
   ],
   "source": [
    "# 🔁 Opposite of split():\n",
    "# Use \"separator\".join(list) to combine a list back into a string.\n",
    "s=['python','cpp','java']\n",
    "x=\" \".join(s)\n",
    "print(x)"
   ]
  },
  {
   "cell_type": "code",
   "execution_count": 14,
   "id": "e4f0d6ea-ce12-4e92-886b-a5b3caea6e71",
   "metadata": {},
   "outputs": [
    {
     "name": "stdout",
     "output_type": "stream",
     "text": [
      "['I', 'love', 'python', 'language']\n"
     ]
    }
   ],
   "source": [
    "s=\"I love python language\"\n",
    "x=s.split(None,-1)\n",
    "print(x)"
   ]
  },
  {
   "cell_type": "code",
   "execution_count": 26,
   "id": "c7913717-4e9e-4b20-a741-2f17c628abf1",
   "metadata": {},
   "outputs": [
    {
     "name": "stdout",
     "output_type": "stream",
     "text": [
      "['I l', 've pyth', 'n language']\n"
     ]
    }
   ],
   "source": [
    "s=\"I love python language\"\n",
    "x=s.split('o',-1)\n",
    "print(x)"
   ]
  },
  {
   "cell_type": "markdown",
   "id": "e20cee91-4ac4-4bb3-a14c-43723b591f7f",
   "metadata": {},
   "source": [
    "# Key Use Cases for split():\n",
    "* Parsing data: Breaking down lines from a file or user input into individual fields (e.g., CSV data).\n",
    "* Tokenization: Separating a sentence into words.\n",
    "* URL/Path manipulation: Breaking down URLs or file paths into components.\n",
    "* Data extraction: Isolating specific pieces of information from a structured string."
   ]
  },
  {
   "cell_type": "markdown",
   "id": "4bc00ff3-6bd4-4446-8b67-8c3168f58003",
   "metadata": {},
   "source": [
    "# Mathematical operation in string----------(+,*)----------- \n",
    "* In Python, you cannot directly perform mathematical operations like addition or multiplication on strings as you would with numbers, but:\n",
    "* Some operations are overloaded (have a special meaning) when used with strings.\n",
    "* Only certain operations are allowed.\n",
    "* 1. String Addition (+) → Concatenation\n",
    "  2. String Multiplication (*) → Repetition\n",
    "* ❌ Not Allowed: Subtraction, Division, etc."
   ]
  },
  {
   "cell_type": "code",
   "execution_count": 28,
   "id": "33067409-dd9f-48ca-a620-be67c069a3f6",
   "metadata": {},
   "outputs": [
    {
     "name": "stdout",
     "output_type": "stream",
     "text": [
      "pythonjava\n"
     ]
    }
   ],
   "source": [
    "# String Addition (+)\n",
    "s1='python'\n",
    "s2='java'\n",
    "x=s1+s2\n",
    "print(x)"
   ]
  },
  {
   "cell_type": "code",
   "execution_count": 29,
   "id": "cb962194-3380-40c7-8ebc-28c534b94f43",
   "metadata": {},
   "outputs": [
    {
     "name": "stdout",
     "output_type": "stream",
     "text": [
      "pythonpython\n"
     ]
    }
   ],
   "source": [
    "# String Multiplication (*)\n",
    "s1='python'\n",
    "x=2\n",
    "z=s1*x\n",
    "print(z)"
   ]
  },
  {
   "cell_type": "code",
   "execution_count": null,
   "id": "e8138e64-6636-4242-be2b-3b2c72683a88",
   "metadata": {},
   "outputs": [],
   "source": [
    "\n"
   ]
  },
  {
   "cell_type": "code",
   "execution_count": 32,
   "id": "b1fb2a82-4783-4f25-86cd-0cf0a33e125e",
   "metadata": {},
   "outputs": [
    {
     "name": "stdout",
     "output_type": "stream",
     "text": [
      "False\n"
     ]
    }
   ],
   "source": [
    "s1='python'\n",
    "s2='java'\n",
    "print(s1 is s2)"
   ]
  },
  {
   "cell_type": "code",
   "execution_count": 33,
   "id": "c0f39509-10be-402d-bf86-dd4d1bc45959",
   "metadata": {},
   "outputs": [
    {
     "name": "stdout",
     "output_type": "stream",
     "text": [
      "True\n"
     ]
    }
   ],
   "source": [
    "s1='python'\n",
    "s2='java'\n",
    "print(s1 is not s2)"
   ]
  },
  {
   "cell_type": "code",
   "execution_count": 27,
   "id": "83b9adc4-9f91-43e5-b394-5057849f7c0c",
   "metadata": {},
   "outputs": [
    {
     "name": "stdout",
     "output_type": "stream",
     "text": [
      "Apples:5\n"
     ]
    }
   ],
   "source": [
    "# Combine with Numbers (after conversion)\n",
    "num=5\n",
    "text='Apples:'+str(num)\n",
    "print(text)"
   ]
  },
  {
   "cell_type": "code",
   "execution_count": 29,
   "id": "e29130a5-ecac-4bae-9ae9-13c4ae7d5c99",
   "metadata": {},
   "outputs": [
    {
     "name": "stdout",
     "output_type": "stream",
     "text": [
      "65\n",
      "B\n"
     ]
    }
   ],
   "source": [
    "# Using ord() and chr() for ASCII math\n",
    "print(ord('A'))\n",
    "print(chr(65+1))\n"
   ]
  },
  {
   "cell_type": "code",
   "execution_count": null,
   "id": "9df62759-99c4-4fd8-b363-c9352cc31231",
   "metadata": {},
   "outputs": [],
   "source": []
  },
  {
   "cell_type": "markdown",
   "id": "963085fe-892e-4e95-92a8-2a8c893d17f3",
   "metadata": {},
   "source": [
    "# b.List:-Colection of elements-----------------------------"
   ]
  },
  {
   "cell_type": "code",
   "execution_count": 34,
   "id": "dab12363-fa40-4727-a741-470a38d11948",
   "metadata": {},
   "outputs": [
    {
     "name": "stdout",
     "output_type": "stream",
     "text": [
      "1906329582464 1906329581184\n"
     ]
    }
   ],
   "source": [
    "l1=[10,20,30]\n",
    "l2=[10,20,30]\n",
    "print(id(l1),id(l2))"
   ]
  },
  {
   "cell_type": "raw",
   "id": "ab14e6cd-e694-47a0-9013-d8fe6136b9d7",
   "metadata": {},
   "source": [
    "# Both are different so, mutable----\n"
   ]
  },
  {
   "cell_type": "markdown",
   "id": "8291f6ed-34e5-4fad-92a9-ce93114dca13",
   "metadata": {},
   "source": [
    "# Python in built fn for list----------"
   ]
  },
  {
   "cell_type": "code",
   "execution_count": 2,
   "id": "bcd21d61-1c94-4c70-9bf3-c2c63c1e3008",
   "metadata": {},
   "outputs": [
    {
     "ename": "TypeError",
     "evalue": "'>' not supported between instances of 'str' and 'int'",
     "output_type": "error",
     "traceback": [
      "\u001b[1;31m---------------------------------------------------------------------------\u001b[0m",
      "\u001b[1;31mTypeError\u001b[0m                                 Traceback (most recent call last)",
      "Cell \u001b[1;32mIn[2], line 2\u001b[0m\n\u001b[0;32m      1\u001b[0m l\u001b[38;5;241m=\u001b[39m[\u001b[38;5;241m2\u001b[39m,\u001b[38;5;241m5\u001b[39m,\u001b[38;5;124m'\u001b[39m\u001b[38;5;124mjava\u001b[39m\u001b[38;5;124m'\u001b[39m,\u001b[38;5;124m'\u001b[39m\u001b[38;5;124mphp\u001b[39m\u001b[38;5;124m'\u001b[39m]\n\u001b[1;32m----> 2\u001b[0m \u001b[38;5;28mprint\u001b[39m(\u001b[38;5;28mmax\u001b[39m(l))\n",
      "\u001b[1;31mTypeError\u001b[0m: '>' not supported between instances of 'str' and 'int'"
     ]
    }
   ],
   "source": [
    "l=[2,5,'java','php']\n",
    "print(max(l))"
   ]
  },
  {
   "cell_type": "code",
   "execution_count": 3,
   "id": "d05e5d7c-56d7-430d-abbd-88c9b2d21b01",
   "metadata": {},
   "outputs": [
    {
     "ename": "TypeError",
     "evalue": "'<' not supported between instances of 'str' and 'int'",
     "output_type": "error",
     "traceback": [
      "\u001b[1;31m---------------------------------------------------------------------------\u001b[0m",
      "\u001b[1;31mTypeError\u001b[0m                                 Traceback (most recent call last)",
      "Cell \u001b[1;32mIn[3], line 1\u001b[0m\n\u001b[1;32m----> 1\u001b[0m \u001b[38;5;28mprint\u001b[39m(\u001b[38;5;28mmin\u001b[39m(l))\n",
      "\u001b[1;31mTypeError\u001b[0m: '<' not supported between instances of 'str' and 'int'"
     ]
    }
   ],
   "source": [
    "print(min(l))"
   ]
  },
  {
   "cell_type": "code",
   "execution_count": 4,
   "id": "a7527973-1fe5-4749-8e3d-a9325aa8d6c8",
   "metadata": {},
   "outputs": [
    {
     "ename": "TypeError",
     "evalue": "unsupported operand type(s) for +: 'int' and 'str'",
     "output_type": "error",
     "traceback": [
      "\u001b[1;31m---------------------------------------------------------------------------\u001b[0m",
      "\u001b[1;31mTypeError\u001b[0m                                 Traceback (most recent call last)",
      "Cell \u001b[1;32mIn[4], line 1\u001b[0m\n\u001b[1;32m----> 1\u001b[0m \u001b[38;5;28mprint\u001b[39m(\u001b[38;5;28msum\u001b[39m(l))\n",
      "\u001b[1;31mTypeError\u001b[0m: unsupported operand type(s) for +: 'int' and 'str'"
     ]
    }
   ],
   "source": [
    "print(sum(l))"
   ]
  },
  {
   "cell_type": "code",
   "execution_count": 5,
   "id": "1314e89b-978c-4883-bf0f-f620eb08f448",
   "metadata": {},
   "outputs": [
    {
     "name": "stdout",
     "output_type": "stream",
     "text": [
      "4\n"
     ]
    }
   ],
   "source": [
    "print(len(l))"
   ]
  },
  {
   "cell_type": "code",
   "execution_count": 6,
   "id": "de614e0a-39f8-4141-b1d9-80c81097c557",
   "metadata": {},
   "outputs": [
    {
     "name": "stdout",
     "output_type": "stream",
     "text": [
      "<class 'list'>\n"
     ]
    }
   ],
   "source": [
    "print(type(l))"
   ]
  },
  {
   "cell_type": "code",
   "execution_count": 7,
   "id": "ceeda172-466b-4d71-a1a9-6567f9f853e7",
   "metadata": {},
   "outputs": [
    {
     "name": "stdout",
     "output_type": "stream",
     "text": [
      "1902010769152\n"
     ]
    }
   ],
   "source": [
    "print(id(l))"
   ]
  },
  {
   "cell_type": "code",
   "execution_count": 8,
   "id": "c85589cd-2430-46e7-b36d-d3a28d5505fc",
   "metadata": {},
   "outputs": [
    {
     "name": "stdout",
     "output_type": "stream",
     "text": [
      "40\n"
     ]
    }
   ],
   "source": [
    "l=[20,40,33,12,30]\n",
    "print(max(l))"
   ]
  },
  {
   "cell_type": "code",
   "execution_count": 9,
   "id": "22315f3d-2e4e-4e2a-ba3e-570ef9587fd3",
   "metadata": {},
   "outputs": [
    {
     "name": "stdout",
     "output_type": "stream",
     "text": [
      "12\n"
     ]
    }
   ],
   "source": [
    "print(min(l))"
   ]
  },
  {
   "cell_type": "code",
   "execution_count": 10,
   "id": "0708d94b-e88c-4c90-9b3f-129ed310223f",
   "metadata": {},
   "outputs": [
    {
     "name": "stdout",
     "output_type": "stream",
     "text": [
      "135\n"
     ]
    }
   ],
   "source": [
    "print(sum(l))"
   ]
  },
  {
   "cell_type": "code",
   "execution_count": 11,
   "id": "2f570140-6f9c-4d0b-a2cd-f88f4608f715",
   "metadata": {},
   "outputs": [
    {
     "name": "stdout",
     "output_type": "stream",
     "text": [
      "python\n"
     ]
    }
   ],
   "source": [
    "l=['java','python','php','cpp']\n",
    "print(max(l))"
   ]
  },
  {
   "cell_type": "code",
   "execution_count": 12,
   "id": "d44404a7-144a-433a-911a-0c0b2a3d41fa",
   "metadata": {},
   "outputs": [
    {
     "name": "stdout",
     "output_type": "stream",
     "text": [
      "cpp\n"
     ]
    }
   ],
   "source": [
    "print(min(l))"
   ]
  },
  {
   "cell_type": "code",
   "execution_count": 13,
   "id": "d35495ee-d606-4611-9793-73b68da675fb",
   "metadata": {},
   "outputs": [
    {
     "ename": "TypeError",
     "evalue": "unsupported operand type(s) for +: 'int' and 'str'",
     "output_type": "error",
     "traceback": [
      "\u001b[1;31m---------------------------------------------------------------------------\u001b[0m",
      "\u001b[1;31mTypeError\u001b[0m                                 Traceback (most recent call last)",
      "Cell \u001b[1;32mIn[13], line 1\u001b[0m\n\u001b[1;32m----> 1\u001b[0m \u001b[38;5;28mprint\u001b[39m(\u001b[38;5;28msum\u001b[39m(l))\n",
      "\u001b[1;31mTypeError\u001b[0m: unsupported operand type(s) for +: 'int' and 'str'"
     ]
    }
   ],
   "source": [
    "print(sum(l))"
   ]
  },
  {
   "cell_type": "markdown",
   "id": "5e71707b-df46-4b53-8cd3-1903f8bb454a",
   "metadata": {},
   "source": [
    "# List in built method-----------------"
   ]
  },
  {
   "cell_type": "code",
   "execution_count": null,
   "id": "2da14067-9622-41bb-a907-71805835fac0",
   "metadata": {},
   "outputs": [],
   "source": [
    "l=['10','20','30','40','java','cpp']\n",
    "(l.append())\n",
    "(l.clear())\n",
    "(l.copy())\n",
    "print(l.count())\n",
    "(l.extend())\n",
    "(l.index())\n",
    "(l.insert())\n",
    "(l.pop())\n",
    "(l.remove())\n",
    "(l.reverse())\n",
    "(l.sort())"
   ]
  },
  {
   "cell_type": "code",
   "execution_count": 14,
   "id": "3378f708-da6f-4888-aa9b-28867b5ca156",
   "metadata": {},
   "outputs": [
    {
     "name": "stdout",
     "output_type": "stream",
     "text": [
      "['java', 'python', 'php', 'cpp', 100]\n"
     ]
    }
   ],
   "source": [
    "l.append(100)\n",
    "print(l)"
   ]
  },
  {
   "cell_type": "code",
   "execution_count": 15,
   "id": "d338fa87-9474-4c28-b9fa-348385746fe4",
   "metadata": {},
   "outputs": [
    {
     "name": "stdout",
     "output_type": "stream",
     "text": [
      "['java', 'python', 'php', 'cpp', 100, [1, 2, 3, 4, 'python']]\n"
     ]
    }
   ],
   "source": [
    "l.append([1,2,3,4,'python'])\n",
    "print(l)"
   ]
  },
  {
   "cell_type": "code",
   "execution_count": 16,
   "id": "09bb17ba-55bb-4ac6-a892-a7f6c017fb9e",
   "metadata": {},
   "outputs": [
    {
     "name": "stdout",
     "output_type": "stream",
     "text": [
      "[]\n"
     ]
    }
   ],
   "source": [
    "l.clear()\n",
    "print(l)"
   ]
  },
  {
   "cell_type": "code",
   "execution_count": 22,
   "id": "04fb5fbc-8f2e-4176-913d-364297019eaf",
   "metadata": {},
   "outputs": [
    {
     "name": "stdout",
     "output_type": "stream",
     "text": [
      "['10', '20', '30', '40', 'java', 'cpp']\n",
      "1902011426816 1902011426048\n"
     ]
    }
   ],
   "source": [
    "l=['10','20','30','40','java','cpp']\n",
    "l1=l.copy()\n",
    "print(l1)\n",
    "print(id(l),id(l1))"
   ]
  },
  {
   "cell_type": "raw",
   "id": "c0312a62-4c6b-406f-b2aa-3a4c989a8357",
   "metadata": {},
   "source": [
    "differen address----"
   ]
  },
  {
   "cell_type": "code",
   "execution_count": 25,
   "id": "9b1671c1-4d56-4f9c-b022-7f8c01f1a617",
   "metadata": {},
   "outputs": [
    {
     "name": "stdout",
     "output_type": "stream",
     "text": [
      "3\n"
     ]
    }
   ],
   "source": [
    "l=[1,2,3,44,2,5,2]\n",
    "print(l.count(2))"
   ]
  },
  {
   "cell_type": "raw",
   "id": "3a731084-b8c4-422c-97ea-8380bbc84ee7",
   "metadata": {},
   "source": [
    "count ko dirrect print(l.count()) kar sakte hai kyu ki structure me koi change nhi ho rha hai esiliye direct hit kar rhe hai."
   ]
  },
  {
   "cell_type": "code",
   "execution_count": 29,
   "id": "d4294d5f-58d1-415c-a1bc-86ef495591f1",
   "metadata": {},
   "outputs": [
    {
     "ename": "TypeError",
     "evalue": "list.extend() takes exactly one argument (6 given)",
     "output_type": "error",
     "traceback": [
      "\u001b[1;31m---------------------------------------------------------------------------\u001b[0m",
      "\u001b[1;31mTypeError\u001b[0m                                 Traceback (most recent call last)",
      "Cell \u001b[1;32mIn[29], line 2\u001b[0m\n\u001b[0;32m      1\u001b[0m l\u001b[38;5;241m=\u001b[39m[\u001b[38;5;241m10\u001b[39m,\u001b[38;5;241m20\u001b[39m,\u001b[38;5;124m'\u001b[39m\u001b[38;5;124mpython\u001b[39m\u001b[38;5;124m'\u001b[39m,\u001b[38;5;124m'\u001b[39m\u001b[38;5;124mjava\u001b[39m\u001b[38;5;124m'\u001b[39m]\n\u001b[1;32m----> 2\u001b[0m l\u001b[38;5;241m.\u001b[39mextend(\u001b[38;5;241m1\u001b[39m,\u001b[38;5;241m2\u001b[39m,\u001b[38;5;241m3\u001b[39m,\u001b[38;5;241m4\u001b[39m,\u001b[38;5;241m5\u001b[39m,\u001b[38;5;241m6\u001b[39m)\n\u001b[0;32m      3\u001b[0m \u001b[38;5;28mprint\u001b[39m(l)\n",
      "\u001b[1;31mTypeError\u001b[0m: list.extend() takes exactly one argument (6 given)"
     ]
    }
   ],
   "source": [
    "l=[10,20,'python','java']\n",
    "l.extend(1,2,3,4,5,6)\n",
    "print(l)"
   ]
  },
  {
   "cell_type": "code",
   "execution_count": 30,
   "id": "52edb970-1603-4709-81a4-f524601fc3fd",
   "metadata": {},
   "outputs": [
    {
     "name": "stdout",
     "output_type": "stream",
     "text": [
      "[10, 20, 'python', 'java', 1, 2, 3, 4, 5, 6]\n"
     ]
    }
   ],
   "source": [
    "l.extend([1,2,3,4,5,6])\n",
    "print(l)"
   ]
  },
  {
   "cell_type": "code",
   "execution_count": 32,
   "id": "91703538-3339-4ea7-9c2b-298090450db0",
   "metadata": {},
   "outputs": [
    {
     "name": "stdout",
     "output_type": "stream",
     "text": [
      "[10, 20, 'python', 'java', 1, 2, 3, 4, 5, 6, 1, 2, 3, 4, 5, 6]\n"
     ]
    }
   ],
   "source": [
    "l.extend((1,2,3,4,5,6))\n",
    "print(l)"
   ]
  },
  {
   "cell_type": "code",
   "execution_count": 33,
   "id": "c362d779-422e-45ba-8745-7b0993e0c8e9",
   "metadata": {},
   "outputs": [
    {
     "name": "stdout",
     "output_type": "stream",
     "text": [
      "[10, 20, 'python', 'java', 1, 2, 3, 4, 5, 6, 1, 2, 3, 4, 5, 6, 'j', 'a', 'v', 'a']\n"
     ]
    }
   ],
   "source": [
    "l.extend('java')\n",
    "print(l)"
   ]
  },
  {
   "cell_type": "code",
   "execution_count": 48,
   "id": "e5e33f4f-c36f-4685-b51d-cca3ccf15080",
   "metadata": {},
   "outputs": [
    {
     "ename": "ValueError",
     "evalue": "10 is not in list",
     "output_type": "error",
     "traceback": [
      "\u001b[1;31m---------------------------------------------------------------------------\u001b[0m",
      "\u001b[1;31mValueError\u001b[0m                                Traceback (most recent call last)",
      "Cell \u001b[1;32mIn[48], line 2\u001b[0m\n\u001b[0;32m      1\u001b[0m l\u001b[38;5;241m=\u001b[39m[\u001b[38;5;241m2\u001b[39m,\u001b[38;5;241m3\u001b[39m,\u001b[38;5;241m4\u001b[39m,\u001b[38;5;124m'\u001b[39m\u001b[38;5;124mpython\u001b[39m\u001b[38;5;124m'\u001b[39m,\u001b[38;5;124m'\u001b[39m\u001b[38;5;124mjava\u001b[39m\u001b[38;5;124m'\u001b[39m,\u001b[38;5;124m'\u001b[39m\u001b[38;5;124mphp\u001b[39m\u001b[38;5;124m'\u001b[39m,\u001b[38;5;124m'\u001b[39m\u001b[38;5;124m10\u001b[39m\u001b[38;5;124m'\u001b[39m]\n\u001b[1;32m----> 2\u001b[0m \u001b[38;5;28mprint\u001b[39m(l\u001b[38;5;241m.\u001b[39mindex(\u001b[38;5;241m10\u001b[39m))\n",
      "\u001b[1;31mValueError\u001b[0m: 10 is not in list"
     ]
    }
   ],
   "source": [
    "l=[2,3,4,'python','java','php','10']\n",
    "print(l.index(10))"
   ]
  },
  {
   "cell_type": "code",
   "execution_count": 50,
   "id": "4d20c3bc-d815-450d-b38f-121a211320b5",
   "metadata": {},
   "outputs": [
    {
     "name": "stdout",
     "output_type": "stream",
     "text": [
      "None\n"
     ]
    }
   ],
   "source": [
    "l=[2,3,4,'python','java','php','10']\n",
    "x=l.insert(0,10)\n",
    "print(x)\n"
   ]
  },
  {
   "cell_type": "code",
   "execution_count": 51,
   "id": "7260775c-8f06-4980-aafc-5a413c82fdb9",
   "metadata": {},
   "outputs": [
    {
     "name": "stdout",
     "output_type": "stream",
     "text": [
      "[10, 2, 3, 4, 'python', 'java', 'php', '10']\n"
     ]
    }
   ],
   "source": [
    "l=[2,3,4,'python','java','php','10']\n",
    "l.insert(0,10)\n",
    "print(l)\n"
   ]
  },
  {
   "cell_type": "code",
   "execution_count": 52,
   "id": "c37a70d4-222a-4ef6-a443-298b395a18c8",
   "metadata": {},
   "outputs": [
    {
     "name": "stdout",
     "output_type": "stream",
     "text": [
      "[10, 2, 3, 4, 'python', 'java', 'php']\n"
     ]
    }
   ],
   "source": [
    "l.pop()\n",
    "print(l)"
   ]
  },
  {
   "cell_type": "code",
   "execution_count": 53,
   "id": "4167c0f5-ee50-481b-8b90-381ca7aebf2c",
   "metadata": {},
   "outputs": [
    {
     "data": {
      "text/plain": [
       "10"
      ]
     },
     "execution_count": 53,
     "metadata": {},
     "output_type": "execute_result"
    }
   ],
   "source": [
    "l.pop(0)"
   ]
  },
  {
   "cell_type": "code",
   "execution_count": 54,
   "id": "0c956a1e-2985-4aa4-91bb-131c8314257a",
   "metadata": {},
   "outputs": [
    {
     "name": "stdout",
     "output_type": "stream",
     "text": [
      "[3, 4, 'python', 'java', 'php']\n"
     ]
    }
   ],
   "source": [
    "l.pop(0)\n",
    "print(l)"
   ]
  },
  {
   "cell_type": "code",
   "execution_count": 55,
   "id": "c68e6f29-e8dd-4ade-bb97-9f144f459094",
   "metadata": {},
   "outputs": [
    {
     "ename": "TypeError",
     "evalue": "list.remove() takes exactly one argument (0 given)",
     "output_type": "error",
     "traceback": [
      "\u001b[1;31m---------------------------------------------------------------------------\u001b[0m",
      "\u001b[1;31mTypeError\u001b[0m                                 Traceback (most recent call last)",
      "Cell \u001b[1;32mIn[55], line 1\u001b[0m\n\u001b[1;32m----> 1\u001b[0m l\u001b[38;5;241m.\u001b[39mremove()\n\u001b[0;32m      2\u001b[0m \u001b[38;5;28mprint\u001b[39m(l)\n",
      "\u001b[1;31mTypeError\u001b[0m: list.remove() takes exactly one argument (0 given)"
     ]
    }
   ],
   "source": [
    "l.remove()\n",
    "print(l)"
   ]
  },
  {
   "cell_type": "code",
   "execution_count": 57,
   "id": "99147102-7478-439d-b77e-13b83969e575",
   "metadata": {},
   "outputs": [
    {
     "name": "stdout",
     "output_type": "stream",
     "text": [
      "[3, 4, 'java', 'php']\n"
     ]
    }
   ],
   "source": [
    "l.remove('python')\n",
    "print(l)"
   ]
  },
  {
   "cell_type": "code",
   "execution_count": 58,
   "id": "a934a782-aa54-4c0e-941f-1bd4d7447c86",
   "metadata": {},
   "outputs": [
    {
     "name": "stdout",
     "output_type": "stream",
     "text": [
      "['php', 'java', 4, 3]\n"
     ]
    }
   ],
   "source": [
    "l.reverse()\n",
    "print(l)"
   ]
  },
  {
   "cell_type": "code",
   "execution_count": 59,
   "id": "43a5ec4c-646b-4953-b6da-f2d97b2043c6",
   "metadata": {},
   "outputs": [
    {
     "ename": "TypeError",
     "evalue": "'<' not supported between instances of 'str' and 'int'",
     "output_type": "error",
     "traceback": [
      "\u001b[1;31m---------------------------------------------------------------------------\u001b[0m",
      "\u001b[1;31mTypeError\u001b[0m                                 Traceback (most recent call last)",
      "Cell \u001b[1;32mIn[59], line 2\u001b[0m\n\u001b[0;32m      1\u001b[0m l\u001b[38;5;241m=\u001b[39m[\u001b[38;5;241m2\u001b[39m,\u001b[38;5;241m3\u001b[39m,\u001b[38;5;241m4\u001b[39m,\u001b[38;5;124m'\u001b[39m\u001b[38;5;124mpython\u001b[39m\u001b[38;5;124m'\u001b[39m,\u001b[38;5;124m'\u001b[39m\u001b[38;5;124mjava\u001b[39m\u001b[38;5;124m'\u001b[39m,\u001b[38;5;124m'\u001b[39m\u001b[38;5;124mphp\u001b[39m\u001b[38;5;124m'\u001b[39m,\u001b[38;5;124m'\u001b[39m\u001b[38;5;124m10\u001b[39m\u001b[38;5;124m'\u001b[39m]\n\u001b[1;32m----> 2\u001b[0m l\u001b[38;5;241m.\u001b[39msort()\n\u001b[0;32m      3\u001b[0m \u001b[38;5;28mprint\u001b[39m(l)\n",
      "\u001b[1;31mTypeError\u001b[0m: '<' not supported between instances of 'str' and 'int'"
     ]
    }
   ],
   "source": [
    "l=[2,3,4,'python','java','php','10']\n",
    "l.sort()\n",
    "print(l)"
   ]
  },
  {
   "cell_type": "code",
   "execution_count": null,
   "id": "9b7b3298-3967-4033-afb7-188eae4124e9",
   "metadata": {},
   "outputs": [
    {
     "name": "stdout",
     "output_type": "stream",
     "text": [
      "['10', '2', '3', '4', 'java', 'php', 'python']\n"
     ]
    }
   ],
   "source": [
    "l=['2','3','4','java','php','10']\n",
    "l.sort()\n",
    "print(l)"
   ]
  },
  {
   "cell_type": "markdown",
   "id": "bb8522cf-768e-408a-ba69-a85b2a01a3f4",
   "metadata": {},
   "source": [
    "# Mathematical Operation on list\n",
    "\n",
    "* Members ship operator(in)\n",
    "* Identity operator(is):-(Compare object identity)\n",
    "* Comparision operator(==)\n",
    "* addition(+)\n",
    "* multiplication(*)\n",
    "* Indexing and Slicing Operators: [] and [:]"
   ]
  },
  {
   "cell_type": "code",
   "execution_count": 2,
   "id": "8115fed0-457f-408d-a1ac-ff97ca92040b",
   "metadata": {},
   "outputs": [
    {
     "name": "stdout",
     "output_type": "stream",
     "text": [
      "[2, 5, 45, 3]\n"
     ]
    }
   ],
   "source": [
    "#addition(+)\n",
    "l=[2,5]\n",
    "l1=[45,3]\n",
    "print(l+l1)\n",
    "# Here, the two lists are combined into one — this is list concatenation."
   ]
  },
  {
   "cell_type": "code",
   "execution_count": 3,
   "id": "537ff97c-c332-4920-af25-9cfa27bd5cc6",
   "metadata": {},
   "outputs": [
    {
     "ename": "TypeError",
     "evalue": "unsupported operand type(s) for -: 'list' and 'list'",
     "output_type": "error",
     "traceback": [
      "\u001b[1;31m---------------------------------------------------------------------------\u001b[0m",
      "\u001b[1;31mTypeError\u001b[0m                                 Traceback (most recent call last)",
      "Cell \u001b[1;32mIn[3], line 1\u001b[0m\n\u001b[1;32m----> 1\u001b[0m \u001b[38;5;28mprint\u001b[39m(l\u001b[38;5;241m-\u001b[39ml1)\n",
      "\u001b[1;31mTypeError\u001b[0m: unsupported operand type(s) for -: 'list' and 'list'"
     ]
    }
   ],
   "source": [
    "print(l-l1)\n",
    "# In Python, the (-) (subtraction operator) is not supported between two lists. You can't subtract one list from another directly."
   ]
  },
  {
   "cell_type": "code",
   "execution_count": 4,
   "id": "6960323d-0aa0-42d8-ac82-4c3e4a971c0d",
   "metadata": {},
   "outputs": [
    {
     "name": "stdout",
     "output_type": "stream",
     "text": [
      "[2, 5, 2, 5]\n",
      "[45, 3, 45, 3, 45, 3, 45, 3, 45, 3]\n"
     ]
    }
   ],
   "source": [
    "# multiplication(*)\n",
    "print(l*2)\n",
    "print(l1*5)\n",
    "# In Python, using the * operator with a list and an integer performs list repetition, not multiplication of elements."
   ]
  },
  {
   "cell_type": "code",
   "execution_count": 5,
   "id": "6b3c8851-18bf-47ef-b7c9-aa858f4a5cd0",
   "metadata": {},
   "outputs": [
    {
     "name": "stdout",
     "output_type": "stream",
     "text": [
      "[0, 0, 0, 0, 0]\n"
     ]
    }
   ],
   "source": [
    "l=[0]\n",
    "print(l*5)"
   ]
  },
  {
   "cell_type": "code",
   "execution_count": 13,
   "id": "1beab68e-add0-4c9d-99d5-ad8de98c4351",
   "metadata": {},
   "outputs": [
    {
     "name": "stdout",
     "output_type": "stream",
     "text": [
      "2\n",
      "java\n",
      "[2, 3, 4, 5]\n"
     ]
    }
   ],
   "source": [
    "# Indexing and Slicing Operators\n",
    "l=[1,2,3,4,5,'java']\n",
    "print(l[1])     \n",
    "print(l[-1])    \n",
    "print(l[1:5]) "
   ]
  },
  {
   "cell_type": "code",
   "execution_count": 6,
   "id": "a7a1b6b6-56b2-4028-ab51-b01c4c08b308",
   "metadata": {},
   "outputs": [
    {
     "name": "stdout",
     "output_type": "stream",
     "text": [
      "False\n"
     ]
    }
   ],
   "source": [
    "l=[1,2,3,4,5]\n",
    "print(6 in l)"
   ]
  },
  {
   "cell_type": "code",
   "execution_count": 1,
   "id": "519e9161-ade0-4d26-90d5-dd9766524145",
   "metadata": {},
   "outputs": [
    {
     "name": "stdout",
     "output_type": "stream",
     "text": [
      "True\n",
      "True\n"
     ]
    }
   ],
   "source": [
    "print(2 in (1, 2, 3)) \n",
    "print(4 in {4, 5, 6}) "
   ]
  },
  {
   "cell_type": "code",
   "execution_count": 7,
   "id": "98a1e557-32c2-46ca-b6e2-5e1c1d29b052",
   "metadata": {},
   "outputs": [
    {
     "name": "stdout",
     "output_type": "stream",
     "text": [
      "False\n"
     ]
    }
   ],
   "source": [
    "print(5 not in l)"
   ]
  },
  {
   "cell_type": "code",
   "execution_count": 8,
   "id": "65b3eb17-a957-4e9a-9fb5-5a63c776612f",
   "metadata": {},
   "outputs": [
    {
     "name": "stdout",
     "output_type": "stream",
     "text": [
      "False\n"
     ]
    }
   ],
   "source": [
    "# check on the bassed of address.\n",
    "l1=[1,2,3,4]\n",
    "l2=[1,2,3,4]\n",
    "print(l1 is l2)"
   ]
  },
  {
   "cell_type": "code",
   "execution_count": 9,
   "id": "fcdffb15-d57f-4c37-92ad-90baeb9c232d",
   "metadata": {},
   "outputs": [
    {
     "name": "stdout",
     "output_type": "stream",
     "text": [
      "True\n"
     ]
    }
   ],
   "source": [
    "# check on the bassed of value.\n",
    "print(l1==l2)"
   ]
  },
  {
   "cell_type": "markdown",
   "id": "59bd6401-5852-452d-a42a-99ccafa364a4",
   "metadata": {},
   "source": [
    "* l1 == l2 checks if the values inside the lists are equal → ✅ True\n",
    "* l1 is l2 checks if they are the same object in memory → ❌ False\n",
    "* Even though both lists look the same, they are stored at different memory locations."
   ]
  },
  {
   "cell_type": "markdown",
   "id": "4a878b4b-066b-41c6-b8b7-932c83a8cb17",
   "metadata": {},
   "source": [
    "# c.Tuple----------------\n"
   ]
  },
  {
   "cell_type": "code",
   "execution_count": 10,
   "id": "88f5e806-db23-432f-8352-19c5f8eb019a",
   "metadata": {},
   "outputs": [
    {
     "name": "stdout",
     "output_type": "stream",
     "text": [
      "(1, 2, 3, 'java', 'python')\n",
      "<class 'tuple'>\n"
     ]
    }
   ],
   "source": [
    "t=(1,2,3,'java','python')\n",
    "print(t)\n",
    "print(type(t))"
   ]
  },
  {
   "cell_type": "raw",
   "id": "41c50606-6256-4207-baa5-b4609a0e46d6",
   "metadata": {},
   "source": [
    "python in build function in tuple:--------------"
   ]
  },
  {
   "cell_type": "code",
   "execution_count": 15,
   "id": "92ff4678-7b15-4732-a044-906bc9393a10",
   "metadata": {},
   "outputs": [
    {
     "name": "stdout",
     "output_type": "stream",
     "text": [
      "5\n",
      "1\n",
      "15\n",
      "5\n",
      "<class 'tuple'>\n",
      "(1, 2, 3, 4, 5)\n",
      "3123340004544\n"
     ]
    }
   ],
   "source": [
    "#for homogenous tuple(int data type)\n",
    "t=(1,2,3,4,5)\n",
    "print(max(t))\n",
    "print(min(t))\n",
    "print(sum(t))\n",
    "print(len(t))\n",
    "print(type(t))\n",
    "print(t)\n",
    "print(id(t))"
   ]
  },
  {
   "cell_type": "code",
   "execution_count": 14,
   "id": "4ed7ca45-8db1-47b0-9aab-abe750936630",
   "metadata": {},
   "outputs": [
    {
     "name": "stdout",
     "output_type": "stream",
     "text": [
      "python\n",
      "cpp\n",
      "3\n",
      "<class 'tuple'>\n",
      "('java', 'python', 'cpp')\n",
      "3123339810112\n"
     ]
    }
   ],
   "source": [
    "#for homogenous tuple(string data type)\n",
    "t=('java','python','cpp')\n",
    "print(max(t))\n",
    "print(min(t))\n",
    "#print(sum(t))\n",
    "print(len(t))\n",
    "print(type(t))\n",
    "print(t)\n",
    "print(id(t))"
   ]
  },
  {
   "cell_type": "code",
   "execution_count": 5,
   "id": "5bd5049c-4924-4bc3-944e-f1052ba49aa8",
   "metadata": {},
   "outputs": [
    {
     "name": "stdout",
     "output_type": "stream",
     "text": [
      "6\n",
      "<class 'tuple'>\n",
      "('java', 'python', 'cpp', 1, 2, 3)\n",
      "1634608003200\n"
     ]
    }
   ],
   "source": [
    "#for Heterogeneous tuple\n",
    "t=('java','python','cpp',1,2,3)\n",
    "# print(max(t))\n",
    "# print(min(t))\n",
    "# print(sum(t))\n",
    "print(len(t))\n",
    "print(type(t))\n",
    "print(t)\n",
    "print(id(t))"
   ]
  },
  {
   "cell_type": "markdown",
   "id": "c60c2fd1-a3a4-49f2-9a28-8467bc6e4d7c",
   "metadata": {},
   "source": [
    "# Tuple in built method-----------------\n",
    "* 🔒 Reminder: Tuples are immutable\n",
    "So, these list methods DO NOT work on tuples:\n",
    "1. .append()\n",
    "2. .extend()\n",
    "3. .remove()\n",
    "4. .pop()\n",
    "5. .sort()\n",
    "6. .reverse()\n",
    "* Since tuples are immutable, they support only a few built-in methods (much fewer than lists).\n",
    "  1. index()\n",
    "  2. count()"
   ]
  },
  {
   "cell_type": "code",
   "execution_count": 6,
   "id": "40174dc3-ba6a-43eb-83a7-bdf50d640cff",
   "metadata": {},
   "outputs": [
    {
     "name": "stdout",
     "output_type": "stream",
     "text": [
      "1\n"
     ]
    }
   ],
   "source": [
    "# Returns how many times 1 occurs.\n",
    "t=(1,2,3,'java','python')\n",
    "print(t.count(1))"
   ]
  },
  {
   "cell_type": "code",
   "execution_count": 7,
   "id": "f89c7730-7dd0-4808-bbed-edddc89284f3",
   "metadata": {},
   "outputs": [
    {
     "name": "stdout",
     "output_type": "stream",
     "text": [
      "3\n"
     ]
    }
   ],
   "source": [
    "# Returns index of first occurrence of 'java'\n",
    "print(t.index('java'))"
   ]
  },
  {
   "cell_type": "markdown",
   "id": "e033c101-e05e-4cb3-b6aa-6a4b604498ce",
   "metadata": {},
   "source": [
    "# Mathematical Operation on Tuple\n",
    "  1. Membership Operators: in, not in\n",
    "  2. Concatenation Operator: +\n",
    "  3.  Repetition Operator: *\n",
    "  4.  Comparison Operators: ==, !=, <, >, <=, >=\n",
    "  5.  Indexing and Slicing Operators: [] and [:]"
   ]
  },
  {
   "cell_type": "code",
   "execution_count": 19,
   "id": "03a9813f-2947-4bea-8794-aff3bbaf12e9",
   "metadata": {},
   "outputs": [
    {
     "name": "stdout",
     "output_type": "stream",
     "text": [
      "[1, 2, 3, 4, 5, 2, 6, 8, 9]\n",
      "[1, 2, 3, 4, 1, 2, 3, 4, 1, 2, 3, 4]\n"
     ]
    }
   ],
   "source": [
    "t1=[1,2,3,4]\n",
    "t2=[5,2,6,8,9]\n",
    "print(t1+t2)\n",
    "print(t1*3)"
   ]
  },
  {
   "cell_type": "code",
   "execution_count": 23,
   "id": "49680a2d-4f82-4b48-b504-c4f52b213e88",
   "metadata": {},
   "outputs": [
    {
     "name": "stdout",
     "output_type": "stream",
     "text": [
      "False\n",
      "True\n",
      "False\n"
     ]
    }
   ],
   "source": [
    "print(t1 is t2)\n",
    "print(t1 is not t2)"
   ]
  },
  {
   "cell_type": "code",
   "execution_count": 9,
   "id": "de958bb3-457b-4048-ba7d-f98c06007dc5",
   "metadata": {},
   "outputs": [
    {
     "name": "stdout",
     "output_type": "stream",
     "text": [
      "False\n"
     ]
    }
   ],
   "source": [
    "# Comparison Operators\n",
    "t1=[1,2,3,4]\n",
    "t2=[5,2,6,8,9]\n",
    "print(t1==t2)"
   ]
  },
  {
   "cell_type": "code",
   "execution_count": 25,
   "id": "352e2eda-44cb-45cf-b5f2-2348b4912d15",
   "metadata": {},
   "outputs": [
    {
     "name": "stdout",
     "output_type": "stream",
     "text": [
      "True\n",
      "True\n"
     ]
    }
   ],
   "source": [
    "#membership Operator\n",
    "print(1 in t)\n",
    "print(10 not in t)"
   ]
  },
  {
   "cell_type": "code",
   "execution_count": 10,
   "id": "00987411-e80b-4b02-90bd-b840a2726862",
   "metadata": {},
   "outputs": [
    {
     "name": "stdout",
     "output_type": "stream",
     "text": [
      "20\n",
      "40\n",
      "(20, 30)\n"
     ]
    }
   ],
   "source": [
    "# Indexing and Slicing Operators\n",
    "t = (10, 20, 30, 40)\n",
    "print(t[1])     \n",
    "print(t[-1])    \n",
    "print(t[1:3])   \n"
   ]
  },
  {
   "cell_type": "markdown",
   "id": "cc1b5393-882e-4f0b-a0c8-5970a564a495",
   "metadata": {},
   "source": [
    " # 4. Mapping Type(dictionary)\n",
    " * Collection of key value pair.\n",
    " * represented in {} with comma (,) seperated pairs.\n",
    " * key must be unique.\n",
    " * value may be duplicate.\n",
    " * sequential collection.\n",
    " * Indexing and slicing not supported.\n",
    " * mutable in nature.\n"
   ]
  },
  {
   "cell_type": "code",
   "execution_count": 1,
   "id": "3b784050-209c-435e-ae64-81d3ddac3d00",
   "metadata": {},
   "outputs": [
    {
     "name": "stdout",
     "output_type": "stream",
     "text": [
      "{'name': 'suraj', 'age': 21, 'quali': 'b.tech'}\n",
      "2079462592512\n",
      "<class 'dict'>\n"
     ]
    }
   ],
   "source": [
    "d={'name':'suraj','age':21,'quali':'b.tech'}\n",
    "print(d)\n",
    "print(id(d))\n",
    "print(type(d))"
   ]
  },
  {
   "cell_type": "code",
   "execution_count": 2,
   "id": "e1b4b0cb-7d7a-4800-a59e-ac581e756847",
   "metadata": {},
   "outputs": [
    {
     "name": "stdout",
     "output_type": "stream",
     "text": [
      "{'name': 'rohan', 'age': 21, 'quali': 'b.tech'}\n",
      "2079463088192\n",
      "<class 'dict'>\n"
     ]
    }
   ],
   "source": [
    "d={'name':'suraj','age':21,'quali':'b.tech','name':'rohan'}\n",
    "print(d)\n",
    "print(id(d))\n",
    "print(type(d))"
   ]
  },
  {
   "cell_type": "markdown",
   "id": "6587fdff-4db0-4e78-b9b4-9aad56440802",
   "metadata": {},
   "source": [
    "# python in build fn in dic"
   ]
  },
  {
   "cell_type": "code",
   "execution_count": 7,
   "id": "e2b6ca62-2ba9-492e-82c5-ef766345a7b1",
   "metadata": {},
   "outputs": [
    {
     "name": "stdout",
     "output_type": "stream",
     "text": [
      "y\n",
      "Z\n",
      "3\n",
      "<class 'dict'>\n",
      "{'x': 10, 'y': 20, 'Z': 30}\n",
      "1835904549120\n",
      "['Z', 'x', 'y']\n",
      "{'x': 10, 'y': 20, 'Z': 30}\n"
     ]
    }
   ],
   "source": [
    "d={'x':10,'y':20,'Z':30}\n",
    "print(max(d))\n",
    "print(min(d))\n",
    "# print(sum(d))\n",
    "print(len(d))\n",
    "print(type(d))\n",
    "print(d)\n",
    "print(id(d))\n",
    "print(sorted(d))\n",
    "s=(str(d))\n",
    "print(s)"
   ]
  },
  {
   "cell_type": "code",
   "execution_count": 14,
   "id": "89bab290-e761-4cac-ae06-3b9546c12250",
   "metadata": {},
   "outputs": [
    {
     "name": "stdout",
     "output_type": "stream",
     "text": [
      "3\n",
      "<class 'dict'>\n",
      "{'x': 10, 'y': 20, 10: 30}\n",
      "2079518250688\n"
     ]
    }
   ],
   "source": [
    "d={'x':10,'y':20,10:30}\n",
    "# print(max(d))\n",
    "# print(min(d))\n",
    "# print(sum(d))\n",
    "print(len(d))\n",
    "print(type(d))\n",
    "print(d)\n",
    "print(id(d))"
   ]
  },
  {
   "cell_type": "code",
   "execution_count": 10,
   "id": "186f6843-8685-4f28-9299-895486ce5fec",
   "metadata": {},
   "outputs": [
    {
     "name": "stdout",
     "output_type": "stream",
     "text": [
      "10\n",
      "2\n",
      "16\n",
      "3\n",
      "<class 'dict'>\n",
      "{2: 10, 4: 20, 10: 30}\n",
      "2079503292544\n"
     ]
    }
   ],
   "source": [
    "d={2:10,4:20,10:30}\n",
    "print(max(d))\n",
    "print(min(d))\n",
    "print(sum(d))\n",
    "print(len(d))\n",
    "print(type(d))\n",
    "print(d)\n",
    "print(id(d))"
   ]
  },
  {
   "cell_type": "code",
   "execution_count": 15,
   "id": "4dd38db0-7737-44c6-9dc3-c75b470a2b6f",
   "metadata": {},
   "outputs": [
    {
     "name": "stdout",
     "output_type": "stream",
     "text": [
      "4\n",
      "2\n",
      "6\n",
      "2\n",
      "<class 'dict'>\n",
      "{2: 10, 4: 30}\n",
      "2079518268544\n"
     ]
    }
   ],
   "source": [
    "d={2:10,4:20,4:30}\n",
    "print(max(d))\n",
    "print(min(d))\n",
    "print(sum(d))\n",
    "print(len(d))\n",
    "print(type(d))\n",
    "print(d)\n",
    "print(id(d))"
   ]
  },
  {
   "cell_type": "markdown",
   "id": "b35a9194-92d9-460e-8830-2156360e220e",
   "metadata": {},
   "source": [
    "# python in build mathod in dic\n"
   ]
  },
  {
   "cell_type": "code",
   "execution_count": 31,
   "id": "24314a6e-5d17-4734-a7a4-fe1118c72e4d",
   "metadata": {},
   "outputs": [
    {
     "name": "stdout",
     "output_type": "stream",
     "text": [
      "{2: 10, 3: 20, '10': 5}\n",
      "{2: 10, 3: 20, '10': 5}\n",
      "2079503224384 2079503223104\n",
      "10\n",
      "dict_keys([2, 3, '10'])\n",
      "dict_values([10, 20, 5])\n",
      "dict_items([(2, 10), (3, 20), ('10', 5)])\n"
     ]
    }
   ],
   "source": [
    "d={2:10,3:20,'10':5}\n",
    "d1=d.copy()\n",
    "print(d)\n",
    "print(d1)\n",
    "print(id(d),id(d1))\n",
    "# mutable\n",
    "# d.pop(2)\n",
    "# print(d)\n",
    "# d.popitem()\n",
    "# print(d)\n",
    "print(d.get(2))\n",
    "print(d.keys())\n",
    "print(d.values())\n",
    "print(d.items())\n",
    "# print(d.fromkeys(2))\n",
    "# print(d.update(2))\n",
    "# print(d.setdefault(2))\n",
    "\n"
   ]
  },
  {
   "cell_type": "code",
   "execution_count": 4,
   "id": "190afbeb-37b3-40f4-a303-59773f179c5c",
   "metadata": {},
   "outputs": [
    {
     "name": "stdout",
     "output_type": "stream",
     "text": [
      "{'p': 100, 'y': 100, 't': 100, 'h': 100, 'o': 100, 'n': 100}\n"
     ]
    }
   ],
   "source": [
    "# print(d.fromkeys())\n",
    "s='python'\n",
    "# d=dict.fromkeys(s)\n",
    "d1=dict.fromkeys(s,100)\n",
    "print(d1)\n",
    "# d1=dict.fromkeys(s,100)"
   ]
  },
  {
   "cell_type": "code",
   "execution_count": 16,
   "id": "6af1da3d-9bf6-430f-b2d1-ac10036d8fdb",
   "metadata": {},
   "outputs": [
    {
     "name": "stdout",
     "output_type": "stream",
     "text": [
      "50\n",
      "{'a': 10, 'b': 20, 'c': 50, 'd': 50}\n"
     ]
    }
   ],
   "source": [
    "d={'a':10,'b':20,'c':50}\n",
    "x=d.setdefault('d',50)\n",
    "print(x)\n",
    "print(d)"
   ]
  },
  {
   "cell_type": "code",
   "execution_count": 31,
   "id": "25838caa-8777-44f3-a02b-3231b5cbd4b0",
   "metadata": {},
   "outputs": [
    {
     "name": "stdout",
     "output_type": "stream",
     "text": [
      "50\n",
      "{'a': 10, 'b': 20, 'c': 50}\n"
     ]
    }
   ],
   "source": [
    "d={'a':10,'b':20,'c':50}\n",
    "x=d.setdefault('c',5)\n",
    "print(x)\n",
    "print(d)"
   ]
  },
  {
   "cell_type": "code",
   "execution_count": 19,
   "id": "6ed347de-6ac3-44d7-9205-a3859d296988",
   "metadata": {},
   "outputs": [
    {
     "ename": "TypeError",
     "evalue": "setdefault expected at most 2 arguments, got 3",
     "output_type": "error",
     "traceback": [
      "\u001b[1;31m---------------------------------------------------------------------------\u001b[0m",
      "\u001b[1;31mTypeError\u001b[0m                                 Traceback (most recent call last)",
      "Cell \u001b[1;32mIn[19], line 1\u001b[0m\n\u001b[1;32m----> 1\u001b[0m d\u001b[38;5;241m.\u001b[39msetdefault(\u001b[38;5;124m'\u001b[39m\u001b[38;5;124ma\u001b[39m\u001b[38;5;124m'\u001b[39m\u001b[38;5;241m==\u001b[39m\u001b[38;5;241m10\u001b[39m,\u001b[38;5;124m'\u001b[39m\u001b[38;5;124mb\u001b[39m\u001b[38;5;124m'\u001b[39m\u001b[38;5;241m==\u001b[39m\u001b[38;5;241m20\u001b[39m,\u001b[38;5;124m'\u001b[39m\u001b[38;5;124mc\u001b[39m\u001b[38;5;124m'\u001b[39m\u001b[38;5;241m==\u001b[39m\u001b[38;5;241m30\u001b[39m)\n",
      "\u001b[1;31mTypeError\u001b[0m: setdefault expected at most 2 arguments, got 3"
     ]
    }
   ],
   "source": [
    "d.setdefault('a'==10,'b'==20,'c'==30)"
   ]
  },
  {
   "cell_type": "code",
   "execution_count": 20,
   "id": "3a35685e-a6c0-4882-a4f5-2caff55474fb",
   "metadata": {},
   "outputs": [
    {
     "name": "stdout",
     "output_type": "stream",
     "text": [
      "{'a': 10, 'b': 20, 'c': 30}\n"
     ]
    }
   ],
   "source": [
    "d={'a':10,'b':20,'c':50}\n",
    "d.update({'c':30})\n",
    "print(d)"
   ]
  },
  {
   "cell_type": "code",
   "execution_count": 21,
   "id": "b6ce4c7f-34ce-4426-98ea-611db4e4b0eb",
   "metadata": {},
   "outputs": [
    {
     "name": "stdout",
     "output_type": "stream",
     "text": [
      "{'a': 10, 'b': 20, 'c': 30, 'd': 30}\n"
     ]
    }
   ],
   "source": [
    "d.update({'d':30})\n",
    "print(d)"
   ]
  },
  {
   "cell_type": "code",
   "execution_count": 23,
   "id": "2ac03515-3aee-4290-99fe-27545085cbaf",
   "metadata": {},
   "outputs": [
    {
     "name": "stdout",
     "output_type": "stream",
     "text": [
      "{'a': 100, 'b': 200, 'c': 300, 'd': 300}\n"
     ]
    }
   ],
   "source": [
    "d.update({'a': 100, 'b': 200, 'c': 300, 'd': 300})\n",
    "print(d)"
   ]
  },
  {
   "cell_type": "code",
   "execution_count": 25,
   "id": "d7085a31-dc79-41da-97e7-2d611a15ed55",
   "metadata": {},
   "outputs": [
    {
     "name": "stdout",
     "output_type": "stream",
     "text": [
      "{'a': 10, 'b': 20, 'c': 50, 'w': 100, 'x': 200, 'y': 300, 'z': 300}\n"
     ]
    }
   ],
   "source": [
    "d={'a':10,'b':20,'c':50}\n",
    "d.update({'w': 100, 'x': 200, 'y': 300, 'z': 300})\n",
    "print(d)"
   ]
  },
  {
   "cell_type": "code",
   "execution_count": 26,
   "id": "3638b440-ba42-40bc-958e-51f9d33ddbf6",
   "metadata": {},
   "outputs": [],
   "source": [
    "d.clear()"
   ]
  },
  {
   "cell_type": "code",
   "execution_count": 27,
   "id": "f71aa4f1-a95c-4aaa-9fa9-0d177f47ea6f",
   "metadata": {},
   "outputs": [
    {
     "name": "stdout",
     "output_type": "stream",
     "text": [
      "{}\n"
     ]
    }
   ],
   "source": [
    "print(d)"
   ]
  },
  {
   "cell_type": "code",
   "execution_count": 28,
   "id": "be2d665f-f4f9-44ca-b9bb-66db22fce9de",
   "metadata": {},
   "outputs": [
    {
     "name": "stdout",
     "output_type": "stream",
     "text": [
      "2762385041920\n"
     ]
    }
   ],
   "source": [
    "print(id(d))"
   ]
  },
  {
   "cell_type": "code",
   "execution_count": 29,
   "id": "40f3ce83-783c-4e19-aa6e-deae89b93879",
   "metadata": {},
   "outputs": [],
   "source": [
    "del(d)"
   ]
  },
  {
   "cell_type": "code",
   "execution_count": 30,
   "id": "bf425eaf-f41b-444c-ab32-774ae80d8a1a",
   "metadata": {},
   "outputs": [
    {
     "ename": "NameError",
     "evalue": "name 'd' is not defined",
     "output_type": "error",
     "traceback": [
      "\u001b[1;31m---------------------------------------------------------------------------\u001b[0m",
      "\u001b[1;31mNameError\u001b[0m                                 Traceback (most recent call last)",
      "Cell \u001b[1;32mIn[30], line 1\u001b[0m\n\u001b[1;32m----> 1\u001b[0m \u001b[38;5;28mprint\u001b[39m(d)\n",
      "\u001b[1;31mNameError\u001b[0m: name 'd' is not defined"
     ]
    }
   ],
   "source": [
    "print(d)"
   ]
  },
  {
   "cell_type": "markdown",
   "id": "4400feb2-256c-4554-8bed-f5300e72a5fc",
   "metadata": {},
   "source": [
    "# mathematical opration in dictionary"
   ]
  },
  {
   "cell_type": "code",
   "execution_count": 34,
   "id": "cc015419-0a3f-49b0-9c2e-4dc0af3c773a",
   "metadata": {},
   "outputs": [
    {
     "ename": "TypeError",
     "evalue": "unsupported operand type(s) for *: 'dict' and 'dict'",
     "output_type": "error",
     "traceback": [
      "\u001b[1;31m---------------------------------------------------------------------------\u001b[0m",
      "\u001b[1;31mTypeError\u001b[0m                                 Traceback (most recent call last)",
      "Cell \u001b[1;32mIn[34], line 4\u001b[0m\n\u001b[0;32m      2\u001b[0m d2\u001b[38;5;241m=\u001b[39m{\u001b[38;5;124m'\u001b[39m\u001b[38;5;124ma\u001b[39m\u001b[38;5;124m'\u001b[39m:\u001b[38;5;241m100\u001b[39m,\u001b[38;5;124m'\u001b[39m\u001b[38;5;124mb\u001b[39m\u001b[38;5;124m'\u001b[39m:\u001b[38;5;241m200\u001b[39m,\u001b[38;5;124m'\u001b[39m\u001b[38;5;124mc\u001b[39m\u001b[38;5;124m'\u001b[39m:\u001b[38;5;241m500\u001b[39m}\n\u001b[0;32m      3\u001b[0m \u001b[38;5;66;03m# print(d1+d2)\u001b[39;00m\n\u001b[1;32m----> 4\u001b[0m \u001b[38;5;28mprint\u001b[39m(d1\u001b[38;5;241m*\u001b[39md2)\n",
      "\u001b[1;31mTypeError\u001b[0m: unsupported operand type(s) for *: 'dict' and 'dict'"
     ]
    }
   ],
   "source": [
    "d1={'a':10,'b':20,'c':50}\n",
    "d2={'x':100,'y':200,'z':500}\n",
    "# print(d1+d2)\n",
    "print(d1*d2)"
   ]
  },
  {
   "cell_type": "code",
   "execution_count": 35,
   "id": "9ef92781-1b74-43af-812d-9ef8fdc61d67",
   "metadata": {},
   "outputs": [
    {
     "name": "stdout",
     "output_type": "stream",
     "text": [
      "False\n"
     ]
    }
   ],
   "source": [
    "print(d1 is d2)"
   ]
  },
  {
   "cell_type": "code",
   "execution_count": 38,
   "id": "55afc730-6b3c-4475-b4c6-dbdca233ea32",
   "metadata": {},
   "outputs": [
    {
     "name": "stdout",
     "output_type": "stream",
     "text": [
      "False\n"
     ]
    }
   ],
   "source": [
    "print('x'in d2)"
   ]
  },
  {
   "cell_type": "code",
   "execution_count": 40,
   "id": "19db2da6-00df-4b13-af13-a10bde27ef1b",
   "metadata": {},
   "outputs": [
    {
     "name": "stdout",
     "output_type": "stream",
     "text": [
      "False\n"
     ]
    }
   ],
   "source": [
    "print(d1==d2)"
   ]
  },
  {
   "cell_type": "markdown",
   "id": "2b4a7135-41ff-45b3-9877-a3759bd40b53",
   "metadata": {},
   "source": [
    "# 3. sets.\n",
    "* collection of unique element.\n",
    "* represent in {} with comma (,) seperated elements.\n",
    "* unorderd collection.\n",
    "* indexing not supported.\n",
    "* slicing not supported.\n",
    "* mutable in nature."
   ]
  },
  {
   "cell_type": "code",
   "execution_count": 42,
   "id": "5b121086-dc41-4cab-828e-8a766f81b3ff",
   "metadata": {},
   "outputs": [
    {
     "name": "stdout",
     "output_type": "stream",
     "text": [
      "{'python', 'java', 22, 10, 45, 'php'}\n"
     ]
    }
   ],
   "source": [
    "# mutable in nature\n",
    "my_set={'python','java',10,45,10,22,22,'php'}\n",
    "print(my_set)"
   ]
  },
  {
   "cell_type": "code",
   "execution_count": 1,
   "id": "3db0dc8e-379b-4741-b7bd-9cbcc2a22c16",
   "metadata": {},
   "outputs": [
    {
     "name": "stdout",
     "output_type": "stream",
     "text": [
      "<class 'set'>\n"
     ]
    }
   ],
   "source": [
    "s1={10,20,30,40,50,}\n",
    "print(type(s1))"
   ]
  },
  {
   "cell_type": "code",
   "execution_count": 2,
   "id": "71b1c9ac-721b-4be1-8a6b-36b21beeb2bd",
   "metadata": {},
   "outputs": [
    {
     "name": "stdout",
     "output_type": "stream",
     "text": [
      "50\n"
     ]
    }
   ],
   "source": [
    "print(max(s1))"
   ]
  },
  {
   "cell_type": "code",
   "execution_count": 3,
   "id": "2c939016-e43f-4a3a-a136-d02f36b7e3c0",
   "metadata": {},
   "outputs": [
    {
     "name": "stdout",
     "output_type": "stream",
     "text": [
      "150\n"
     ]
    }
   ],
   "source": [
    "print(sum(s1))"
   ]
  },
  {
   "cell_type": "code",
   "execution_count": 5,
   "id": "d4ad1021-7bb9-49e8-9303-b3a77d9685d6",
   "metadata": {},
   "outputs": [
    {
     "name": "stdout",
     "output_type": "stream",
     "text": [
      "10\n"
     ]
    }
   ],
   "source": [
    "print(min(s1))"
   ]
  },
  {
   "cell_type": "markdown",
   "id": "8e53ad73-ae0b-4086-b623-1be3b445bbfb",
   "metadata": {},
   "source": [
    "# mathod"
   ]
  },
  {
   "cell_type": "code",
   "execution_count": 11,
   "id": "521b32d7-e2d8-4875-97b5-9ee28319686d",
   "metadata": {},
   "outputs": [
    {
     "name": "stdout",
     "output_type": "stream",
     "text": [
      "{40, 10, 50, 20, 30}\n"
     ]
    }
   ],
   "source": [
    "s={10,20,30,40}\n",
    "s.add(50)\n",
    "print(s)"
   ]
  },
  {
   "cell_type": "code",
   "execution_count": 8,
   "id": "b1ffa4df-a19c-4d54-8ac5-0e2f4aa9bf10",
   "metadata": {},
   "outputs": [
    {
     "ename": "TypeError",
     "evalue": "'int' object is not iterable",
     "output_type": "error",
     "traceback": [
      "\u001b[1;31m---------------------------------------------------------------------------\u001b[0m",
      "\u001b[1;31mTypeError\u001b[0m                                 Traceback (most recent call last)",
      "Cell \u001b[1;32mIn[8], line 2\u001b[0m\n\u001b[0;32m      1\u001b[0m s\u001b[38;5;241m=\u001b[39m{\u001b[38;5;241m10\u001b[39m,\u001b[38;5;241m20\u001b[39m,\u001b[38;5;241m30\u001b[39m,\u001b[38;5;241m40\u001b[39m}\n\u001b[1;32m----> 2\u001b[0m s\u001b[38;5;241m.\u001b[39mupdate(\u001b[38;5;241m50\u001b[39m)\n\u001b[0;32m      3\u001b[0m \u001b[38;5;28mprint\u001b[39m(s)\n",
      "\u001b[1;31mTypeError\u001b[0m: 'int' object is not iterable"
     ]
    }
   ],
   "source": [
    "\n",
    "s={10,20,30,40}\n",
    "s.update(50)\n",
    "print(s)"
   ]
  },
  {
   "cell_type": "code",
   "execution_count": 7,
   "id": "fd93a58b-68b4-48c9-9cb5-3ba7d565d6f2",
   "metadata": {},
   "outputs": [
    {
     "name": "stdout",
     "output_type": "stream",
     "text": [
      "None\n"
     ]
    }
   ],
   "source": [
    "s={10,20,30,40}\n",
    "x=s.update([1,2,3])\n",
    "print(x)\n"
   ]
  },
  {
   "cell_type": "code",
   "execution_count": null,
   "id": "477bd8dc-dae9-4740-aa04-e7b0e8a04dec",
   "metadata": {},
   "outputs": [],
   "source": []
  },
  {
   "cell_type": "code",
   "execution_count": 9,
   "id": "fc54260b-daf2-4cb4-8272-e30afcab5ba6",
   "metadata": {},
   "outputs": [
    {
     "name": "stdout",
     "output_type": "stream",
     "text": [
      "{1, 2, 3, 40, 10, 20, 30}\n"
     ]
    }
   ],
   "source": [
    "s={10,20,30,40}\n",
    "s.update([1,2,3])\n",
    "print(s)"
   ]
  },
  {
   "cell_type": "code",
   "execution_count": 10,
   "id": "5675c5f1-285d-4e56-b3a0-af393cc7eb95",
   "metadata": {},
   "outputs": [
    {
     "name": "stdout",
     "output_type": "stream",
     "text": [
      "{'o', 'p', 40, 'n', 10, 'h', 20, 'y', 30, 't'}\n"
     ]
    }
   ],
   "source": [
    "s={10,20,30,40}\n",
    "s.update('python')\n",
    "print(s)"
   ]
  },
  {
   "cell_type": "code",
   "execution_count": 12,
   "id": "310b5996-bd13-46c8-91b9-907006969938",
   "metadata": {},
   "outputs": [
    {
     "name": "stdout",
     "output_type": "stream",
     "text": [
      "{1, 2, 3, 40, 10, 20, 30}\n"
     ]
    }
   ],
   "source": [
    "s={10,20,30,40}\n",
    "s.update([1,2,3])\n",
    "print(s)"
   ]
  },
  {
   "cell_type": "code",
   "execution_count": 13,
   "id": "d7547c3c-d5a7-4a98-84a6-4613d486d215",
   "metadata": {},
   "outputs": [
    {
     "name": "stdout",
     "output_type": "stream",
     "text": [
      "{2, 3, 40, 10, 20, 30}\n"
     ]
    }
   ],
   "source": [
    "s.pop()\n",
    "print(s)"
   ]
  },
  {
   "cell_type": "code",
   "execution_count": 14,
   "id": "21d05b00-fb0d-4c91-8ada-f223d9edd0f4",
   "metadata": {},
   "outputs": [
    {
     "name": "stdout",
     "output_type": "stream",
     "text": [
      "{3, 40, 10, 20, 30}\n"
     ]
    }
   ],
   "source": [
    "s.pop()\n",
    "print(s)"
   ]
  },
  {
   "cell_type": "code",
   "execution_count": 20,
   "id": "e486a6b7-1238-4c1f-846b-704c3f1b6dac",
   "metadata": {},
   "outputs": [
    {
     "name": "stdout",
     "output_type": "stream",
     "text": [
      "{20}\n",
      "2516449596960\n"
     ]
    }
   ],
   "source": [
    "s.pop()\n",
    "print(s)\n",
    "print(id(s))"
   ]
  },
  {
   "cell_type": "code",
   "execution_count": 21,
   "id": "ed42351a-ebba-4b3d-9846-0283522576d3",
   "metadata": {},
   "outputs": [
    {
     "name": "stdout",
     "output_type": "stream",
     "text": [
      "set()\n",
      "2516449596960\n"
     ]
    }
   ],
   "source": [
    "s.pop()\n",
    "print(s)\n",
    "print(id(s))"
   ]
  },
  {
   "cell_type": "code",
   "execution_count": 17,
   "id": "0704834e-f727-4ccd-bab2-55513185d8a6",
   "metadata": {},
   "outputs": [
    {
     "ename": "KeyError",
     "evalue": "40",
     "output_type": "error",
     "traceback": [
      "\u001b[1;31m---------------------------------------------------------------------------\u001b[0m",
      "\u001b[1;31mKeyError\u001b[0m                                  Traceback (most recent call last)",
      "Cell \u001b[1;32mIn[17], line 1\u001b[0m\n\u001b[1;32m----> 1\u001b[0m s\u001b[38;5;241m.\u001b[39mremove(\u001b[38;5;241m40\u001b[39m)\n\u001b[0;32m      2\u001b[0m \u001b[38;5;28mprint\u001b[39m(s)\n",
      "\u001b[1;31mKeyError\u001b[0m: 40"
     ]
    }
   ],
   "source": [
    "s.remove(40)\n",
    "print(s)"
   ]
  },
  {
   "cell_type": "code",
   "execution_count": 18,
   "id": "78f63da5-8b58-4298-a9b7-b59b08e17c4e",
   "metadata": {},
   "outputs": [
    {
     "name": "stdout",
     "output_type": "stream",
     "text": [
      "{10, 20}\n"
     ]
    }
   ],
   "source": [
    "s.remove(30)\n",
    "print(s)\n"
   ]
  },
  {
   "cell_type": "code",
   "execution_count": 19,
   "id": "e54b0bf2-496c-411b-bd9f-6cc23a748e7c",
   "metadata": {},
   "outputs": [
    {
     "name": "stdout",
     "output_type": "stream",
     "text": [
      "{10, 20}\n"
     ]
    }
   ],
   "source": [
    "s.discard(40)\n",
    "print(s)"
   ]
  },
  {
   "cell_type": "code",
   "execution_count": 22,
   "id": "60d51d29-4f4d-4988-8782-511ed975f7ea",
   "metadata": {},
   "outputs": [],
   "source": [
    "s={10,'java','python',20,30,40}\n",
    "s1=s.copy()"
   ]
  },
  {
   "cell_type": "code",
   "execution_count": 23,
   "id": "8d42ec17-298e-435a-a767-5fa1a812fd5d",
   "metadata": {},
   "outputs": [
    {
     "name": "stdout",
     "output_type": "stream",
     "text": [
      "{'java', 20, 40, 10, 'python', 30}\n",
      "{'java', 20, 40, 10, 'python', 30}\n"
     ]
    }
   ],
   "source": [
    "print(s)\n",
    "print(s1)"
   ]
  },
  {
   "cell_type": "code",
   "execution_count": 24,
   "id": "84c6e0d5-e8ca-4cd4-ba35-f0ea9af1cd25",
   "metadata": {},
   "outputs": [
    {
     "name": "stdout",
     "output_type": "stream",
     "text": [
      "2516449491008 2516450739360\n"
     ]
    }
   ],
   "source": [
    "print(id(s),id(s1))"
   ]
  },
  {
   "cell_type": "code",
   "execution_count": 25,
   "id": "e947bedb-21bf-481d-99fa-c851e6f42ed0",
   "metadata": {},
   "outputs": [],
   "source": [
    "s.clear()"
   ]
  },
  {
   "cell_type": "code",
   "execution_count": 26,
   "id": "d3eaa1b3-64b2-4f09-ab30-321f81e27d84",
   "metadata": {},
   "outputs": [
    {
     "name": "stdout",
     "output_type": "stream",
     "text": [
      "set()\n"
     ]
    }
   ],
   "source": [
    "print(s)"
   ]
  },
  {
   "cell_type": "code",
   "execution_count": 27,
   "id": "ff1b1e69-0c3b-4ddb-91cd-048fb500eca8",
   "metadata": {},
   "outputs": [],
   "source": [
    "del(s)"
   ]
  },
  {
   "cell_type": "code",
   "execution_count": 28,
   "id": "cf732182-b304-49f3-b8d3-40d225fc3c92",
   "metadata": {},
   "outputs": [
    {
     "ename": "NameError",
     "evalue": "name 's' is not defined",
     "output_type": "error",
     "traceback": [
      "\u001b[1;31m---------------------------------------------------------------------------\u001b[0m",
      "\u001b[1;31mNameError\u001b[0m                                 Traceback (most recent call last)",
      "Cell \u001b[1;32mIn[28], line 1\u001b[0m\n\u001b[1;32m----> 1\u001b[0m \u001b[38;5;28mprint\u001b[39m(s)\n",
      "\u001b[1;31mNameError\u001b[0m: name 's' is not defined"
     ]
    }
   ],
   "source": [
    "print(s)"
   ]
  },
  {
   "cell_type": "code",
   "execution_count": 37,
   "id": "1939b268-891a-4f37-a820-a1f6a33f2ce9",
   "metadata": {},
   "outputs": [
    {
     "name": "stdout",
     "output_type": "stream",
     "text": [
      "{1, 2, 3, 4, 5, 6, 8, 9, 20, 30}\n",
      "{1, 5}\n",
      "{2, 3, 4, 6}\n",
      "{2, 3, 4, 6, 8, 9, 20, 30}\n",
      "{1, 5}\n",
      "{1, 20, 5, 8, 9, 30}\n"
     ]
    }
   ],
   "source": [
    "s1={1,2,3,4,5,6}\n",
    "s2={1,20,30,5,8,9}\n",
    "s1.union(s2)\n",
    "print(s1.union(s2))\n",
    "s1.intersection(s2)\n",
    "print(s1.intersection(s2))\n",
    "s1.difference(s2)\n",
    "print(s1.difference(s2))\n",
    "s1.symmetric_difference(s2)\n",
    "print(s1.symmetric_difference(s2))\n",
    "s1.intersection_update(s2)\n",
    "print(s1)\n",
    "print(s2)\n",
    "# print(s1.intersection_update(s2))\n"
   ]
  },
  {
   "cell_type": "code",
   "execution_count": 38,
   "id": "342667fa-5308-46ba-b139-5d4ae43c0344",
   "metadata": {},
   "outputs": [
    {
     "name": "stdout",
     "output_type": "stream",
     "text": [
      "set()\n"
     ]
    }
   ],
   "source": [
    "s1={2,3,4,6}\n",
    "s2={1,20,30,5,8,9}\n",
    "s1.intersection_update(s2)\n",
    "print(s1)"
   ]
  },
  {
   "cell_type": "code",
   "execution_count": 39,
   "id": "a396e4d3-a1d4-40f3-a4dc-81d4143982ee",
   "metadata": {},
   "outputs": [
    {
     "name": "stdout",
     "output_type": "stream",
     "text": [
      "{1, 5}\n",
      "{1, 20, 5, 8, 9, 30}\n"
     ]
    }
   ],
   "source": [
    "s1={1,2,3,4,5,6}\n",
    "s2={1,20,30,5,8,9}\n",
    "s1.intersection_update(s2)\n",
    "print(s1)\n",
    "print(s2)"
   ]
  },
  {
   "cell_type": "code",
   "execution_count": 40,
   "id": "66a0fbde-05e4-4d19-ace2-15b995ad0426",
   "metadata": {},
   "outputs": [
    {
     "name": "stdout",
     "output_type": "stream",
     "text": [
      "{8, 9, 20, 30}\n"
     ]
    }
   ],
   "source": [
    "s1.symmetric_difference_update(s2)\n",
    "print(s1)\n"
   ]
  },
  {
   "cell_type": "code",
   "execution_count": 1,
   "id": "0d4c6512-538e-46f8-8397-fcc433809eb8",
   "metadata": {},
   "outputs": [
    {
     "name": "stdout",
     "output_type": "stream",
     "text": [
      "True\n"
     ]
    }
   ],
   "source": [
    "s1={2,3,4,6}\n",
    "s2={1,20,30,5,8,9}\n",
    "print(s1.isdisjoint(s2))"
   ]
  },
  {
   "cell_type": "code",
   "execution_count": 2,
   "id": "0a4ae018-c7da-41bc-8b82-b6053ecb9fed",
   "metadata": {},
   "outputs": [
    {
     "name": "stdout",
     "output_type": "stream",
     "text": [
      "False\n"
     ]
    }
   ],
   "source": [
    "s1={1,2,3,4,5,6}\n",
    "s2={1,20,30,5,8,9}\n",
    "print(s1.isdisjoint(s2))"
   ]
  },
  {
   "cell_type": "code",
   "execution_count": 10,
   "id": "3c1a0a55-fb26-44f4-94d6-e504e8418b5a",
   "metadata": {},
   "outputs": [
    {
     "name": "stdout",
     "output_type": "stream",
     "text": [
      "False\n"
     ]
    }
   ],
   "source": [
    "s1={1,2,3,4,5,6}\n",
    "s2={1,2,4,5,6,8,20,30,44,9}\n",
    "print(s1.issubset(s2))"
   ]
  },
  {
   "cell_type": "code",
   "execution_count": 11,
   "id": "7c1c5817-d081-4059-94cb-f200d762c0a7",
   "metadata": {},
   "outputs": [
    {
     "name": "stdout",
     "output_type": "stream",
     "text": [
      "False\n",
      "False\n"
     ]
    }
   ],
   "source": [
    "s1={1,2,3,4,5,6}\n",
    "s2={1,2,4,5,6,8,20,30,44,9}\n",
    "print(s1.issuperset(s2))\n",
    "print(s2.issuperset(s1))"
   ]
  },
  {
   "cell_type": "markdown",
   "id": "e3cd3ec1-acc8-4473-a55d-ff7c2b53915a",
   "metadata": {},
   "source": [
    "# frozenset\n",
    "* collection of unique elements.\n",
    "* represented in frozenset() with comma(,) seperated.\n",
    "* unorderd collection.\n",
    "* indexing not supported.\n",
    "* slicing not supported.\n",
    "* immutable in nature.\n",
    "* not mathod work"
   ]
  },
  {
   "cell_type": "code",
   "execution_count": 13,
   "id": "331eaf52-80e6-44cf-9847-a77a8cbd541d",
   "metadata": {},
   "outputs": [
    {
     "name": "stdout",
     "output_type": "stream",
     "text": [
      "frozenset({2, 3, 4, 5, 6, 7, 'python', 'java'})\n",
      "<class 'frozenset'>\n"
     ]
    }
   ],
   "source": [
    "l=[2,3,4,5,6,7,'java','python']\n",
    "fs=frozenset(l)\n",
    "print(fs)\n",
    "print(type(fs))"
   ]
  },
  {
   "cell_type": "code",
   "execution_count": 16,
   "id": "11f22c17-6efd-41c0-a7ca-13d2f4cea030",
   "metadata": {},
   "outputs": [
    {
     "name": "stdout",
     "output_type": "stream",
     "text": [
      "<class 'frozenset'>\n",
      "1990380624288\n",
      "frozenset({2, 3, 4, 5, 6, 7, 'python', 'java'})\n"
     ]
    }
   ],
   "source": [
    "# print(max(fs))\n",
    "# print(min(fs))\n",
    "# print(sum(fs))\n",
    "print(type(fs))\n",
    "print(id(fs))\n",
    "print(fs)"
   ]
  },
  {
   "cell_type": "raw",
   "id": "703d1473-c0b3-4d2a-b521-a11be927ac29",
   "metadata": {},
   "source": [
    "union()\n",
    "intesection()\n",
    "difference()\n",
    "symmetric_defference()\n",
    "issubset()\n",
    "issuperset()\n",
    "isdisjoint()\n",
    "copy()"
   ]
  },
  {
   "cell_type": "code",
   "execution_count": 1,
   "id": "9a727c12-d892-4333-8717-4f1dd3441385",
   "metadata": {},
   "outputs": [
    {
     "name": "stdout",
     "output_type": "stream",
     "text": [
      "0\n"
     ]
    }
   ],
   "source": [
    "x=int()\n",
    "print(x)"
   ]
  },
  {
   "cell_type": "code",
   "execution_count": 2,
   "id": "f0e9b69c-e930-4151-b578-d54427d8ca68",
   "metadata": {},
   "outputs": [
    {
     "name": "stdout",
     "output_type": "stream",
     "text": [
      "\n"
     ]
    }
   ],
   "source": [
    "x=str()\n",
    "print(x)"
   ]
  },
  {
   "cell_type": "code",
   "execution_count": 3,
   "id": "a77ef486-adc7-4830-bb3d-27b47bf4386b",
   "metadata": {},
   "outputs": [
    {
     "name": "stdout",
     "output_type": "stream",
     "text": [
      "[]\n"
     ]
    }
   ],
   "source": [
    "x=list()\n",
    "print(x)"
   ]
  },
  {
   "cell_type": "code",
   "execution_count": 4,
   "id": "f459659d-c72f-4a00-acf2-cc86d76a1fad",
   "metadata": {},
   "outputs": [
    {
     "name": "stdout",
     "output_type": "stream",
     "text": [
      "()\n"
     ]
    }
   ],
   "source": [
    "x=tuple()\n",
    "print(x)"
   ]
  },
  {
   "cell_type": "code",
   "execution_count": 5,
   "id": "14cf31ca-686f-465f-8334-78fb0b87da2a",
   "metadata": {},
   "outputs": [
    {
     "name": "stdout",
     "output_type": "stream",
     "text": [
      "{}\n"
     ]
    }
   ],
   "source": [
    "x=dict()\n",
    "print(x)"
   ]
  },
  {
   "cell_type": "code",
   "execution_count": 6,
   "id": "a96deb23-8c3d-430d-906a-ba37826cf4ef",
   "metadata": {},
   "outputs": [
    {
     "name": "stdout",
     "output_type": "stream",
     "text": [
      "set()\n"
     ]
    }
   ],
   "source": [
    "x=set()\n",
    "print(x)"
   ]
  },
  {
   "cell_type": "code",
   "execution_count": 7,
   "id": "e52b57d5-bd86-4e7d-a9bd-6a206ab606c6",
   "metadata": {},
   "outputs": [
    {
     "name": "stdout",
     "output_type": "stream",
     "text": [
      "frozenset()\n"
     ]
    }
   ],
   "source": [
    "x=frozenset()\n",
    "print(x)"
   ]
  },
  {
   "cell_type": "code",
   "execution_count": 9,
   "id": "a81bfada-a860-4071-8c90-e08c9cfc4002",
   "metadata": {},
   "outputs": [
    {
     "name": "stdout",
     "output_type": "stream",
     "text": [
      "<class 'str'>\n"
     ]
    }
   ],
   "source": [
    "x=''\n",
    "print(type(x))"
   ]
  },
  {
   "cell_type": "code",
   "execution_count": 10,
   "id": "7ec3a785-d9ca-479a-bc0e-c912151bd134",
   "metadata": {},
   "outputs": [
    {
     "name": "stdout",
     "output_type": "stream",
     "text": [
      "<class 'tuple'>\n"
     ]
    }
   ],
   "source": [
    "x=()\n",
    "print(type(x))"
   ]
  },
  {
   "cell_type": "code",
   "execution_count": 11,
   "id": "8abef892-71b7-4ddb-88f9-3ee311c10201",
   "metadata": {},
   "outputs": [
    {
     "name": "stdout",
     "output_type": "stream",
     "text": [
      "<class 'list'>\n"
     ]
    }
   ],
   "source": [
    "x=[]\n",
    "print(type(x))"
   ]
  },
  {
   "cell_type": "code",
   "execution_count": 12,
   "id": "e4ae840f-ce93-4e80-8bb0-2d3d6ca366bb",
   "metadata": {},
   "outputs": [
    {
     "name": "stdout",
     "output_type": "stream",
     "text": [
      "<class 'dict'>\n"
     ]
    }
   ],
   "source": [
    "x={}\n",
    "print(type(x))"
   ]
  },
  {
   "cell_type": "markdown",
   "id": "e44d368f-aa48-41e7-80c9-50c70dd63d5e",
   "metadata": {},
   "source": [
    "# Typecasting:---(one data type to another data type)"
   ]
  },
  {
   "cell_type": "code",
   "execution_count": 15,
   "id": "59c7eb39-6372-43e3-b43f-65cea3727e28",
   "metadata": {},
   "outputs": [
    {
     "name": "stdout",
     "output_type": "stream",
     "text": [
      "10\n",
      "<class 'str'>\n"
     ]
    }
   ],
   "source": [
    "# int to string\n",
    "x=10\n",
    "s=str(x)\n",
    "print(s)\n",
    "print(type(s))"
   ]
  },
  {
   "cell_type": "code",
   "execution_count": 16,
   "id": "1d7f0552-34fa-40b5-ad8b-0335cd4082d0",
   "metadata": {},
   "outputs": [
    {
     "name": "stdout",
     "output_type": "stream",
     "text": [
      "['p', 'y', 't', 'h', 'o', 'n']\n",
      "<class 'list'>\n"
     ]
    }
   ],
   "source": [
    "# string into list\n",
    "s='python' \n",
    "l=list(s)\n",
    "print(l)\n",
    "print(type(l))"
   ]
  },
  {
   "cell_type": "code",
   "execution_count": 17,
   "id": "a2a2e883-f3b1-4814-9396-c3239e22dcea",
   "metadata": {},
   "outputs": [
    {
     "name": "stdout",
     "output_type": "stream",
     "text": [
      "10\n",
      "<class 'int'>\n"
     ]
    }
   ],
   "source": [
    "s1='python' \n",
    "s2='10' \n",
    "x=int(s2)\n",
    "print(x)\n",
    "print(type(x))"
   ]
  },
  {
   "cell_type": "code",
   "execution_count": 18,
   "id": "1e59a22c-7559-4f7d-9523-db1f7463bfff",
   "metadata": {},
   "outputs": [
    {
     "name": "stdout",
     "output_type": "stream",
     "text": [
      "{'t', 'p', 'o', 'h', 'n', 'y'}\n"
     ]
    }
   ],
   "source": [
    "s='python'\n",
    "l=set(s)\n",
    "print(l)"
   ]
  },
  {
   "cell_type": "code",
   "execution_count": 19,
   "id": "95849dcf-27b8-4798-843b-9b221f989231",
   "metadata": {},
   "outputs": [
    {
     "name": "stdout",
     "output_type": "stream",
     "text": [
      "frozenset({'t', 'p', 'o', 'h', 'n', 'y'})\n"
     ]
    }
   ],
   "source": [
    "s='python'\n",
    "l=frozenset(s)\n",
    "print(l)"
   ]
  },
  {
   "cell_type": "markdown",
   "id": "e83f7f4e-c806-4066-bf65-2f40d6ea6809",
   "metadata": {},
   "source": [
    "# input():--(to take value from runtime.)"
   ]
  },
  {
   "cell_type": "code",
   "execution_count": 13,
   "id": "d57f0e25-604b-4cff-bee8-9e6be631111c",
   "metadata": {},
   "outputs": [
    {
     "name": "stdout",
     "output_type": "stream",
     "text": [
      "Enter 1st no. 8\n",
      "Enter 2nd no. 6\n"
     ]
    },
    {
     "name": "stdout",
     "output_type": "stream",
     "text": [
      "<class 'str'>\n"
     ]
    }
   ],
   "source": [
    "x=input(\"Enter 1st no.\")\n",
    "y=input(\"Enter 2nd no.\")\n",
    "print(type(x))"
   ]
  },
  {
   "cell_type": "code",
   "execution_count": 23,
   "id": "74a731d9-9f10-4f3f-be14-c72ace68a3b7",
   "metadata": {},
   "outputs": [
    {
     "name": "stdout",
     "output_type": "stream",
     "text": [
      "Enter 1st no. 10\n",
      "Enter 2nd no. 20\n"
     ]
    },
    {
     "name": "stdout",
     "output_type": "stream",
     "text": [
      "30\n"
     ]
    }
   ],
   "source": [
    "x=int(input(\"Enter 1st no.\"))\n",
    "y=int(input(\"Enter 2nd no.\"))\n",
    "z=x+y\n",
    "print(z)"
   ]
  },
  {
   "cell_type": "code",
   "execution_count": 24,
   "id": "84249a7b-389f-485b-8775-17cd8cbc4c0b",
   "metadata": {},
   "outputs": [
    {
     "name": "stdout",
     "output_type": "stream",
     "text": [
      "Enter no.: 10\n"
     ]
    },
    {
     "name": "stdout",
     "output_type": "stream",
     "text": [
      "10\n",
      "<class 'int'>\n"
     ]
    }
   ],
   "source": [
    "x=eval(input(\"Enter no.:\"))\n",
    "print(x)\n",
    "print(type(x))"
   ]
  },
  {
   "cell_type": "code",
   "execution_count": 27,
   "id": "f54cc2b2-306b-41ec-a025-c8b972a8d2e0",
   "metadata": {},
   "outputs": [
    {
     "name": "stdout",
     "output_type": "stream",
     "text": [
      "Enter no.: [1,2,3,4,5]\n"
     ]
    },
    {
     "name": "stdout",
     "output_type": "stream",
     "text": [
      "[1, 2, 3, 4, 5]\n",
      "<class 'list'>\n"
     ]
    }
   ],
   "source": [
    "x=eval(input(\"Enter no.:\"))\n",
    "print(x)\n",
    "print(type(x))"
   ]
  },
  {
   "cell_type": "markdown",
   "id": "be78de6a-b35d-4f7d-8ed7-8256a7a70041",
   "metadata": {},
   "source": [
    "# comment:--\n",
    "* single line comment(# (ctrl+/))\n",
    "* multiline comment(''' ''')"
   ]
  },
  {
   "cell_type": "code",
   "execution_count": 28,
   "id": "e60242bc-7696-4dce-95c8-dda03be13700",
   "metadata": {},
   "outputs": [],
   "source": [
    "# single line comment"
   ]
  },
  {
   "cell_type": "code",
   "execution_count": 31,
   "id": "c8862262-a0e6-484d-a249-36969b7adbc5",
   "metadata": {},
   "outputs": [],
   "source": [
    "x='''this \n",
    "is\n",
    "multiline\n",
    "comment'''"
   ]
  },
  {
   "cell_type": "code",
   "execution_count": 32,
   "id": "89d7367b-91ca-4294-a038-4354eb6d8e6f",
   "metadata": {},
   "outputs": [
    {
     "data": {
      "text/plain": [
       "'\\nThis is a multiline comment\\nusing triple single quotes.\\nPython will ignore this.\\n'"
      ]
     },
     "execution_count": 32,
     "metadata": {},
     "output_type": "execute_result"
    }
   ],
   "source": [
    "'''\n",
    "This is a multiline comment\n",
    "using triple single quotes.\n",
    "Python will ignore this.\n",
    "'''"
   ]
  },
  {
   "cell_type": "markdown",
   "id": "e6ae6044-3206-40ce-942f-52e4b2d96503",
   "metadata": {},
   "source": [
    "# control statement:---"
   ]
  },
  {
   "cell_type": "code",
   "execution_count": 7,
   "id": "f351df89-3353-49e1-8a6e-198b764e412f",
   "metadata": {},
   "outputs": [
    {
     "name": "stdout",
     "output_type": "stream",
     "text": [
      "Enter a number: 4\n"
     ]
    },
    {
     "name": "stdout",
     "output_type": "stream",
     "text": [
      "Number is positive\n",
      "thanks for visiting\n"
     ]
    }
   ],
   "source": [
    "n=int(input(\"Enter a number:\"))\n",
    "if n>0:\n",
    "    print(\"Number is positive\")\n",
    "print(\"thanks for visiting\")    "
   ]
  },
  {
   "cell_type": "code",
   "execution_count": 8,
   "id": "46864947-fbc2-413a-a01e-26adacab14d9",
   "metadata": {},
   "outputs": [
    {
     "name": "stdout",
     "output_type": "stream",
     "text": [
      "Enter a number: -3\n"
     ]
    },
    {
     "name": "stdout",
     "output_type": "stream",
     "text": [
      "thanks for visiting\n"
     ]
    }
   ],
   "source": [
    "n=int(input(\"Enter a number:\"))\n",
    "if n>0:\n",
    "    print(\"Number is positive\")\n",
    "print(\"thanks for visiting\")    "
   ]
  },
  {
   "cell_type": "code",
   "execution_count": 23,
   "id": "e239d80d-6c74-4c4d-97a9-2349fcc35c26",
   "metadata": {},
   "outputs": [
    {
     "name": "stdout",
     "output_type": "stream",
     "text": [
      "Enter a positive Integers: 9\n"
     ]
    },
    {
     "name": "stdout",
     "output_type": "stream",
     "text": [
      "No. is odd\n",
      "thanks for visiting\n"
     ]
    }
   ],
   "source": [
    "n=int(input(\"Enter a positive Integers:\"))\n",
    "if n%2==0:\n",
    "    print(\"No. is even\")\n",
    "else:\n",
    "    print(\"No. is odd\")\n",
    "print(\"thanks for visiting\")\n",
    "    "
   ]
  },
  {
   "cell_type": "code",
   "execution_count": 18,
   "id": "2e7de884-e9ab-4522-8058-f49983460d25",
   "metadata": {},
   "outputs": [
    {
     "name": "stdout",
     "output_type": "stream",
     "text": [
      "Enter an Integers: 0\n"
     ]
    },
    {
     "name": "stdout",
     "output_type": "stream",
     "text": [
      "No. is Zero\n",
      "thanks for visiting\n"
     ]
    }
   ],
   "source": [
    "n=int(input(\"Enter an Integers:\"))\n",
    "if n>0:\n",
    "    print(\"No. is positive\")\n",
    "elif n<0 :\n",
    "    print(\"No. is negative\")\n",
    "elif n==0:\n",
    "    print(\"No. is Zero\")\n",
    "print(\"thanks for visiting\")"
   ]
  },
  {
   "cell_type": "code",
   "execution_count": 1,
   "id": "6979ef96-e913-4362-baf3-0e4f741892c7",
   "metadata": {},
   "outputs": [
    {
     "name": "stdout",
     "output_type": "stream",
     "text": [
      "Enter an Integers: 9\n"
     ]
    },
    {
     "name": "stdout",
     "output_type": "stream",
     "text": [
      "No. is positive\n",
      "thanks for visiting\n"
     ]
    }
   ],
   "source": [
    "n=int(input(\"Enter an Integers:\"))\n",
    "if n>0:\n",
    "    print(\"No. is positive\")\n",
    "elif n<0 :\n",
    "    print(\"No. is negative\")\n",
    "else:\n",
    "    print(\"No. is Zero\")\n",
    "print(\"thanks for visiting\")"
   ]
  },
  {
   "cell_type": "code",
   "execution_count": null,
   "id": "4bebf95f-6c59-47c9-ae83-23375d718589",
   "metadata": {},
   "outputs": [],
   "source": [
    "# larger in three numbers:--\n",
    "int(input(\"enter three integers:\"))\n"
   ]
  },
  {
   "cell_type": "markdown",
   "id": "15e059a5-6b2c-48b4-9ea3-79800f5b6cdd",
   "metadata": {},
   "source": [
    "# Iterative Statements in Python\n",
    "*"
   ]
  },
  {
   "cell_type": "code",
   "execution_count": 6,
   "id": "a3a50177-24a7-49bc-b396-b6ebc932664c",
   "metadata": {},
   "outputs": [
    {
     "name": "stdout",
     "output_type": "stream",
     "text": [
      "Enter integer numbers: 20\n"
     ]
    },
    {
     "name": "stdout",
     "output_type": "stream",
     "text": [
      "1,2,3,4,5,6,7,8,9,10,11,12,13,14,15,16,17,18,19,20,"
     ]
    }
   ],
   "source": [
    "n=int(input(\"Enter integer numbers:\"))\n",
    "i=1\n",
    "while i<=n:\n",
    "    print(i,end=',')\n",
    "    i=i+1\n",
    "    "
   ]
  },
  {
   "cell_type": "code",
   "execution_count": 7,
   "id": "23f53bd9-7da2-48bd-b256-64ab7ca7f49f",
   "metadata": {},
   "outputs": [
    {
     "name": "stdout",
     "output_type": "stream",
     "text": [
      "python java php\n"
     ]
    }
   ],
   "source": [
    "s1='python'\n",
    "s2='java'\n",
    "s3='php'\n",
    "print(s1,s2,s3)"
   ]
  },
  {
   "cell_type": "code",
   "execution_count": 8,
   "id": "29538f58-07e7-438e-beee-0530652f496a",
   "metadata": {},
   "outputs": [
    {
     "name": "stdout",
     "output_type": "stream",
     "text": [
      "pythonjavaphp\n"
     ]
    }
   ],
   "source": [
    "s1='python'\n",
    "s2='java'\n",
    "s3='php'\n",
    "print(s1,s2,s3,sep='')"
   ]
  },
  {
   "cell_type": "code",
   "execution_count": 9,
   "id": "4822a9aa-2b59-4233-8406-986d9cff7e00",
   "metadata": {},
   "outputs": [
    {
     "name": "stdout",
     "output_type": "stream",
     "text": [
      "python,java,php\n"
     ]
    }
   ],
   "source": [
    "s1='python'\n",
    "s2='java'\n",
    "s3='php'\n",
    "print(s1,s2,s3,sep=',')"
   ]
  },
  {
   "cell_type": "code",
   "execution_count": 10,
   "id": "923ab779-743a-416b-bf67-62ccc42a76f5",
   "metadata": {},
   "outputs": [
    {
     "name": "stdout",
     "output_type": "stream",
     "text": [
      "welcome to my world\n"
     ]
    }
   ],
   "source": [
    "print('welcome to my world')"
   ]
  },
  {
   "cell_type": "code",
   "execution_count": 11,
   "id": "8cec599e-6d17-4932-8f12-74dd1b5a3661",
   "metadata": {},
   "outputs": [
    {
     "name": "stdout",
     "output_type": "stream",
     "text": [
      "Enter integer numbers: 10\n"
     ]
    },
    {
     "name": "stdout",
     "output_type": "stream",
     "text": [
      "1,2,3,4,5,6,7,8,9,10\n"
     ]
    }
   ],
   "source": [
    " n=int(input(\"Enter integer numbers:\"))\n",
    "i=1\n",
    "while i<=n:\n",
    "    if i<n:\n",
    "        print(i,end=',')\n",
    "    else:\n",
    "        print(i)\n",
    "    i=i+1"
   ]
  },
  {
   "cell_type": "code",
   "execution_count": 1,
   "id": "75c26954-490f-4c91-b7f2-5dfeef895d3f",
   "metadata": {},
   "outputs": [
    {
     "name": "stdout",
     "output_type": "stream",
     "text": [
      "Enter integer numbers: 20\n"
     ]
    },
    {
     "name": "stdout",
     "output_type": "stream",
     "text": [
      "1+2+3+4+5+6+7+8+9+10+11+12+13+14+15+16+17+18+19+20="
     ]
    }
   ],
   "source": [
    " n=int(input(\"Enter integer numbers:\"))\n",
    "i=1\n",
    "while i<=n:\n",
    "    if i<n:\n",
    "        print(i,end='+')\n",
    "    else:\n",
    "        print(i,end='=')\n",
    "    i=i+1"
   ]
  },
  {
   "cell_type": "code",
   "execution_count": 7,
   "id": "ce437b8d-c90a-4292-ad37-c40fbebbfadc",
   "metadata": {},
   "outputs": [
    {
     "name": "stdout",
     "output_type": "stream",
     "text": [
      "Enter integer numbers: 20\n"
     ]
    },
    {
     "name": "stdout",
     "output_type": "stream",
     "text": [
      "1+2+3+4+5+6+7+8+9+10+11+12+13+14+15+16+17+18+19+20=210\n"
     ]
    }
   ],
   "source": [
    " n=int(input(\"Enter integer numbers:\"))\n",
    "i=1\n",
    "sum=0\n",
    "while i<=n:\n",
    "    sum=sum+i\n",
    "    if i<n:\n",
    "        print(i,end='+')\n",
    "    else:\n",
    "        print(i,end='=')\n",
    "    i=i+1\n",
    "print(sum)"
   ]
  },
  {
   "cell_type": "code",
   "execution_count": 1,
   "id": "6d35a319-e87e-4d4e-91dc-8548fb9773e8",
   "metadata": {},
   "outputs": [
    {
     "name": "stdout",
     "output_type": "stream",
     "text": [
      "Enter integer numbers: 20\n"
     ]
    },
    {
     "name": "stdout",
     "output_type": "stream",
     "text": [
      "1*2*3*4*5*6*7*8*9*10*11*12*13*14*15*16*17*18*19*20=2432902008176640000\n"
     ]
    }
   ],
   "source": [
    " n=int(input(\"Enter integer numbers:\"))\n",
    "i=1\n",
    "multi=1\n",
    "while i<=n:\n",
    "    multi=multi*i\n",
    "    if i<n:\n",
    "        print(i,end='*')\n",
    "    else:\n",
    "        print(i,end='=')\n",
    "    i=i+1\n",
    "print(multi)"
   ]
  },
  {
   "cell_type": "markdown",
   "id": "da708ff2-7b8c-4094-9d26-bbb81d5c6c3b",
   "metadata": {},
   "source": [
    "* wap to print n natural no.\n",
    "* wap to print sum of n natural no.\n",
    "* wap to print multiplication of natural no.\n",
    "* wap to print factorial of any natural no.\n",
    "* wap to print n even no.\n",
    "* wap to print even no. upto n natural no.\n",
    "* wap to print odd no. upto n natural no.\n"
   ]
  },
  {
   "cell_type": "code",
   "execution_count": 2,
   "id": "bf464e06-1d4d-498b-89f4-0f4d829b422d",
   "metadata": {},
   "outputs": [
    {
     "name": "stdout",
     "output_type": "stream",
     "text": [
      "Enter an integer no. 45\n"
     ]
    },
    {
     "name": "stdout",
     "output_type": "stream",
     "text": [
      "2,4,6,8,10,12,14,16,18,20,22,24,26,28,30,32,34,36,38,40,42,44,46,48,50,52,54,56,58,60,62,64,66,68,70,72,74,76,78,80,82,84,86,88,90\n"
     ]
    }
   ],
   "source": [
    "n=int(input(\"Enter an integer no.\"))\n",
    "i=1\n",
    "while i<=n:\n",
    "    if i<n:\n",
    "        print(2*i,end=',')\n",
    "    else:\n",
    "        print(2*i)\n",
    "    i=i+1"
   ]
  },
  {
   "cell_type": "code",
   "execution_count": null,
   "id": "177f7a30-6ee0-40c6-8987-ff1d4300f2c2",
   "metadata": {},
   "outputs": [],
   "source": []
  },
  {
   "cell_type": "code",
   "execution_count": null,
   "id": "715f11de",
   "metadata": {},
   "outputs": [],
   "source": []
  },
  {
   "cell_type": "code",
   "execution_count": null,
   "id": "a7644b95-23df-4d85-8d6f-ee7a5444b21e",
   "metadata": {},
   "outputs": [],
   "source": []
  },
  {
   "cell_type": "code",
   "execution_count": null,
   "id": "48d4a93d-eec7-4a31-be44-5439ad592509",
   "metadata": {},
   "outputs": [],
   "source": []
  },
  {
   "cell_type": "code",
   "execution_count": null,
   "id": "2fc6f9c2-f339-4edf-9e60-72b9e887e9ad",
   "metadata": {},
   "outputs": [],
   "source": []
  }
 ],
 "metadata": {
  "kernelspec": {
   "display_name": "Python [conda env:base] *",
   "language": "python",
   "name": "conda-base-py"
  },
  "language_info": {
   "codemirror_mode": {
    "name": "ipython",
    "version": 3
   },
   "file_extension": ".py",
   "mimetype": "text/x-python",
   "name": "python",
   "nbconvert_exporter": "python",
   "pygments_lexer": "ipython3",
   "version": "3.12.7"
  }
 },
 "nbformat": 4,
 "nbformat_minor": 5
}
