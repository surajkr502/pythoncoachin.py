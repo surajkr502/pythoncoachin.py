{
 "cells": [
  {
   "cell_type": "markdown",
   "id": "903d2bc0-8b5f-46cb-8856-dd110a453e9c",
   "metadata": {},
   "source": [
    "# indexing--------------\n",
    "In Python, indexing refers to the way you access individual elements within a sequence data type, such as strings, lists, and tuples. Python uses zero-based indexing, meaning the first element in a sequence is always at index 0.\n"
   ]
  },
  {
   "cell_type": "raw",
   "id": "9549a4e2-6575-4e3b-aad0-e7d3e0d3df62",
   "metadata": {},
   "source": [
    "1.Basic Indexing:\n",
    "You use square brackets [] to access an element at a specific index.\n",
    "The index is an integer that represents the position of the element you want to retrieve.\n",
    "Example--\n",
    "a.String------"
   ]
  },
  {
   "cell_type": "code",
   "execution_count": 3,
   "id": "6ea1097f-014a-46bd-bb6f-5a8e3e01aeb6",
   "metadata": {},
   "outputs": [
    {
     "name": "stdout",
     "output_type": "stream",
     "text": [
      "0\n"
     ]
    }
   ],
   "source": [
    "s='python'\n",
    "print(s.index('p'))\n"
   ]
  },
  {
   "cell_type": "code",
   "execution_count": 6,
   "id": "e62ecd20-4994-43dd-9e74-2f5b9b495f25",
   "metadata": {},
   "outputs": [
    {
     "name": "stdout",
     "output_type": "stream",
     "text": [
      "4\n"
     ]
    }
   ],
   "source": [
    "print(s.index('o'))\n"
   ]
  },
  {
   "cell_type": "code",
   "execution_count": 16,
   "id": "a6a84cdf-36a7-431c-b147-944a5ea3b173",
   "metadata": {},
   "outputs": [
    {
     "name": "stdout",
     "output_type": "stream",
     "text": [
      "j\n"
     ]
    }
   ],
   "source": [
    "s='java'\n",
    "print(s[0])"
   ]
  },
  {
   "cell_type": "code",
   "execution_count": 17,
   "id": "7f76f6fa-b8ce-4e1d-b851-f72ef8508861",
   "metadata": {},
   "outputs": [
    {
     "name": "stdout",
     "output_type": "stream",
     "text": [
      "a\n"
     ]
    }
   ],
   "source": [
    "print(s[-1])"
   ]
  },
  {
   "cell_type": "code",
   "execution_count": null,
   "id": "0a3983d5-be7e-4c9d-81b3-69e7e75ec8f3",
   "metadata": {},
   "outputs": [],
   "source": []
  },
  {
   "cell_type": "code",
   "execution_count": null,
   "id": "63ebe403-e1bb-45f9-8764-0695609a0e44",
   "metadata": {},
   "outputs": [],
   "source": []
  },
  {
   "cell_type": "raw",
   "id": "e38bf76a-e86c-4d7c-a504-dc5aed569766",
   "metadata": {},
   "source": [
    "b.List-------\n",
    "\n"
   ]
  },
  {
   "cell_type": "code",
   "execution_count": 4,
   "id": "3fc95ccc-1507-4c6e-80cf-5d4dc45e9b00",
   "metadata": {},
   "outputs": [
    {
     "name": "stdout",
     "output_type": "stream",
     "text": [
      "5\n"
     ]
    }
   ],
   "source": [
    "l=[10,20,30,40,50,'java']\n",
    "print(l.index('java'))"
   ]
  },
  {
   "cell_type": "code",
   "execution_count": 5,
   "id": "f4a92b9f-42e7-4217-a5a0-b4f7991fac92",
   "metadata": {},
   "outputs": [
    {
     "ename": "ValueError",
     "evalue": "'30' is not in list",
     "output_type": "error",
     "traceback": [
      "\u001b[1;31m---------------------------------------------------------------------------\u001b[0m",
      "\u001b[1;31mValueError\u001b[0m                                Traceback (most recent call last)",
      "Cell \u001b[1;32mIn[5], line 2\u001b[0m\n\u001b[0;32m      1\u001b[0m l\u001b[38;5;241m=\u001b[39m[\u001b[38;5;241m10\u001b[39m,\u001b[38;5;241m20\u001b[39m,\u001b[38;5;241m30\u001b[39m,\u001b[38;5;241m40\u001b[39m,\u001b[38;5;241m50\u001b[39m,\u001b[38;5;241m60\u001b[39m,\u001b[38;5;124m'\u001b[39m\u001b[38;5;124mcpp\u001b[39m\u001b[38;5;124m'\u001b[39m]\n\u001b[1;32m----> 2\u001b[0m \u001b[38;5;28mprint\u001b[39m(l\u001b[38;5;241m.\u001b[39mindex(\u001b[38;5;124m'\u001b[39m\u001b[38;5;124m30\u001b[39m\u001b[38;5;124m'\u001b[39m))\n",
      "\u001b[1;31mValueError\u001b[0m: '30' is not in list"
     ]
    }
   ],
   "source": [
    "l=[10,20,30,40,50,60,'cpp']\n",
    "print(l.index('30'))"
   ]
  },
  {
   "cell_type": "code",
   "execution_count": 7,
   "id": "2cf2c88f-d1e0-45d1-9374-d0c6b27d60bc",
   "metadata": {
    "collapsed": true,
    "jupyter": {
     "outputs_hidden": true
    }
   },
   "outputs": [
    {
     "ename": "ValueError",
     "evalue": "'30' is not in list",
     "output_type": "error",
     "traceback": [
      "\u001b[1;31m---------------------------------------------------------------------------\u001b[0m",
      "\u001b[1;31mValueError\u001b[0m                                Traceback (most recent call last)",
      "Cell \u001b[1;32mIn[7], line 2\u001b[0m\n\u001b[0;32m      1\u001b[0m l\u001b[38;5;241m=\u001b[39m[\u001b[38;5;241m10\u001b[39m,\u001b[38;5;241m20\u001b[39m,\u001b[38;5;241m30\u001b[39m,\u001b[38;5;241m40\u001b[39m,\u001b[38;5;241m50\u001b[39m,\u001b[38;5;241m60\u001b[39m,\u001b[38;5;124m'\u001b[39m\u001b[38;5;124mcpp\u001b[39m\u001b[38;5;124m'\u001b[39m]\n\u001b[1;32m----> 2\u001b[0m \u001b[38;5;28mprint\u001b[39m(l\u001b[38;5;241m.\u001b[39mindex(\u001b[38;5;124m'\u001b[39m\u001b[38;5;124m30\u001b[39m\u001b[38;5;124m'\u001b[39m))\n",
      "\u001b[1;31mValueError\u001b[0m: '30' is not in list"
     ]
    }
   ],
   "source": [
    "l=[10,20,30,40,50,60,'cpp']\n",
    "print(l.index('30'))"
   ]
  },
  {
   "cell_type": "code",
   "execution_count": null,
   "id": "1d7fae12-1b84-4a58-8342-6e20a38f7430",
   "metadata": {},
   "outputs": [
    {
     "ename": "",
     "evalue": "",
     "output_type": "error",
     "traceback": [
      "\u001b[1;31mRunning cells with 'Python 3.13.3' requires the ipykernel package.\n",
      "\u001b[1;31m<a href='command:jupyter.createPythonEnvAndSelectController'>Create a Python Environment</a> with the required packages.\n",
      "\u001b[1;31mOr install 'ipykernel' using the command: 'c:/Users/sawsu/AppData/Local/Programs/Python/Python313/python.exe -m pip install ipykernel -U --user --force-reinstall'"
     ]
    }
   ],
   "source": [
    "l=[22,4,52,13,'cpp']\n",
    "print(s[-2])"
   ]
  },
  {
   "cell_type": "code",
   "execution_count": null,
   "id": "532c6048-166a-40c1-989f-5264c2fde637",
   "metadata": {},
   "outputs": [],
   "source": []
  },
  {
   "cell_type": "raw",
   "id": "510f219c-e2a3-4804-94d2-56e66046a075",
   "metadata": {},
   "source": [
    "c. Tuples--------\n",
    "\n",
    "\n"
   ]
  },
  {
   "cell_type": "code",
   "execution_count": 10,
   "id": "2ca6d204-3f0a-4667-8acb-be8144c32672",
   "metadata": {},
   "outputs": [
    {
     "name": "stdout",
     "output_type": "stream",
     "text": [
      "5\n"
     ]
    }
   ],
   "source": [
    "t=(10,20,30,40,50,'python')\n",
    "print(t.index('python'))\n"
   ]
  },
  {
   "cell_type": "code",
   "execution_count": 11,
   "id": "0788f178-aa63-4b50-b471-2ebeb37bf894",
   "metadata": {},
   "outputs": [
    {
     "name": "stdout",
     "output_type": "stream",
     "text": [
      "4\n"
     ]
    }
   ],
   "source": [
    "t=(30,22,45,82,'king')\n",
    "print(t.index('king'))"
   ]
  },
  {
   "cell_type": "markdown",
   "id": "93681f62-6ed6-4a59-ac4f-cc2db13242d8",
   "metadata": {},
   "source": [
    "# Negative Indexing:---------\n",
    "Python also allows you to use negative indices to access elements from the end of the sequence.\n",
    "\n",
    "i) -1 refers to the last element.\n",
    "\n",
    "ii) -2 refers to the second-to-last element, and so on."
   ]
  },
  {
   "cell_type": "raw",
   "id": "c79a7f1d-b2b4-424d-b2c4-831769b396d8",
   "metadata": {},
   "source": [
    "Examle----\n",
    "1.string----"
   ]
  },
  {
   "cell_type": "code",
   "execution_count": 15,
   "id": "c38e53a1-180e-44c1-aaa2-47699f7cf102",
   "metadata": {},
   "outputs": [
    {
     "name": "stdout",
     "output_type": "stream",
     "text": [
      "4\n"
     ]
    }
   ],
   "source": [
    "s='suraj kumar'\n",
    "print(s.index('j'))"
   ]
  },
  {
   "cell_type": "code",
   "execution_count": null,
   "id": "b036f110-a4c5-4807-833c-7a98f359a531",
   "metadata": {},
   "outputs": [],
   "source": []
  },
  {
   "cell_type": "code",
   "execution_count": null,
   "id": "3f069088-ec95-4439-8b19-b895f27eadcc",
   "metadata": {},
   "outputs": [],
   "source": []
  },
  {
   "cell_type": "code",
   "execution_count": null,
   "id": "ad2c00a7-ec66-49eb-8ef3-1e604d396f6e",
   "metadata": {},
   "outputs": [],
   "source": []
  },
  {
   "cell_type": "code",
   "execution_count": null,
   "id": "720f6318-9008-48e3-9ce2-01031ac0bf13",
   "metadata": {},
   "outputs": [],
   "source": []
  },
  {
   "cell_type": "markdown",
   "id": "66d18eb2-df87-4b2c-9d9c-ed96c25e8356",
   "metadata": {},
   "source": [
    "# SLICING------------------"
   ]
  },
  {
   "cell_type": "code",
   "execution_count": 2,
   "id": "bc0c9502-97ef-4bb2-acb3-3cf3e6a42f0a",
   "metadata": {},
   "outputs": [
    {
     "name": "stdout",
     "output_type": "stream",
     "text": [
      "I LOVE PYTHON\n"
     ]
    }
   ],
   "source": [
    "s=\"I LOVE PYTHON\"\n",
    "print(s[:])"
   ]
  },
  {
   "cell_type": "code",
   "execution_count": 6,
   "id": "25c397f3-30d4-4ed6-807f-3dc758c668cb",
   "metadata": {},
   "outputs": [
    {
     "name": "stdout",
     "output_type": "stream",
     "text": [
      "NOHTYP EVOL I\n"
     ]
    }
   ],
   "source": [
    "print(s[: :-1])"
   ]
  },
  {
   "cell_type": "code",
   "execution_count": 4,
   "id": "d58ad56e-8365-4b25-9341-fd405d84383c",
   "metadata": {},
   "outputs": [
    {
     "name": "stdout",
     "output_type": "stream",
     "text": [
      "NHY VLI\n"
     ]
    }
   ],
   "source": [
    "print(s[: :-2])"
   ]
  },
  {
   "cell_type": "code",
   "execution_count": 5,
   "id": "56c5a43c-92c7-4661-be64-8aaca55f0e9a",
   "metadata": {},
   "outputs": [
    {
     "name": "stdout",
     "output_type": "stream",
     "text": [
      "LOVE PYTHON\n"
     ]
    }
   ],
   "source": [
    "print(s[2: :1])"
   ]
  },
  {
   "cell_type": "code",
   "execution_count": 4,
   "id": "cde60618-24cd-4506-873e-4a83ba983434",
   "metadata": {},
   "outputs": [
    {
     "name": "stdout",
     "output_type": "stream",
     "text": [
      "\n"
     ]
    }
   ],
   "source": [
    "print(s[-1:5:2])"
   ]
  },
  {
   "cell_type": "code",
   "execution_count": 7,
   "id": "6685ff29-8489-4aa7-903a-c7621cb4c038",
   "metadata": {},
   "outputs": [
    {
     "name": "stdout",
     "output_type": "stream",
     "text": [
      "\n"
     ]
    }
   ],
   "source": [
    "print(s[1:-2:-4])"
   ]
  },
  {
   "cell_type": "code",
   "execution_count": 8,
   "id": "5ae52230-75fd-48ad-bb39-1fa2d5464666",
   "metadata": {},
   "outputs": [
    {
     "name": "stdout",
     "output_type": "stream",
     "text": [
      " \n"
     ]
    }
   ],
   "source": [
    "print(s[1::-4])"
   ]
  },
  {
   "cell_type": "code",
   "execution_count": 9,
   "id": "9600bdb7-d187-407a-a805-04eb721cfc70",
   "metadata": {},
   "outputs": [
    {
     "name": "stdout",
     "output_type": "stream",
     "text": [
      "\n"
     ]
    }
   ],
   "source": [
    "print(s[2:2])"
   ]
  },
  {
   "cell_type": "code",
   "execution_count": 10,
   "id": "3c6bd608-16de-4e9e-a26d-873eb69fb707",
   "metadata": {},
   "outputs": [
    {
     "name": "stdout",
     "output_type": "stream",
     "text": [
      "\n"
     ]
    }
   ],
   "source": [
    "print(s[-4:-4])"
   ]
  },
  {
   "cell_type": "code",
   "execution_count": 2,
   "id": "412a7a34-ff17-4f52-b361-6f4934718ca3",
   "metadata": {},
   "outputs": [
    {
     "name": "stdout",
     "output_type": "stream",
     "text": [
      "\n"
     ]
    }
   ],
   "source": [
    "s=\"I LOVE CODING IN PYTHON\"\n",
    "print(s[10:-12:-2])"
   ]
  },
  {
   "cell_type": "code",
   "execution_count": 12,
   "id": "41c19576-1a5a-42cc-a79b-334e34823814",
   "metadata": {},
   "outputs": [
    {
     "name": "stdout",
     "output_type": "stream",
     "text": [
      "HY VL\n"
     ]
    }
   ],
   "source": [
    "print(s[10:-12:-2])"
   ]
  },
  {
   "cell_type": "markdown",
   "id": "f81c4f4b-adab-4a1c-8b25-44a1296272b1",
   "metadata": {},
   "source": [
    "# Nature of Objects----------"
   ]
  },
  {
   "cell_type": "code",
   "execution_count": null,
   "id": "138607f1-9d61-47c6-bb5c-7cfc27f824f4",
   "metadata": {},
   "outputs": [
    {
     "name": "stdout",
     "output_type": "stream",
     "text": [
      "140737413655256 140737413655256\n"
     ]
    }
   ],
   "source": [
    "x=10\n",
    "y=10\n",
    "print(id(x),id(y))"
   ]
  },
  {
   "cell_type": "code",
   "execution_count": null,
   "id": "ea83438e-4628-4e89-b5ff-3f3a594cc3ad",
   "metadata": {},
   "outputs": [
    {
     "name": "stdout",
     "output_type": "stream",
     "text": [
      "2318321155312 2318321155312\n"
     ]
    }
   ],
   "source": [
    "x=\"python\"\n",
    "y=\"python\"\n",
    "print(id(x),id(y))"
   ]
  },
  {
   "cell_type": "code",
   "execution_count": null,
   "id": "e2bedfc3-7cec-4a95-bcb5-d6d1122efc02",
   "metadata": {
    "jupyter": {
     "source_hidden": true
    }
   },
   "outputs": [
    {
     "name": "stdout",
     "output_type": "stream",
     "text": [
      "2318417789952 2318441297664\n"
     ]
    }
   ],
   "source": [
    "x=[10,20,30,40,50]\n",
    "y=[10,20,30,40,50]\n",
    "print(id(x),id(y))"
   ]
  },
  {
   "cell_type": "code",
   "execution_count": null,
   "id": "994cd5e0-ceaa-4196-a76a-641188171ddf",
   "metadata": {},
   "outputs": [],
   "source": []
  },
  {
   "cell_type": "code",
   "execution_count": null,
   "id": "cc9b04a0-5c16-4065-ba79-36b862124eb2",
   "metadata": {},
   "outputs": [
    {
     "name": "stdout",
     "output_type": "stream",
     "text": [
      "2318418046848 2318418046656\n"
     ]
    }
   ],
   "source": [
    "x=[10,20,30,40,50,60]\n",
    "y=[10,20,30,40,50]\n",
    "print(id(x),id(y))"
   ]
  },
  {
   "cell_type": "code",
   "execution_count": null,
   "id": "132f527b-6a9d-4832-b7b6-002e57062111",
   "metadata": {},
   "outputs": [
    {
     "name": "stdout",
     "output_type": "stream",
     "text": [
      "2318441112304 2318441118704\n"
     ]
    }
   ],
   "source": [
    "x=(10,20,30,40,50)\n",
    "y=(10,20,30,40,50)\n",
    "print(id(x),id(y))"
   ]
  },
  {
   "cell_type": "code",
   "execution_count": null,
   "id": "668c7233-a89b-415c-8e23-b130c89e5e12",
   "metadata": {},
   "outputs": [
    {
     "name": "stdout",
     "output_type": "stream",
     "text": [
      "2318418049792 2318441276864\n"
     ]
    }
   ],
   "source": [
    "x={'name':'suraj','age':22,'quali':'b.tech'}\n",
    "y={'name':'suraj','age':22,'quali':'b.tech'}\n",
    "print(id(x),id(y))"
   ]
  },
  {
   "cell_type": "code",
   "execution_count": null,
   "id": "c510f666-916b-4289-9d28-d5c0423cf0e0",
   "metadata": {},
   "outputs": [
    {
     "name": "stdout",
     "output_type": "stream",
     "text": [
      "2318440742048 2318440740704\n"
     ]
    }
   ],
   "source": [
    "x=s={2,4,'sun',5,2,'java','sun',3,5}\n",
    "y=s={2,4,'sun',5,2,'java','sun',3,5}\n",
    "print(id(x),id(y))"
   ]
  },
  {
   "cell_type": "code",
   "execution_count": null,
   "id": "f13de471-5171-4d8a-a7cd-6f957b635f13",
   "metadata": {},
   "outputs": [
    {
     "name": "stdout",
     "output_type": "stream",
     "text": [
      "2318440741600 2318440738912\n"
     ]
    }
   ],
   "source": [
    "l=[3,4,10,8,2,8]\n",
    "t=(6,20,4,6,10)\n",
    "fs1=frozenset(l)\n",
    "fs2=frozenset(t)\n",
    "print(id(fs1),id(fs2))\n"
   ]
  },
  {
   "cell_type": "markdown",
   "id": "ebe3bf60-ee9f-4793-8b0a-38c21c4f9b2a",
   "metadata": {},
   "source": [
    "# import system module---------"
   ]
  },
  {
   "cell_type": "code",
   "execution_count": 12,
   "id": "5eeb1915-d70b-4c3e-bd0e-5fdf5ed933d4",
   "metadata": {},
   "outputs": [
    {
     "name": "stdout",
     "output_type": "stream",
     "text": [
      "28\n"
     ]
    }
   ],
   "source": [
    "import sys\n",
    "x=int()\n",
    "print(sys.getsizeof(x))"
   ]
  },
  {
   "cell_type": "code",
   "execution_count": 13,
   "id": "7165ea08-84c0-440b-90d8-6510b173f1ee",
   "metadata": {},
   "outputs": [
    {
     "name": "stdout",
     "output_type": "stream",
     "text": [
      "41\n"
     ]
    }
   ],
   "source": [
    "import sys\n",
    "x=str()\n",
    "print(sys.getsizeof(x))"
   ]
  },
  {
   "cell_type": "code",
   "execution_count": 14,
   "id": "78a5fd11-c578-482a-b484-5d7578bf209f",
   "metadata": {},
   "outputs": [
    {
     "name": "stdout",
     "output_type": "stream",
     "text": [
      "56\n"
     ]
    }
   ],
   "source": [
    "import sys\n",
    "x=list()\n",
    "print(sys.getsizeof(x))"
   ]
  },
  {
   "cell_type": "code",
   "execution_count": 15,
   "id": "2217d96b-57a2-47ad-8ab1-f77a8f4cc99d",
   "metadata": {},
   "outputs": [
    {
     "name": "stdout",
     "output_type": "stream",
     "text": [
      "40\n"
     ]
    }
   ],
   "source": [
    "import sys\n",
    "x=tuple()\n",
    "print(sys.getsizeof(x))"
   ]
  },
  {
   "cell_type": "code",
   "execution_count": 16,
   "id": "f218de2e-8037-42f6-b6c6-cabbd2a11a3f",
   "metadata": {},
   "outputs": [
    {
     "name": "stdout",
     "output_type": "stream",
     "text": [
      "56\n"
     ]
    }
   ],
   "source": [
    "import sys\n",
    "x=list()\n",
    "print(sys.getsizeof(x))"
   ]
  },
  {
   "cell_type": "code",
   "execution_count": 17,
   "id": "de476a9a-242e-429c-ad02-82df624e2584",
   "metadata": {},
   "outputs": [
    {
     "name": "stdout",
     "output_type": "stream",
     "text": [
      "64\n"
     ]
    }
   ],
   "source": [
    "import sys\n",
    "x=dict()\n",
    "print(sys.getsizeof(x))"
   ]
  },
  {
   "cell_type": "code",
   "execution_count": 18,
   "id": "16b770da-26a4-4e39-a304-047509612296",
   "metadata": {},
   "outputs": [
    {
     "name": "stdout",
     "output_type": "stream",
     "text": [
      "28\n"
     ]
    }
   ],
   "source": [
    "import sys\n",
    "x=bool()\n",
    "print(sys.getsizeof(x))"
   ]
  },
  {
   "cell_type": "code",
   "execution_count": 19,
   "id": "1f6108e9-4cd6-44ca-a48d-eb5c9e84eda6",
   "metadata": {},
   "outputs": [
    {
     "name": "stdout",
     "output_type": "stream",
     "text": [
      "216\n"
     ]
    }
   ],
   "source": [
    "import sys\n",
    "x=set()\n",
    "print(sys.getsizeof(x))"
   ]
  },
  {
   "cell_type": "code",
   "execution_count": 22,
   "id": "c4933918-375e-486d-bef4-577087d0038d",
   "metadata": {},
   "outputs": [
    {
     "name": "stdout",
     "output_type": "stream",
     "text": [
      "216\n"
     ]
    }
   ],
   "source": [
    "import sys\n",
    "x=frozenset()\n",
    "print(sys.getsizeof(x))"
   ]
  },
  {
   "cell_type": "code",
   "execution_count": null,
   "id": "9cdbf165-e28a-4b99-8430-a2b0a817a75d",
   "metadata": {},
   "outputs": [],
   "source": []
  }
 ],
 "metadata": {
  "kernelspec": {
   "display_name": "Python 3",
   "language": "python",
   "name": "python3"
  },
  "language_info": {
   "codemirror_mode": {
    "name": "ipython",
    "version": 3
   },
   "file_extension": ".py",
   "mimetype": "text/x-python",
   "name": "python",
   "nbconvert_exporter": "python",
   "pygments_lexer": "ipython3",
   "version": "3.13.3"
  }
 },
 "nbformat": 4,
 "nbformat_minor": 5
}
