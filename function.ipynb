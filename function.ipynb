{
 "cells": [
  {
   "cell_type": "markdown",
   "id": "43ff9031-e5aa-4aaf-a3dc-d54252e7c6d7",
   "metadata": {},
   "source": [
    "# function"
   ]
  },
  {
   "cell_type": "code",
   "execution_count": 1,
   "id": "47dfd457-b8b4-4f62-9723-fb972d4f7c81",
   "metadata": {},
   "outputs": [
    {
     "name": "stdout",
     "output_type": "stream",
     "text": [
      "welcome to my world!\n",
      "welcome\n",
      "welcome to my world!\n"
     ]
    }
   ],
   "source": [
    "def fun_name():\n",
    "    print(\"welcome to my world!\")\n",
    "fun_name()\n",
    "print(\"welcome\")\n",
    "fun_name()"
   ]
  },
  {
   "cell_type": "code",
   "execution_count": 4,
   "id": "c7632b84-2566-438f-86a7-a7a27be9a8d5",
   "metadata": {},
   "outputs": [
    {
     "name": "stdout",
     "output_type": "stream",
     "text": [
      "welcome to my world!\n",
      "None\n",
      "None\n"
     ]
    },
    {
     "ename": "TypeError",
     "evalue": "unsupported operand type(s) for *: 'NoneType' and 'int'",
     "output_type": "error",
     "traceback": [
      "\u001b[1;31m---------------------------------------------------------------------------\u001b[0m",
      "\u001b[1;31mTypeError\u001b[0m                                 Traceback (most recent call last)",
      "Cell \u001b[1;32mIn[4], line 7\u001b[0m\n\u001b[0;32m      5\u001b[0m \u001b[38;5;28mprint\u001b[39m(x)\n\u001b[0;32m      6\u001b[0m \u001b[38;5;28mprint\u001b[39m(x)\n\u001b[1;32m----> 7\u001b[0m \u001b[38;5;28mprint\u001b[39m(x\u001b[38;5;241m*\u001b[39m\u001b[38;5;241m2\u001b[39m)\n",
      "\u001b[1;31mTypeError\u001b[0m: unsupported operand type(s) for *: 'NoneType' and 'int'"
     ]
    }
   ],
   "source": [
    "def fun_name():\n",
    "    print(\"welcome to my world!\")\n",
    "# print(fun_name)\n",
    "x=fun_name()\n",
    "print(x)\n",
    "print(x)\n",
    "print(x*2)"
   ]
  },
  {
   "cell_type": "code",
   "execution_count": 6,
   "id": "caa72a60-8bfa-4a75-9463-44a84a6c0e30",
   "metadata": {},
   "outputs": [
    {
     "name": "stdout",
     "output_type": "stream",
     "text": [
      "welcome to my world!\n",
      "welcome to my world!\n",
      "welcome to my world!welcome to my world!\n"
     ]
    }
   ],
   "source": [
    "def fun_name():\n",
    "    # print(\"welcome to my world!\")\n",
    "    return\"welcome to my world!\"\n",
    "# print(fun_name)\n",
    "x=fun_name()\n",
    "print(x)\n",
    "print(x)\n",
    "print(x*2)"
   ]
  },
  {
   "cell_type": "code",
   "execution_count": 7,
   "id": "aaadfc7c-eaf1-4fd7-b725-e2bb830c738b",
   "metadata": {},
   "outputs": [
    {
     "name": "stdin",
     "output_type": "stream",
     "text": [
      "enter 1st value: 3\n",
      "enter 2nd value: 3\n"
     ]
    },
    {
     "name": "stdout",
     "output_type": "stream",
     "text": [
      "6\n"
     ]
    }
   ],
   "source": [
    "#examle:-positional argument\n",
    "def add(x,y):#this is parameter \n",
    "    z=x+y\n",
    "    return z\n",
    "a=int(input(\"enter 1st value:\"))\n",
    "b=int(input(\"enter 2nd value:\"))\n",
    "addition=add(a,b)#this is argument\n",
    "print(addition)"
   ]
  },
  {
   "cell_type": "markdown",
   "id": "c0b65cc2-e779-4856-8c7c-64c9cc0c270b",
   "metadata": {},
   "source": [
    "# relation b/w"
   ]
  },
  {
   "cell_type": "code",
   "execution_count": 8,
   "id": "81f46629-74d6-46a2-a4e1-01dc792df794",
   "metadata": {},
   "outputs": [
    {
     "name": "stdin",
     "output_type": "stream",
     "text": [
      "enter 1st value: 3\n",
      "enter 2nd value: 3\n"
     ]
    },
    {
     "ename": "TypeError",
     "evalue": "add() missing 2 required positional arguments: 'x' and 'y'",
     "output_type": "error",
     "traceback": [
      "\u001b[1;31m---------------------------------------------------------------------------\u001b[0m",
      "\u001b[1;31mTypeError\u001b[0m                                 Traceback (most recent call last)",
      "Cell \u001b[1;32mIn[8], line 7\u001b[0m\n\u001b[0;32m      5\u001b[0m a\u001b[38;5;241m=\u001b[39m\u001b[38;5;28mint\u001b[39m(\u001b[38;5;28minput\u001b[39m(\u001b[38;5;124m\"\u001b[39m\u001b[38;5;124menter 1st value:\u001b[39m\u001b[38;5;124m\"\u001b[39m))\n\u001b[0;32m      6\u001b[0m b\u001b[38;5;241m=\u001b[39m\u001b[38;5;28mint\u001b[39m(\u001b[38;5;28minput\u001b[39m(\u001b[38;5;124m\"\u001b[39m\u001b[38;5;124menter 2nd value:\u001b[39m\u001b[38;5;124m\"\u001b[39m))\n\u001b[1;32m----> 7\u001b[0m addition\u001b[38;5;241m=\u001b[39madd()\n\u001b[0;32m      8\u001b[0m \u001b[38;5;28mprint\u001b[39m(addition)\n",
      "\u001b[1;31mTypeError\u001b[0m: add() missing 2 required positional arguments: 'x' and 'y'"
     ]
    }
   ],
   "source": [
    "#examle:-default argument\n",
    "def add(x,y):\n",
    "    z=x+y\n",
    "    return z\n",
    "a=int(input(\"enter 1st value:\"))\n",
    "b=int(input(\"enter 2nd value:\"))\n",
    "addition=add()\n",
    "print(addition)"
   ]
  },
  {
   "cell_type": "code",
   "execution_count": 9,
   "id": "6e13904a-1d41-4f33-b3e5-841cdd5c7ca2",
   "metadata": {},
   "outputs": [
    {
     "name": "stdin",
     "output_type": "stream",
     "text": [
      "enter 1st value: 3\n",
      "enter 2nd value: 3\n"
     ]
    },
    {
     "name": "stdout",
     "output_type": "stream",
     "text": [
      "0\n"
     ]
    }
   ],
   "source": [
    "#examle:-default argument\n",
    "def add(x=0,y=0):\n",
    "    z=x+y\n",
    "    return z\n",
    "a=int(input(\"enter 1st value:\"))\n",
    "b=int(input(\"enter 2nd value:\"))\n",
    "addition=add()\n",
    "print(addition)"
   ]
  },
  {
   "cell_type": "code",
   "execution_count": 11,
   "id": "ccf4921c-89bf-4652-89f5-96ea42e3269d",
   "metadata": {},
   "outputs": [
    {
     "name": "stdin",
     "output_type": "stream",
     "text": [
      "enter 1st value: 3\n",
      "enter 2nd value: 3\n"
     ]
    },
    {
     "name": "stdout",
     "output_type": "stream",
     "text": [
      "0\n",
      "6\n"
     ]
    }
   ],
   "source": [
    "#examle:-default argument\n",
    "def add(x,y):\n",
    "    z=x+y\n",
    "    return z\n",
    "a=int(input(\"enter 1st value:\"))\n",
    "b=int(input(\"enter 2nd value:\"))\n",
    "# addition=add(a)\n",
    "print(addition)\n",
    "addition=add(a,b)\n",
    "print(addition)\n"
   ]
  },
  {
   "cell_type": "code",
   "execution_count": 12,
   "id": "95bb8116-00f1-4cbb-9c06-42c4920e02b1",
   "metadata": {},
   "outputs": [
    {
     "name": "stdin",
     "output_type": "stream",
     "text": [
      "enter 1st value: 3\n",
      "enter 2nd value: 3\n"
     ]
    },
    {
     "name": "stdout",
     "output_type": "stream",
     "text": [
      "6\n"
     ]
    }
   ],
   "source": [
    "#examle:-key_word argument\n",
    "def add(x,y):\n",
    "    z=x+y\n",
    "    return z\n",
    "a=int(input(\"enter 1st value:\"))\n",
    "b=int(input(\"enter 2nd value:\"))\n",
    "addition=add(y=a,x=b)\n",
    "print(addition)\n"
   ]
  },
  {
   "cell_type": "code",
   "execution_count": 14,
   "id": "19c91faa-b1e0-4250-bf4a-2f87d3bbba60",
   "metadata": {},
   "outputs": [
    {
     "name": "stdin",
     "output_type": "stream",
     "text": [
      "enter integer 3\n"
     ]
    },
    {
     "name": "stdout",
     "output_type": "stream",
     "text": [
      "odd\n"
     ]
    }
   ],
   "source": [
    "def even(n):\n",
    "    if n%2==0: \n",
    "        print(\"even\")\n",
    "    else:\n",
    "        print(\"odd\")\n",
    "n=int(input(\"enter integer\"))\n",
    "even(n)"
   ]
  },
  {
   "cell_type": "code",
   "execution_count": 1,
   "id": "0899d86f-4737-4425-a1a5-3fd15e3207fb",
   "metadata": {},
   "outputs": [
    {
     "name": "stdin",
     "output_type": "stream",
     "text": [
      "enter any data types value 5\n"
     ]
    },
    {
     "data": {
      "text/plain": [
       "int"
      ]
     },
     "execution_count": 1,
     "metadata": {},
     "output_type": "execute_result"
    }
   ],
   "source": [
    "n=eval(input(\"enter any data types value\"))\n",
    "type(n)"
   ]
  },
  {
   "cell_type": "code",
   "execution_count": 8,
   "id": "9c83d039-32c6-4e1b-ac1f-4153f05919e4",
   "metadata": {},
   "outputs": [
    {
     "name": "stdin",
     "output_type": "stream",
     "text": [
      "enter any data types value True\n"
     ]
    },
    {
     "name": "stdout",
     "output_type": "stream",
     "text": [
      "<class 'bool'>\n",
      "boolean\n"
     ]
    }
   ],
   "source": [
    "n=eval(input(\"enter any data types value\"))\n",
    "print(type(n))\n",
    "if type(n)==int:\n",
    "    print(\"integer\")\n",
    "elif type(n)==str:\n",
    "    print(\"string\")\n",
    "elif type(n)==tuple:\n",
    "    print(\"tuple\")\n",
    "elif type(n)==set:\n",
    "    print(\"set\")\n",
    "elif type(n)==bool: \n",
    "    print(\"boolean\")\n",
    "else: \n",
    "    print(\"others data types\")"
   ]
  },
  {
   "cell_type": "code",
   "execution_count": 9,
   "id": "a62df576-e937-49ec-a039-5bcc04bde21a",
   "metadata": {},
   "outputs": [
    {
     "name": "stdin",
     "output_type": "stream",
     "text": [
      "enter value: 'l'\n"
     ]
    },
    {
     "name": "stdout",
     "output_type": "stream",
     "text": [
      "string\n"
     ]
    }
   ],
   "source": [
    "value=eval(input(\"enter value:\"))\n",
    "x=type(value)\n",
    "if x==int:\n",
    "    print(\"integer\")\n",
    "elif x==str:\n",
    "    print(\"string\")\n"
   ]
  },
  {
   "cell_type": "code",
   "execution_count": 10,
   "id": "9aa4f431-6b5a-4c86-b23f-4e9b591aa288",
   "metadata": {},
   "outputs": [
    {
     "name": "stdout",
     "output_type": "stream",
     "text": [
      "()\n",
      "<class 'tuple'>\n",
      "(5,)\n",
      "<class 'tuple'>\n",
      "(5, 1)\n",
      "<class 'tuple'>\n",
      "(1, 2, 3)\n",
      "<class 'tuple'>\n"
     ]
    }
   ],
   "source": [
    "def add(*args):\n",
    "    print(args)\n",
    "    print(type(args))\n",
    "add()\n",
    "add(5)\n",
    "add(5,1)\n",
    "add(1,2,3)"
   ]
  },
  {
   "cell_type": "markdown",
   "id": "d4d017a5-ae4f-4a0a-a2ae-3baaf5904c45",
   "metadata": {},
   "source": [
    "<!-- 4. variable length argument:--->"
   ]
  },
  {
   "cell_type": "markdown",
   "id": "7ef78946-e2e2-4c61-b53f-cfb5e3e9707c",
   "metadata": {},
   "source": [
    "# 4. variable length argument:-"
   ]
  },
  {
   "cell_type": "code",
   "execution_count": 11,
   "id": "acbe59ab-ba22-4112-8813-196039f4d6f3",
   "metadata": {},
   "outputs": [
    {
     "name": "stdout",
     "output_type": "stream",
     "text": [
      "15\n"
     ]
    }
   ],
   "source": [
    "def add(*args):\n",
    "    sum=0\n",
    "    for i in args: \n",
    "        sum=sum+i\n",
    "    print(sum)\n",
    "add(1,2,3,4,5)"
   ]
  },
  {
   "cell_type": "code",
   "execution_count": 1,
   "id": "1a1077ac-9f0d-4142-b176-b523cf4b2003",
   "metadata": {},
   "outputs": [
    {
     "ename": "NameError",
     "evalue": "name 'x' is not defined",
     "output_type": "error",
     "traceback": [
      "\u001b[1;31m---------------------------------------------------------------------------\u001b[0m",
      "\u001b[1;31mNameError\u001b[0m                                 Traceback (most recent call last)",
      "Cell \u001b[1;32mIn[1], line 4\u001b[0m\n\u001b[0;32m      2\u001b[0m    \u001b[38;5;28mprint\u001b[39m(args)\n\u001b[0;32m      3\u001b[0m    \u001b[38;5;28mprint\u001b[39m(\u001b[38;5;28mtype\u001b[39m(args))\n\u001b[1;32m----> 4\u001b[0m add(x)\n\u001b[0;32m      5\u001b[0m x\u001b[38;5;241m=\u001b[39m\u001b[38;5;28meval\u001b[39m(\u001b[38;5;28minput\u001b[39m(\u001b[38;5;124m\"\u001b[39m\u001b[38;5;124menter 1st values:\u001b[39m\u001b[38;5;124m\"\u001b[39m))\n",
      "\u001b[1;31mNameError\u001b[0m: name 'x' is not defined"
     ]
    }
   ],
   "source": [
    "def add(*args):\n",
    "   print(args)\n",
    "   print(type(args))\n",
    "add(x)\n",
    "x=eval(input(\"enter 1st values:\"))"
   ]
  },
  {
   "cell_type": "code",
   "execution_count": 17,
   "id": "792353e0-ef77-4930-9f5e-74399e2f2132",
   "metadata": {},
   "outputs": [
    {
     "name": "stdin",
     "output_type": "stream",
     "text": [
      "enter 1st values: (1,2,34,5)\n",
      "enter 2nd values: (1,2,3,4,5)\n"
     ]
    },
    {
     "name": "stdout",
     "output_type": "stream",
     "text": [
      "((1, 2, 34, 5), (1, 2, 3, 4, 5))\n",
      "<class 'tuple'>\n"
     ]
    }
   ],
   "source": [
    "x=eval(input(\"enter 1st values:\"))\n",
    "y=eval(input(\"enter 2nd values:\"))\n",
    "def add(*args):\n",
    "   print(args)\n",
    "   print(type(args))\n",
    "add(x,y)"
   ]
  },
  {
   "cell_type": "code",
   "execution_count": null,
   "id": "6f09149f-aa54-4ce1-af52-dc6bc5e4b300",
   "metadata": {},
   "outputs": [],
   "source": [
    "def add(*args):\n",
    "    sum=0\n",
    "    for i in args:\n",
    "        for j in i:\n",
    "            sum=sum+j\n",
    "    print(sum)\n",
    "\n",
    "x=eval(input(\"enter values:\"))\n",
    "add(x)"
   ]
  },
  {
   "cell_type": "markdown",
   "id": "56c9b979-753d-4f45-9932-cfc7c445b08f",
   "metadata": {},
   "source": [
    "# 5. variable-length keyword argument:-"
   ]
  },
  {
   "cell_type": "code",
   "execution_count": 23,
   "id": "a54eeb75-822d-4f46-84af-1fdc93054b13",
   "metadata": {},
   "outputs": [
    {
     "name": "stdout",
     "output_type": "stream",
     "text": [
      "{'x': 10, 'y': 20, 'z': 30, 'p': 40}\n",
      "<class 'dict'>\n"
     ]
    }
   ],
   "source": [
    "def my_data(**kwargs): \n",
    "    print(kwargs)\n",
    "    print(type(kwargs))\n",
    "my_data(x=10,y=20,z=30,p=40)"
   ]
  },
  {
   "cell_type": "code",
   "execution_count": 28,
   "id": "a36482f7-c8e4-44ae-b947-7018431e22d1",
   "metadata": {},
   "outputs": [
    {
     "name": "stdout",
     "output_type": "stream",
     "text": [
      "key is:= x value is:= 10\n",
      "key is:= y value is:= 20\n",
      "key is:= z value is:= 30\n"
     ]
    }
   ],
   "source": [
    "d={'x':10,'y':20,'z':30}\n",
    "for k,v in d.items():\n",
    "    print(\"key is:=\",k,\"value is:=\",v)"
   ]
  },
  {
   "cell_type": "code",
   "execution_count": 11,
   "id": "9c4236d7-a9f0-42c2-9ed5-530e5b32cd1f",
   "metadata": {},
   "outputs": [
    {
     "name": "stdin",
     "output_type": "stream",
     "text": [
      "enter data: {'x': 10, 'y': 20, 'z': 30, 'p': 40}\n"
     ]
    },
    {
     "name": "stdout",
     "output_type": "stream",
     "text": [
      "{'x': 10, 'y': 20, 'z': 30, 'p': 40}\n"
     ]
    }
   ],
   "source": [
    "def fun_name(**kwargs): \n",
    "    print(kwargs)\n",
    "    # for k,v in kwargs.items(): \n",
    "        # print(k,'=',v)\n",
    "# fun_name(x=10,y=20,z=30) \n",
    "x=eval(input(\"enter data:\"))\n",
    "fun_name(**x)"
   ]
  },
  {
   "cell_type": "code",
   "execution_count": 14,
   "id": "798963df-f63e-4d03-b8e8-c5f1ff2d75cd",
   "metadata": {},
   "outputs": [
    {
     "name": "stdin",
     "output_type": "stream",
     "text": [
      "enter data:  {'x': 10, 'y': 20, 'z': 30, 'p': 40}\n"
     ]
    },
    {
     "name": "stdout",
     "output_type": "stream",
     "text": [
      "{'x': 10, 'y': 20, 'z': 30, 'p': 40}\n",
      "x = 10\n",
      "y = 20\n",
      "z = 30\n",
      "p = 40\n"
     ]
    }
   ],
   "source": [
    "def fun_name(**kwargs): \n",
    "    print(kwargs)\n",
    "    for k,v in kwargs.items(): \n",
    "        print(k,'=',v)\n",
    "# fun_name(x=10,y=20,z=30) \n",
    "x=eval(input(\"enter data:\"))\n",
    "fun_name(**x)"
   ]
  },
  {
   "cell_type": "code",
   "execution_count": 15,
   "id": "5674dcf3-20b3-4b84-b2de-0eb3216bbc97",
   "metadata": {},
   "outputs": [
    {
     "name": "stdout",
     "output_type": "stream",
     "text": [
      "5\n",
      "6\n",
      "(7, 8)\n",
      "9\n",
      "php\n",
      "{'x': 10, 'y': 20, 'z': 30}\n"
     ]
    }
   ],
   "source": [
    "def example(a,b=10,*c,d,e='php',**f):\n",
    "    print(a)\n",
    "    print(b)\n",
    "    print(c)\n",
    "    print(d)\n",
    "    print(e)\n",
    "    print(f)\n",
    "example(5,6,7,8,d=9,x=10,y=20,z=30)"
   ]
  },
  {
   "cell_type": "code",
   "execution_count": 17,
   "id": "c4b5178f-6fac-4c67-a890-822e4c199f0e",
   "metadata": {},
   "outputs": [
    {
     "ename": "TypeError",
     "evalue": "example() missing 1 required keyword-only argument: 'a'",
     "output_type": "error",
     "traceback": [
      "\u001b[1;31m---------------------------------------------------------------------------\u001b[0m",
      "\u001b[1;31mTypeError\u001b[0m                                 Traceback (most recent call last)",
      "Cell \u001b[1;32mIn[17], line 8\u001b[0m\n\u001b[0;32m      6\u001b[0m     \u001b[38;5;28mprint\u001b[39m(e)\n\u001b[0;32m      7\u001b[0m     \u001b[38;5;28mprint\u001b[39m(f)\n\u001b[1;32m----> 8\u001b[0m example(\u001b[38;5;241m5\u001b[39m,\u001b[38;5;241m6\u001b[39m,\u001b[38;5;241m7\u001b[39m,\u001b[38;5;241m8\u001b[39m,d\u001b[38;5;241m=\u001b[39m\u001b[38;5;241m9\u001b[39m,x\u001b[38;5;241m=\u001b[39m\u001b[38;5;241m10\u001b[39m,y\u001b[38;5;241m=\u001b[39m\u001b[38;5;241m20\u001b[39m,z\u001b[38;5;241m=\u001b[39m\u001b[38;5;241m30\u001b[39m)\n",
      "\u001b[1;31mTypeError\u001b[0m: example() missing 1 required keyword-only argument: 'a'"
     ]
    }
   ],
   "source": [
    "def example(b=10,*c,a,d,e='php',**f):\n",
    "    print(a)\n",
    "    print(b)\n",
    "    print(c)\n",
    "    print(d)\n",
    "    print(e)\n",
    "    print(f)\n",
    "example(5,6,7,8,d=9,x=10,y=20,z=30)"
   ]
  },
  {
   "cell_type": "markdown",
   "id": "0a00a5dd-8bba-4657-83ba-4e7a94ee6a73",
   "metadata": {},
   "source": [
    "# higher-order function:-"
   ]
  },
  {
   "cell_type": "code",
   "execution_count": 1,
   "id": "0a12fdae-eb73-4385-b3f5-8f5e1b3f59a7",
   "metadata": {},
   "outputs": [
    {
     "name": "stdout",
     "output_type": "stream",
     "text": [
      "<map object at 0x0000020731B7C5E0>\n",
      "(1, 4, 9, 16, 25)\n"
     ]
    }
   ],
   "source": [
    "# map()\n",
    "l=[1,2,3,4,5]\n",
    "def sqr(n):\n",
    "    return n**2\n",
    "result=map(sqr,l) \n",
    "print(result)\n",
    "print(tuple(result))"
   ]
  },
  {
   "cell_type": "code",
   "execution_count": 2,
   "id": "fbe12323-2713-4e14-8478-c581f5be55cc",
   "metadata": {},
   "outputs": [
    {
     "name": "stdout",
     "output_type": "stream",
     "text": [
      "<map object at 0x0000020731C9A200>\n",
      "(6, 7, 8, 9, 10)\n"
     ]
    }
   ],
   "source": [
    "l=[1,2,3,4,5]\n",
    "def add(n): \n",
    "    return(n+5)\n",
    "result=map(add,l)\n",
    "print(result)\n",
    "print(tuple(result))"
   ]
  },
  {
   "cell_type": "code",
   "execution_count": 4,
   "id": "a5eacf76-8f3d-4a78-b810-8aa88074a974",
   "metadata": {},
   "outputs": [
    {
     "name": "stdout",
     "output_type": "stream",
     "text": [
      "<map object at 0x0000020735008B50>\n",
      "[1.0, 1.4142135623730951, 1.7320508075688772, 2.0, 2.23606797749979]\n"
     ]
    }
   ],
   "source": [
    "l=[1,2,3,4,5]\n",
    "def sqr_root(n):\n",
    "    return(n**0.5)\n",
    "result=map(sqr_root,l)\n",
    "print(result)\n",
    "print(list(result))"
   ]
  },
  {
   "cell_type": "code",
   "execution_count": 3,
   "id": "6c1c0e72-afb5-460f-a242-933776b25acf",
   "metadata": {},
   "outputs": [
    {
     "name": "stdout",
     "output_type": "stream",
     "text": [
      "<filter object at 0x0000020734EFA980>\n",
      "[2, 4]\n"
     ]
    }
   ],
   "source": [
    "# filter\n",
    "l=[1,2,3,4,5]\n",
    "def even_no(n): \n",
    "    if n%2==0: \n",
    "        return n\n",
    "result=filter(even_no,l)\n",
    "print(result)\n",
    "print(list(result))"
   ]
  },
  {
   "cell_type": "code",
   "execution_count": 5,
   "id": "6e11bedd-c2cb-46fe-8bda-ac6015a1587a",
   "metadata": {},
   "outputs": [
    {
     "name": "stdout",
     "output_type": "stream",
     "text": [
      "<map object at 0x0000020734F2E710>\n",
      "[None, 2, None, 4, None]\n"
     ]
    }
   ],
   "source": [
    "l=[1,2,3,4,5]\n",
    "def even_no(n): \n",
    "    if n%2==0: \n",
    "        return n\n",
    "result=map(even_no,l)\n",
    "print(result)\n",
    "print(list(result))"
   ]
  },
  {
   "cell_type": "code",
   "execution_count": 6,
   "id": "82a27fb3-36ba-4273-851b-eb0f87df16f0",
   "metadata": {},
   "outputs": [
    {
     "name": "stdout",
     "output_type": "stream",
     "text": [
      "<filter object at 0x000002073508D450>\n",
      "[1, 2, 3, 4, 5]\n"
     ]
    }
   ],
   "source": [
    "l=[1,2,3,4,5]\n",
    "def sqr_root(n):\n",
    "    return(n**0.5)\n",
    "result=filter(sqr_root,l)\n",
    "print(result)\n",
    "print(list(result))"
   ]
  },
  {
   "cell_type": "markdown",
   "id": "97f1d689-4f32-41b2-86c4-d56e08088f56",
   "metadata": {},
   "source": [
    "# reduce()"
   ]
  },
  {
   "cell_type": "code",
   "execution_count": 9,
   "id": "3532b5cd-3230-4557-a7bc-245dbe22bcac",
   "metadata": {},
   "outputs": [
    {
     "name": "stdout",
     "output_type": "stream",
     "text": [
      "15\n"
     ]
    }
   ],
   "source": [
    "import functools\n",
    "l=[1,2,3,4,5]\n",
    "def add_all(x,y): \n",
    "    return (x+y)\n",
    "result=functools.reduce(add_all,l)\n",
    "print(result)\n"
   ]
  },
  {
   "cell_type": "code",
   "execution_count": null,
   "id": "ee0fb99d-1e3c-4f29-b95c-9a24aea64808",
   "metadata": {},
   "outputs": [],
   "source": []
  }
 ],
 "metadata": {
  "kernelspec": {
   "display_name": "Python [conda env:base] *",
   "language": "python",
   "name": "conda-base-py"
  },
  "language_info": {
   "codemirror_mode": {
    "name": "ipython",
    "version": 3
   },
   "file_extension": ".py",
   "mimetype": "text/x-python",
   "name": "python",
   "nbconvert_exporter": "python",
   "pygments_lexer": "ipython3",
   "version": "3.12.7"
  }
 },
 "nbformat": 4,
 "nbformat_minor": 5
}
